{
 "cells": [
  {
   "cell_type": "code",
   "execution_count": 1,
   "metadata": {},
   "outputs": [],
   "source": [
    "from ete3 import Tree\n",
    "from ete3 import PhyloTree\n",
    "import pandas as pd\n",
    "import numpy as np\n",
    "import matplotlib.pyplot  as plt"
   ]
  },
  {
   "cell_type": "code",
   "execution_count": 44,
   "metadata": {},
   "outputs": [],
   "source": [
    "t1 = Tree(\"required_tree_OG0000002_raw.txt\", format=1)\n",
    "t2 = Tree(\"required_tree_OG0000300_raw.txt\", format=1)"
   ]
  },
  {
   "cell_type": "code",
   "execution_count": 168,
   "metadata": {},
   "outputs": [],
   "source": [
    "t1 = PhyloTree(\"required_tree_OG0000002_species.txt\", format=1)\n",
    "t2 = PhyloTree(\"required_tree_OG0000002_species.txt\", format=1)"
   ]
  },
  {
   "cell_type": "code",
   "execution_count": 171,
   "metadata": {},
   "outputs": [
    {
     "ename": "TypeError",
     "evalue": "get_distance() missing 1 required positional argument: 'target'",
     "output_type": "error",
     "traceback": [
      "\u001b[0;31m---------------------------------------------------------------------------\u001b[0m",
      "\u001b[0;31mTypeError\u001b[0m                                 Traceback (most recent call last)",
      "\u001b[0;32m<ipython-input-171-6d32a0a04a46>\u001b[0m in \u001b[0;36m<module>\u001b[0;34m\u001b[0m\n\u001b[0;32m----> 1\u001b[0;31m \u001b[0mt1\u001b[0m\u001b[0;34m.\u001b[0m\u001b[0mget_distance\u001b[0m\u001b[0;34m(\u001b[0m\u001b[0;34m)\u001b[0m\u001b[0;34m\u001b[0m\u001b[0;34m\u001b[0m\u001b[0m\n\u001b[0m",
      "\u001b[0;31mTypeError\u001b[0m: get_distance() missing 1 required positional argument: 'target'"
     ]
    }
   ],
   "source": [
    "t1.cophenetic_matrix"
   ]
  },
  {
   "cell_type": "code",
   "execution_count": 156,
   "metadata": {},
   "outputs": [],
   "source": [
    "t1.set_species_naming_function(lambda node: node.name.split(\"_\")[2:])"
   ]
  },
  {
   "cell_type": "code",
   "execution_count": 159,
   "metadata": {},
   "outputs": [],
   "source": [
    "for node in t1:\n",
    "    node.name = '_'.join(node.name.split(\"_\")[0:2])"
   ]
  },
  {
   "cell_type": "code",
   "execution_count": 160,
   "metadata": {},
   "outputs": [
    {
     "name": "stdout",
     "output_type": "stream",
     "text": [
      "\n",
      "                                                                     /-c_inopinata, []\n",
      "                                                                    |\n",
      "                                                                    |                        /- /-c_elegans, []\n",
      "                                                                    |                     /-|\n",
      "                                                                    |                  /-|   \\- /-c_elegans, []\n",
      "                                                                    |                 |  |\n",
      "                                                                    |               /-|   \\-c_elegans, []\n",
      "                                                                    |              |  |\n",
      "                                                                    |              |  |      /-c_elegans, []\n",
      "                                                                  /-|            /-|   \\- /-|\n",
      "                                                                 |  |           |  |         \\-c_elegans, []\n",
      "                                                                 |  |         /-|  |\n",
      "                                                                 |  |        |  |   \\- /-c_elegans, []\n",
      "                                                                 |  |        |  |\n",
      "                                                                 |  |      /-|   \\- /-c_elegans, []\n",
      "                                                                 |  |     |  |\n",
      "                                                         /- /- /-|  |     |  |      /-c_briggsae, []\n",
      "                                                        |        |  |     |   \\- /-|\n",
      "                                                        |        |   \\- /-|        |   /-c_briggsae, []\n",
      "                                                        |        |        |         \\-|\n",
      "                                                        |        |        |            \\-c_briggsae, []\n",
      "                                                        |        |        |\n",
      "                                                      /-|        |         \\-c_brenneri, []\n",
      "                                                     |  |        |\n",
      "                                                     |  |         \\-c_panamensis, []\n",
      "                                                     |  |\n",
      "                                                     |  |         /-c_briggsae, []\n",
      "                                                     |  |      /-|\n",
      "                                                     |   \\- /-|   \\-c_briggsae, []\n",
      "                                                /- /-|        |\n",
      "                                               |     |         \\-c_japonica, []\n",
      "                                               |     |\n",
      "                                               |     |         /-c_briggsae, []\n",
      "                                               |     |      /-|\n",
      "                                               |     |   /-|   \\-c_briggsae, []\n",
      "                                               |     |  |  |\n",
      "                                             /-|      \\-|   \\- /-c_elegans, []\n",
      "                                            |  |        |\n",
      "                                            |  |         \\-c_brenneri, []\n",
      "                                            |  |\n",
      "                                            |  |         /-d_pachys, []\n",
      "                                            |  |      /-|\n",
      "                                       /- /-|  |     |   \\-d_pachys, []\n",
      "                                      |     |   \\- /-|\n",
      "                                      |     |        |   /-d_coronatus, []\n",
      "                                      |     |         \\-|\n",
      "                                      |     |            \\-d_coronatus, []\n",
      "                                      |     |\n",
      "                                      |      \\-o_tipulae, []\n",
      "                                      |\n",
      "                                      |   /-p_pacificus, []\n",
      "                                      |  |\n",
      "                                      |  |                        /-s_digitata, []\n",
      "                                      |  |                     /-|\n",
      "                                      |  |                    |  |   /-a_loa, []\n",
      "                                      |  |                    |   \\-|\n",
      "                                      |  |                    |      \\-a_viteae, []\n",
      "                                      |  |                    |\n",
      "                                      |  |                    |            /-o_volvulus, []\n",
      "                                      |  |                  /-|         /-|\n",
      "                                      |  |                 |  |      /-|   \\-o_volvulus, []\n",
      "                                      |  |                 |  |     |  |\n",
      "                                      |  |                 |  |   /-|   \\-o_volvulus, []\n",
      "                                      |  |                 |  |  |  |\n",
      "                                      |  |                 |  |  |   \\-l_sigmodontis, []\n",
      "                                      |  |                 |  |  |\n",
      "                                      |  |                 |   \\-|         /-o_volvulus, []\n",
      "                                      |  |                 |     |      /-|\n",
      "                                      |  |                 |     |   /-|   \\-o_volvulus, []\n",
      "                                      |  |                 |     |  |  |\n",
      "                                      |  |                 |      \\-|   \\-o_volvulus, []\n",
      "                                      |  |                 |        |\n",
      "                                    /-|  |               /-|         \\-d_immitis, []\n",
      "                                   |  |  |              |  |\n",
      "                                   |  |  |              |  |               /-b_malayi, []\n",
      "                                   |  |  |              |  |            /-|\n",
      "                                   |  |  |              |  |         /-|   \\-b_malayi, []\n",
      "                                   |  |  |              |  |        |  |\n",
      "                                   |  |  |              |  |        |   \\-b_malayi, []\n",
      "                                   |  |  |              |  |      /-|\n",
      "                                   |  |  |              |  |     |  |      /-b_malayi, []\n",
      "                                   |  |  |              |  |     |  |   /-|\n",
      "                                   |  |  |            /-|  |     |  |  |  |   /-b_malayi, []\n",
      "                                   |  |  |           |  |  |   /-|   \\-|   \\-|\n",
      "                                   |  |  |           |  |  |  |  |     |      \\-b_malayi, []\n",
      "                                   |  |  |           |  |  |  |  |     |\n",
      "                                   |  |  |           |  |   \\-|  |      \\-b_malayi, []\n",
      "                                   |  |  |           |  |     |  |\n",
      "                                   |  |  |           |  |     |   \\-w_bancrofti, []\n",
      "                                   |  |  |           |  |     |\n",
      "                                   |  |  |           |  |      \\-b_pahangi, []\n",
      "                                   |  |  |           |  |\n",
      "                                   |  |  |           |   \\-t_callipaeda, []\n",
      "                                   |  |  |           |\n",
      "                                   |  |  |           |            /-p_univalens, []\n",
      "                                   |  |  |           |           |\n",
      "                                   |  |  |           |           |      /-a_suum, []\n",
      "                                   |  |  |           |           |     |\n",
      "                                   |  |  |           |           |     |      /-a_suum, []\n",
      "                                   |  |  |           |         /-|   /-|   /-|\n",
      "                                   |  |  |           |        |  |  |  |  |  |   /-a_suum, []\n",
      "                                   |  |  |           |        |  |  |  |  |   \\-|\n",
      "                                   |  |  |           |        |  |  |   \\-|     |   /-a_suum, []\n",
      "                                   |   \\-|           |        |  |  |     |      \\-|\n",
      "                                   |     |           |        |   \\-|     |         \\-a_suum, []\n",
      "                                   |     |           |        |     |     |\n",
      "                                   |     |         /-|        |     |      \\-a_suum, []\n",
      "                                   |     |        |  |        |     |\n",
      "                                   |     |        |  |      /-|     |   /-a_suum, []\n",
      "                                   |     |        |  |     |  |      \\-|\n",
      "                                   |     |        |  |     |  |         \\-a_suum, []\n",
      "                                   |     |        |  |     |  |\n",
      "                                   |     |        |  |     |  |      /-a_suum, []\n",
      "                                   |     |        |  |     |  |     |\n",
      "                                   |     |        |  |     |  |   /-|      /-a_suum, []\n",
      "                                   |     |        |  |     |  |  |  |   /-|\n",
      "                                   |     |        |  |     |  |  |   \\-|   \\-a_suum, []\n",
      "                                   |     |        |  |     |   \\-|     |\n",
      "                                   |     |        |  |     |     |      \\-a_suum, []\n",
      "                                   |     |        |  |   /-|     |\n",
      "                                   |     |        |  |  |  |     |   /-p_univalens, []\n",
      "                                   |     |        |  |  |  |      \\-|\n",
      "                                 /-|     |        |  |  |  |         \\-p_univalens, []\n",
      "                                |  |     |        |  |  |  |\n",
      "                                |  |     |        |  |  |  |         /-p_univalens, []\n",
      "                                |  |     |        |  |  |  |      /-|\n",
      "                                |  |     |        |  |  |  |     |   \\-p_univalens, []\n",
      "                                |  |     |        |  |  |  |   /-|\n",
      "                                |  |     |        |  |  |  |  |  |   /-p_univalens, []\n",
      "                                |  |     |      /-|  |  |  |  |   \\-|\n",
      "                                |  |     |     |  |   \\-|   \\-|      \\-p_univalens, []\n",
      "                                |  |     |     |  |     |     |\n",
      "                                |  |     |     |  |     |     |      /-a_suum, []\n",
      "                                |  |     |     |  |     |     |   /-|\n",
      "                                |  |     |     |  |     |      \\-|   \\-a_suum, []\n",
      "                                |  |     |     |  |     |        |\n",
      "                                |  |     |     |  |     |         \\-a_suum, []\n",
      "                                |  |     |     |  |     |\n",
      "                                |  |     |     |  |     |         /-a_suum, []\n",
      "                                |  |     |     |  |     |      /-|\n",
      "                                |  |     |     |  |     |   /-|   \\-a_suum, []\n",
      "                                |  |     |     |  |     |  |  |\n",
      "                                |  |     |     |  |      \\-|   \\-a_suum, []\n",
      "                                |  |     |     |  |        |\n",
      "                                |  |     |   /-|  |        |   /-p_univalens, []\n",
      "                                |  |     |  |  |  |         \\-|\n",
      "                                |  |     |  |  |  |           |   /-p_univalens, []\n",
      "                                |  |     |  |  |  |            \\-|\n",
      "                                |  |     |  |  |  |               \\-p_univalens, []\n",
      "                                |  |     |  |  |  |\n",
      "-- /- /- /- /- /- /- /- /- /- /-|  |     |  |  |  |      /-a_nanus, []\n",
      "                                |  |     |  |  |  |   /-|\n",
      "                                |  |     |  |  |  |  |  |   /-a_nanus, []\n",
      "                                |  |     |  |  |   \\-|   \\-|\n",
      "                                |  |     |  |  |     |      \\-a_nanus, []\n",
      "                                |  |     |  |  |     |\n",
      "                                |  |      \\-|  |      \\-p_redivivus, []\n",
      "                                |  |        |  |\n",
      "                                |  |        |  |      /-s_scapterisci, []\n",
      "                                |  |        |   \\- /-|\n",
      "                                |  |        |         \\-s_carpocapsae, []\n",
      "                                |  |        |\n",
      "                                |  |        |            /-p_japonicus, []\n",
      "                                |  |        |         /-|\n",
      "                                |  |        |      /-|   \\- /-p_arcanus, []\n",
      "                                |  |        |     |  |\n",
      "                                |  |        |   /-|   \\-p_pacificus, []\n",
      "                                |  |        |  |  |\n",
      "                                |  |         \\-|   \\-p_entomophagus, []\n",
      "                                |  |           |\n",
      "                                |  |            \\-p_mayer, []\n",
      "                                |  |\n",
      "                                |   \\-t_britovi, []\n",
      "                                |\n",
      "                                |   /-p_pacificus, []\n",
      "                                |  |\n",
      "                                |  |            /-d_pachys, []\n",
      "                                |  |         /-|\n",
      "                                 \\-|        |   \\-d_coronatus, []\n",
      "                                   |      /-|\n",
      "                                   |     |  |   /-d_coronatus, []\n",
      "                                   |     |   \\-|\n",
      "                                   |     |      \\-d_pachys, []\n",
      "                                    \\- /-|\n",
      "                                         |            /-a_nanus, []\n",
      "                                         |         /-|\n",
      "                                         |        |  |   /-a_suum, []\n",
      "                                         |        |   \\-|\n",
      "                                          \\- /- /-|     |   /-p_univalens, []\n",
      "                                                  |      \\-|\n",
      "                                                  |         \\-p_univalens, []\n",
      "                                                  |\n",
      "                                                   \\-t_callipaeda, []\n"
     ]
    }
   ],
   "source": [
    "print (t1.get_ascii(attributes=[\"name\", \"species\"],show_internal=False))"
   ]
  },
  {
   "cell_type": "code",
   "execution_count": 137,
   "metadata": {},
   "outputs": [
    {
     "name": "stdout",
     "output_type": "stream",
     "text": [
      "\n",
      "   /-t_britovi\n",
      "  |\n",
      "--|   /-o_tipulae\n",
      "  |  |\n",
      "   \\-|      /-d_pachys\n",
      "     |   /-|\n",
      "     |  |   \\-d_pachys\n",
      "      \\-|\n",
      "        |   /-d_coronatus\n",
      "         \\-|\n",
      "            \\-d_coronatus\n",
      "\n",
      "   /-c_panamensis\n",
      "--|\n",
      "   \\-c_inopinata\n",
      "\n",
      "                  /-c_elegans\n",
      "               /-|\n",
      "            /-|   \\-c_elegans\n",
      "           |  |\n",
      "         /-|   \\-c_elegans\n",
      "        |  |\n",
      "        |  |   /-c_elegans\n",
      "      /-|   \\-|\n",
      "     |  |      \\-c_elegans\n",
      "   /-|  |\n",
      "  |  |   \\-c_elegans\n",
      "  |  |\n",
      "--|   \\-c_elegans\n",
      "  |\n",
      "  |   /-c_briggsae\n",
      "   \\-|\n",
      "     |   /-c_briggsae\n",
      "      \\-|\n",
      "         \\-c_briggsae\n",
      "\n",
      "--c_brenneri\n",
      "\n",
      "      /-c_briggsae\n",
      "   /-|\n",
      "--|   \\-c_briggsae\n",
      "  |\n",
      "   \\-c_japonica\n",
      "\n",
      "      /-c_briggsae\n",
      "   /-|\n",
      "--|   \\-c_briggsae\n",
      "  |\n",
      "   \\-c_elegans\n",
      "\n",
      "--c_brenneri\n",
      "\n",
      "--p_pacificus\n",
      "\n",
      "               /-a_nanus\n",
      "            /-|\n",
      "           |  |   /-a_nanus\n",
      "         /-|   \\-|\n",
      "        |  |      \\-a_nanus\n",
      "        |  |\n",
      "        |   \\-p_redivivus\n",
      "        |\n",
      "        |                     /-b_malayi\n",
      "        |                  /-|\n",
      "        |               /-|   \\-b_malayi\n",
      "        |              |  |\n",
      "        |              |   \\-b_malayi\n",
      "        |            /-|\n",
      "        |           |  |      /-b_malayi\n",
      "      /-|           |  |   /-|\n",
      "     |  |           |  |  |  |   /-b_malayi\n",
      "     |  |         /-|   \\-|   \\-|\n",
      "     |  |        |  |     |      \\-b_malayi\n",
      "     |  |        |  |     |\n",
      "     |  |      /-|  |      \\-b_malayi\n",
      "     |  |     |  |  |\n",
      "     |  |     |  |   \\-w_bancrofti\n",
      "     |  |   /-|  |\n",
      "     |  |  |  |   \\-b_pahangi\n",
      "   /-|  |  |  |\n",
      "  |  |  |  |  |   /-s_digitata\n",
      "  |  |   \\-|   \\-|\n",
      "  |  |     |     |   /-a_loa\n",
      "  |  |     |      \\-|\n",
      "  |  |     |         \\-a_viteae\n",
      "  |  |     |\n",
      "  |  |      \\-t_callipaeda\n",
      "  |  |\n",
      "--|  |   /-s_scapterisci\n",
      "  |   \\-|\n",
      "  |      \\-s_carpocapsae\n",
      "  |\n",
      "  |            /-p_japonicus\n",
      "  |         /-|\n",
      "  |      /-|   \\-p_arcanus\n",
      "  |     |  |\n",
      "  |   /-|   \\-p_pacificus\n",
      "  |  |  |\n",
      "   \\-|   \\-p_entomophagus\n",
      "     |\n",
      "      \\-p_mayer\n",
      "\n",
      "         /-o_volvulus\n",
      "      /-|\n",
      "   /-|   \\-o_volvulus\n",
      "  |  |\n",
      "--|   \\-o_volvulus\n",
      "  |\n",
      "   \\-l_sigmodontis\n",
      "\n",
      "         /-o_volvulus\n",
      "      /-|\n",
      "   /-|   \\-o_volvulus\n",
      "  |  |\n",
      "--|   \\-o_volvulus\n",
      "  |\n",
      "   \\-d_immitis\n",
      "\n",
      "   /-p_univalens\n",
      "  |\n",
      "  |      /-a_suum\n",
      "  |     |\n",
      "  |     |      /-a_suum\n",
      "--|   /-|   /-|\n",
      "  |  |  |  |  |   /-a_suum\n",
      "  |  |  |  |   \\-|\n",
      "  |  |   \\-|     |   /-a_suum\n",
      "  |  |     |      \\-|\n",
      "   \\-|     |         \\-a_suum\n",
      "     |     |\n",
      "     |      \\-a_suum\n",
      "     |\n",
      "     |   /-a_suum\n",
      "      \\-|\n",
      "         \\-a_suum\n",
      "\n",
      "      /-a_suum\n",
      "     |\n",
      "   /-|      /-a_suum\n",
      "  |  |   /-|\n",
      "  |   \\-|   \\-a_suum\n",
      "--|     |\n",
      "  |      \\-a_suum\n",
      "  |\n",
      "  |   /-p_univalens\n",
      "   \\-|\n",
      "      \\-p_univalens\n",
      "\n",
      "         /-p_univalens\n",
      "      /-|\n",
      "     |   \\-p_univalens\n",
      "   /-|\n",
      "  |  |   /-p_univalens\n",
      "  |   \\-|\n",
      "--|      \\-p_univalens\n",
      "  |\n",
      "  |      /-a_suum\n",
      "  |   /-|\n",
      "   \\-|   \\-a_suum\n",
      "     |\n",
      "      \\-a_suum\n",
      "\n",
      "         /-a_suum\n",
      "      /-|\n",
      "   /-|   \\-a_suum\n",
      "  |  |\n",
      "--|   \\-a_suum\n",
      "  |\n",
      "  |   /-p_univalens\n",
      "   \\-|\n",
      "     |   /-p_univalens\n",
      "      \\-|\n",
      "         \\-p_univalens\n",
      "\n",
      "   /-p_pacificus\n",
      "  |\n",
      "  |      /-a_nanus\n",
      "--|   /-|\n",
      "  |  |  |   /-a_suum\n",
      "  |  |   \\-|\n",
      "   \\-|     |   /-p_univalens\n",
      "     |      \\-|\n",
      "     |         \\-p_univalens\n",
      "     |\n",
      "      \\-t_callipaeda\n",
      "\n",
      "   /-d_pachys\n",
      "--|\n",
      "   \\-d_coronatus\n",
      "\n",
      "   /-d_coronatus\n",
      "--|\n",
      "   \\-d_pachys\n"
     ]
    }
   ],
   "source": [
    "for node in t1.split_by_dups(): print (node)"
   ]
  },
  {
   "cell_type": "code",
   "execution_count": 141,
   "metadata": {},
   "outputs": [],
   "source": [
    "t2_wo_dups = t2.collapse_lineage_specific_expansions()\n",
    "t1_wo_dups = t1.collapse_lineage_specific_expansions()"
   ]
  },
  {
   "cell_type": "code",
   "execution_count": 167,
   "metadata": {},
   "outputs": [
    {
     "ename": "TreeError",
     "evalue": "'Duplicated items found in source tree'",
     "output_type": "error",
     "traceback": [
      "\u001b[0;31m---------------------------------------------------------------------------\u001b[0m",
      "\u001b[0;31mTreeError\u001b[0m                                 Traceback (most recent call last)",
      "\u001b[0;32m<ipython-input-167-b273b372a459>\u001b[0m in \u001b[0;36m<module>\u001b[0;34m\u001b[0m\n\u001b[0;32m----> 1\u001b[0;31m \u001b[0mt2\u001b[0m\u001b[0;34m.\u001b[0m\u001b[0mcompare\u001b[0m\u001b[0;34m(\u001b[0m\u001b[0mt1\u001b[0m\u001b[0;34m)\u001b[0m\u001b[0;34m\u001b[0m\u001b[0;34m\u001b[0m\u001b[0m\n\u001b[0m",
      "\u001b[0;32m~/anaconda3/lib/python3.6/site-packages/ete3-3.1.2-py3.7.egg/ete3/coretype/tree.py\u001b[0m in \u001b[0;36mcompare\u001b[0;34m(self, ref_tree, use_collateral, min_support_source, min_support_ref, has_duplications, expand_polytomies, unrooted, max_treeko_splits_to_be_artifact, ref_tree_attr, source_tree_attr)\u001b[0m\n\u001b[1;32m   1940\u001b[0m                     \u001b[0mresult\u001b[0m\u001b[0;34m[\u001b[0m\u001b[0;34m\"ref_edges\"\u001b[0m\u001b[0;34m]\u001b[0m \u001b[0;34m=\u001b[0m \u001b[0mset\u001b[0m\u001b[0;34m(\u001b[0m\u001b[0;34m)\u001b[0m\u001b[0;34m\u001b[0m\u001b[0;34m\u001b[0m\u001b[0m\n\u001b[1;32m   1941\u001b[0m         \u001b[0;32melse\u001b[0m\u001b[0;34m:\u001b[0m\u001b[0;34m\u001b[0m\u001b[0;34m\u001b[0m\u001b[0m\n\u001b[0;32m-> 1942\u001b[0;31m             \u001b[0mtotal_rf\u001b[0m\u001b[0;34m,\u001b[0m \u001b[0mmax_rf\u001b[0m\u001b[0;34m,\u001b[0m \u001b[0mncommon\u001b[0m\u001b[0;34m,\u001b[0m \u001b[0mvalid_ref_edges\u001b[0m\u001b[0;34m,\u001b[0m \u001b[0mvalid_src_edges\u001b[0m\u001b[0;34m,\u001b[0m \u001b[0mcommon_edges\u001b[0m \u001b[0;34m=\u001b[0m \u001b[0m_compare\u001b[0m\u001b[0;34m(\u001b[0m\u001b[0msource_tree\u001b[0m\u001b[0;34m,\u001b[0m \u001b[0mref_tree\u001b[0m\u001b[0;34m)\u001b[0m\u001b[0;34m\u001b[0m\u001b[0;34m\u001b[0m\u001b[0m\n\u001b[0m\u001b[1;32m   1943\u001b[0m \u001b[0;34m\u001b[0m\u001b[0m\n\u001b[1;32m   1944\u001b[0m             \u001b[0mresult\u001b[0m\u001b[0;34m[\u001b[0m\u001b[0;34m\"rf\"\u001b[0m\u001b[0;34m]\u001b[0m \u001b[0;34m=\u001b[0m \u001b[0mfloat\u001b[0m\u001b[0;34m(\u001b[0m\u001b[0mtotal_rf\u001b[0m\u001b[0;34m)\u001b[0m \u001b[0;32mif\u001b[0m \u001b[0mmax_rf\u001b[0m \u001b[0;32melse\u001b[0m \u001b[0;34m\"NA\"\u001b[0m\u001b[0;34m\u001b[0m\u001b[0;34m\u001b[0m\u001b[0m\n",
      "\u001b[0;32m~/anaconda3/lib/python3.6/site-packages/ete3-3.1.2-py3.7.egg/ete3/coretype/tree.py\u001b[0m in \u001b[0;36m_compare\u001b[0;34m(src_tree, ref_tree)\u001b[0m\n\u001b[1;32m   1832\u001b[0m                                                                                             \u001b[0mattr_t2\u001b[0m\u001b[0;34m=\u001b[0m\u001b[0msource_tree_attr\u001b[0m\u001b[0;34m,\u001b[0m\u001b[0;34m\u001b[0m\u001b[0;34m\u001b[0m\u001b[0m\n\u001b[1;32m   1833\u001b[0m                                                                                             \u001b[0mmin_support_t2\u001b[0m\u001b[0;34m=\u001b[0m\u001b[0mmin_support_source\u001b[0m\u001b[0;34m,\u001b[0m\u001b[0;34m\u001b[0m\u001b[0;34m\u001b[0m\u001b[0m\n\u001b[0;32m-> 1834\u001b[0;31m                                                                                             min_support_t1=min_support_ref)\n\u001b[0m\u001b[1;32m   1835\u001b[0m \u001b[0;34m\u001b[0m\u001b[0m\n\u001b[1;32m   1836\u001b[0m             \u001b[0;31m# if trees share leaves, count their distances\u001b[0m\u001b[0;34m\u001b[0m\u001b[0;34m\u001b[0m\u001b[0;34m\u001b[0m\u001b[0m\n",
      "\u001b[0;32m~/anaconda3/lib/python3.6/site-packages/ete3-3.1.2-py3.7.egg/ete3/coretype/tree.py\u001b[0m in \u001b[0;36mrobinson_foulds\u001b[0;34m(self, t2, attr_t1, attr_t2, unrooted_trees, expand_polytomies, polytomy_size_limit, skip_large_polytomies, correct_by_polytomy_size, min_support_t1, min_support_t2)\u001b[0m\n\u001b[1;32m   1692\u001b[0m         \u001b[0msize2\u001b[0m \u001b[0;34m=\u001b[0m \u001b[0mlen\u001b[0m\u001b[0;34m(\u001b[0m\u001b[0;34m[\u001b[0m\u001b[0;32mTrue\u001b[0m \u001b[0;32mfor\u001b[0m \u001b[0mn\u001b[0m \u001b[0;32min\u001b[0m \u001b[0mtarget_t\u001b[0m\u001b[0;34m.\u001b[0m\u001b[0miter_leaves\u001b[0m\u001b[0;34m(\u001b[0m\u001b[0;34m)\u001b[0m \u001b[0;32mif\u001b[0m \u001b[0mgetattr\u001b[0m\u001b[0;34m(\u001b[0m\u001b[0mn\u001b[0m\u001b[0;34m,\u001b[0m \u001b[0mattr_t2\u001b[0m\u001b[0;34m,\u001b[0m \u001b[0;32mNone\u001b[0m\u001b[0;34m)\u001b[0m \u001b[0;32min\u001b[0m \u001b[0mcommon_attrs\u001b[0m\u001b[0;34m]\u001b[0m\u001b[0;34m)\u001b[0m\u001b[0;34m\u001b[0m\u001b[0;34m\u001b[0m\u001b[0m\n\u001b[1;32m   1693\u001b[0m         \u001b[0;32mif\u001b[0m \u001b[0msize1\u001b[0m \u001b[0;34m>\u001b[0m \u001b[0mlen\u001b[0m\u001b[0;34m(\u001b[0m\u001b[0mcommon_attrs\u001b[0m\u001b[0;34m)\u001b[0m\u001b[0;34m:\u001b[0m\u001b[0;34m\u001b[0m\u001b[0;34m\u001b[0m\u001b[0m\n\u001b[0;32m-> 1694\u001b[0;31m             \u001b[0;32mraise\u001b[0m \u001b[0mTreeError\u001b[0m\u001b[0;34m(\u001b[0m\u001b[0;34m'Duplicated items found in source tree'\u001b[0m\u001b[0;34m)\u001b[0m\u001b[0;34m\u001b[0m\u001b[0;34m\u001b[0m\u001b[0m\n\u001b[0m\u001b[1;32m   1695\u001b[0m         \u001b[0;32mif\u001b[0m \u001b[0msize2\u001b[0m \u001b[0;34m>\u001b[0m \u001b[0mlen\u001b[0m\u001b[0;34m(\u001b[0m\u001b[0mcommon_attrs\u001b[0m\u001b[0;34m)\u001b[0m\u001b[0;34m:\u001b[0m\u001b[0;34m\u001b[0m\u001b[0;34m\u001b[0m\u001b[0m\n\u001b[1;32m   1696\u001b[0m             \u001b[0;32mraise\u001b[0m \u001b[0mTreeError\u001b[0m\u001b[0;34m(\u001b[0m\u001b[0;34m'Duplicated items found in reference tree'\u001b[0m\u001b[0;34m)\u001b[0m\u001b[0;34m\u001b[0m\u001b[0;34m\u001b[0m\u001b[0m\n",
      "\u001b[0;31mTreeError\u001b[0m: 'Duplicated items found in source tree'"
     ]
    }
   ],
   "source": [
    "t2.compare(t1)"
   ]
  },
  {
   "cell_type": "code",
   "execution_count": 146,
   "metadata": {},
   "outputs": [
    {
     "data": {
      "text/plain": [
       "PhyloTree node 'n0' (-0x7ffff805fbf7c8f5)"
      ]
     },
     "execution_count": 146,
     "metadata": {},
     "output_type": "execute_result"
    }
   ],
   "source": [
    "t1.collapse_lineage_specific_expansions()"
   ]
  },
  {
   "cell_type": "code",
   "execution_count": 149,
   "metadata": {},
   "outputs": [
    {
     "name": "stdout",
     "output_type": "stream",
     "text": [
      "\n",
      "                                                                     /-c_inopinata\n",
      "                                                                    |\n",
      "                                                                  /-|         /-c_elegans\n",
      "                                                                 |  |      /-|\n",
      "                                                                 |   \\- /-|   \\-c_briggsae\n",
      "                                                         /- /- /-|        |\n",
      "                                                        |        |         \\-c_brenneri\n",
      "                                                        |        |\n",
      "                                                      /-|         \\-c_panamensis\n",
      "                                                     |  |\n",
      "                                                     |  |      /-c_japonica\n",
      "                                                     |   \\- /-|\n",
      "                                                /- /-|         \\-c_briggsae\n",
      "                                               |     |\n",
      "                                               |     |      /- /-c_elegans\n",
      "                                               |     |   /-|\n",
      "                                             /-|      \\-|   \\-c_briggsae\n",
      "                                            |  |        |\n",
      "                                            |  |         \\-c_brenneri\n",
      "                                            |  |\n",
      "                                       /- /-|  |      /-d_pachys\n",
      "                                      |     |   \\- /-|\n",
      "                                      |     |         \\-d_coronatus\n",
      "                                      |     |\n",
      "                                      |      \\-o_tipulae\n",
      "                                      |\n",
      "                                      |   /-p_pacificus\n",
      "                                      |  |\n",
      "                                      |  |                        /-s_digitata\n",
      "                                      |  |                     /-|\n",
      "                                      |  |                    |  |   /-a_loa\n",
      "                                      |  |                    |   \\-|\n",
      "                                      |  |                    |      \\-a_viteae\n",
      "                                      |  |                  /-|\n",
      "                                    /-|  |                 |  |      /-l_sigmodontis\n",
      "                                   |  |  |                 |  |   /-|\n",
      "                                   |  |  |                 |  |  |   \\-o_volvulus\n",
      "                                   |  |  |                 |   \\-|\n",
      "                                   |  |  |               /-|     |   /-d_immitis\n",
      "                                   |  |  |              |  |      \\-|\n",
      "                                   |  |  |              |  |         \\-o_volvulus\n",
      "                                   |  |  |              |  |\n",
      "                                   |  |  |              |  |      /-w_bancrofti\n",
      "                                   |  |  |            /-|  |   /-|\n",
      "                                   |  |  |           |  |   \\-|   \\-b_malayi\n",
      "                                   |  |  |           |  |     |\n",
      "                                   |  |  |           |  |      \\-b_pahangi\n",
      "                                   |  |  |           |  |\n",
      "                                   |  |  |           |   \\-t_callipaeda\n",
      "                                   |   \\-|           |\n",
      "                                   |     |           |            /-p_univalens\n",
      "                                   |     |         /-|         /-|\n",
      "                                   |     |        |  |        |   \\-a_suum\n",
      "                                   |     |        |  |      /-|\n",
      "                                   |     |        |  |     |  |   /-a_suum\n",
      "                                   |     |        |  |     |   \\-|\n",
      "                                   |     |        |  |   /-|      \\-p_univalens\n",
      "                                   |     |        |  |  |  |\n",
      "                                   |     |        |  |  |  |   /-p_univalens\n",
      "                                 /-|     |      /-|   \\-|   \\-|\n",
      "                                |  |     |     |  |     |      \\-a_suum\n",
      "                                |  |     |     |  |     |\n",
      "                                |  |     |     |  |     |   /-a_suum\n",
      "                                |  |     |     |  |      \\-|\n",
      "                                |  |     |     |  |         \\-p_univalens\n",
      "                                |  |     |   /-|  |\n",
      "                                |  |     |  |  |  |   /-p_redivivus\n",
      "                                |  |     |  |  |   \\-|\n",
      "                                |  |     |  |  |      \\-a_nanus\n",
      "                                |  |     |  |  |\n",
      "                                |  |     |  |  |      /-s_scapterisci\n",
      "                                |  |     |  |   \\- /-|\n",
      "                                |  |      \\-|         \\-s_carpocapsae\n",
      "                                |  |        |\n",
      "-- /- /- /- /- /- /- /- /- /- /-|  |        |            /-p_japonicus\n",
      "                                |  |        |         /-|\n",
      "                                |  |        |      /-|   \\- /-p_arcanus\n",
      "                                |  |        |     |  |\n",
      "                                |  |        |   /-|   \\-p_pacificus\n",
      "                                |  |        |  |  |\n",
      "                                |  |         \\-|   \\-p_entomophagus\n",
      "                                |  |           |\n",
      "                                |  |            \\-p_mayer\n",
      "                                |  |\n",
      "                                |   \\-t_britovi\n",
      "                                |\n",
      "                                |   /-p_pacificus\n",
      "                                |  |\n",
      "                                |  |            /-d_pachys\n",
      "                                |  |         /-|\n",
      "                                 \\-|        |   \\-d_coronatus\n",
      "                                   |      /-|\n",
      "                                   |     |  |   /-d_coronatus\n",
      "                                   |     |   \\-|\n",
      "                                   |     |      \\-d_pachys\n",
      "                                    \\- /-|\n",
      "                                         |            /-a_nanus\n",
      "                                         |         /-|\n",
      "                                         |        |  |   /-a_suum\n",
      "                                          \\- /- /-|   \\-|\n",
      "                                                  |      \\-p_univalens\n",
      "                                                  |\n",
      "                                                   \\-t_callipaeda\n"
     ]
    }
   ],
   "source": [
    "print (t1_wo_dups.get_ascii( show_internal=False))"
   ]
  },
  {
   "cell_type": "markdown",
   "metadata": {},
   "source": [
    "# Just Simple Correlation"
   ]
  },
  {
   "cell_type": "code",
   "execution_count": 2,
   "metadata": {},
   "outputs": [],
   "source": [
    "par1_tree = PhyloTree(\"required_tree_OG0000002_species.txt\", format=1)\n",
    "pkc3_tree = PhyloTree(\"required_tree_OG0000300_species.txt\", format=1)"
   ]
  },
  {
   "cell_type": "code",
   "execution_count": 3,
   "metadata": {},
   "outputs": [],
   "source": [
    "par1 = par1_tree.cophenetic_matrix()\n",
    "pkc3 = pkc3_tree.cophenetic_matrix()"
   ]
  },
  {
   "cell_type": "code",
   "execution_count": 4,
   "metadata": {},
   "outputs": [],
   "source": [
    "par1_df = pd.DataFrame(par1[0], columns = par1[1])\n",
    "par1_df.index = par1[1]\n",
    "pkc3_df = pd.DataFrame(pkc3[0], columns = pkc3[1])\n",
    "pkc3_df.index = pkc3[1]\n",
    "common = np.intersect1d(par1_df.columns, pkc3_df.columns)\n",
    "par1_df = par1_df[par1_df.index.isin(common)]\n",
    "par1_df= par1_df[common]\n",
    "pkc3_df = pkc3_df[pkc3_df.index.isin(common)]\n",
    "pkc3_df= pkc3_df[common]"
   ]
  },
  {
   "cell_type": "code",
   "execution_count": 5,
   "metadata": {},
   "outputs": [
    {
     "data": {
      "text/plain": [
       "array(['a_loa', 'a_suum', 'b_malayi', 'c_brenneri', 'c_briggsae',\n",
       "       'c_elegans', 'c_inopinata', 'c_japonica', 'c_panamensis',\n",
       "       'd_coronatus', 'd_pachys', 'o_tipulae', 'o_volvulus', 'p_arcanus',\n",
       "       'p_entomophagus', 'p_japonicus', 'p_mayer', 'p_redivivus',\n",
       "       'p_univalens', 's_digitata', 's_scapterisci'], dtype=object)"
      ]
     },
     "execution_count": 5,
     "metadata": {},
     "output_type": "execute_result"
    }
   ],
   "source": [
    "common"
   ]
  },
  {
   "cell_type": "code",
   "execution_count": 6,
   "metadata": {},
   "outputs": [
    {
     "data": {
      "text/plain": [
       "a_loa    0.0\n",
       "Name: a_loa, dtype: float64"
      ]
     },
     "execution_count": 6,
     "metadata": {},
     "output_type": "execute_result"
    }
   ],
   "source": [
    "pkc3_df[pkc3_df.index.isin(['a_loa'])]['a_loa']"
   ]
  },
  {
   "cell_type": "code",
   "execution_count": 244,
   "metadata": {},
   "outputs": [],
   "source": [
    "x = par1_df.stack().reset_index()\n",
    "# x['level_0_par1'] =x[\"level_0\"]\n",
    "x[\"labels\"] = x[\"level_0\"] +' '+ x[\"level_1\"]\n",
    "x['par1_values'] = x[0]\n",
    "\n",
    "y = pkc3_df.stack().reset_index()\n",
    "y[\"labels\"] = y[\"level_0\"] +' '+ y[\"level_1\"]\n",
    "y['pkc3_values'] = y[0]"
   ]
  },
  {
   "cell_type": "code",
   "execution_count": 246,
   "metadata": {},
   "outputs": [],
   "source": [
    "xy = pd.merge(x, y, how=\"inner\",on=['labels', 'level_0', 'level_1'] )"
   ]
  },
  {
   "cell_type": "code",
   "execution_count": 108,
   "metadata": {},
   "outputs": [],
   "source": [
    "xy = pd.concat([x,y], axis=1).round(2)"
   ]
  },
  {
   "cell_type": "code",
   "execution_count": 123,
   "metadata": {},
   "outputs": [],
   "source": [
    "r = (par1_df.dot(pkc3_df).sum().sum())/(np.sqrt(((par1_df-par1_df.mean().mean())**2).sum().sum())*np.sqrt(((pkc3_df-pkc3_df.mean().mean())**2).sum().sum()))"
   ]
  },
  {
   "cell_type": "code",
   "execution_count": 124,
   "metadata": {},
   "outputs": [
    {
     "data": {
      "text/plain": [
       "106.53135002109849"
      ]
     },
     "execution_count": 124,
     "metadata": {},
     "output_type": "execute_result"
    }
   ],
   "source": [
    "r"
   ]
  },
  {
   "cell_type": "code",
   "execution_count": 247,
   "metadata": {},
   "outputs": [],
   "source": [
    "import plotly.express as px\n",
    "import plotly.graph_objects as go\n",
    "from sklearn.linear_model import LinearRegression, Ridge\n",
    "from sklearn.preprocessing import PolynomialFeatures\n",
    "\n",
    "for species in xy['level_0'].unique():\n",
    "    species_df = xy[xy['level_0']==species]\n",
    "    X =  species_df['par1_values'].values.reshape(-1,1)\n",
    "    Y = species_df['pkc3_values'].values.reshape(-1,1)\n",
    "\n",
    "    model = Ridge(fit_intercept=True)\n",
    "    model.fit(X,Y)\n",
    "    xy.loc[xy['level_0']==species, 'R2'] = model.score(X, Y)"
   ]
  },
  {
   "cell_type": "code",
   "execution_count": 248,
   "metadata": {},
   "outputs": [],
   "source": [
    "data_cluster = xy['R2']\n",
    "\n",
    "from sklearn.cluster import KMeans, DBSCAN\n",
    "\n",
    "\n",
    "clustering = KMeans(n_clusters=3, random_state=0).fit(data_cluster.values.reshape(-1,1))\n",
    "\n",
    "xy['clusters'] = clustering.labels_.astype(str)\n",
    "\n",
    "for i in clustering.labels_.astype(str):\n",
    "    xy.loc[xy['clusters']==i,'clusters_R2_max'] = str(xy.loc[xy['clusters']==i,'R2'].round(2).min())+' to ' + str(xy.loc[xy['clusters']==i,'R2'].round(2).max())\n",
    "\n"
   ]
  },
  {
   "cell_type": "code",
   "execution_count": 259,
   "metadata": {},
   "outputs": [
    {
     "name": "stdout",
     "output_type": "stream",
     "text": [
      "clusters_R2_max 0.11 to 0.14 0.25 to 0.3 0.35 to 0.53\n",
      "level_0                                              \n",
      "a_loa                                        0.389077\n",
      "a_suum              0.115471                         \n",
      "b_malayi                                     0.351845\n",
      "c_brenneri                                   0.436722\n",
      "c_briggsae                                   0.391056\n",
      "c_elegans                                    0.374502\n",
      "c_inopinata                                  0.355423\n",
      "c_japonica                                   0.534438\n",
      "c_panamensis                                 0.374931\n",
      "d_coronatus                                  0.439751\n",
      "d_pachys                                     0.447866\n",
      "o_tipulae           0.143733                         \n",
      "o_volvulus                                   0.370176\n",
      "p_arcanus                                    0.425382\n",
      "p_entomophagus                  0.245549             \n",
      "p_japonicus                                  0.390713\n",
      "p_mayer                         0.245908             \n",
      "p_redivivus                     0.298469             \n",
      "p_univalens         0.120364                         \n",
      "s_digitata                                   0.399857\n",
      "s_scapterisci       0.109798                         \n"
     ]
    },
    {
     "data": {
      "application/vnd.plotly.v1+json": {
       "config": {
        "plotlyServerURL": "https://plot.ly"
       },
       "data": [
        {
         "customdata": [
          [
           0,
           0,
           0.38907739061403246
          ],
          [
           1.4991901200000002,
           0.28431200000000006,
           0.38907739061403246
          ],
          [
           0.34119299999999997,
           0.056091999999999996,
           0.38907739061403246
          ],
          [
           1.40807612,
           0.37068400000000007,
           0.38907739061403246
          ],
          [
           1.17057512,
           0.372342,
           0.38907739061403246
          ],
          [
           1.0950179,
           0.36664700000000006,
           0.38907739061403246
          ],
          [
           1.1786938999999999,
           0.362831,
           0.38907739061403246
          ],
          [
           1.09609368,
           0.6978130000000001,
           0.38907739061403246
          ],
          [
           1.2619329000000001,
           0.361306,
           0.38907739061403246
          ],
          [
           1.6362016400000003,
           0.34687786400000004,
           0.38907739061403246
          ],
          [
           1.6941075600000004,
           0.34687786400000004,
           0.38907739061403246
          ],
          [
           1.20424634,
           0.405884,
           0.38907739061403246
          ],
          [
           0.20597834,
           0.065543,
           0.38907739061403246
          ],
          [
           1.81345278,
           0.307724,
           0.38907739061403246
          ],
          [
           1.15552878,
           0.316653,
           0.38907739061403246
          ],
          [
           1.43034178,
           0.325277,
           0.38907739061403246
          ],
          [
           1.1682040000000002,
           0.31425200000000003,
           0.38907739061403246
          ],
          [
           1.05036,
           0.53271,
           0.38907739061403246
          ],
          [
           1.7966462400000003,
           0.34918170000000004,
           0.38907739061403246
          ],
          [
           0.187798,
           0.092866,
           0.38907739061403246
          ],
          [
           1.170067,
           0.39476970000000006,
           0.38907739061403246
          ],
          [
           0.34119299999999997,
           0.056091999999999996,
           0.35184487770995354
          ],
          [
           1.44214912,
           0.27604200000000007,
           0.35184487770995354
          ],
          [
           0,
           0,
           0.35184487770995354
          ],
          [
           1.35103512,
           0.36241400000000007,
           0.35184487770995354
          ],
          [
           1.11353412,
           0.36407200000000006,
           0.35184487770995354
          ],
          [
           1.0379768999999999,
           0.35837700000000006,
           0.35184487770995354
          ],
          [
           1.1216529,
           0.35456099999999996,
           0.35184487770995354
          ],
          [
           1.03905268,
           0.689543,
           0.35184487770995354
          ],
          [
           1.2048918999999998,
           0.353036,
           0.35184487770995354
          ],
          [
           1.57916064,
           0.33860786400000004,
           0.35184487770995354
          ],
          [
           1.63706656,
           0.33860786400000004,
           0.35184487770995354
          ],
          [
           1.14720534,
           0.397614,
           0.35184487770995354
          ],
          [
           0.32466134,
           0.05727299999999999,
           0.35184487770995354
          ],
          [
           1.75641178,
           0.29945399999999994,
           0.35184487770995354
          ],
          [
           1.0984877800000001,
           0.308383,
           0.35184487770995354
          ],
          [
           1.37330078,
           0.317007,
           0.35184487770995354
          ],
          [
           1.1111630000000001,
           0.30598200000000003,
           0.35184487770995354
          ],
          [
           0.9933190000000001,
           0.52444,
           0.35184487770995354
          ],
          [
           1.7396052400000002,
           0.3409117,
           0.35184487770995354
          ],
          [
           0.323253,
           0.084596,
           0.35184487770995354
          ],
          [
           1.113026,
           0.38649969999999995,
           0.35184487770995354
          ],
          [
           1.40807612,
           0.37068400000000007,
           0.43672201562789326
          ],
          [
           1.53625512,
           0.456666,
           0.43672201562789326
          ],
          [
           1.35103512,
           0.36241400000000007,
           0.43672201562789326
          ],
          [
           0,
           0,
           0.43672201562789326
          ],
          [
           0.510079,
           0.041512,
           0.43672201562789326
          ],
          [
           0.43452177999999997,
           0.062841,
           0.43672201562789326
          ],
          [
           0.69713578,
           0.076881,
           0.43672201562789326
          ],
          [
           0.61453556,
           0.46374099999999996,
           0.43672201562789326
          ],
          [
           0.78037478,
           0.127234,
           0.43672201562789326
          ],
          [
           1.6732666399999998,
           0.292613864,
           0.43672201562789326
          ],
          [
           1.7311725599999999,
           0.292613864,
           0.43672201562789326
          ],
          [
           1.12744178,
           0.384818,
           0.43672201562789326
          ],
          [
           1.39154446,
           0.355989,
           0.43672201562789326
          ],
          [
           1.8516088999999996,
           0.34886,
           0.43672201562789326
          ],
          [
           1.1936848999999996,
           0.35778899999999997,
           0.43672201562789326
          ],
          [
           1.4684978999999996,
           0.366413,
           0.43672201562789326
          ],
          [
           1.2063601199999998,
           0.355388,
           0.43672201562789326
          ],
          [
           1.31101012,
           0.6175780000000001,
           0.43672201562789326
          ],
          [
           1.8337112400000002,
           0.37554970000000004,
           0.43672201562789326
          ],
          [
           1.39013612,
           0.39274400000000004,
           0.43672201562789326
          ],
          [
           1.43025312,
           0.4211377,
           0.43672201562789326
          ],
          [
           1.17057512,
           0.372342,
           0.39105591991291766
          ],
          [
           1.29875412,
           0.45832399999999995,
           0.39105591991291766
          ],
          [
           1.11353412,
           0.36407200000000006,
           0.39105591991291766
          ],
          [
           0.510079,
           0.041512,
           0.39105591991291766
          ],
          [
           0,
           0,
           0.39105591991291766
          ],
          [
           0.17432278,
           0.064499,
           0.39105591991291766
          ],
          [
           0.45963478,
           0.07853900000000001,
           0.39105591991291766
          ],
          [
           0.37703456,
           0.465399,
           0.39105591991291766
          ],
          [
           0.54287378,
           0.128892,
           0.39105591991291766
          ],
          [
           1.4357656399999998,
           0.294271864,
           0.39105591991291766
          ],
          [
           1.49367156,
           0.294271864,
           0.39105591991291766
          ],
          [
           0.8899407800000001,
           0.38647599999999993,
           0.39105591991291766
          ],
          [
           1.15404346,
           0.357647,
           0.39105591991291766
          ],
          [
           1.6141078999999996,
           0.350518,
           0.39105591991291766
          ],
          [
           0.9561839,
           0.35944699999999996,
           0.39105591991291766
          ],
          [
           1.2309968999999998,
           0.368071,
           0.39105591991291766
          ],
          [
           0.96885912,
           0.357046,
           0.39105591991291766
          ],
          [
           1.07350912,
           0.6192360000000001,
           0.39105591991291766
          ],
          [
           1.5962102399999998,
           0.3772076999999999,
           0.39105591991291766
          ],
          [
           1.15263512,
           0.394402,
           0.39105591991291766
          ],
          [
           1.19275212,
           0.42279569999999994,
           0.39105591991291766
          ],
          [
           1.0950179,
           0.36664700000000006,
           0.3745016006001308
          ],
          [
           1.2231969,
           0.45262899999999995,
           0.3745016006001308
          ],
          [
           1.0379768999999999,
           0.35837700000000006,
           0.3745016006001308
          ],
          [
           0.43452177999999997,
           0.062841,
           0.3745016006001308
          ],
          [
           0.17432278,
           0.064499,
           0.3745016006001308
          ],
          [
           0,
           0,
           0.3745016006001308
          ],
          [
           0.38407756,
           0.072844,
           0.3745016006001308
          ],
          [
           0.30147734,
           0.459704,
           0.3745016006001308
          ],
          [
           0.46731656,
           0.12319699999999999,
           0.3745016006001308
          ],
          [
           1.3602084199999998,
           0.288576864,
           0.3745016006001308
          ],
          [
           1.4181143399999998,
           0.288576864,
           0.3745016006001308
          ],
          [
           0.81438356,
           0.380781,
           0.3745016006001308
          ],
          [
           1.07848624,
           0.35195200000000004,
           0.3745016006001308
          ],
          [
           1.5385506799999995,
           0.344823,
           0.3745016006001308
          ],
          [
           0.8806266799999999,
           0.353752,
           0.3745016006001308
          ],
          [
           1.1554396799999997,
           0.362376,
           0.3745016006001308
          ],
          [
           0.8933019,
           0.351351,
           0.3745016006001308
          ],
          [
           0.9979518999999999,
           0.613541,
           0.3745016006001308
          ],
          [
           1.5206530199999997,
           0.3715127,
           0.3745016006001308
          ],
          [
           1.0770779,
           0.388707,
           0.3745016006001308
          ],
          [
           1.1171948999999999,
           0.4171007,
           0.3745016006001308
          ],
          [
           1.1786938999999999,
           0.362831,
           0.3554229127770472
          ],
          [
           1.3068729,
           0.448813,
           0.3554229127770472
          ],
          [
           1.1216529,
           0.35456099999999996,
           0.3554229127770472
          ],
          [
           0.69713578,
           0.076881,
           0.3554229127770472
          ],
          [
           0.45963478,
           0.07853900000000001,
           0.3554229127770472
          ],
          [
           0.38407756,
           0.072844,
           0.3554229127770472
          ],
          [
           0,
           0,
           0.3554229127770472
          ],
          [
           0.38460778,
           0.45588799999999996,
           0.3554229127770472
          ],
          [
           0.382803,
           0.119381,
           0.3554229127770472
          ],
          [
           1.44388442,
           0.28476086399999995,
           0.3554229127770472
          ],
          [
           1.5017903400000001,
           0.28476086399999995,
           0.3554229127770472
          ],
          [
           0.89805956,
           0.37696499999999994,
           0.3554229127770472
          ],
          [
           1.1621622399999998,
           0.348136,
           0.3554229127770472
          ],
          [
           1.62222668,
           0.34100699999999995,
           0.3554229127770472
          ],
          [
           0.9643026799999997,
           0.349936,
           0.3554229127770472
          ],
          [
           1.2391156799999998,
           0.35856,
           0.3554229127770472
          ],
          [
           0.9769778999999998,
           0.347535,
           0.3554229127770472
          ],
          [
           1.0816279,
           0.6097250000000001,
           0.3554229127770472
          ],
          [
           1.60432902,
           0.3676967,
           0.3554229127770472
          ],
          [
           1.1607539000000002,
           0.384891,
           0.3554229127770472
          ],
          [
           1.2008709000000002,
           0.4132847,
           0.3554229127770472
          ],
          [
           1.09609368,
           0.6978130000000001,
           0.5344379701177912
          ],
          [
           1.22427268,
           0.783795,
           0.5344379701177912
          ],
          [
           1.03905268,
           0.689543,
           0.5344379701177912
          ],
          [
           0.61453556,
           0.46374099999999996,
           0.5344379701177912
          ],
          [
           0.37703456,
           0.465399,
           0.5344379701177912
          ],
          [
           0.30147734,
           0.459704,
           0.5344379701177912
          ],
          [
           0.38460778,
           0.45588799999999996,
           0.5344379701177912
          ],
          [
           0,
           0,
           0.5344379701177912
          ],
          [
           0.46784678,
           0.43288899999999997,
           0.5344379701177912
          ],
          [
           1.3612841999999998,
           0.6197428640000001,
           0.5344379701177912
          ],
          [
           1.4191901199999999,
           0.6197428640000001,
           0.5344379701177912
          ],
          [
           0.8154593400000001,
           0.711947,
           0.5344379701177912
          ],
          [
           1.07956202,
           0.683118,
           0.5344379701177912
          ],
          [
           1.5396264599999996,
           0.6759890000000001,
           0.5344379701177912
          ],
          [
           0.88170246,
           0.684918,
           0.5344379701177912
          ],
          [
           1.1565154599999996,
           0.693542,
           0.5344379701177912
          ],
          [
           0.89437768,
           0.6825170000000002,
           0.5344379701177912
          ],
          [
           0.9990276799999999,
           0.944707,
           0.5344379701177912
          ],
          [
           1.5217287999999998,
           0.7026787,
           0.5344379701177912
          ],
          [
           1.07815368,
           0.7198730000000001,
           0.5344379701177912
          ],
          [
           1.11827068,
           0.7482667000000001,
           0.5344379701177912
          ],
          [
           1.2619329000000001,
           0.361306,
           0.3749312609681279
          ],
          [
           1.3901119,
           0.44728799999999996,
           0.3749312609681279
          ],
          [
           1.2048918999999998,
           0.353036,
           0.3749312609681279
          ],
          [
           0.78037478,
           0.127234,
           0.3749312609681279
          ],
          [
           0.54287378,
           0.128892,
           0.3749312609681279
          ],
          [
           0.46731656,
           0.12319699999999999,
           0.3749312609681279
          ],
          [
           0.382803,
           0.119381,
           0.3749312609681279
          ],
          [
           0.46784678,
           0.43288899999999997,
           0.3749312609681279
          ],
          [
           0,
           0,
           0.3749312609681279
          ],
          [
           1.52712342,
           0.283235864,
           0.3749312609681279
          ],
          [
           1.58502934,
           0.283235864,
           0.3749312609681279
          ],
          [
           0.98129856,
           0.37544,
           0.3749312609681279
          ],
          [
           1.24540124,
           0.346611,
           0.3749312609681279
          ],
          [
           1.7054656799999999,
           0.33948199999999995,
           0.3749312609681279
          ],
          [
           1.04754168,
           0.348411,
           0.3749312609681279
          ],
          [
           1.32235468,
           0.357035,
           0.3749312609681279
          ],
          [
           1.0602169000000001,
           0.34601000000000004,
           0.3749312609681279
          ],
          [
           1.1648669,
           0.6082,
           0.3749312609681279
          ],
          [
           1.6875680199999998,
           0.3661717,
           0.3749312609681279
          ],
          [
           1.2439929,
           0.383366,
           0.3749312609681279
          ],
          [
           1.2841099,
           0.4117597,
           0.3749312609681279
          ],
          [
           1.6362016400000003,
           0.34687786400000004,
           0.43975074274656867
          ],
          [
           1.1760006399999998,
           0.43285986400000004,
           0.43975074274656867
          ],
          [
           1.57916064,
           0.33860786400000004,
           0.43975074274656867
          ],
          [
           1.6732666399999998,
           0.292613864,
           0.43975074274656867
          ],
          [
           1.4357656399999998,
           0.294271864,
           0.43975074274656867
          ],
          [
           1.3602084199999998,
           0.288576864,
           0.43975074274656867
          ],
          [
           1.44388442,
           0.28476086399999995,
           0.43975074274656867
          ],
          [
           1.3612841999999998,
           0.6197428640000001,
           0.43975074274656867
          ],
          [
           1.52712342,
           0.283235864,
           0.43975074274656867
          ],
          [
           0,
           0,
           0.43975074274656867
          ],
          [
           0.05845148,
           6.3864e-05,
           0.43975074274656867
          ],
          [
           1.4694368599999998,
           0.36101186399999996,
           0.43975074274656867
          ],
          [
           1.6196699799999998,
           0.332182864,
           0.43975074274656867
          ],
          [
           2.0797344199999994,
           0.32505386399999997,
           0.43975074274656867
          ],
          [
           1.4218104199999997,
           0.33398286400000005,
           0.43975074274656867
          ],
          [
           1.6966234199999997,
           0.342606864,
           0.43975074274656867
          ],
          [
           1.43448564,
           0.33158186400000006,
           0.43975074274656867
          ],
          [
           1.53913564,
           0.5937718639999999,
           0.43975074274656867
          ],
          [
           1.47345676,
           0.35174356400000006,
           0.43975074274656867
          ],
          [
           1.6182616400000003,
           0.3689378640000001,
           0.43975074274656867
          ],
          [
           1.65837864,
           0.397331564,
           0.43975074274656867
          ],
          [
           1.6941075600000004,
           0.34687786400000004,
           0.44786633265920095
          ],
          [
           1.2339065599999999,
           0.43285986400000004,
           0.44786633265920095
          ],
          [
           1.63706656,
           0.33860786400000004,
           0.44786633265920095
          ],
          [
           1.7311725599999999,
           0.292613864,
           0.44786633265920095
          ],
          [
           1.49367156,
           0.294271864,
           0.44786633265920095
          ],
          [
           1.4181143399999998,
           0.288576864,
           0.44786633265920095
          ],
          [
           1.5017903400000001,
           0.28476086399999995,
           0.44786633265920095
          ],
          [
           1.4191901199999999,
           0.6197428640000001,
           0.44786633265920095
          ],
          [
           1.58502934,
           0.283235864,
           0.44786633265920095
          ],
          [
           0.05845148,
           6.3864e-05,
           0.44786633265920095
          ],
          [
           0,
           0,
           0.44786633265920095
          ],
          [
           1.52734278,
           0.36101186399999996,
           0.44786633265920095
          ],
          [
           1.6775759,
           0.332182864,
           0.44786633265920095
          ],
          [
           2.1376403399999995,
           0.32505386399999997,
           0.44786633265920095
          ],
          [
           1.4797163399999997,
           0.33398286400000005,
           0.44786633265920095
          ],
          [
           1.7545293399999997,
           0.342606864,
           0.44786633265920095
          ],
          [
           1.49239156,
           0.33158186400000006,
           0.44786633265920095
          ],
          [
           1.59704156,
           0.5937718639999999,
           0.44786633265920095
          ],
          [
           1.53136268,
           0.35174356400000006,
           0.44786633265920095
          ],
          [
           1.6761675600000003,
           0.3689378640000001,
           0.44786633265920095
          ],
          [
           1.71628456,
           0.397331564,
           0.44786633265920095
          ],
          [
           0.20597834,
           0.065543,
           0.37017590554170765
          ],
          [
           1.48265846,
           0.269617,
           0.37017590554170765
          ],
          [
           0.32466134,
           0.05727299999999999,
           0.37017590554170765
          ],
          [
           1.39154446,
           0.355989,
           0.37017590554170765
          ],
          [
           1.15404346,
           0.357647,
           0.37017590554170765
          ],
          [
           1.07848624,
           0.35195200000000004,
           0.37017590554170765
          ],
          [
           1.1621622399999998,
           0.348136,
           0.37017590554170765
          ],
          [
           1.07956202,
           0.683118,
           0.37017590554170765
          ],
          [
           1.24540124,
           0.346611,
           0.37017590554170765
          ],
          [
           1.6196699799999998,
           0.332182864,
           0.37017590554170765
          ],
          [
           1.6775759,
           0.332182864,
           0.37017590554170765
          ],
          [
           1.18771468,
           0.391189,
           0.37017590554170765
          ],
          [
           0,
           0,
           0.37017590554170765
          ],
          [
           1.79692112,
           0.29302900000000004,
           0.37017590554170765
          ],
          [
           1.13899712,
           0.30195800000000006,
           0.37017590554170765
          ],
          [
           1.41381012,
           0.310582,
           0.37017590554170765
          ],
          [
           1.1516723400000002,
           0.299557,
           0.37017590554170765
          ],
          [
           1.0338283400000001,
           0.518015,
           0.37017590554170765
          ],
          [
           1.7801145799999998,
           0.3344867,
           0.37017590554170765
          ],
          [
           0.18803834,
           0.087603,
           0.37017590554170765
          ],
          [
           1.15353534,
           0.38007470000000004,
           0.37017590554170765
          ],
          [
           1.81345278,
           0.307724,
           0.425382467599969
          ],
          [
           1.9427229,
           0.39370600000000006,
           0.425382467599969
          ],
          [
           1.75641178,
           0.29945399999999994,
           0.425382467599969
          ],
          [
           1.8516088999999996,
           0.34886,
           0.425382467599969
          ],
          [
           1.6141078999999996,
           0.350518,
           0.425382467599969
          ],
          [
           1.5385506799999995,
           0.344823,
           0.425382467599969
          ],
          [
           1.62222668,
           0.34100699999999995,
           0.425382467599969
          ],
          [
           1.5396264599999996,
           0.6759890000000001,
           0.425382467599969
          ],
          [
           1.7054656799999999,
           0.33948199999999995,
           0.425382467599969
          ],
          [
           2.0797344199999994,
           0.32505386399999997,
           0.425382467599969
          ],
          [
           2.1376403399999995,
           0.32505386399999997,
           0.425382467599969
          ],
          [
           1.6477791199999998,
           0.38406,
           0.425382467599969
          ],
          [
           1.79692112,
           0.29302900000000004,
           0.425382467599969
          ],
          [
           0,
           0,
           0.425382467599969
          ],
          [
           1.039954,
           0.065983,
           0.425382467599969
          ],
          [
           0.8024929999999999,
           0.056464999999999994,
           0.425382467599969
          ],
          [
           1.05317478,
           0.063582,
           0.425382467599969
          ],
          [
           1.7163867800000001,
           0.554618,
           0.425382467599969
          ],
          [
           2.24017902,
           0.32735770000000003,
           0.425382467599969
          ],
          [
           1.79551278,
           0.32978399999999997,
           0.425382467599969
          ],
          [
           1.8356297799999999,
           0.3729457,
           0.425382467599969
          ],
          [
           1.43034178,
           0.325277,
           0.3907127807436316
          ],
          [
           1.5596119,
           0.41125900000000004,
           0.3907127807436316
          ],
          [
           1.37330078,
           0.317007,
           0.3907127807436316
          ],
          [
           1.4684978999999996,
           0.366413,
           0.3907127807436316
          ],
          [
           1.2309968999999998,
           0.368071,
           0.3907127807436316
          ],
          [
           1.1554396799999997,
           0.362376,
           0.3907127807436316
          ],
          [
           1.2391156799999998,
           0.35856,
           0.3907127807436316
          ],
          [
           1.1565154599999996,
           0.693542,
           0.3907127807436316
          ],
          [
           1.32235468,
           0.357035,
           0.3907127807436316
          ],
          [
           1.6966234199999997,
           0.342606864,
           0.3907127807436316
          ],
          [
           1.7545293399999997,
           0.342606864,
           0.3907127807436316
          ],
          [
           1.2646681199999998,
           0.401613,
           0.3907127807436316
          ],
          [
           1.41381012,
           0.310582,
           0.3907127807436316
          ],
          [
           0.8024929999999999,
           0.056464999999999994,
           0.3907127807436316
          ],
          [
           0.6568430000000001,
           0.083536,
           0.3907127807436316
          ],
          [
           0,
           0,
           0.3907127807436316
          ],
          [
           0.67006378,
           0.081135,
           0.3907127807436316
          ],
          [
           1.3332757800000001,
           0.572171,
           0.3907127807436316
          ],
          [
           1.85706802,
           0.3449107,
           0.3907127807436316
          ],
          [
           1.41240178,
           0.347337,
           0.3907127807436316
          ],
          [
           1.45251878,
           0.39049870000000003,
           0.3907127807436316
          ],
          [
           0.187798,
           0.092866,
           0.3998565864431921
          ],
          [
           1.48125012,
           0.30637200000000003,
           0.3998565864431921
          ],
          [
           0.323253,
           0.084596,
           0.3998565864431921
          ],
          [
           1.39013612,
           0.39274400000000004,
           0.3998565864431921
          ],
          [
           1.15263512,
           0.394402,
           0.3998565864431921
          ],
          [
           1.0770779,
           0.388707,
           0.3998565864431921
          ],
          [
           1.1607539000000002,
           0.384891,
           0.3998565864431921
          ],
          [
           1.07815368,
           0.7198730000000001,
           0.3998565864431921
          ],
          [
           1.2439929,
           0.383366,
           0.3998565864431921
          ],
          [
           1.6182616400000003,
           0.3689378640000001,
           0.3998565864431921
          ],
          [
           1.6761675600000003,
           0.3689378640000001,
           0.3998565864431921
          ],
          [
           1.18630634,
           0.427944,
           0.3998565864431921
          ],
          [
           0.18803834,
           0.087603,
           0.3998565864431921
          ],
          [
           1.79551278,
           0.32978399999999997,
           0.3998565864431921
          ],
          [
           1.13758878,
           0.338713,
           0.3998565864431921
          ],
          [
           1.41240178,
           0.347337,
           0.3998565864431921
          ],
          [
           1.1502640000000002,
           0.336312,
           0.3998565864431921
          ],
          [
           1.03242,
           0.5547700000000001,
           0.3998565864431921
          ],
          [
           1.7787062399999998,
           0.37124170000000006,
           0.3998565864431921
          ],
          [
           0,
           0,
           0.3998565864431921
          ],
          [
           1.152127,
           0.4168297000000001,
           0.3998565864431921
          ]
         ],
         "hovertemplate": "<b>%{hovertext}</b><br><br>clusters_R2_max=0.35 to 0.53<br>par1_values=%{customdata[0]}<br>pkc3_values=%{customdata[1]}<br>R2=%{customdata[2]}<extra></extra>",
         "hovertext": [
          "a_loa a_loa",
          "a_loa a_suum",
          "a_loa b_malayi",
          "a_loa c_brenneri",
          "a_loa c_briggsae",
          "a_loa c_elegans",
          "a_loa c_inopinata",
          "a_loa c_japonica",
          "a_loa c_panamensis",
          "a_loa d_coronatus",
          "a_loa d_pachys",
          "a_loa o_tipulae",
          "a_loa o_volvulus",
          "a_loa p_arcanus",
          "a_loa p_entomophagus",
          "a_loa p_japonicus",
          "a_loa p_mayer",
          "a_loa p_redivivus",
          "a_loa p_univalens",
          "a_loa s_digitata",
          "a_loa s_scapterisci",
          "b_malayi a_loa",
          "b_malayi a_suum",
          "b_malayi b_malayi",
          "b_malayi c_brenneri",
          "b_malayi c_briggsae",
          "b_malayi c_elegans",
          "b_malayi c_inopinata",
          "b_malayi c_japonica",
          "b_malayi c_panamensis",
          "b_malayi d_coronatus",
          "b_malayi d_pachys",
          "b_malayi o_tipulae",
          "b_malayi o_volvulus",
          "b_malayi p_arcanus",
          "b_malayi p_entomophagus",
          "b_malayi p_japonicus",
          "b_malayi p_mayer",
          "b_malayi p_redivivus",
          "b_malayi p_univalens",
          "b_malayi s_digitata",
          "b_malayi s_scapterisci",
          "c_brenneri a_loa",
          "c_brenneri a_suum",
          "c_brenneri b_malayi",
          "c_brenneri c_brenneri",
          "c_brenneri c_briggsae",
          "c_brenneri c_elegans",
          "c_brenneri c_inopinata",
          "c_brenneri c_japonica",
          "c_brenneri c_panamensis",
          "c_brenneri d_coronatus",
          "c_brenneri d_pachys",
          "c_brenneri o_tipulae",
          "c_brenneri o_volvulus",
          "c_brenneri p_arcanus",
          "c_brenneri p_entomophagus",
          "c_brenneri p_japonicus",
          "c_brenneri p_mayer",
          "c_brenneri p_redivivus",
          "c_brenneri p_univalens",
          "c_brenneri s_digitata",
          "c_brenneri s_scapterisci",
          "c_briggsae a_loa",
          "c_briggsae a_suum",
          "c_briggsae b_malayi",
          "c_briggsae c_brenneri",
          "c_briggsae c_briggsae",
          "c_briggsae c_elegans",
          "c_briggsae c_inopinata",
          "c_briggsae c_japonica",
          "c_briggsae c_panamensis",
          "c_briggsae d_coronatus",
          "c_briggsae d_pachys",
          "c_briggsae o_tipulae",
          "c_briggsae o_volvulus",
          "c_briggsae p_arcanus",
          "c_briggsae p_entomophagus",
          "c_briggsae p_japonicus",
          "c_briggsae p_mayer",
          "c_briggsae p_redivivus",
          "c_briggsae p_univalens",
          "c_briggsae s_digitata",
          "c_briggsae s_scapterisci",
          "c_elegans a_loa",
          "c_elegans a_suum",
          "c_elegans b_malayi",
          "c_elegans c_brenneri",
          "c_elegans c_briggsae",
          "c_elegans c_elegans",
          "c_elegans c_inopinata",
          "c_elegans c_japonica",
          "c_elegans c_panamensis",
          "c_elegans d_coronatus",
          "c_elegans d_pachys",
          "c_elegans o_tipulae",
          "c_elegans o_volvulus",
          "c_elegans p_arcanus",
          "c_elegans p_entomophagus",
          "c_elegans p_japonicus",
          "c_elegans p_mayer",
          "c_elegans p_redivivus",
          "c_elegans p_univalens",
          "c_elegans s_digitata",
          "c_elegans s_scapterisci",
          "c_inopinata a_loa",
          "c_inopinata a_suum",
          "c_inopinata b_malayi",
          "c_inopinata c_brenneri",
          "c_inopinata c_briggsae",
          "c_inopinata c_elegans",
          "c_inopinata c_inopinata",
          "c_inopinata c_japonica",
          "c_inopinata c_panamensis",
          "c_inopinata d_coronatus",
          "c_inopinata d_pachys",
          "c_inopinata o_tipulae",
          "c_inopinata o_volvulus",
          "c_inopinata p_arcanus",
          "c_inopinata p_entomophagus",
          "c_inopinata p_japonicus",
          "c_inopinata p_mayer",
          "c_inopinata p_redivivus",
          "c_inopinata p_univalens",
          "c_inopinata s_digitata",
          "c_inopinata s_scapterisci",
          "c_japonica a_loa",
          "c_japonica a_suum",
          "c_japonica b_malayi",
          "c_japonica c_brenneri",
          "c_japonica c_briggsae",
          "c_japonica c_elegans",
          "c_japonica c_inopinata",
          "c_japonica c_japonica",
          "c_japonica c_panamensis",
          "c_japonica d_coronatus",
          "c_japonica d_pachys",
          "c_japonica o_tipulae",
          "c_japonica o_volvulus",
          "c_japonica p_arcanus",
          "c_japonica p_entomophagus",
          "c_japonica p_japonicus",
          "c_japonica p_mayer",
          "c_japonica p_redivivus",
          "c_japonica p_univalens",
          "c_japonica s_digitata",
          "c_japonica s_scapterisci",
          "c_panamensis a_loa",
          "c_panamensis a_suum",
          "c_panamensis b_malayi",
          "c_panamensis c_brenneri",
          "c_panamensis c_briggsae",
          "c_panamensis c_elegans",
          "c_panamensis c_inopinata",
          "c_panamensis c_japonica",
          "c_panamensis c_panamensis",
          "c_panamensis d_coronatus",
          "c_panamensis d_pachys",
          "c_panamensis o_tipulae",
          "c_panamensis o_volvulus",
          "c_panamensis p_arcanus",
          "c_panamensis p_entomophagus",
          "c_panamensis p_japonicus",
          "c_panamensis p_mayer",
          "c_panamensis p_redivivus",
          "c_panamensis p_univalens",
          "c_panamensis s_digitata",
          "c_panamensis s_scapterisci",
          "d_coronatus a_loa",
          "d_coronatus a_suum",
          "d_coronatus b_malayi",
          "d_coronatus c_brenneri",
          "d_coronatus c_briggsae",
          "d_coronatus c_elegans",
          "d_coronatus c_inopinata",
          "d_coronatus c_japonica",
          "d_coronatus c_panamensis",
          "d_coronatus d_coronatus",
          "d_coronatus d_pachys",
          "d_coronatus o_tipulae",
          "d_coronatus o_volvulus",
          "d_coronatus p_arcanus",
          "d_coronatus p_entomophagus",
          "d_coronatus p_japonicus",
          "d_coronatus p_mayer",
          "d_coronatus p_redivivus",
          "d_coronatus p_univalens",
          "d_coronatus s_digitata",
          "d_coronatus s_scapterisci",
          "d_pachys a_loa",
          "d_pachys a_suum",
          "d_pachys b_malayi",
          "d_pachys c_brenneri",
          "d_pachys c_briggsae",
          "d_pachys c_elegans",
          "d_pachys c_inopinata",
          "d_pachys c_japonica",
          "d_pachys c_panamensis",
          "d_pachys d_coronatus",
          "d_pachys d_pachys",
          "d_pachys o_tipulae",
          "d_pachys o_volvulus",
          "d_pachys p_arcanus",
          "d_pachys p_entomophagus",
          "d_pachys p_japonicus",
          "d_pachys p_mayer",
          "d_pachys p_redivivus",
          "d_pachys p_univalens",
          "d_pachys s_digitata",
          "d_pachys s_scapterisci",
          "o_volvulus a_loa",
          "o_volvulus a_suum",
          "o_volvulus b_malayi",
          "o_volvulus c_brenneri",
          "o_volvulus c_briggsae",
          "o_volvulus c_elegans",
          "o_volvulus c_inopinata",
          "o_volvulus c_japonica",
          "o_volvulus c_panamensis",
          "o_volvulus d_coronatus",
          "o_volvulus d_pachys",
          "o_volvulus o_tipulae",
          "o_volvulus o_volvulus",
          "o_volvulus p_arcanus",
          "o_volvulus p_entomophagus",
          "o_volvulus p_japonicus",
          "o_volvulus p_mayer",
          "o_volvulus p_redivivus",
          "o_volvulus p_univalens",
          "o_volvulus s_digitata",
          "o_volvulus s_scapterisci",
          "p_arcanus a_loa",
          "p_arcanus a_suum",
          "p_arcanus b_malayi",
          "p_arcanus c_brenneri",
          "p_arcanus c_briggsae",
          "p_arcanus c_elegans",
          "p_arcanus c_inopinata",
          "p_arcanus c_japonica",
          "p_arcanus c_panamensis",
          "p_arcanus d_coronatus",
          "p_arcanus d_pachys",
          "p_arcanus o_tipulae",
          "p_arcanus o_volvulus",
          "p_arcanus p_arcanus",
          "p_arcanus p_entomophagus",
          "p_arcanus p_japonicus",
          "p_arcanus p_mayer",
          "p_arcanus p_redivivus",
          "p_arcanus p_univalens",
          "p_arcanus s_digitata",
          "p_arcanus s_scapterisci",
          "p_japonicus a_loa",
          "p_japonicus a_suum",
          "p_japonicus b_malayi",
          "p_japonicus c_brenneri",
          "p_japonicus c_briggsae",
          "p_japonicus c_elegans",
          "p_japonicus c_inopinata",
          "p_japonicus c_japonica",
          "p_japonicus c_panamensis",
          "p_japonicus d_coronatus",
          "p_japonicus d_pachys",
          "p_japonicus o_tipulae",
          "p_japonicus o_volvulus",
          "p_japonicus p_arcanus",
          "p_japonicus p_entomophagus",
          "p_japonicus p_japonicus",
          "p_japonicus p_mayer",
          "p_japonicus p_redivivus",
          "p_japonicus p_univalens",
          "p_japonicus s_digitata",
          "p_japonicus s_scapterisci",
          "s_digitata a_loa",
          "s_digitata a_suum",
          "s_digitata b_malayi",
          "s_digitata c_brenneri",
          "s_digitata c_briggsae",
          "s_digitata c_elegans",
          "s_digitata c_inopinata",
          "s_digitata c_japonica",
          "s_digitata c_panamensis",
          "s_digitata d_coronatus",
          "s_digitata d_pachys",
          "s_digitata o_tipulae",
          "s_digitata o_volvulus",
          "s_digitata p_arcanus",
          "s_digitata p_entomophagus",
          "s_digitata p_japonicus",
          "s_digitata p_mayer",
          "s_digitata p_redivivus",
          "s_digitata p_univalens",
          "s_digitata s_digitata",
          "s_digitata s_scapterisci"
         ],
         "legendgroup": "0.35 to 0.53",
         "marker": {
          "color": "#636efa",
          "symbol": "circle"
         },
         "mode": "markers",
         "name": "0.35 to 0.53",
         "showlegend": true,
         "type": "scatter",
         "x": [
          0,
          1.4991901200000002,
          0.34119299999999997,
          1.40807612,
          1.17057512,
          1.0950179,
          1.1786938999999999,
          1.09609368,
          1.2619329000000001,
          1.6362016400000003,
          1.6941075600000004,
          1.20424634,
          0.20597834,
          1.81345278,
          1.15552878,
          1.43034178,
          1.1682040000000002,
          1.05036,
          1.7966462400000003,
          0.187798,
          1.170067,
          0.34119299999999997,
          1.44214912,
          0,
          1.35103512,
          1.11353412,
          1.0379768999999999,
          1.1216529,
          1.03905268,
          1.2048918999999998,
          1.57916064,
          1.63706656,
          1.14720534,
          0.32466134,
          1.75641178,
          1.0984877800000001,
          1.37330078,
          1.1111630000000001,
          0.9933190000000001,
          1.7396052400000002,
          0.323253,
          1.113026,
          1.40807612,
          1.53625512,
          1.35103512,
          0,
          0.510079,
          0.43452177999999997,
          0.69713578,
          0.61453556,
          0.78037478,
          1.6732666399999998,
          1.7311725599999999,
          1.12744178,
          1.39154446,
          1.8516088999999996,
          1.1936848999999996,
          1.4684978999999996,
          1.2063601199999998,
          1.31101012,
          1.8337112400000002,
          1.39013612,
          1.43025312,
          1.17057512,
          1.29875412,
          1.11353412,
          0.510079,
          0,
          0.17432278,
          0.45963478,
          0.37703456,
          0.54287378,
          1.4357656399999998,
          1.49367156,
          0.8899407800000001,
          1.15404346,
          1.6141078999999996,
          0.9561839,
          1.2309968999999998,
          0.96885912,
          1.07350912,
          1.5962102399999998,
          1.15263512,
          1.19275212,
          1.0950179,
          1.2231969,
          1.0379768999999999,
          0.43452177999999997,
          0.17432278,
          0,
          0.38407756,
          0.30147734,
          0.46731656,
          1.3602084199999998,
          1.4181143399999998,
          0.81438356,
          1.07848624,
          1.5385506799999995,
          0.8806266799999999,
          1.1554396799999997,
          0.8933019,
          0.9979518999999999,
          1.5206530199999997,
          1.0770779,
          1.1171948999999999,
          1.1786938999999999,
          1.3068729,
          1.1216529,
          0.69713578,
          0.45963478,
          0.38407756,
          0,
          0.38460778,
          0.382803,
          1.44388442,
          1.5017903400000001,
          0.89805956,
          1.1621622399999998,
          1.62222668,
          0.9643026799999997,
          1.2391156799999998,
          0.9769778999999998,
          1.0816279,
          1.60432902,
          1.1607539000000002,
          1.2008709000000002,
          1.09609368,
          1.22427268,
          1.03905268,
          0.61453556,
          0.37703456,
          0.30147734,
          0.38460778,
          0,
          0.46784678,
          1.3612841999999998,
          1.4191901199999999,
          0.8154593400000001,
          1.07956202,
          1.5396264599999996,
          0.88170246,
          1.1565154599999996,
          0.89437768,
          0.9990276799999999,
          1.5217287999999998,
          1.07815368,
          1.11827068,
          1.2619329000000001,
          1.3901119,
          1.2048918999999998,
          0.78037478,
          0.54287378,
          0.46731656,
          0.382803,
          0.46784678,
          0,
          1.52712342,
          1.58502934,
          0.98129856,
          1.24540124,
          1.7054656799999999,
          1.04754168,
          1.32235468,
          1.0602169000000001,
          1.1648669,
          1.6875680199999998,
          1.2439929,
          1.2841099,
          1.6362016400000003,
          1.1760006399999998,
          1.57916064,
          1.6732666399999998,
          1.4357656399999998,
          1.3602084199999998,
          1.44388442,
          1.3612841999999998,
          1.52712342,
          0,
          0.05845148,
          1.4694368599999998,
          1.6196699799999998,
          2.0797344199999994,
          1.4218104199999997,
          1.6966234199999997,
          1.43448564,
          1.53913564,
          1.47345676,
          1.6182616400000003,
          1.65837864,
          1.6941075600000004,
          1.2339065599999999,
          1.63706656,
          1.7311725599999999,
          1.49367156,
          1.4181143399999998,
          1.5017903400000001,
          1.4191901199999999,
          1.58502934,
          0.05845148,
          0,
          1.52734278,
          1.6775759,
          2.1376403399999995,
          1.4797163399999997,
          1.7545293399999997,
          1.49239156,
          1.59704156,
          1.53136268,
          1.6761675600000003,
          1.71628456,
          0.20597834,
          1.48265846,
          0.32466134,
          1.39154446,
          1.15404346,
          1.07848624,
          1.1621622399999998,
          1.07956202,
          1.24540124,
          1.6196699799999998,
          1.6775759,
          1.18771468,
          0,
          1.79692112,
          1.13899712,
          1.41381012,
          1.1516723400000002,
          1.0338283400000001,
          1.7801145799999998,
          0.18803834,
          1.15353534,
          1.81345278,
          1.9427229,
          1.75641178,
          1.8516088999999996,
          1.6141078999999996,
          1.5385506799999995,
          1.62222668,
          1.5396264599999996,
          1.7054656799999999,
          2.0797344199999994,
          2.1376403399999995,
          1.6477791199999998,
          1.79692112,
          0,
          1.039954,
          0.8024929999999999,
          1.05317478,
          1.7163867800000001,
          2.24017902,
          1.79551278,
          1.8356297799999999,
          1.43034178,
          1.5596119,
          1.37330078,
          1.4684978999999996,
          1.2309968999999998,
          1.1554396799999997,
          1.2391156799999998,
          1.1565154599999996,
          1.32235468,
          1.6966234199999997,
          1.7545293399999997,
          1.2646681199999998,
          1.41381012,
          0.8024929999999999,
          0.6568430000000001,
          0,
          0.67006378,
          1.3332757800000001,
          1.85706802,
          1.41240178,
          1.45251878,
          0.187798,
          1.48125012,
          0.323253,
          1.39013612,
          1.15263512,
          1.0770779,
          1.1607539000000002,
          1.07815368,
          1.2439929,
          1.6182616400000003,
          1.6761675600000003,
          1.18630634,
          0.18803834,
          1.79551278,
          1.13758878,
          1.41240178,
          1.1502640000000002,
          1.03242,
          1.7787062399999998,
          0,
          1.152127
         ],
         "xaxis": "x",
         "y": [
          0,
          0.28431200000000006,
          0.056091999999999996,
          0.37068400000000007,
          0.372342,
          0.36664700000000006,
          0.362831,
          0.6978130000000001,
          0.361306,
          0.34687786400000004,
          0.34687786400000004,
          0.405884,
          0.065543,
          0.307724,
          0.316653,
          0.325277,
          0.31425200000000003,
          0.53271,
          0.34918170000000004,
          0.092866,
          0.39476970000000006,
          0.056091999999999996,
          0.27604200000000007,
          0,
          0.36241400000000007,
          0.36407200000000006,
          0.35837700000000006,
          0.35456099999999996,
          0.689543,
          0.353036,
          0.33860786400000004,
          0.33860786400000004,
          0.397614,
          0.05727299999999999,
          0.29945399999999994,
          0.308383,
          0.317007,
          0.30598200000000003,
          0.52444,
          0.3409117,
          0.084596,
          0.38649969999999995,
          0.37068400000000007,
          0.456666,
          0.36241400000000007,
          0,
          0.041512,
          0.062841,
          0.076881,
          0.46374099999999996,
          0.127234,
          0.292613864,
          0.292613864,
          0.384818,
          0.355989,
          0.34886,
          0.35778899999999997,
          0.366413,
          0.355388,
          0.6175780000000001,
          0.37554970000000004,
          0.39274400000000004,
          0.4211377,
          0.372342,
          0.45832399999999995,
          0.36407200000000006,
          0.041512,
          0,
          0.064499,
          0.07853900000000001,
          0.465399,
          0.128892,
          0.294271864,
          0.294271864,
          0.38647599999999993,
          0.357647,
          0.350518,
          0.35944699999999996,
          0.368071,
          0.357046,
          0.6192360000000001,
          0.3772076999999999,
          0.394402,
          0.42279569999999994,
          0.36664700000000006,
          0.45262899999999995,
          0.35837700000000006,
          0.062841,
          0.064499,
          0,
          0.072844,
          0.459704,
          0.12319699999999999,
          0.288576864,
          0.288576864,
          0.380781,
          0.35195200000000004,
          0.344823,
          0.353752,
          0.362376,
          0.351351,
          0.613541,
          0.3715127,
          0.388707,
          0.4171007,
          0.362831,
          0.448813,
          0.35456099999999996,
          0.076881,
          0.07853900000000001,
          0.072844,
          0,
          0.45588799999999996,
          0.119381,
          0.28476086399999995,
          0.28476086399999995,
          0.37696499999999994,
          0.348136,
          0.34100699999999995,
          0.349936,
          0.35856,
          0.347535,
          0.6097250000000001,
          0.3676967,
          0.384891,
          0.4132847,
          0.6978130000000001,
          0.783795,
          0.689543,
          0.46374099999999996,
          0.465399,
          0.459704,
          0.45588799999999996,
          0,
          0.43288899999999997,
          0.6197428640000001,
          0.6197428640000001,
          0.711947,
          0.683118,
          0.6759890000000001,
          0.684918,
          0.693542,
          0.6825170000000002,
          0.944707,
          0.7026787,
          0.7198730000000001,
          0.7482667000000001,
          0.361306,
          0.44728799999999996,
          0.353036,
          0.127234,
          0.128892,
          0.12319699999999999,
          0.119381,
          0.43288899999999997,
          0,
          0.283235864,
          0.283235864,
          0.37544,
          0.346611,
          0.33948199999999995,
          0.348411,
          0.357035,
          0.34601000000000004,
          0.6082,
          0.3661717,
          0.383366,
          0.4117597,
          0.34687786400000004,
          0.43285986400000004,
          0.33860786400000004,
          0.292613864,
          0.294271864,
          0.288576864,
          0.28476086399999995,
          0.6197428640000001,
          0.283235864,
          0,
          6.3864e-05,
          0.36101186399999996,
          0.332182864,
          0.32505386399999997,
          0.33398286400000005,
          0.342606864,
          0.33158186400000006,
          0.5937718639999999,
          0.35174356400000006,
          0.3689378640000001,
          0.397331564,
          0.34687786400000004,
          0.43285986400000004,
          0.33860786400000004,
          0.292613864,
          0.294271864,
          0.288576864,
          0.28476086399999995,
          0.6197428640000001,
          0.283235864,
          6.3864e-05,
          0,
          0.36101186399999996,
          0.332182864,
          0.32505386399999997,
          0.33398286400000005,
          0.342606864,
          0.33158186400000006,
          0.5937718639999999,
          0.35174356400000006,
          0.3689378640000001,
          0.397331564,
          0.065543,
          0.269617,
          0.05727299999999999,
          0.355989,
          0.357647,
          0.35195200000000004,
          0.348136,
          0.683118,
          0.346611,
          0.332182864,
          0.332182864,
          0.391189,
          0,
          0.29302900000000004,
          0.30195800000000006,
          0.310582,
          0.299557,
          0.518015,
          0.3344867,
          0.087603,
          0.38007470000000004,
          0.307724,
          0.39370600000000006,
          0.29945399999999994,
          0.34886,
          0.350518,
          0.344823,
          0.34100699999999995,
          0.6759890000000001,
          0.33948199999999995,
          0.32505386399999997,
          0.32505386399999997,
          0.38406,
          0.29302900000000004,
          0,
          0.065983,
          0.056464999999999994,
          0.063582,
          0.554618,
          0.32735770000000003,
          0.32978399999999997,
          0.3729457,
          0.325277,
          0.41125900000000004,
          0.317007,
          0.366413,
          0.368071,
          0.362376,
          0.35856,
          0.693542,
          0.357035,
          0.342606864,
          0.342606864,
          0.401613,
          0.310582,
          0.056464999999999994,
          0.083536,
          0,
          0.081135,
          0.572171,
          0.3449107,
          0.347337,
          0.39049870000000003,
          0.092866,
          0.30637200000000003,
          0.084596,
          0.39274400000000004,
          0.394402,
          0.388707,
          0.384891,
          0.7198730000000001,
          0.383366,
          0.3689378640000001,
          0.3689378640000001,
          0.427944,
          0.087603,
          0.32978399999999997,
          0.338713,
          0.347337,
          0.336312,
          0.5547700000000001,
          0.37124170000000006,
          0,
          0.4168297000000001
         ],
         "yaxis": "y"
        },
        {
         "customdata": [
          [
           1.4991901200000002,
           0.28431200000000006,
           0.11547079906020496
          ],
          [
           0,
           0,
           0.11547079906020496
          ],
          [
           1.44214912,
           0.27604200000000007,
           0.11547079906020496
          ],
          [
           1.53625512,
           0.456666,
           0.11547079906020496
          ],
          [
           1.29875412,
           0.45832399999999995,
           0.11547079906020496
          ],
          [
           1.2231969,
           0.45262899999999995,
           0.11547079906020496
          ],
          [
           1.3068729,
           0.448813,
           0.11547079906020496
          ],
          [
           1.22427268,
           0.783795,
           0.11547079906020496
          ],
          [
           1.3901119,
           0.44728799999999996,
           0.11547079906020496
          ],
          [
           1.1760006399999998,
           0.43285986400000004,
           0.11547079906020496
          ],
          [
           1.2339065599999999,
           0.43285986400000004,
           0.11547079906020496
          ],
          [
           1.33242534,
           0.491866,
           0.11547079906020496
          ],
          [
           1.48265846,
           0.269617,
           0.11547079906020496
          ],
          [
           1.9427229,
           0.39370600000000006,
           0.11547079906020496
          ],
          [
           1.2847989,
           0.4026350000000001,
           0.11547079906020496
          ],
          [
           1.5596119,
           0.41125900000000004,
           0.11547079906020496
          ],
          [
           1.2974741200000002,
           0.40023400000000003,
           0.11547079906020496
          ],
          [
           1.4021241199999996,
           0.618692,
           0.11547079906020496
          ],
          [
           0.29800168000000005,
           0.4351637,
           0.11547079906020496
          ],
          [
           1.48125012,
           0.30637200000000003,
           0.11547079906020496
          ],
          [
           1.5213671199999999,
           0.48075170000000006,
           0.11547079906020496
          ],
          [
           1.20424634,
           0.405884,
           0.1437334495626139
          ],
          [
           1.33242534,
           0.491866,
           0.1437334495626139
          ],
          [
           1.14720534,
           0.397614,
           0.1437334495626139
          ],
          [
           1.12744178,
           0.384818,
           0.1437334495626139
          ],
          [
           0.8899407800000001,
           0.38647599999999993,
           0.1437334495626139
          ],
          [
           0.81438356,
           0.380781,
           0.1437334495626139
          ],
          [
           0.89805956,
           0.37696499999999994,
           0.1437334495626139
          ],
          [
           0.8154593400000001,
           0.711947,
           0.1437334495626139
          ],
          [
           0.98129856,
           0.37544,
           0.1437334495626139
          ],
          [
           1.4694368599999998,
           0.36101186399999996,
           0.1437334495626139
          ],
          [
           1.52734278,
           0.36101186399999996,
           0.1437334495626139
          ],
          [
           0,
           0,
           0.1437334495626139
          ],
          [
           1.18771468,
           0.391189,
           0.1437334495626139
          ],
          [
           1.6477791199999998,
           0.38406,
           0.1437334495626139
          ],
          [
           0.9898551199999999,
           0.392989,
           0.1437334495626139
          ],
          [
           1.2646681199999998,
           0.401613,
           0.1437334495626139
          ],
          [
           1.00253034,
           0.390588,
           0.1437334495626139
          ],
          [
           1.10718034,
           0.6527780000000001,
           0.1437334495626139
          ],
          [
           1.62988146,
           0.4107497,
           0.1437334495626139
          ],
          [
           1.18630634,
           0.427944,
           0.1437334495626139
          ],
          [
           1.22642334,
           0.4563377,
           0.1437334495626139
          ],
          [
           1.7966462400000003,
           0.34918170000000004,
           0.12036361111341676
          ],
          [
           0.29800168000000005,
           0.4351637,
           0.12036361111341676
          ],
          [
           1.7396052400000002,
           0.3409117,
           0.12036361111341676
          ],
          [
           1.8337112400000002,
           0.37554970000000004,
           0.12036361111341676
          ],
          [
           1.5962102399999998,
           0.3772076999999999,
           0.12036361111341676
          ],
          [
           1.5206530199999997,
           0.3715127,
           0.12036361111341676
          ],
          [
           1.60432902,
           0.3676967,
           0.12036361111341676
          ],
          [
           1.5217287999999998,
           0.7026787,
           0.12036361111341676
          ],
          [
           1.6875680199999998,
           0.3661717,
           0.12036361111341676
          ],
          [
           1.47345676,
           0.35174356400000006,
           0.12036361111341676
          ],
          [
           1.53136268,
           0.35174356400000006,
           0.12036361111341676
          ],
          [
           1.62988146,
           0.4107497,
           0.12036361111341676
          ],
          [
           1.7801145799999998,
           0.3344867,
           0.12036361111341676
          ],
          [
           2.24017902,
           0.32735770000000003,
           0.12036361111341676
          ],
          [
           1.58225502,
           0.33628670000000005,
           0.12036361111341676
          ],
          [
           1.85706802,
           0.3449107,
           0.12036361111341676
          ],
          [
           1.5949302400000003,
           0.3338857,
           0.12036361111341676
          ],
          [
           1.6995802400000002,
           0.5960757,
           0.12036361111341676
          ],
          [
           0,
           0,
           0.12036361111341676
          ],
          [
           1.7787062399999998,
           0.37124170000000006,
           0.12036361111341676
          ],
          [
           1.81882324,
           0.290076,
           0.12036361111341676
          ],
          [
           1.170067,
           0.39476970000000006,
           0.10979753994794039
          ],
          [
           1.5213671199999999,
           0.48075170000000006,
           0.10979753994794039
          ],
          [
           1.113026,
           0.38649969999999995,
           0.10979753994794039
          ],
          [
           1.43025312,
           0.4211377,
           0.10979753994794039
          ],
          [
           1.19275212,
           0.42279569999999994,
           0.10979753994794039
          ],
          [
           1.1171948999999999,
           0.4171007,
           0.10979753994794039
          ],
          [
           1.2008709000000002,
           0.4132847,
           0.10979753994794039
          ],
          [
           1.11827068,
           0.7482667000000001,
           0.10979753994794039
          ],
          [
           1.2841099,
           0.4117597,
           0.10979753994794039
          ],
          [
           1.65837864,
           0.397331564,
           0.10979753994794039
          ],
          [
           1.71628456,
           0.397331564,
           0.10979753994794039
          ],
          [
           1.22642334,
           0.4563377,
           0.10979753994794039
          ],
          [
           1.15353534,
           0.38007470000000004,
           0.10979753994794039
          ],
          [
           1.8356297799999999,
           0.3729457,
           0.10979753994794039
          ],
          [
           1.17770578,
           0.3818747,
           0.10979753994794039
          ],
          [
           1.45251878,
           0.39049870000000003,
           0.10979753994794039
          ],
          [
           1.1903810000000001,
           0.3794737,
           0.10979753994794039
          ],
          [
           1.073001,
           0.6416637000000001,
           0.10979753994794039
          ],
          [
           1.81882324,
           0.290076,
           0.10979753994794039
          ],
          [
           1.152127,
           0.4168297000000001,
           0.10979753994794039
          ],
          [
           0,
           0,
           0.10979753994794039
          ]
         ],
         "hovertemplate": "<b>%{hovertext}</b><br><br>clusters_R2_max=0.11 to 0.14<br>par1_values=%{customdata[0]}<br>pkc3_values=%{customdata[1]}<br>R2=%{customdata[2]}<extra></extra>",
         "hovertext": [
          "a_suum a_loa",
          "a_suum a_suum",
          "a_suum b_malayi",
          "a_suum c_brenneri",
          "a_suum c_briggsae",
          "a_suum c_elegans",
          "a_suum c_inopinata",
          "a_suum c_japonica",
          "a_suum c_panamensis",
          "a_suum d_coronatus",
          "a_suum d_pachys",
          "a_suum o_tipulae",
          "a_suum o_volvulus",
          "a_suum p_arcanus",
          "a_suum p_entomophagus",
          "a_suum p_japonicus",
          "a_suum p_mayer",
          "a_suum p_redivivus",
          "a_suum p_univalens",
          "a_suum s_digitata",
          "a_suum s_scapterisci",
          "o_tipulae a_loa",
          "o_tipulae a_suum",
          "o_tipulae b_malayi",
          "o_tipulae c_brenneri",
          "o_tipulae c_briggsae",
          "o_tipulae c_elegans",
          "o_tipulae c_inopinata",
          "o_tipulae c_japonica",
          "o_tipulae c_panamensis",
          "o_tipulae d_coronatus",
          "o_tipulae d_pachys",
          "o_tipulae o_tipulae",
          "o_tipulae o_volvulus",
          "o_tipulae p_arcanus",
          "o_tipulae p_entomophagus",
          "o_tipulae p_japonicus",
          "o_tipulae p_mayer",
          "o_tipulae p_redivivus",
          "o_tipulae p_univalens",
          "o_tipulae s_digitata",
          "o_tipulae s_scapterisci",
          "p_univalens a_loa",
          "p_univalens a_suum",
          "p_univalens b_malayi",
          "p_univalens c_brenneri",
          "p_univalens c_briggsae",
          "p_univalens c_elegans",
          "p_univalens c_inopinata",
          "p_univalens c_japonica",
          "p_univalens c_panamensis",
          "p_univalens d_coronatus",
          "p_univalens d_pachys",
          "p_univalens o_tipulae",
          "p_univalens o_volvulus",
          "p_univalens p_arcanus",
          "p_univalens p_entomophagus",
          "p_univalens p_japonicus",
          "p_univalens p_mayer",
          "p_univalens p_redivivus",
          "p_univalens p_univalens",
          "p_univalens s_digitata",
          "p_univalens s_scapterisci",
          "s_scapterisci a_loa",
          "s_scapterisci a_suum",
          "s_scapterisci b_malayi",
          "s_scapterisci c_brenneri",
          "s_scapterisci c_briggsae",
          "s_scapterisci c_elegans",
          "s_scapterisci c_inopinata",
          "s_scapterisci c_japonica",
          "s_scapterisci c_panamensis",
          "s_scapterisci d_coronatus",
          "s_scapterisci d_pachys",
          "s_scapterisci o_tipulae",
          "s_scapterisci o_volvulus",
          "s_scapterisci p_arcanus",
          "s_scapterisci p_entomophagus",
          "s_scapterisci p_japonicus",
          "s_scapterisci p_mayer",
          "s_scapterisci p_redivivus",
          "s_scapterisci p_univalens",
          "s_scapterisci s_digitata",
          "s_scapterisci s_scapterisci"
         ],
         "legendgroup": "0.11 to 0.14",
         "marker": {
          "color": "#EF553B",
          "symbol": "circle"
         },
         "mode": "markers",
         "name": "0.11 to 0.14",
         "showlegend": true,
         "type": "scatter",
         "x": [
          1.4991901200000002,
          0,
          1.44214912,
          1.53625512,
          1.29875412,
          1.2231969,
          1.3068729,
          1.22427268,
          1.3901119,
          1.1760006399999998,
          1.2339065599999999,
          1.33242534,
          1.48265846,
          1.9427229,
          1.2847989,
          1.5596119,
          1.2974741200000002,
          1.4021241199999996,
          0.29800168000000005,
          1.48125012,
          1.5213671199999999,
          1.20424634,
          1.33242534,
          1.14720534,
          1.12744178,
          0.8899407800000001,
          0.81438356,
          0.89805956,
          0.8154593400000001,
          0.98129856,
          1.4694368599999998,
          1.52734278,
          0,
          1.18771468,
          1.6477791199999998,
          0.9898551199999999,
          1.2646681199999998,
          1.00253034,
          1.10718034,
          1.62988146,
          1.18630634,
          1.22642334,
          1.7966462400000003,
          0.29800168000000005,
          1.7396052400000002,
          1.8337112400000002,
          1.5962102399999998,
          1.5206530199999997,
          1.60432902,
          1.5217287999999998,
          1.6875680199999998,
          1.47345676,
          1.53136268,
          1.62988146,
          1.7801145799999998,
          2.24017902,
          1.58225502,
          1.85706802,
          1.5949302400000003,
          1.6995802400000002,
          0,
          1.7787062399999998,
          1.81882324,
          1.170067,
          1.5213671199999999,
          1.113026,
          1.43025312,
          1.19275212,
          1.1171948999999999,
          1.2008709000000002,
          1.11827068,
          1.2841099,
          1.65837864,
          1.71628456,
          1.22642334,
          1.15353534,
          1.8356297799999999,
          1.17770578,
          1.45251878,
          1.1903810000000001,
          1.073001,
          1.81882324,
          1.152127,
          0
         ],
         "xaxis": "x",
         "y": [
          0.28431200000000006,
          0,
          0.27604200000000007,
          0.456666,
          0.45832399999999995,
          0.45262899999999995,
          0.448813,
          0.783795,
          0.44728799999999996,
          0.43285986400000004,
          0.43285986400000004,
          0.491866,
          0.269617,
          0.39370600000000006,
          0.4026350000000001,
          0.41125900000000004,
          0.40023400000000003,
          0.618692,
          0.4351637,
          0.30637200000000003,
          0.48075170000000006,
          0.405884,
          0.491866,
          0.397614,
          0.384818,
          0.38647599999999993,
          0.380781,
          0.37696499999999994,
          0.711947,
          0.37544,
          0.36101186399999996,
          0.36101186399999996,
          0,
          0.391189,
          0.38406,
          0.392989,
          0.401613,
          0.390588,
          0.6527780000000001,
          0.4107497,
          0.427944,
          0.4563377,
          0.34918170000000004,
          0.4351637,
          0.3409117,
          0.37554970000000004,
          0.3772076999999999,
          0.3715127,
          0.3676967,
          0.7026787,
          0.3661717,
          0.35174356400000006,
          0.35174356400000006,
          0.4107497,
          0.3344867,
          0.32735770000000003,
          0.33628670000000005,
          0.3449107,
          0.3338857,
          0.5960757,
          0,
          0.37124170000000006,
          0.290076,
          0.39476970000000006,
          0.48075170000000006,
          0.38649969999999995,
          0.4211377,
          0.42279569999999994,
          0.4171007,
          0.4132847,
          0.7482667000000001,
          0.4117597,
          0.397331564,
          0.397331564,
          0.4563377,
          0.38007470000000004,
          0.3729457,
          0.3818747,
          0.39049870000000003,
          0.3794737,
          0.6416637000000001,
          0.290076,
          0.4168297000000001,
          0
         ],
         "yaxis": "y"
        },
        {
         "customdata": [
          [
           1.15552878,
           0.316653,
           0.2455494532354825
          ],
          [
           1.2847989,
           0.4026350000000001,
           0.2455494532354825
          ],
          [
           1.0984877800000001,
           0.308383,
           0.2455494532354825
          ],
          [
           1.1936848999999996,
           0.35778899999999997,
           0.2455494532354825
          ],
          [
           0.9561839,
           0.35944699999999996,
           0.2455494532354825
          ],
          [
           0.8806266799999999,
           0.353752,
           0.2455494532354825
          ],
          [
           0.9643026799999997,
           0.349936,
           0.2455494532354825
          ],
          [
           0.88170246,
           0.684918,
           0.2455494532354825
          ],
          [
           1.04754168,
           0.348411,
           0.2455494532354825
          ],
          [
           1.4218104199999997,
           0.33398286400000005,
           0.2455494532354825
          ],
          [
           1.4797163399999997,
           0.33398286400000005,
           0.2455494532354825
          ],
          [
           0.9898551199999999,
           0.392989,
           0.2455494532354825
          ],
          [
           1.13899712,
           0.30195800000000006,
           0.2455494532354825
          ],
          [
           1.039954,
           0.065983,
           0.2455494532354825
          ],
          [
           0,
           0,
           0.2455494532354825
          ],
          [
           0.6568430000000001,
           0.083536,
           0.2455494532354825
          ],
          [
           0.39525077999999997,
           0.051587,
           0.2455494532354825
          ],
          [
           1.0584627800000002,
           0.5635469999999999,
           0.2455494532354825
          ],
          [
           1.58225502,
           0.33628670000000005,
           0.2455494532354825
          ],
          [
           1.13758878,
           0.338713,
           0.2455494532354825
          ],
          [
           1.17770578,
           0.3818747,
           0.2455494532354825
          ],
          [
           1.1682040000000002,
           0.31425200000000003,
           0.2459081925478035
          ],
          [
           1.2974741200000002,
           0.40023400000000003,
           0.2459081925478035
          ],
          [
           1.1111630000000001,
           0.30598200000000003,
           0.2459081925478035
          ],
          [
           1.2063601199999998,
           0.355388,
           0.2459081925478035
          ],
          [
           0.96885912,
           0.357046,
           0.2459081925478035
          ],
          [
           0.8933019,
           0.351351,
           0.2459081925478035
          ],
          [
           0.9769778999999998,
           0.347535,
           0.2459081925478035
          ],
          [
           0.89437768,
           0.6825170000000002,
           0.2459081925478035
          ],
          [
           1.0602169000000001,
           0.34601000000000004,
           0.2459081925478035
          ],
          [
           1.43448564,
           0.33158186400000006,
           0.2459081925478035
          ],
          [
           1.49239156,
           0.33158186400000006,
           0.2459081925478035
          ],
          [
           1.00253034,
           0.390588,
           0.2459081925478035
          ],
          [
           1.1516723400000002,
           0.299557,
           0.2459081925478035
          ],
          [
           1.05317478,
           0.063582,
           0.2459081925478035
          ],
          [
           0.39525077999999997,
           0.051587,
           0.2459081925478035
          ],
          [
           0.67006378,
           0.081135,
           0.2459081925478035
          ],
          [
           0,
           0,
           0.2459081925478035
          ],
          [
           1.071138,
           0.5611459999999999,
           0.2459081925478035
          ],
          [
           1.5949302400000003,
           0.3338857,
           0.2459081925478035
          ],
          [
           1.1502640000000002,
           0.336312,
           0.2459081925478035
          ],
          [
           1.1903810000000001,
           0.3794737,
           0.2459081925478035
          ],
          [
           1.05036,
           0.53271,
           0.2984693758243717
          ],
          [
           1.4021241199999996,
           0.618692,
           0.2984693758243717
          ],
          [
           0.9933190000000001,
           0.52444,
           0.2984693758243717
          ],
          [
           1.31101012,
           0.6175780000000001,
           0.2984693758243717
          ],
          [
           1.07350912,
           0.6192360000000001,
           0.2984693758243717
          ],
          [
           0.9979518999999999,
           0.613541,
           0.2984693758243717
          ],
          [
           1.0816279,
           0.6097250000000001,
           0.2984693758243717
          ],
          [
           0.9990276799999999,
           0.944707,
           0.2984693758243717
          ],
          [
           1.1648669,
           0.6082,
           0.2984693758243717
          ],
          [
           1.53913564,
           0.5937718639999999,
           0.2984693758243717
          ],
          [
           1.59704156,
           0.5937718639999999,
           0.2984693758243717
          ],
          [
           1.10718034,
           0.6527780000000001,
           0.2984693758243717
          ],
          [
           1.0338283400000001,
           0.518015,
           0.2984693758243717
          ],
          [
           1.7163867800000001,
           0.554618,
           0.2984693758243717
          ],
          [
           1.0584627800000002,
           0.5635469999999999,
           0.2984693758243717
          ],
          [
           1.3332757800000001,
           0.572171,
           0.2984693758243717
          ],
          [
           1.071138,
           0.5611459999999999,
           0.2984693758243717
          ],
          [
           0,
           0,
           0.2984693758243717
          ],
          [
           1.6995802400000002,
           0.5960757,
           0.2984693758243717
          ],
          [
           1.03242,
           0.5547700000000001,
           0.2984693758243717
          ],
          [
           1.073001,
           0.6416637000000001,
           0.2984693758243717
          ]
         ],
         "hovertemplate": "<b>%{hovertext}</b><br><br>clusters_R2_max=0.25 to 0.3<br>par1_values=%{customdata[0]}<br>pkc3_values=%{customdata[1]}<br>R2=%{customdata[2]}<extra></extra>",
         "hovertext": [
          "p_entomophagus a_loa",
          "p_entomophagus a_suum",
          "p_entomophagus b_malayi",
          "p_entomophagus c_brenneri",
          "p_entomophagus c_briggsae",
          "p_entomophagus c_elegans",
          "p_entomophagus c_inopinata",
          "p_entomophagus c_japonica",
          "p_entomophagus c_panamensis",
          "p_entomophagus d_coronatus",
          "p_entomophagus d_pachys",
          "p_entomophagus o_tipulae",
          "p_entomophagus o_volvulus",
          "p_entomophagus p_arcanus",
          "p_entomophagus p_entomophagus",
          "p_entomophagus p_japonicus",
          "p_entomophagus p_mayer",
          "p_entomophagus p_redivivus",
          "p_entomophagus p_univalens",
          "p_entomophagus s_digitata",
          "p_entomophagus s_scapterisci",
          "p_mayer a_loa",
          "p_mayer a_suum",
          "p_mayer b_malayi",
          "p_mayer c_brenneri",
          "p_mayer c_briggsae",
          "p_mayer c_elegans",
          "p_mayer c_inopinata",
          "p_mayer c_japonica",
          "p_mayer c_panamensis",
          "p_mayer d_coronatus",
          "p_mayer d_pachys",
          "p_mayer o_tipulae",
          "p_mayer o_volvulus",
          "p_mayer p_arcanus",
          "p_mayer p_entomophagus",
          "p_mayer p_japonicus",
          "p_mayer p_mayer",
          "p_mayer p_redivivus",
          "p_mayer p_univalens",
          "p_mayer s_digitata",
          "p_mayer s_scapterisci",
          "p_redivivus a_loa",
          "p_redivivus a_suum",
          "p_redivivus b_malayi",
          "p_redivivus c_brenneri",
          "p_redivivus c_briggsae",
          "p_redivivus c_elegans",
          "p_redivivus c_inopinata",
          "p_redivivus c_japonica",
          "p_redivivus c_panamensis",
          "p_redivivus d_coronatus",
          "p_redivivus d_pachys",
          "p_redivivus o_tipulae",
          "p_redivivus o_volvulus",
          "p_redivivus p_arcanus",
          "p_redivivus p_entomophagus",
          "p_redivivus p_japonicus",
          "p_redivivus p_mayer",
          "p_redivivus p_redivivus",
          "p_redivivus p_univalens",
          "p_redivivus s_digitata",
          "p_redivivus s_scapterisci"
         ],
         "legendgroup": "0.25 to 0.3",
         "marker": {
          "color": "#00cc96",
          "symbol": "circle"
         },
         "mode": "markers",
         "name": "0.25 to 0.3",
         "showlegend": true,
         "type": "scatter",
         "x": [
          1.15552878,
          1.2847989,
          1.0984877800000001,
          1.1936848999999996,
          0.9561839,
          0.8806266799999999,
          0.9643026799999997,
          0.88170246,
          1.04754168,
          1.4218104199999997,
          1.4797163399999997,
          0.9898551199999999,
          1.13899712,
          1.039954,
          0,
          0.6568430000000001,
          0.39525077999999997,
          1.0584627800000002,
          1.58225502,
          1.13758878,
          1.17770578,
          1.1682040000000002,
          1.2974741200000002,
          1.1111630000000001,
          1.2063601199999998,
          0.96885912,
          0.8933019,
          0.9769778999999998,
          0.89437768,
          1.0602169000000001,
          1.43448564,
          1.49239156,
          1.00253034,
          1.1516723400000002,
          1.05317478,
          0.39525077999999997,
          0.67006378,
          0,
          1.071138,
          1.5949302400000003,
          1.1502640000000002,
          1.1903810000000001,
          1.05036,
          1.4021241199999996,
          0.9933190000000001,
          1.31101012,
          1.07350912,
          0.9979518999999999,
          1.0816279,
          0.9990276799999999,
          1.1648669,
          1.53913564,
          1.59704156,
          1.10718034,
          1.0338283400000001,
          1.7163867800000001,
          1.0584627800000002,
          1.3332757800000001,
          1.071138,
          0,
          1.6995802400000002,
          1.03242,
          1.073001
         ],
         "xaxis": "x",
         "y": [
          0.316653,
          0.4026350000000001,
          0.308383,
          0.35778899999999997,
          0.35944699999999996,
          0.353752,
          0.349936,
          0.684918,
          0.348411,
          0.33398286400000005,
          0.33398286400000005,
          0.392989,
          0.30195800000000006,
          0.065983,
          0,
          0.083536,
          0.051587,
          0.5635469999999999,
          0.33628670000000005,
          0.338713,
          0.3818747,
          0.31425200000000003,
          0.40023400000000003,
          0.30598200000000003,
          0.355388,
          0.357046,
          0.351351,
          0.347535,
          0.6825170000000002,
          0.34601000000000004,
          0.33158186400000006,
          0.33158186400000006,
          0.390588,
          0.299557,
          0.063582,
          0.051587,
          0.081135,
          0,
          0.5611459999999999,
          0.3338857,
          0.336312,
          0.3794737,
          0.53271,
          0.618692,
          0.52444,
          0.6175780000000001,
          0.6192360000000001,
          0.613541,
          0.6097250000000001,
          0.944707,
          0.6082,
          0.5937718639999999,
          0.5937718639999999,
          0.6527780000000001,
          0.518015,
          0.554618,
          0.5635469999999999,
          0.572171,
          0.5611459999999999,
          0,
          0.5960757,
          0.5547700000000001,
          0.6416637000000001
         ],
         "yaxis": "y"
        }
       ],
       "layout": {
        "legend": {
         "title": {
          "text": "clusters_R2_max"
         },
         "tracegroupgap": 0
        },
        "margin": {
         "t": 60
        },
        "template": {
         "data": {
          "bar": [
           {
            "error_x": {
             "color": "#2a3f5f"
            },
            "error_y": {
             "color": "#2a3f5f"
            },
            "marker": {
             "line": {
              "color": "#E5ECF6",
              "width": 0.5
             }
            },
            "type": "bar"
           }
          ],
          "barpolar": [
           {
            "marker": {
             "line": {
              "color": "#E5ECF6",
              "width": 0.5
             }
            },
            "type": "barpolar"
           }
          ],
          "carpet": [
           {
            "aaxis": {
             "endlinecolor": "#2a3f5f",
             "gridcolor": "white",
             "linecolor": "white",
             "minorgridcolor": "white",
             "startlinecolor": "#2a3f5f"
            },
            "baxis": {
             "endlinecolor": "#2a3f5f",
             "gridcolor": "white",
             "linecolor": "white",
             "minorgridcolor": "white",
             "startlinecolor": "#2a3f5f"
            },
            "type": "carpet"
           }
          ],
          "choropleth": [
           {
            "colorbar": {
             "outlinewidth": 0,
             "ticks": ""
            },
            "type": "choropleth"
           }
          ],
          "contour": [
           {
            "colorbar": {
             "outlinewidth": 0,
             "ticks": ""
            },
            "colorscale": [
             [
              0,
              "#0d0887"
             ],
             [
              0.1111111111111111,
              "#46039f"
             ],
             [
              0.2222222222222222,
              "#7201a8"
             ],
             [
              0.3333333333333333,
              "#9c179e"
             ],
             [
              0.4444444444444444,
              "#bd3786"
             ],
             [
              0.5555555555555556,
              "#d8576b"
             ],
             [
              0.6666666666666666,
              "#ed7953"
             ],
             [
              0.7777777777777778,
              "#fb9f3a"
             ],
             [
              0.8888888888888888,
              "#fdca26"
             ],
             [
              1,
              "#f0f921"
             ]
            ],
            "type": "contour"
           }
          ],
          "contourcarpet": [
           {
            "colorbar": {
             "outlinewidth": 0,
             "ticks": ""
            },
            "type": "contourcarpet"
           }
          ],
          "heatmap": [
           {
            "colorbar": {
             "outlinewidth": 0,
             "ticks": ""
            },
            "colorscale": [
             [
              0,
              "#0d0887"
             ],
             [
              0.1111111111111111,
              "#46039f"
             ],
             [
              0.2222222222222222,
              "#7201a8"
             ],
             [
              0.3333333333333333,
              "#9c179e"
             ],
             [
              0.4444444444444444,
              "#bd3786"
             ],
             [
              0.5555555555555556,
              "#d8576b"
             ],
             [
              0.6666666666666666,
              "#ed7953"
             ],
             [
              0.7777777777777778,
              "#fb9f3a"
             ],
             [
              0.8888888888888888,
              "#fdca26"
             ],
             [
              1,
              "#f0f921"
             ]
            ],
            "type": "heatmap"
           }
          ],
          "heatmapgl": [
           {
            "colorbar": {
             "outlinewidth": 0,
             "ticks": ""
            },
            "colorscale": [
             [
              0,
              "#0d0887"
             ],
             [
              0.1111111111111111,
              "#46039f"
             ],
             [
              0.2222222222222222,
              "#7201a8"
             ],
             [
              0.3333333333333333,
              "#9c179e"
             ],
             [
              0.4444444444444444,
              "#bd3786"
             ],
             [
              0.5555555555555556,
              "#d8576b"
             ],
             [
              0.6666666666666666,
              "#ed7953"
             ],
             [
              0.7777777777777778,
              "#fb9f3a"
             ],
             [
              0.8888888888888888,
              "#fdca26"
             ],
             [
              1,
              "#f0f921"
             ]
            ],
            "type": "heatmapgl"
           }
          ],
          "histogram": [
           {
            "marker": {
             "colorbar": {
              "outlinewidth": 0,
              "ticks": ""
             }
            },
            "type": "histogram"
           }
          ],
          "histogram2d": [
           {
            "colorbar": {
             "outlinewidth": 0,
             "ticks": ""
            },
            "colorscale": [
             [
              0,
              "#0d0887"
             ],
             [
              0.1111111111111111,
              "#46039f"
             ],
             [
              0.2222222222222222,
              "#7201a8"
             ],
             [
              0.3333333333333333,
              "#9c179e"
             ],
             [
              0.4444444444444444,
              "#bd3786"
             ],
             [
              0.5555555555555556,
              "#d8576b"
             ],
             [
              0.6666666666666666,
              "#ed7953"
             ],
             [
              0.7777777777777778,
              "#fb9f3a"
             ],
             [
              0.8888888888888888,
              "#fdca26"
             ],
             [
              1,
              "#f0f921"
             ]
            ],
            "type": "histogram2d"
           }
          ],
          "histogram2dcontour": [
           {
            "colorbar": {
             "outlinewidth": 0,
             "ticks": ""
            },
            "colorscale": [
             [
              0,
              "#0d0887"
             ],
             [
              0.1111111111111111,
              "#46039f"
             ],
             [
              0.2222222222222222,
              "#7201a8"
             ],
             [
              0.3333333333333333,
              "#9c179e"
             ],
             [
              0.4444444444444444,
              "#bd3786"
             ],
             [
              0.5555555555555556,
              "#d8576b"
             ],
             [
              0.6666666666666666,
              "#ed7953"
             ],
             [
              0.7777777777777778,
              "#fb9f3a"
             ],
             [
              0.8888888888888888,
              "#fdca26"
             ],
             [
              1,
              "#f0f921"
             ]
            ],
            "type": "histogram2dcontour"
           }
          ],
          "mesh3d": [
           {
            "colorbar": {
             "outlinewidth": 0,
             "ticks": ""
            },
            "type": "mesh3d"
           }
          ],
          "parcoords": [
           {
            "line": {
             "colorbar": {
              "outlinewidth": 0,
              "ticks": ""
             }
            },
            "type": "parcoords"
           }
          ],
          "pie": [
           {
            "automargin": true,
            "type": "pie"
           }
          ],
          "scatter": [
           {
            "marker": {
             "colorbar": {
              "outlinewidth": 0,
              "ticks": ""
             }
            },
            "type": "scatter"
           }
          ],
          "scatter3d": [
           {
            "line": {
             "colorbar": {
              "outlinewidth": 0,
              "ticks": ""
             }
            },
            "marker": {
             "colorbar": {
              "outlinewidth": 0,
              "ticks": ""
             }
            },
            "type": "scatter3d"
           }
          ],
          "scattercarpet": [
           {
            "marker": {
             "colorbar": {
              "outlinewidth": 0,
              "ticks": ""
             }
            },
            "type": "scattercarpet"
           }
          ],
          "scattergeo": [
           {
            "marker": {
             "colorbar": {
              "outlinewidth": 0,
              "ticks": ""
             }
            },
            "type": "scattergeo"
           }
          ],
          "scattergl": [
           {
            "marker": {
             "colorbar": {
              "outlinewidth": 0,
              "ticks": ""
             }
            },
            "type": "scattergl"
           }
          ],
          "scattermapbox": [
           {
            "marker": {
             "colorbar": {
              "outlinewidth": 0,
              "ticks": ""
             }
            },
            "type": "scattermapbox"
           }
          ],
          "scatterpolar": [
           {
            "marker": {
             "colorbar": {
              "outlinewidth": 0,
              "ticks": ""
             }
            },
            "type": "scatterpolar"
           }
          ],
          "scatterpolargl": [
           {
            "marker": {
             "colorbar": {
              "outlinewidth": 0,
              "ticks": ""
             }
            },
            "type": "scatterpolargl"
           }
          ],
          "scatterternary": [
           {
            "marker": {
             "colorbar": {
              "outlinewidth": 0,
              "ticks": ""
             }
            },
            "type": "scatterternary"
           }
          ],
          "surface": [
           {
            "colorbar": {
             "outlinewidth": 0,
             "ticks": ""
            },
            "colorscale": [
             [
              0,
              "#0d0887"
             ],
             [
              0.1111111111111111,
              "#46039f"
             ],
             [
              0.2222222222222222,
              "#7201a8"
             ],
             [
              0.3333333333333333,
              "#9c179e"
             ],
             [
              0.4444444444444444,
              "#bd3786"
             ],
             [
              0.5555555555555556,
              "#d8576b"
             ],
             [
              0.6666666666666666,
              "#ed7953"
             ],
             [
              0.7777777777777778,
              "#fb9f3a"
             ],
             [
              0.8888888888888888,
              "#fdca26"
             ],
             [
              1,
              "#f0f921"
             ]
            ],
            "type": "surface"
           }
          ],
          "table": [
           {
            "cells": {
             "fill": {
              "color": "#EBF0F8"
             },
             "line": {
              "color": "white"
             }
            },
            "header": {
             "fill": {
              "color": "#C8D4E3"
             },
             "line": {
              "color": "white"
             }
            },
            "type": "table"
           }
          ]
         },
         "layout": {
          "annotationdefaults": {
           "arrowcolor": "#2a3f5f",
           "arrowhead": 0,
           "arrowwidth": 1
          },
          "coloraxis": {
           "colorbar": {
            "outlinewidth": 0,
            "ticks": ""
           }
          },
          "colorscale": {
           "diverging": [
            [
             0,
             "#8e0152"
            ],
            [
             0.1,
             "#c51b7d"
            ],
            [
             0.2,
             "#de77ae"
            ],
            [
             0.3,
             "#f1b6da"
            ],
            [
             0.4,
             "#fde0ef"
            ],
            [
             0.5,
             "#f7f7f7"
            ],
            [
             0.6,
             "#e6f5d0"
            ],
            [
             0.7,
             "#b8e186"
            ],
            [
             0.8,
             "#7fbc41"
            ],
            [
             0.9,
             "#4d9221"
            ],
            [
             1,
             "#276419"
            ]
           ],
           "sequential": [
            [
             0,
             "#0d0887"
            ],
            [
             0.1111111111111111,
             "#46039f"
            ],
            [
             0.2222222222222222,
             "#7201a8"
            ],
            [
             0.3333333333333333,
             "#9c179e"
            ],
            [
             0.4444444444444444,
             "#bd3786"
            ],
            [
             0.5555555555555556,
             "#d8576b"
            ],
            [
             0.6666666666666666,
             "#ed7953"
            ],
            [
             0.7777777777777778,
             "#fb9f3a"
            ],
            [
             0.8888888888888888,
             "#fdca26"
            ],
            [
             1,
             "#f0f921"
            ]
           ],
           "sequentialminus": [
            [
             0,
             "#0d0887"
            ],
            [
             0.1111111111111111,
             "#46039f"
            ],
            [
             0.2222222222222222,
             "#7201a8"
            ],
            [
             0.3333333333333333,
             "#9c179e"
            ],
            [
             0.4444444444444444,
             "#bd3786"
            ],
            [
             0.5555555555555556,
             "#d8576b"
            ],
            [
             0.6666666666666666,
             "#ed7953"
            ],
            [
             0.7777777777777778,
             "#fb9f3a"
            ],
            [
             0.8888888888888888,
             "#fdca26"
            ],
            [
             1,
             "#f0f921"
            ]
           ]
          },
          "colorway": [
           "#636efa",
           "#EF553B",
           "#00cc96",
           "#ab63fa",
           "#FFA15A",
           "#19d3f3",
           "#FF6692",
           "#B6E880",
           "#FF97FF",
           "#FECB52"
          ],
          "font": {
           "color": "#2a3f5f"
          },
          "geo": {
           "bgcolor": "white",
           "lakecolor": "white",
           "landcolor": "#E5ECF6",
           "showlakes": true,
           "showland": true,
           "subunitcolor": "white"
          },
          "hoverlabel": {
           "align": "left"
          },
          "hovermode": "closest",
          "mapbox": {
           "style": "light"
          },
          "paper_bgcolor": "white",
          "plot_bgcolor": "#E5ECF6",
          "polar": {
           "angularaxis": {
            "gridcolor": "white",
            "linecolor": "white",
            "ticks": ""
           },
           "bgcolor": "#E5ECF6",
           "radialaxis": {
            "gridcolor": "white",
            "linecolor": "white",
            "ticks": ""
           }
          },
          "scene": {
           "xaxis": {
            "backgroundcolor": "#E5ECF6",
            "gridcolor": "white",
            "gridwidth": 2,
            "linecolor": "white",
            "showbackground": true,
            "ticks": "",
            "zerolinecolor": "white"
           },
           "yaxis": {
            "backgroundcolor": "#E5ECF6",
            "gridcolor": "white",
            "gridwidth": 2,
            "linecolor": "white",
            "showbackground": true,
            "ticks": "",
            "zerolinecolor": "white"
           },
           "zaxis": {
            "backgroundcolor": "#E5ECF6",
            "gridcolor": "white",
            "gridwidth": 2,
            "linecolor": "white",
            "showbackground": true,
            "ticks": "",
            "zerolinecolor": "white"
           }
          },
          "shapedefaults": {
           "line": {
            "color": "#2a3f5f"
           }
          },
          "ternary": {
           "aaxis": {
            "gridcolor": "white",
            "linecolor": "white",
            "ticks": ""
           },
           "baxis": {
            "gridcolor": "white",
            "linecolor": "white",
            "ticks": ""
           },
           "bgcolor": "#E5ECF6",
           "caxis": {
            "gridcolor": "white",
            "linecolor": "white",
            "ticks": ""
           }
          },
          "title": {
           "x": 0.05
          },
          "xaxis": {
           "automargin": true,
           "gridcolor": "white",
           "linecolor": "white",
           "ticks": "",
           "title": {
            "standoff": 15
           },
           "zerolinecolor": "white",
           "zerolinewidth": 2
          },
          "yaxis": {
           "automargin": true,
           "gridcolor": "white",
           "linecolor": "white",
           "ticks": "",
           "title": {
            "standoff": 15
           },
           "zerolinecolor": "white",
           "zerolinewidth": 2
          }
         }
        },
        "xaxis": {
         "anchor": "y",
         "domain": [
          0,
          1
         ],
         "title": {
          "text": "par1_values"
         }
        },
        "yaxis": {
         "anchor": "x",
         "domain": [
          0,
          1
         ],
         "title": {
          "text": "pkc3_values"
         }
        }
       }
      },
      "text/html": [
       "<div>\n",
       "        \n",
       "        \n",
       "            <div id=\"c90c5235-a688-4a6a-9277-4d4bd54aaa41\" class=\"plotly-graph-div\" style=\"height:525px; width:100%;\"></div>\n",
       "            <script type=\"text/javascript\">\n",
       "                require([\"plotly\"], function(Plotly) {\n",
       "                    window.PLOTLYENV=window.PLOTLYENV || {};\n",
       "                    \n",
       "                if (document.getElementById(\"c90c5235-a688-4a6a-9277-4d4bd54aaa41\")) {\n",
       "                    Plotly.newPlot(\n",
       "                        'c90c5235-a688-4a6a-9277-4d4bd54aaa41',\n",
       "                        [{\"customdata\": [[0.0, 0.0, 0.38907739061403246], [1.4991901200000002, 0.28431200000000006, 0.38907739061403246], [0.34119299999999997, 0.056091999999999996, 0.38907739061403246], [1.40807612, 0.37068400000000007, 0.38907739061403246], [1.17057512, 0.372342, 0.38907739061403246], [1.0950179, 0.36664700000000006, 0.38907739061403246], [1.1786938999999999, 0.362831, 0.38907739061403246], [1.09609368, 0.6978130000000001, 0.38907739061403246], [1.2619329000000001, 0.361306, 0.38907739061403246], [1.6362016400000003, 0.34687786400000004, 0.38907739061403246], [1.6941075600000004, 0.34687786400000004, 0.38907739061403246], [1.20424634, 0.405884, 0.38907739061403246], [0.20597834, 0.065543, 0.38907739061403246], [1.81345278, 0.307724, 0.38907739061403246], [1.15552878, 0.316653, 0.38907739061403246], [1.43034178, 0.325277, 0.38907739061403246], [1.1682040000000002, 0.31425200000000003, 0.38907739061403246], [1.05036, 0.53271, 0.38907739061403246], [1.7966462400000003, 0.34918170000000004, 0.38907739061403246], [0.187798, 0.092866, 0.38907739061403246], [1.170067, 0.39476970000000006, 0.38907739061403246], [0.34119299999999997, 0.056091999999999996, 0.35184487770995354], [1.44214912, 0.27604200000000007, 0.35184487770995354], [0.0, 0.0, 0.35184487770995354], [1.35103512, 0.36241400000000007, 0.35184487770995354], [1.11353412, 0.36407200000000006, 0.35184487770995354], [1.0379768999999999, 0.35837700000000006, 0.35184487770995354], [1.1216529, 0.35456099999999996, 0.35184487770995354], [1.03905268, 0.689543, 0.35184487770995354], [1.2048918999999998, 0.353036, 0.35184487770995354], [1.57916064, 0.33860786400000004, 0.35184487770995354], [1.63706656, 0.33860786400000004, 0.35184487770995354], [1.14720534, 0.397614, 0.35184487770995354], [0.32466134, 0.05727299999999999, 0.35184487770995354], [1.75641178, 0.29945399999999994, 0.35184487770995354], [1.0984877800000001, 0.308383, 0.35184487770995354], [1.37330078, 0.317007, 0.35184487770995354], [1.1111630000000001, 0.30598200000000003, 0.35184487770995354], [0.9933190000000001, 0.52444, 0.35184487770995354], [1.7396052400000002, 0.3409117, 0.35184487770995354], [0.323253, 0.084596, 0.35184487770995354], [1.113026, 0.38649969999999995, 0.35184487770995354], [1.40807612, 0.37068400000000007, 0.43672201562789326], [1.53625512, 0.456666, 0.43672201562789326], [1.35103512, 0.36241400000000007, 0.43672201562789326], [0.0, 0.0, 0.43672201562789326], [0.510079, 0.041512, 0.43672201562789326], [0.43452177999999997, 0.062841, 0.43672201562789326], [0.69713578, 0.076881, 0.43672201562789326], [0.61453556, 0.46374099999999996, 0.43672201562789326], [0.78037478, 0.127234, 0.43672201562789326], [1.6732666399999998, 0.292613864, 0.43672201562789326], [1.7311725599999999, 0.292613864, 0.43672201562789326], [1.12744178, 0.384818, 0.43672201562789326], [1.39154446, 0.355989, 0.43672201562789326], [1.8516088999999996, 0.34886, 0.43672201562789326], [1.1936848999999996, 0.35778899999999997, 0.43672201562789326], [1.4684978999999996, 0.366413, 0.43672201562789326], [1.2063601199999998, 0.355388, 0.43672201562789326], [1.31101012, 0.6175780000000001, 0.43672201562789326], [1.8337112400000002, 0.37554970000000004, 0.43672201562789326], [1.39013612, 0.39274400000000004, 0.43672201562789326], [1.43025312, 0.4211377, 0.43672201562789326], [1.17057512, 0.372342, 0.39105591991291766], [1.29875412, 0.45832399999999995, 0.39105591991291766], [1.11353412, 0.36407200000000006, 0.39105591991291766], [0.510079, 0.041512, 0.39105591991291766], [0.0, 0.0, 0.39105591991291766], [0.17432278, 0.064499, 0.39105591991291766], [0.45963478, 0.07853900000000001, 0.39105591991291766], [0.37703456, 0.465399, 0.39105591991291766], [0.54287378, 0.128892, 0.39105591991291766], [1.4357656399999998, 0.294271864, 0.39105591991291766], [1.49367156, 0.294271864, 0.39105591991291766], [0.8899407800000001, 0.38647599999999993, 0.39105591991291766], [1.15404346, 0.357647, 0.39105591991291766], [1.6141078999999996, 0.350518, 0.39105591991291766], [0.9561839, 0.35944699999999996, 0.39105591991291766], [1.2309968999999998, 0.368071, 0.39105591991291766], [0.96885912, 0.357046, 0.39105591991291766], [1.07350912, 0.6192360000000001, 0.39105591991291766], [1.5962102399999998, 0.3772076999999999, 0.39105591991291766], [1.15263512, 0.394402, 0.39105591991291766], [1.19275212, 0.42279569999999994, 0.39105591991291766], [1.0950179, 0.36664700000000006, 0.3745016006001308], [1.2231969, 0.45262899999999995, 0.3745016006001308], [1.0379768999999999, 0.35837700000000006, 0.3745016006001308], [0.43452177999999997, 0.062841, 0.3745016006001308], [0.17432278, 0.064499, 0.3745016006001308], [0.0, 0.0, 0.3745016006001308], [0.38407756, 0.072844, 0.3745016006001308], [0.30147734, 0.459704, 0.3745016006001308], [0.46731656, 0.12319699999999999, 0.3745016006001308], [1.3602084199999998, 0.288576864, 0.3745016006001308], [1.4181143399999998, 0.288576864, 0.3745016006001308], [0.81438356, 0.380781, 0.3745016006001308], [1.07848624, 0.35195200000000004, 0.3745016006001308], [1.5385506799999995, 0.344823, 0.3745016006001308], [0.8806266799999999, 0.353752, 0.3745016006001308], [1.1554396799999997, 0.362376, 0.3745016006001308], [0.8933019, 0.351351, 0.3745016006001308], [0.9979518999999999, 0.613541, 0.3745016006001308], [1.5206530199999997, 0.3715127, 0.3745016006001308], [1.0770779, 0.388707, 0.3745016006001308], [1.1171948999999999, 0.4171007, 0.3745016006001308], [1.1786938999999999, 0.362831, 0.3554229127770472], [1.3068729, 0.448813, 0.3554229127770472], [1.1216529, 0.35456099999999996, 0.3554229127770472], [0.69713578, 0.076881, 0.3554229127770472], [0.45963478, 0.07853900000000001, 0.3554229127770472], [0.38407756, 0.072844, 0.3554229127770472], [0.0, 0.0, 0.3554229127770472], [0.38460778, 0.45588799999999996, 0.3554229127770472], [0.382803, 0.119381, 0.3554229127770472], [1.44388442, 0.28476086399999995, 0.3554229127770472], [1.5017903400000001, 0.28476086399999995, 0.3554229127770472], [0.89805956, 0.37696499999999994, 0.3554229127770472], [1.1621622399999998, 0.348136, 0.3554229127770472], [1.62222668, 0.34100699999999995, 0.3554229127770472], [0.9643026799999997, 0.349936, 0.3554229127770472], [1.2391156799999998, 0.35856, 0.3554229127770472], [0.9769778999999998, 0.347535, 0.3554229127770472], [1.0816279, 0.6097250000000001, 0.3554229127770472], [1.60432902, 0.3676967, 0.3554229127770472], [1.1607539000000002, 0.384891, 0.3554229127770472], [1.2008709000000002, 0.4132847, 0.3554229127770472], [1.09609368, 0.6978130000000001, 0.5344379701177912], [1.22427268, 0.783795, 0.5344379701177912], [1.03905268, 0.689543, 0.5344379701177912], [0.61453556, 0.46374099999999996, 0.5344379701177912], [0.37703456, 0.465399, 0.5344379701177912], [0.30147734, 0.459704, 0.5344379701177912], [0.38460778, 0.45588799999999996, 0.5344379701177912], [0.0, 0.0, 0.5344379701177912], [0.46784678, 0.43288899999999997, 0.5344379701177912], [1.3612841999999998, 0.6197428640000001, 0.5344379701177912], [1.4191901199999999, 0.6197428640000001, 0.5344379701177912], [0.8154593400000001, 0.711947, 0.5344379701177912], [1.07956202, 0.683118, 0.5344379701177912], [1.5396264599999996, 0.6759890000000001, 0.5344379701177912], [0.88170246, 0.684918, 0.5344379701177912], [1.1565154599999996, 0.693542, 0.5344379701177912], [0.89437768, 0.6825170000000002, 0.5344379701177912], [0.9990276799999999, 0.944707, 0.5344379701177912], [1.5217287999999998, 0.7026787, 0.5344379701177912], [1.07815368, 0.7198730000000001, 0.5344379701177912], [1.11827068, 0.7482667000000001, 0.5344379701177912], [1.2619329000000001, 0.361306, 0.3749312609681279], [1.3901119, 0.44728799999999996, 0.3749312609681279], [1.2048918999999998, 0.353036, 0.3749312609681279], [0.78037478, 0.127234, 0.3749312609681279], [0.54287378, 0.128892, 0.3749312609681279], [0.46731656, 0.12319699999999999, 0.3749312609681279], [0.382803, 0.119381, 0.3749312609681279], [0.46784678, 0.43288899999999997, 0.3749312609681279], [0.0, 0.0, 0.3749312609681279], [1.52712342, 0.283235864, 0.3749312609681279], [1.58502934, 0.283235864, 0.3749312609681279], [0.98129856, 0.37544, 0.3749312609681279], [1.24540124, 0.346611, 0.3749312609681279], [1.7054656799999999, 0.33948199999999995, 0.3749312609681279], [1.04754168, 0.348411, 0.3749312609681279], [1.32235468, 0.357035, 0.3749312609681279], [1.0602169000000001, 0.34601000000000004, 0.3749312609681279], [1.1648669, 0.6082, 0.3749312609681279], [1.6875680199999998, 0.3661717, 0.3749312609681279], [1.2439929, 0.383366, 0.3749312609681279], [1.2841099, 0.4117597, 0.3749312609681279], [1.6362016400000003, 0.34687786400000004, 0.43975074274656867], [1.1760006399999998, 0.43285986400000004, 0.43975074274656867], [1.57916064, 0.33860786400000004, 0.43975074274656867], [1.6732666399999998, 0.292613864, 0.43975074274656867], [1.4357656399999998, 0.294271864, 0.43975074274656867], [1.3602084199999998, 0.288576864, 0.43975074274656867], [1.44388442, 0.28476086399999995, 0.43975074274656867], [1.3612841999999998, 0.6197428640000001, 0.43975074274656867], [1.52712342, 0.283235864, 0.43975074274656867], [0.0, 0.0, 0.43975074274656867], [0.05845148, 6.3864e-05, 0.43975074274656867], [1.4694368599999998, 0.36101186399999996, 0.43975074274656867], [1.6196699799999998, 0.332182864, 0.43975074274656867], [2.0797344199999994, 0.32505386399999997, 0.43975074274656867], [1.4218104199999997, 0.33398286400000005, 0.43975074274656867], [1.6966234199999997, 0.342606864, 0.43975074274656867], [1.43448564, 0.33158186400000006, 0.43975074274656867], [1.53913564, 0.5937718639999999, 0.43975074274656867], [1.47345676, 0.35174356400000006, 0.43975074274656867], [1.6182616400000003, 0.3689378640000001, 0.43975074274656867], [1.65837864, 0.397331564, 0.43975074274656867], [1.6941075600000004, 0.34687786400000004, 0.44786633265920095], [1.2339065599999999, 0.43285986400000004, 0.44786633265920095], [1.63706656, 0.33860786400000004, 0.44786633265920095], [1.7311725599999999, 0.292613864, 0.44786633265920095], [1.49367156, 0.294271864, 0.44786633265920095], [1.4181143399999998, 0.288576864, 0.44786633265920095], [1.5017903400000001, 0.28476086399999995, 0.44786633265920095], [1.4191901199999999, 0.6197428640000001, 0.44786633265920095], [1.58502934, 0.283235864, 0.44786633265920095], [0.05845148, 6.3864e-05, 0.44786633265920095], [0.0, 0.0, 0.44786633265920095], [1.52734278, 0.36101186399999996, 0.44786633265920095], [1.6775759, 0.332182864, 0.44786633265920095], [2.1376403399999995, 0.32505386399999997, 0.44786633265920095], [1.4797163399999997, 0.33398286400000005, 0.44786633265920095], [1.7545293399999997, 0.342606864, 0.44786633265920095], [1.49239156, 0.33158186400000006, 0.44786633265920095], [1.59704156, 0.5937718639999999, 0.44786633265920095], [1.53136268, 0.35174356400000006, 0.44786633265920095], [1.6761675600000003, 0.3689378640000001, 0.44786633265920095], [1.71628456, 0.397331564, 0.44786633265920095], [0.20597834, 0.065543, 0.37017590554170765], [1.48265846, 0.269617, 0.37017590554170765], [0.32466134, 0.05727299999999999, 0.37017590554170765], [1.39154446, 0.355989, 0.37017590554170765], [1.15404346, 0.357647, 0.37017590554170765], [1.07848624, 0.35195200000000004, 0.37017590554170765], [1.1621622399999998, 0.348136, 0.37017590554170765], [1.07956202, 0.683118, 0.37017590554170765], [1.24540124, 0.346611, 0.37017590554170765], [1.6196699799999998, 0.332182864, 0.37017590554170765], [1.6775759, 0.332182864, 0.37017590554170765], [1.18771468, 0.391189, 0.37017590554170765], [0.0, 0.0, 0.37017590554170765], [1.79692112, 0.29302900000000004, 0.37017590554170765], [1.13899712, 0.30195800000000006, 0.37017590554170765], [1.41381012, 0.310582, 0.37017590554170765], [1.1516723400000002, 0.299557, 0.37017590554170765], [1.0338283400000001, 0.518015, 0.37017590554170765], [1.7801145799999998, 0.3344867, 0.37017590554170765], [0.18803834, 0.087603, 0.37017590554170765], [1.15353534, 0.38007470000000004, 0.37017590554170765], [1.81345278, 0.307724, 0.425382467599969], [1.9427229, 0.39370600000000006, 0.425382467599969], [1.75641178, 0.29945399999999994, 0.425382467599969], [1.8516088999999996, 0.34886, 0.425382467599969], [1.6141078999999996, 0.350518, 0.425382467599969], [1.5385506799999995, 0.344823, 0.425382467599969], [1.62222668, 0.34100699999999995, 0.425382467599969], [1.5396264599999996, 0.6759890000000001, 0.425382467599969], [1.7054656799999999, 0.33948199999999995, 0.425382467599969], [2.0797344199999994, 0.32505386399999997, 0.425382467599969], [2.1376403399999995, 0.32505386399999997, 0.425382467599969], [1.6477791199999998, 0.38406, 0.425382467599969], [1.79692112, 0.29302900000000004, 0.425382467599969], [0.0, 0.0, 0.425382467599969], [1.039954, 0.065983, 0.425382467599969], [0.8024929999999999, 0.056464999999999994, 0.425382467599969], [1.05317478, 0.063582, 0.425382467599969], [1.7163867800000001, 0.554618, 0.425382467599969], [2.24017902, 0.32735770000000003, 0.425382467599969], [1.79551278, 0.32978399999999997, 0.425382467599969], [1.8356297799999999, 0.3729457, 0.425382467599969], [1.43034178, 0.325277, 0.3907127807436316], [1.5596119, 0.41125900000000004, 0.3907127807436316], [1.37330078, 0.317007, 0.3907127807436316], [1.4684978999999996, 0.366413, 0.3907127807436316], [1.2309968999999998, 0.368071, 0.3907127807436316], [1.1554396799999997, 0.362376, 0.3907127807436316], [1.2391156799999998, 0.35856, 0.3907127807436316], [1.1565154599999996, 0.693542, 0.3907127807436316], [1.32235468, 0.357035, 0.3907127807436316], [1.6966234199999997, 0.342606864, 0.3907127807436316], [1.7545293399999997, 0.342606864, 0.3907127807436316], [1.2646681199999998, 0.401613, 0.3907127807436316], [1.41381012, 0.310582, 0.3907127807436316], [0.8024929999999999, 0.056464999999999994, 0.3907127807436316], [0.6568430000000001, 0.083536, 0.3907127807436316], [0.0, 0.0, 0.3907127807436316], [0.67006378, 0.081135, 0.3907127807436316], [1.3332757800000001, 0.572171, 0.3907127807436316], [1.85706802, 0.3449107, 0.3907127807436316], [1.41240178, 0.347337, 0.3907127807436316], [1.45251878, 0.39049870000000003, 0.3907127807436316], [0.187798, 0.092866, 0.3998565864431921], [1.48125012, 0.30637200000000003, 0.3998565864431921], [0.323253, 0.084596, 0.3998565864431921], [1.39013612, 0.39274400000000004, 0.3998565864431921], [1.15263512, 0.394402, 0.3998565864431921], [1.0770779, 0.388707, 0.3998565864431921], [1.1607539000000002, 0.384891, 0.3998565864431921], [1.07815368, 0.7198730000000001, 0.3998565864431921], [1.2439929, 0.383366, 0.3998565864431921], [1.6182616400000003, 0.3689378640000001, 0.3998565864431921], [1.6761675600000003, 0.3689378640000001, 0.3998565864431921], [1.18630634, 0.427944, 0.3998565864431921], [0.18803834, 0.087603, 0.3998565864431921], [1.79551278, 0.32978399999999997, 0.3998565864431921], [1.13758878, 0.338713, 0.3998565864431921], [1.41240178, 0.347337, 0.3998565864431921], [1.1502640000000002, 0.336312, 0.3998565864431921], [1.03242, 0.5547700000000001, 0.3998565864431921], [1.7787062399999998, 0.37124170000000006, 0.3998565864431921], [0.0, 0.0, 0.3998565864431921], [1.152127, 0.4168297000000001, 0.3998565864431921]], \"hovertemplate\": \"<b>%{hovertext}</b><br><br>clusters_R2_max=0.35 to 0.53<br>par1_values=%{customdata[0]}<br>pkc3_values=%{customdata[1]}<br>R2=%{customdata[2]}<extra></extra>\", \"hovertext\": [\"a_loa a_loa\", \"a_loa a_suum\", \"a_loa b_malayi\", \"a_loa c_brenneri\", \"a_loa c_briggsae\", \"a_loa c_elegans\", \"a_loa c_inopinata\", \"a_loa c_japonica\", \"a_loa c_panamensis\", \"a_loa d_coronatus\", \"a_loa d_pachys\", \"a_loa o_tipulae\", \"a_loa o_volvulus\", \"a_loa p_arcanus\", \"a_loa p_entomophagus\", \"a_loa p_japonicus\", \"a_loa p_mayer\", \"a_loa p_redivivus\", \"a_loa p_univalens\", \"a_loa s_digitata\", \"a_loa s_scapterisci\", \"b_malayi a_loa\", \"b_malayi a_suum\", \"b_malayi b_malayi\", \"b_malayi c_brenneri\", \"b_malayi c_briggsae\", \"b_malayi c_elegans\", \"b_malayi c_inopinata\", \"b_malayi c_japonica\", \"b_malayi c_panamensis\", \"b_malayi d_coronatus\", \"b_malayi d_pachys\", \"b_malayi o_tipulae\", \"b_malayi o_volvulus\", \"b_malayi p_arcanus\", \"b_malayi p_entomophagus\", \"b_malayi p_japonicus\", \"b_malayi p_mayer\", \"b_malayi p_redivivus\", \"b_malayi p_univalens\", \"b_malayi s_digitata\", \"b_malayi s_scapterisci\", \"c_brenneri a_loa\", \"c_brenneri a_suum\", \"c_brenneri b_malayi\", \"c_brenneri c_brenneri\", \"c_brenneri c_briggsae\", \"c_brenneri c_elegans\", \"c_brenneri c_inopinata\", \"c_brenneri c_japonica\", \"c_brenneri c_panamensis\", \"c_brenneri d_coronatus\", \"c_brenneri d_pachys\", \"c_brenneri o_tipulae\", \"c_brenneri o_volvulus\", \"c_brenneri p_arcanus\", \"c_brenneri p_entomophagus\", \"c_brenneri p_japonicus\", \"c_brenneri p_mayer\", \"c_brenneri p_redivivus\", \"c_brenneri p_univalens\", \"c_brenneri s_digitata\", \"c_brenneri s_scapterisci\", \"c_briggsae a_loa\", \"c_briggsae a_suum\", \"c_briggsae b_malayi\", \"c_briggsae c_brenneri\", \"c_briggsae c_briggsae\", \"c_briggsae c_elegans\", \"c_briggsae c_inopinata\", \"c_briggsae c_japonica\", \"c_briggsae c_panamensis\", \"c_briggsae d_coronatus\", \"c_briggsae d_pachys\", \"c_briggsae o_tipulae\", \"c_briggsae o_volvulus\", \"c_briggsae p_arcanus\", \"c_briggsae p_entomophagus\", \"c_briggsae p_japonicus\", \"c_briggsae p_mayer\", \"c_briggsae p_redivivus\", \"c_briggsae p_univalens\", \"c_briggsae s_digitata\", \"c_briggsae s_scapterisci\", \"c_elegans a_loa\", \"c_elegans a_suum\", \"c_elegans b_malayi\", \"c_elegans c_brenneri\", \"c_elegans c_briggsae\", \"c_elegans c_elegans\", \"c_elegans c_inopinata\", \"c_elegans c_japonica\", \"c_elegans c_panamensis\", \"c_elegans d_coronatus\", \"c_elegans d_pachys\", \"c_elegans o_tipulae\", \"c_elegans o_volvulus\", \"c_elegans p_arcanus\", \"c_elegans p_entomophagus\", \"c_elegans p_japonicus\", \"c_elegans p_mayer\", \"c_elegans p_redivivus\", \"c_elegans p_univalens\", \"c_elegans s_digitata\", \"c_elegans s_scapterisci\", \"c_inopinata a_loa\", \"c_inopinata a_suum\", \"c_inopinata b_malayi\", \"c_inopinata c_brenneri\", \"c_inopinata c_briggsae\", \"c_inopinata c_elegans\", \"c_inopinata c_inopinata\", \"c_inopinata c_japonica\", \"c_inopinata c_panamensis\", \"c_inopinata d_coronatus\", \"c_inopinata d_pachys\", \"c_inopinata o_tipulae\", \"c_inopinata o_volvulus\", \"c_inopinata p_arcanus\", \"c_inopinata p_entomophagus\", \"c_inopinata p_japonicus\", \"c_inopinata p_mayer\", \"c_inopinata p_redivivus\", \"c_inopinata p_univalens\", \"c_inopinata s_digitata\", \"c_inopinata s_scapterisci\", \"c_japonica a_loa\", \"c_japonica a_suum\", \"c_japonica b_malayi\", \"c_japonica c_brenneri\", \"c_japonica c_briggsae\", \"c_japonica c_elegans\", \"c_japonica c_inopinata\", \"c_japonica c_japonica\", \"c_japonica c_panamensis\", \"c_japonica d_coronatus\", \"c_japonica d_pachys\", \"c_japonica o_tipulae\", \"c_japonica o_volvulus\", \"c_japonica p_arcanus\", \"c_japonica p_entomophagus\", \"c_japonica p_japonicus\", \"c_japonica p_mayer\", \"c_japonica p_redivivus\", \"c_japonica p_univalens\", \"c_japonica s_digitata\", \"c_japonica s_scapterisci\", \"c_panamensis a_loa\", \"c_panamensis a_suum\", \"c_panamensis b_malayi\", \"c_panamensis c_brenneri\", \"c_panamensis c_briggsae\", \"c_panamensis c_elegans\", \"c_panamensis c_inopinata\", \"c_panamensis c_japonica\", \"c_panamensis c_panamensis\", \"c_panamensis d_coronatus\", \"c_panamensis d_pachys\", \"c_panamensis o_tipulae\", \"c_panamensis o_volvulus\", \"c_panamensis p_arcanus\", \"c_panamensis p_entomophagus\", \"c_panamensis p_japonicus\", \"c_panamensis p_mayer\", \"c_panamensis p_redivivus\", \"c_panamensis p_univalens\", \"c_panamensis s_digitata\", \"c_panamensis s_scapterisci\", \"d_coronatus a_loa\", \"d_coronatus a_suum\", \"d_coronatus b_malayi\", \"d_coronatus c_brenneri\", \"d_coronatus c_briggsae\", \"d_coronatus c_elegans\", \"d_coronatus c_inopinata\", \"d_coronatus c_japonica\", \"d_coronatus c_panamensis\", \"d_coronatus d_coronatus\", \"d_coronatus d_pachys\", \"d_coronatus o_tipulae\", \"d_coronatus o_volvulus\", \"d_coronatus p_arcanus\", \"d_coronatus p_entomophagus\", \"d_coronatus p_japonicus\", \"d_coronatus p_mayer\", \"d_coronatus p_redivivus\", \"d_coronatus p_univalens\", \"d_coronatus s_digitata\", \"d_coronatus s_scapterisci\", \"d_pachys a_loa\", \"d_pachys a_suum\", \"d_pachys b_malayi\", \"d_pachys c_brenneri\", \"d_pachys c_briggsae\", \"d_pachys c_elegans\", \"d_pachys c_inopinata\", \"d_pachys c_japonica\", \"d_pachys c_panamensis\", \"d_pachys d_coronatus\", \"d_pachys d_pachys\", \"d_pachys o_tipulae\", \"d_pachys o_volvulus\", \"d_pachys p_arcanus\", \"d_pachys p_entomophagus\", \"d_pachys p_japonicus\", \"d_pachys p_mayer\", \"d_pachys p_redivivus\", \"d_pachys p_univalens\", \"d_pachys s_digitata\", \"d_pachys s_scapterisci\", \"o_volvulus a_loa\", \"o_volvulus a_suum\", \"o_volvulus b_malayi\", \"o_volvulus c_brenneri\", \"o_volvulus c_briggsae\", \"o_volvulus c_elegans\", \"o_volvulus c_inopinata\", \"o_volvulus c_japonica\", \"o_volvulus c_panamensis\", \"o_volvulus d_coronatus\", \"o_volvulus d_pachys\", \"o_volvulus o_tipulae\", \"o_volvulus o_volvulus\", \"o_volvulus p_arcanus\", \"o_volvulus p_entomophagus\", \"o_volvulus p_japonicus\", \"o_volvulus p_mayer\", \"o_volvulus p_redivivus\", \"o_volvulus p_univalens\", \"o_volvulus s_digitata\", \"o_volvulus s_scapterisci\", \"p_arcanus a_loa\", \"p_arcanus a_suum\", \"p_arcanus b_malayi\", \"p_arcanus c_brenneri\", \"p_arcanus c_briggsae\", \"p_arcanus c_elegans\", \"p_arcanus c_inopinata\", \"p_arcanus c_japonica\", \"p_arcanus c_panamensis\", \"p_arcanus d_coronatus\", \"p_arcanus d_pachys\", \"p_arcanus o_tipulae\", \"p_arcanus o_volvulus\", \"p_arcanus p_arcanus\", \"p_arcanus p_entomophagus\", \"p_arcanus p_japonicus\", \"p_arcanus p_mayer\", \"p_arcanus p_redivivus\", \"p_arcanus p_univalens\", \"p_arcanus s_digitata\", \"p_arcanus s_scapterisci\", \"p_japonicus a_loa\", \"p_japonicus a_suum\", \"p_japonicus b_malayi\", \"p_japonicus c_brenneri\", \"p_japonicus c_briggsae\", \"p_japonicus c_elegans\", \"p_japonicus c_inopinata\", \"p_japonicus c_japonica\", \"p_japonicus c_panamensis\", \"p_japonicus d_coronatus\", \"p_japonicus d_pachys\", \"p_japonicus o_tipulae\", \"p_japonicus o_volvulus\", \"p_japonicus p_arcanus\", \"p_japonicus p_entomophagus\", \"p_japonicus p_japonicus\", \"p_japonicus p_mayer\", \"p_japonicus p_redivivus\", \"p_japonicus p_univalens\", \"p_japonicus s_digitata\", \"p_japonicus s_scapterisci\", \"s_digitata a_loa\", \"s_digitata a_suum\", \"s_digitata b_malayi\", \"s_digitata c_brenneri\", \"s_digitata c_briggsae\", \"s_digitata c_elegans\", \"s_digitata c_inopinata\", \"s_digitata c_japonica\", \"s_digitata c_panamensis\", \"s_digitata d_coronatus\", \"s_digitata d_pachys\", \"s_digitata o_tipulae\", \"s_digitata o_volvulus\", \"s_digitata p_arcanus\", \"s_digitata p_entomophagus\", \"s_digitata p_japonicus\", \"s_digitata p_mayer\", \"s_digitata p_redivivus\", \"s_digitata p_univalens\", \"s_digitata s_digitata\", \"s_digitata s_scapterisci\"], \"legendgroup\": \"0.35 to 0.53\", \"marker\": {\"color\": \"#636efa\", \"symbol\": \"circle\"}, \"mode\": \"markers\", \"name\": \"0.35 to 0.53\", \"showlegend\": true, \"type\": \"scatter\", \"x\": [0.0, 1.4991901200000002, 0.34119299999999997, 1.40807612, 1.17057512, 1.0950179, 1.1786938999999999, 1.09609368, 1.2619329000000001, 1.6362016400000003, 1.6941075600000004, 1.20424634, 0.20597834, 1.81345278, 1.15552878, 1.43034178, 1.1682040000000002, 1.05036, 1.7966462400000003, 0.187798, 1.170067, 0.34119299999999997, 1.44214912, 0.0, 1.35103512, 1.11353412, 1.0379768999999999, 1.1216529, 1.03905268, 1.2048918999999998, 1.57916064, 1.63706656, 1.14720534, 0.32466134, 1.75641178, 1.0984877800000001, 1.37330078, 1.1111630000000001, 0.9933190000000001, 1.7396052400000002, 0.323253, 1.113026, 1.40807612, 1.53625512, 1.35103512, 0.0, 0.510079, 0.43452177999999997, 0.69713578, 0.61453556, 0.78037478, 1.6732666399999998, 1.7311725599999999, 1.12744178, 1.39154446, 1.8516088999999996, 1.1936848999999996, 1.4684978999999996, 1.2063601199999998, 1.31101012, 1.8337112400000002, 1.39013612, 1.43025312, 1.17057512, 1.29875412, 1.11353412, 0.510079, 0.0, 0.17432278, 0.45963478, 0.37703456, 0.54287378, 1.4357656399999998, 1.49367156, 0.8899407800000001, 1.15404346, 1.6141078999999996, 0.9561839, 1.2309968999999998, 0.96885912, 1.07350912, 1.5962102399999998, 1.15263512, 1.19275212, 1.0950179, 1.2231969, 1.0379768999999999, 0.43452177999999997, 0.17432278, 0.0, 0.38407756, 0.30147734, 0.46731656, 1.3602084199999998, 1.4181143399999998, 0.81438356, 1.07848624, 1.5385506799999995, 0.8806266799999999, 1.1554396799999997, 0.8933019, 0.9979518999999999, 1.5206530199999997, 1.0770779, 1.1171948999999999, 1.1786938999999999, 1.3068729, 1.1216529, 0.69713578, 0.45963478, 0.38407756, 0.0, 0.38460778, 0.382803, 1.44388442, 1.5017903400000001, 0.89805956, 1.1621622399999998, 1.62222668, 0.9643026799999997, 1.2391156799999998, 0.9769778999999998, 1.0816279, 1.60432902, 1.1607539000000002, 1.2008709000000002, 1.09609368, 1.22427268, 1.03905268, 0.61453556, 0.37703456, 0.30147734, 0.38460778, 0.0, 0.46784678, 1.3612841999999998, 1.4191901199999999, 0.8154593400000001, 1.07956202, 1.5396264599999996, 0.88170246, 1.1565154599999996, 0.89437768, 0.9990276799999999, 1.5217287999999998, 1.07815368, 1.11827068, 1.2619329000000001, 1.3901119, 1.2048918999999998, 0.78037478, 0.54287378, 0.46731656, 0.382803, 0.46784678, 0.0, 1.52712342, 1.58502934, 0.98129856, 1.24540124, 1.7054656799999999, 1.04754168, 1.32235468, 1.0602169000000001, 1.1648669, 1.6875680199999998, 1.2439929, 1.2841099, 1.6362016400000003, 1.1760006399999998, 1.57916064, 1.6732666399999998, 1.4357656399999998, 1.3602084199999998, 1.44388442, 1.3612841999999998, 1.52712342, 0.0, 0.05845148, 1.4694368599999998, 1.6196699799999998, 2.0797344199999994, 1.4218104199999997, 1.6966234199999997, 1.43448564, 1.53913564, 1.47345676, 1.6182616400000003, 1.65837864, 1.6941075600000004, 1.2339065599999999, 1.63706656, 1.7311725599999999, 1.49367156, 1.4181143399999998, 1.5017903400000001, 1.4191901199999999, 1.58502934, 0.05845148, 0.0, 1.52734278, 1.6775759, 2.1376403399999995, 1.4797163399999997, 1.7545293399999997, 1.49239156, 1.59704156, 1.53136268, 1.6761675600000003, 1.71628456, 0.20597834, 1.48265846, 0.32466134, 1.39154446, 1.15404346, 1.07848624, 1.1621622399999998, 1.07956202, 1.24540124, 1.6196699799999998, 1.6775759, 1.18771468, 0.0, 1.79692112, 1.13899712, 1.41381012, 1.1516723400000002, 1.0338283400000001, 1.7801145799999998, 0.18803834, 1.15353534, 1.81345278, 1.9427229, 1.75641178, 1.8516088999999996, 1.6141078999999996, 1.5385506799999995, 1.62222668, 1.5396264599999996, 1.7054656799999999, 2.0797344199999994, 2.1376403399999995, 1.6477791199999998, 1.79692112, 0.0, 1.039954, 0.8024929999999999, 1.05317478, 1.7163867800000001, 2.24017902, 1.79551278, 1.8356297799999999, 1.43034178, 1.5596119, 1.37330078, 1.4684978999999996, 1.2309968999999998, 1.1554396799999997, 1.2391156799999998, 1.1565154599999996, 1.32235468, 1.6966234199999997, 1.7545293399999997, 1.2646681199999998, 1.41381012, 0.8024929999999999, 0.6568430000000001, 0.0, 0.67006378, 1.3332757800000001, 1.85706802, 1.41240178, 1.45251878, 0.187798, 1.48125012, 0.323253, 1.39013612, 1.15263512, 1.0770779, 1.1607539000000002, 1.07815368, 1.2439929, 1.6182616400000003, 1.6761675600000003, 1.18630634, 0.18803834, 1.79551278, 1.13758878, 1.41240178, 1.1502640000000002, 1.03242, 1.7787062399999998, 0.0, 1.152127], \"xaxis\": \"x\", \"y\": [0.0, 0.28431200000000006, 0.056091999999999996, 0.37068400000000007, 0.372342, 0.36664700000000006, 0.362831, 0.6978130000000001, 0.361306, 0.34687786400000004, 0.34687786400000004, 0.405884, 0.065543, 0.307724, 0.316653, 0.325277, 0.31425200000000003, 0.53271, 0.34918170000000004, 0.092866, 0.39476970000000006, 0.056091999999999996, 0.27604200000000007, 0.0, 0.36241400000000007, 0.36407200000000006, 0.35837700000000006, 0.35456099999999996, 0.689543, 0.353036, 0.33860786400000004, 0.33860786400000004, 0.397614, 0.05727299999999999, 0.29945399999999994, 0.308383, 0.317007, 0.30598200000000003, 0.52444, 0.3409117, 0.084596, 0.38649969999999995, 0.37068400000000007, 0.456666, 0.36241400000000007, 0.0, 0.041512, 0.062841, 0.076881, 0.46374099999999996, 0.127234, 0.292613864, 0.292613864, 0.384818, 0.355989, 0.34886, 0.35778899999999997, 0.366413, 0.355388, 0.6175780000000001, 0.37554970000000004, 0.39274400000000004, 0.4211377, 0.372342, 0.45832399999999995, 0.36407200000000006, 0.041512, 0.0, 0.064499, 0.07853900000000001, 0.465399, 0.128892, 0.294271864, 0.294271864, 0.38647599999999993, 0.357647, 0.350518, 0.35944699999999996, 0.368071, 0.357046, 0.6192360000000001, 0.3772076999999999, 0.394402, 0.42279569999999994, 0.36664700000000006, 0.45262899999999995, 0.35837700000000006, 0.062841, 0.064499, 0.0, 0.072844, 0.459704, 0.12319699999999999, 0.288576864, 0.288576864, 0.380781, 0.35195200000000004, 0.344823, 0.353752, 0.362376, 0.351351, 0.613541, 0.3715127, 0.388707, 0.4171007, 0.362831, 0.448813, 0.35456099999999996, 0.076881, 0.07853900000000001, 0.072844, 0.0, 0.45588799999999996, 0.119381, 0.28476086399999995, 0.28476086399999995, 0.37696499999999994, 0.348136, 0.34100699999999995, 0.349936, 0.35856, 0.347535, 0.6097250000000001, 0.3676967, 0.384891, 0.4132847, 0.6978130000000001, 0.783795, 0.689543, 0.46374099999999996, 0.465399, 0.459704, 0.45588799999999996, 0.0, 0.43288899999999997, 0.6197428640000001, 0.6197428640000001, 0.711947, 0.683118, 0.6759890000000001, 0.684918, 0.693542, 0.6825170000000002, 0.944707, 0.7026787, 0.7198730000000001, 0.7482667000000001, 0.361306, 0.44728799999999996, 0.353036, 0.127234, 0.128892, 0.12319699999999999, 0.119381, 0.43288899999999997, 0.0, 0.283235864, 0.283235864, 0.37544, 0.346611, 0.33948199999999995, 0.348411, 0.357035, 0.34601000000000004, 0.6082, 0.3661717, 0.383366, 0.4117597, 0.34687786400000004, 0.43285986400000004, 0.33860786400000004, 0.292613864, 0.294271864, 0.288576864, 0.28476086399999995, 0.6197428640000001, 0.283235864, 0.0, 6.3864e-05, 0.36101186399999996, 0.332182864, 0.32505386399999997, 0.33398286400000005, 0.342606864, 0.33158186400000006, 0.5937718639999999, 0.35174356400000006, 0.3689378640000001, 0.397331564, 0.34687786400000004, 0.43285986400000004, 0.33860786400000004, 0.292613864, 0.294271864, 0.288576864, 0.28476086399999995, 0.6197428640000001, 0.283235864, 6.3864e-05, 0.0, 0.36101186399999996, 0.332182864, 0.32505386399999997, 0.33398286400000005, 0.342606864, 0.33158186400000006, 0.5937718639999999, 0.35174356400000006, 0.3689378640000001, 0.397331564, 0.065543, 0.269617, 0.05727299999999999, 0.355989, 0.357647, 0.35195200000000004, 0.348136, 0.683118, 0.346611, 0.332182864, 0.332182864, 0.391189, 0.0, 0.29302900000000004, 0.30195800000000006, 0.310582, 0.299557, 0.518015, 0.3344867, 0.087603, 0.38007470000000004, 0.307724, 0.39370600000000006, 0.29945399999999994, 0.34886, 0.350518, 0.344823, 0.34100699999999995, 0.6759890000000001, 0.33948199999999995, 0.32505386399999997, 0.32505386399999997, 0.38406, 0.29302900000000004, 0.0, 0.065983, 0.056464999999999994, 0.063582, 0.554618, 0.32735770000000003, 0.32978399999999997, 0.3729457, 0.325277, 0.41125900000000004, 0.317007, 0.366413, 0.368071, 0.362376, 0.35856, 0.693542, 0.357035, 0.342606864, 0.342606864, 0.401613, 0.310582, 0.056464999999999994, 0.083536, 0.0, 0.081135, 0.572171, 0.3449107, 0.347337, 0.39049870000000003, 0.092866, 0.30637200000000003, 0.084596, 0.39274400000000004, 0.394402, 0.388707, 0.384891, 0.7198730000000001, 0.383366, 0.3689378640000001, 0.3689378640000001, 0.427944, 0.087603, 0.32978399999999997, 0.338713, 0.347337, 0.336312, 0.5547700000000001, 0.37124170000000006, 0.0, 0.4168297000000001], \"yaxis\": \"y\"}, {\"customdata\": [[1.4991901200000002, 0.28431200000000006, 0.11547079906020496], [0.0, 0.0, 0.11547079906020496], [1.44214912, 0.27604200000000007, 0.11547079906020496], [1.53625512, 0.456666, 0.11547079906020496], [1.29875412, 0.45832399999999995, 0.11547079906020496], [1.2231969, 0.45262899999999995, 0.11547079906020496], [1.3068729, 0.448813, 0.11547079906020496], [1.22427268, 0.783795, 0.11547079906020496], [1.3901119, 0.44728799999999996, 0.11547079906020496], [1.1760006399999998, 0.43285986400000004, 0.11547079906020496], [1.2339065599999999, 0.43285986400000004, 0.11547079906020496], [1.33242534, 0.491866, 0.11547079906020496], [1.48265846, 0.269617, 0.11547079906020496], [1.9427229, 0.39370600000000006, 0.11547079906020496], [1.2847989, 0.4026350000000001, 0.11547079906020496], [1.5596119, 0.41125900000000004, 0.11547079906020496], [1.2974741200000002, 0.40023400000000003, 0.11547079906020496], [1.4021241199999996, 0.618692, 0.11547079906020496], [0.29800168000000005, 0.4351637, 0.11547079906020496], [1.48125012, 0.30637200000000003, 0.11547079906020496], [1.5213671199999999, 0.48075170000000006, 0.11547079906020496], [1.20424634, 0.405884, 0.1437334495626139], [1.33242534, 0.491866, 0.1437334495626139], [1.14720534, 0.397614, 0.1437334495626139], [1.12744178, 0.384818, 0.1437334495626139], [0.8899407800000001, 0.38647599999999993, 0.1437334495626139], [0.81438356, 0.380781, 0.1437334495626139], [0.89805956, 0.37696499999999994, 0.1437334495626139], [0.8154593400000001, 0.711947, 0.1437334495626139], [0.98129856, 0.37544, 0.1437334495626139], [1.4694368599999998, 0.36101186399999996, 0.1437334495626139], [1.52734278, 0.36101186399999996, 0.1437334495626139], [0.0, 0.0, 0.1437334495626139], [1.18771468, 0.391189, 0.1437334495626139], [1.6477791199999998, 0.38406, 0.1437334495626139], [0.9898551199999999, 0.392989, 0.1437334495626139], [1.2646681199999998, 0.401613, 0.1437334495626139], [1.00253034, 0.390588, 0.1437334495626139], [1.10718034, 0.6527780000000001, 0.1437334495626139], [1.62988146, 0.4107497, 0.1437334495626139], [1.18630634, 0.427944, 0.1437334495626139], [1.22642334, 0.4563377, 0.1437334495626139], [1.7966462400000003, 0.34918170000000004, 0.12036361111341676], [0.29800168000000005, 0.4351637, 0.12036361111341676], [1.7396052400000002, 0.3409117, 0.12036361111341676], [1.8337112400000002, 0.37554970000000004, 0.12036361111341676], [1.5962102399999998, 0.3772076999999999, 0.12036361111341676], [1.5206530199999997, 0.3715127, 0.12036361111341676], [1.60432902, 0.3676967, 0.12036361111341676], [1.5217287999999998, 0.7026787, 0.12036361111341676], [1.6875680199999998, 0.3661717, 0.12036361111341676], [1.47345676, 0.35174356400000006, 0.12036361111341676], [1.53136268, 0.35174356400000006, 0.12036361111341676], [1.62988146, 0.4107497, 0.12036361111341676], [1.7801145799999998, 0.3344867, 0.12036361111341676], [2.24017902, 0.32735770000000003, 0.12036361111341676], [1.58225502, 0.33628670000000005, 0.12036361111341676], [1.85706802, 0.3449107, 0.12036361111341676], [1.5949302400000003, 0.3338857, 0.12036361111341676], [1.6995802400000002, 0.5960757, 0.12036361111341676], [0.0, 0.0, 0.12036361111341676], [1.7787062399999998, 0.37124170000000006, 0.12036361111341676], [1.81882324, 0.290076, 0.12036361111341676], [1.170067, 0.39476970000000006, 0.10979753994794039], [1.5213671199999999, 0.48075170000000006, 0.10979753994794039], [1.113026, 0.38649969999999995, 0.10979753994794039], [1.43025312, 0.4211377, 0.10979753994794039], [1.19275212, 0.42279569999999994, 0.10979753994794039], [1.1171948999999999, 0.4171007, 0.10979753994794039], [1.2008709000000002, 0.4132847, 0.10979753994794039], [1.11827068, 0.7482667000000001, 0.10979753994794039], [1.2841099, 0.4117597, 0.10979753994794039], [1.65837864, 0.397331564, 0.10979753994794039], [1.71628456, 0.397331564, 0.10979753994794039], [1.22642334, 0.4563377, 0.10979753994794039], [1.15353534, 0.38007470000000004, 0.10979753994794039], [1.8356297799999999, 0.3729457, 0.10979753994794039], [1.17770578, 0.3818747, 0.10979753994794039], [1.45251878, 0.39049870000000003, 0.10979753994794039], [1.1903810000000001, 0.3794737, 0.10979753994794039], [1.073001, 0.6416637000000001, 0.10979753994794039], [1.81882324, 0.290076, 0.10979753994794039], [1.152127, 0.4168297000000001, 0.10979753994794039], [0.0, 0.0, 0.10979753994794039]], \"hovertemplate\": \"<b>%{hovertext}</b><br><br>clusters_R2_max=0.11 to 0.14<br>par1_values=%{customdata[0]}<br>pkc3_values=%{customdata[1]}<br>R2=%{customdata[2]}<extra></extra>\", \"hovertext\": [\"a_suum a_loa\", \"a_suum a_suum\", \"a_suum b_malayi\", \"a_suum c_brenneri\", \"a_suum c_briggsae\", \"a_suum c_elegans\", \"a_suum c_inopinata\", \"a_suum c_japonica\", \"a_suum c_panamensis\", \"a_suum d_coronatus\", \"a_suum d_pachys\", \"a_suum o_tipulae\", \"a_suum o_volvulus\", \"a_suum p_arcanus\", \"a_suum p_entomophagus\", \"a_suum p_japonicus\", \"a_suum p_mayer\", \"a_suum p_redivivus\", \"a_suum p_univalens\", \"a_suum s_digitata\", \"a_suum s_scapterisci\", \"o_tipulae a_loa\", \"o_tipulae a_suum\", \"o_tipulae b_malayi\", \"o_tipulae c_brenneri\", \"o_tipulae c_briggsae\", \"o_tipulae c_elegans\", \"o_tipulae c_inopinata\", \"o_tipulae c_japonica\", \"o_tipulae c_panamensis\", \"o_tipulae d_coronatus\", \"o_tipulae d_pachys\", \"o_tipulae o_tipulae\", \"o_tipulae o_volvulus\", \"o_tipulae p_arcanus\", \"o_tipulae p_entomophagus\", \"o_tipulae p_japonicus\", \"o_tipulae p_mayer\", \"o_tipulae p_redivivus\", \"o_tipulae p_univalens\", \"o_tipulae s_digitata\", \"o_tipulae s_scapterisci\", \"p_univalens a_loa\", \"p_univalens a_suum\", \"p_univalens b_malayi\", \"p_univalens c_brenneri\", \"p_univalens c_briggsae\", \"p_univalens c_elegans\", \"p_univalens c_inopinata\", \"p_univalens c_japonica\", \"p_univalens c_panamensis\", \"p_univalens d_coronatus\", \"p_univalens d_pachys\", \"p_univalens o_tipulae\", \"p_univalens o_volvulus\", \"p_univalens p_arcanus\", \"p_univalens p_entomophagus\", \"p_univalens p_japonicus\", \"p_univalens p_mayer\", \"p_univalens p_redivivus\", \"p_univalens p_univalens\", \"p_univalens s_digitata\", \"p_univalens s_scapterisci\", \"s_scapterisci a_loa\", \"s_scapterisci a_suum\", \"s_scapterisci b_malayi\", \"s_scapterisci c_brenneri\", \"s_scapterisci c_briggsae\", \"s_scapterisci c_elegans\", \"s_scapterisci c_inopinata\", \"s_scapterisci c_japonica\", \"s_scapterisci c_panamensis\", \"s_scapterisci d_coronatus\", \"s_scapterisci d_pachys\", \"s_scapterisci o_tipulae\", \"s_scapterisci o_volvulus\", \"s_scapterisci p_arcanus\", \"s_scapterisci p_entomophagus\", \"s_scapterisci p_japonicus\", \"s_scapterisci p_mayer\", \"s_scapterisci p_redivivus\", \"s_scapterisci p_univalens\", \"s_scapterisci s_digitata\", \"s_scapterisci s_scapterisci\"], \"legendgroup\": \"0.11 to 0.14\", \"marker\": {\"color\": \"#EF553B\", \"symbol\": \"circle\"}, \"mode\": \"markers\", \"name\": \"0.11 to 0.14\", \"showlegend\": true, \"type\": \"scatter\", \"x\": [1.4991901200000002, 0.0, 1.44214912, 1.53625512, 1.29875412, 1.2231969, 1.3068729, 1.22427268, 1.3901119, 1.1760006399999998, 1.2339065599999999, 1.33242534, 1.48265846, 1.9427229, 1.2847989, 1.5596119, 1.2974741200000002, 1.4021241199999996, 0.29800168000000005, 1.48125012, 1.5213671199999999, 1.20424634, 1.33242534, 1.14720534, 1.12744178, 0.8899407800000001, 0.81438356, 0.89805956, 0.8154593400000001, 0.98129856, 1.4694368599999998, 1.52734278, 0.0, 1.18771468, 1.6477791199999998, 0.9898551199999999, 1.2646681199999998, 1.00253034, 1.10718034, 1.62988146, 1.18630634, 1.22642334, 1.7966462400000003, 0.29800168000000005, 1.7396052400000002, 1.8337112400000002, 1.5962102399999998, 1.5206530199999997, 1.60432902, 1.5217287999999998, 1.6875680199999998, 1.47345676, 1.53136268, 1.62988146, 1.7801145799999998, 2.24017902, 1.58225502, 1.85706802, 1.5949302400000003, 1.6995802400000002, 0.0, 1.7787062399999998, 1.81882324, 1.170067, 1.5213671199999999, 1.113026, 1.43025312, 1.19275212, 1.1171948999999999, 1.2008709000000002, 1.11827068, 1.2841099, 1.65837864, 1.71628456, 1.22642334, 1.15353534, 1.8356297799999999, 1.17770578, 1.45251878, 1.1903810000000001, 1.073001, 1.81882324, 1.152127, 0.0], \"xaxis\": \"x\", \"y\": [0.28431200000000006, 0.0, 0.27604200000000007, 0.456666, 0.45832399999999995, 0.45262899999999995, 0.448813, 0.783795, 0.44728799999999996, 0.43285986400000004, 0.43285986400000004, 0.491866, 0.269617, 0.39370600000000006, 0.4026350000000001, 0.41125900000000004, 0.40023400000000003, 0.618692, 0.4351637, 0.30637200000000003, 0.48075170000000006, 0.405884, 0.491866, 0.397614, 0.384818, 0.38647599999999993, 0.380781, 0.37696499999999994, 0.711947, 0.37544, 0.36101186399999996, 0.36101186399999996, 0.0, 0.391189, 0.38406, 0.392989, 0.401613, 0.390588, 0.6527780000000001, 0.4107497, 0.427944, 0.4563377, 0.34918170000000004, 0.4351637, 0.3409117, 0.37554970000000004, 0.3772076999999999, 0.3715127, 0.3676967, 0.7026787, 0.3661717, 0.35174356400000006, 0.35174356400000006, 0.4107497, 0.3344867, 0.32735770000000003, 0.33628670000000005, 0.3449107, 0.3338857, 0.5960757, 0.0, 0.37124170000000006, 0.290076, 0.39476970000000006, 0.48075170000000006, 0.38649969999999995, 0.4211377, 0.42279569999999994, 0.4171007, 0.4132847, 0.7482667000000001, 0.4117597, 0.397331564, 0.397331564, 0.4563377, 0.38007470000000004, 0.3729457, 0.3818747, 0.39049870000000003, 0.3794737, 0.6416637000000001, 0.290076, 0.4168297000000001, 0.0], \"yaxis\": \"y\"}, {\"customdata\": [[1.15552878, 0.316653, 0.2455494532354825], [1.2847989, 0.4026350000000001, 0.2455494532354825], [1.0984877800000001, 0.308383, 0.2455494532354825], [1.1936848999999996, 0.35778899999999997, 0.2455494532354825], [0.9561839, 0.35944699999999996, 0.2455494532354825], [0.8806266799999999, 0.353752, 0.2455494532354825], [0.9643026799999997, 0.349936, 0.2455494532354825], [0.88170246, 0.684918, 0.2455494532354825], [1.04754168, 0.348411, 0.2455494532354825], [1.4218104199999997, 0.33398286400000005, 0.2455494532354825], [1.4797163399999997, 0.33398286400000005, 0.2455494532354825], [0.9898551199999999, 0.392989, 0.2455494532354825], [1.13899712, 0.30195800000000006, 0.2455494532354825], [1.039954, 0.065983, 0.2455494532354825], [0.0, 0.0, 0.2455494532354825], [0.6568430000000001, 0.083536, 0.2455494532354825], [0.39525077999999997, 0.051587, 0.2455494532354825], [1.0584627800000002, 0.5635469999999999, 0.2455494532354825], [1.58225502, 0.33628670000000005, 0.2455494532354825], [1.13758878, 0.338713, 0.2455494532354825], [1.17770578, 0.3818747, 0.2455494532354825], [1.1682040000000002, 0.31425200000000003, 0.2459081925478035], [1.2974741200000002, 0.40023400000000003, 0.2459081925478035], [1.1111630000000001, 0.30598200000000003, 0.2459081925478035], [1.2063601199999998, 0.355388, 0.2459081925478035], [0.96885912, 0.357046, 0.2459081925478035], [0.8933019, 0.351351, 0.2459081925478035], [0.9769778999999998, 0.347535, 0.2459081925478035], [0.89437768, 0.6825170000000002, 0.2459081925478035], [1.0602169000000001, 0.34601000000000004, 0.2459081925478035], [1.43448564, 0.33158186400000006, 0.2459081925478035], [1.49239156, 0.33158186400000006, 0.2459081925478035], [1.00253034, 0.390588, 0.2459081925478035], [1.1516723400000002, 0.299557, 0.2459081925478035], [1.05317478, 0.063582, 0.2459081925478035], [0.39525077999999997, 0.051587, 0.2459081925478035], [0.67006378, 0.081135, 0.2459081925478035], [0.0, 0.0, 0.2459081925478035], [1.071138, 0.5611459999999999, 0.2459081925478035], [1.5949302400000003, 0.3338857, 0.2459081925478035], [1.1502640000000002, 0.336312, 0.2459081925478035], [1.1903810000000001, 0.3794737, 0.2459081925478035], [1.05036, 0.53271, 0.2984693758243717], [1.4021241199999996, 0.618692, 0.2984693758243717], [0.9933190000000001, 0.52444, 0.2984693758243717], [1.31101012, 0.6175780000000001, 0.2984693758243717], [1.07350912, 0.6192360000000001, 0.2984693758243717], [0.9979518999999999, 0.613541, 0.2984693758243717], [1.0816279, 0.6097250000000001, 0.2984693758243717], [0.9990276799999999, 0.944707, 0.2984693758243717], [1.1648669, 0.6082, 0.2984693758243717], [1.53913564, 0.5937718639999999, 0.2984693758243717], [1.59704156, 0.5937718639999999, 0.2984693758243717], [1.10718034, 0.6527780000000001, 0.2984693758243717], [1.0338283400000001, 0.518015, 0.2984693758243717], [1.7163867800000001, 0.554618, 0.2984693758243717], [1.0584627800000002, 0.5635469999999999, 0.2984693758243717], [1.3332757800000001, 0.572171, 0.2984693758243717], [1.071138, 0.5611459999999999, 0.2984693758243717], [0.0, 0.0, 0.2984693758243717], [1.6995802400000002, 0.5960757, 0.2984693758243717], [1.03242, 0.5547700000000001, 0.2984693758243717], [1.073001, 0.6416637000000001, 0.2984693758243717]], \"hovertemplate\": \"<b>%{hovertext}</b><br><br>clusters_R2_max=0.25 to 0.3<br>par1_values=%{customdata[0]}<br>pkc3_values=%{customdata[1]}<br>R2=%{customdata[2]}<extra></extra>\", \"hovertext\": [\"p_entomophagus a_loa\", \"p_entomophagus a_suum\", \"p_entomophagus b_malayi\", \"p_entomophagus c_brenneri\", \"p_entomophagus c_briggsae\", \"p_entomophagus c_elegans\", \"p_entomophagus c_inopinata\", \"p_entomophagus c_japonica\", \"p_entomophagus c_panamensis\", \"p_entomophagus d_coronatus\", \"p_entomophagus d_pachys\", \"p_entomophagus o_tipulae\", \"p_entomophagus o_volvulus\", \"p_entomophagus p_arcanus\", \"p_entomophagus p_entomophagus\", \"p_entomophagus p_japonicus\", \"p_entomophagus p_mayer\", \"p_entomophagus p_redivivus\", \"p_entomophagus p_univalens\", \"p_entomophagus s_digitata\", \"p_entomophagus s_scapterisci\", \"p_mayer a_loa\", \"p_mayer a_suum\", \"p_mayer b_malayi\", \"p_mayer c_brenneri\", \"p_mayer c_briggsae\", \"p_mayer c_elegans\", \"p_mayer c_inopinata\", \"p_mayer c_japonica\", \"p_mayer c_panamensis\", \"p_mayer d_coronatus\", \"p_mayer d_pachys\", \"p_mayer o_tipulae\", \"p_mayer o_volvulus\", \"p_mayer p_arcanus\", \"p_mayer p_entomophagus\", \"p_mayer p_japonicus\", \"p_mayer p_mayer\", \"p_mayer p_redivivus\", \"p_mayer p_univalens\", \"p_mayer s_digitata\", \"p_mayer s_scapterisci\", \"p_redivivus a_loa\", \"p_redivivus a_suum\", \"p_redivivus b_malayi\", \"p_redivivus c_brenneri\", \"p_redivivus c_briggsae\", \"p_redivivus c_elegans\", \"p_redivivus c_inopinata\", \"p_redivivus c_japonica\", \"p_redivivus c_panamensis\", \"p_redivivus d_coronatus\", \"p_redivivus d_pachys\", \"p_redivivus o_tipulae\", \"p_redivivus o_volvulus\", \"p_redivivus p_arcanus\", \"p_redivivus p_entomophagus\", \"p_redivivus p_japonicus\", \"p_redivivus p_mayer\", \"p_redivivus p_redivivus\", \"p_redivivus p_univalens\", \"p_redivivus s_digitata\", \"p_redivivus s_scapterisci\"], \"legendgroup\": \"0.25 to 0.3\", \"marker\": {\"color\": \"#00cc96\", \"symbol\": \"circle\"}, \"mode\": \"markers\", \"name\": \"0.25 to 0.3\", \"showlegend\": true, \"type\": \"scatter\", \"x\": [1.15552878, 1.2847989, 1.0984877800000001, 1.1936848999999996, 0.9561839, 0.8806266799999999, 0.9643026799999997, 0.88170246, 1.04754168, 1.4218104199999997, 1.4797163399999997, 0.9898551199999999, 1.13899712, 1.039954, 0.0, 0.6568430000000001, 0.39525077999999997, 1.0584627800000002, 1.58225502, 1.13758878, 1.17770578, 1.1682040000000002, 1.2974741200000002, 1.1111630000000001, 1.2063601199999998, 0.96885912, 0.8933019, 0.9769778999999998, 0.89437768, 1.0602169000000001, 1.43448564, 1.49239156, 1.00253034, 1.1516723400000002, 1.05317478, 0.39525077999999997, 0.67006378, 0.0, 1.071138, 1.5949302400000003, 1.1502640000000002, 1.1903810000000001, 1.05036, 1.4021241199999996, 0.9933190000000001, 1.31101012, 1.07350912, 0.9979518999999999, 1.0816279, 0.9990276799999999, 1.1648669, 1.53913564, 1.59704156, 1.10718034, 1.0338283400000001, 1.7163867800000001, 1.0584627800000002, 1.3332757800000001, 1.071138, 0.0, 1.6995802400000002, 1.03242, 1.073001], \"xaxis\": \"x\", \"y\": [0.316653, 0.4026350000000001, 0.308383, 0.35778899999999997, 0.35944699999999996, 0.353752, 0.349936, 0.684918, 0.348411, 0.33398286400000005, 0.33398286400000005, 0.392989, 0.30195800000000006, 0.065983, 0.0, 0.083536, 0.051587, 0.5635469999999999, 0.33628670000000005, 0.338713, 0.3818747, 0.31425200000000003, 0.40023400000000003, 0.30598200000000003, 0.355388, 0.357046, 0.351351, 0.347535, 0.6825170000000002, 0.34601000000000004, 0.33158186400000006, 0.33158186400000006, 0.390588, 0.299557, 0.063582, 0.051587, 0.081135, 0.0, 0.5611459999999999, 0.3338857, 0.336312, 0.3794737, 0.53271, 0.618692, 0.52444, 0.6175780000000001, 0.6192360000000001, 0.613541, 0.6097250000000001, 0.944707, 0.6082, 0.5937718639999999, 0.5937718639999999, 0.6527780000000001, 0.518015, 0.554618, 0.5635469999999999, 0.572171, 0.5611459999999999, 0.0, 0.5960757, 0.5547700000000001, 0.6416637000000001], \"yaxis\": \"y\"}],\n",
       "                        {\"legend\": {\"title\": {\"text\": \"clusters_R2_max\"}, \"tracegroupgap\": 0}, \"margin\": {\"t\": 60}, \"template\": {\"data\": {\"bar\": [{\"error_x\": {\"color\": \"#2a3f5f\"}, \"error_y\": {\"color\": \"#2a3f5f\"}, \"marker\": {\"line\": {\"color\": \"#E5ECF6\", \"width\": 0.5}}, \"type\": \"bar\"}], \"barpolar\": [{\"marker\": {\"line\": {\"color\": \"#E5ECF6\", \"width\": 0.5}}, \"type\": \"barpolar\"}], \"carpet\": [{\"aaxis\": {\"endlinecolor\": \"#2a3f5f\", \"gridcolor\": \"white\", \"linecolor\": \"white\", \"minorgridcolor\": \"white\", \"startlinecolor\": \"#2a3f5f\"}, \"baxis\": {\"endlinecolor\": \"#2a3f5f\", \"gridcolor\": \"white\", \"linecolor\": \"white\", \"minorgridcolor\": \"white\", \"startlinecolor\": \"#2a3f5f\"}, \"type\": \"carpet\"}], \"choropleth\": [{\"colorbar\": {\"outlinewidth\": 0, \"ticks\": \"\"}, \"type\": \"choropleth\"}], \"contour\": [{\"colorbar\": {\"outlinewidth\": 0, \"ticks\": \"\"}, \"colorscale\": [[0.0, \"#0d0887\"], [0.1111111111111111, \"#46039f\"], [0.2222222222222222, \"#7201a8\"], [0.3333333333333333, \"#9c179e\"], [0.4444444444444444, \"#bd3786\"], [0.5555555555555556, \"#d8576b\"], [0.6666666666666666, \"#ed7953\"], [0.7777777777777778, \"#fb9f3a\"], [0.8888888888888888, \"#fdca26\"], [1.0, \"#f0f921\"]], \"type\": \"contour\"}], \"contourcarpet\": [{\"colorbar\": {\"outlinewidth\": 0, \"ticks\": \"\"}, \"type\": \"contourcarpet\"}], \"heatmap\": [{\"colorbar\": {\"outlinewidth\": 0, \"ticks\": \"\"}, \"colorscale\": [[0.0, \"#0d0887\"], [0.1111111111111111, \"#46039f\"], [0.2222222222222222, \"#7201a8\"], [0.3333333333333333, \"#9c179e\"], [0.4444444444444444, \"#bd3786\"], [0.5555555555555556, \"#d8576b\"], [0.6666666666666666, \"#ed7953\"], [0.7777777777777778, \"#fb9f3a\"], [0.8888888888888888, \"#fdca26\"], [1.0, \"#f0f921\"]], \"type\": \"heatmap\"}], \"heatmapgl\": [{\"colorbar\": {\"outlinewidth\": 0, \"ticks\": \"\"}, \"colorscale\": [[0.0, \"#0d0887\"], [0.1111111111111111, \"#46039f\"], [0.2222222222222222, \"#7201a8\"], [0.3333333333333333, \"#9c179e\"], [0.4444444444444444, \"#bd3786\"], [0.5555555555555556, \"#d8576b\"], [0.6666666666666666, \"#ed7953\"], [0.7777777777777778, \"#fb9f3a\"], [0.8888888888888888, \"#fdca26\"], [1.0, \"#f0f921\"]], \"type\": \"heatmapgl\"}], \"histogram\": [{\"marker\": {\"colorbar\": {\"outlinewidth\": 0, \"ticks\": \"\"}}, \"type\": \"histogram\"}], \"histogram2d\": [{\"colorbar\": {\"outlinewidth\": 0, \"ticks\": \"\"}, \"colorscale\": [[0.0, \"#0d0887\"], [0.1111111111111111, \"#46039f\"], [0.2222222222222222, \"#7201a8\"], [0.3333333333333333, \"#9c179e\"], [0.4444444444444444, \"#bd3786\"], [0.5555555555555556, \"#d8576b\"], [0.6666666666666666, \"#ed7953\"], [0.7777777777777778, \"#fb9f3a\"], [0.8888888888888888, \"#fdca26\"], [1.0, \"#f0f921\"]], \"type\": \"histogram2d\"}], \"histogram2dcontour\": [{\"colorbar\": {\"outlinewidth\": 0, \"ticks\": \"\"}, \"colorscale\": [[0.0, \"#0d0887\"], [0.1111111111111111, \"#46039f\"], [0.2222222222222222, \"#7201a8\"], [0.3333333333333333, \"#9c179e\"], [0.4444444444444444, \"#bd3786\"], [0.5555555555555556, \"#d8576b\"], [0.6666666666666666, \"#ed7953\"], [0.7777777777777778, \"#fb9f3a\"], [0.8888888888888888, \"#fdca26\"], [1.0, \"#f0f921\"]], \"type\": \"histogram2dcontour\"}], \"mesh3d\": [{\"colorbar\": {\"outlinewidth\": 0, \"ticks\": \"\"}, \"type\": \"mesh3d\"}], \"parcoords\": [{\"line\": {\"colorbar\": {\"outlinewidth\": 0, \"ticks\": \"\"}}, \"type\": \"parcoords\"}], \"pie\": [{\"automargin\": true, \"type\": \"pie\"}], \"scatter\": [{\"marker\": {\"colorbar\": {\"outlinewidth\": 0, \"ticks\": \"\"}}, \"type\": \"scatter\"}], \"scatter3d\": [{\"line\": {\"colorbar\": {\"outlinewidth\": 0, \"ticks\": \"\"}}, \"marker\": {\"colorbar\": {\"outlinewidth\": 0, \"ticks\": \"\"}}, \"type\": \"scatter3d\"}], \"scattercarpet\": [{\"marker\": {\"colorbar\": {\"outlinewidth\": 0, \"ticks\": \"\"}}, \"type\": \"scattercarpet\"}], \"scattergeo\": [{\"marker\": {\"colorbar\": {\"outlinewidth\": 0, \"ticks\": \"\"}}, \"type\": \"scattergeo\"}], \"scattergl\": [{\"marker\": {\"colorbar\": {\"outlinewidth\": 0, \"ticks\": \"\"}}, \"type\": \"scattergl\"}], \"scattermapbox\": [{\"marker\": {\"colorbar\": {\"outlinewidth\": 0, \"ticks\": \"\"}}, \"type\": \"scattermapbox\"}], \"scatterpolar\": [{\"marker\": {\"colorbar\": {\"outlinewidth\": 0, \"ticks\": \"\"}}, \"type\": \"scatterpolar\"}], \"scatterpolargl\": [{\"marker\": {\"colorbar\": {\"outlinewidth\": 0, \"ticks\": \"\"}}, \"type\": \"scatterpolargl\"}], \"scatterternary\": [{\"marker\": {\"colorbar\": {\"outlinewidth\": 0, \"ticks\": \"\"}}, \"type\": \"scatterternary\"}], \"surface\": [{\"colorbar\": {\"outlinewidth\": 0, \"ticks\": \"\"}, \"colorscale\": [[0.0, \"#0d0887\"], [0.1111111111111111, \"#46039f\"], [0.2222222222222222, \"#7201a8\"], [0.3333333333333333, \"#9c179e\"], [0.4444444444444444, \"#bd3786\"], [0.5555555555555556, \"#d8576b\"], [0.6666666666666666, \"#ed7953\"], [0.7777777777777778, \"#fb9f3a\"], [0.8888888888888888, \"#fdca26\"], [1.0, \"#f0f921\"]], \"type\": \"surface\"}], \"table\": [{\"cells\": {\"fill\": {\"color\": \"#EBF0F8\"}, \"line\": {\"color\": \"white\"}}, \"header\": {\"fill\": {\"color\": \"#C8D4E3\"}, \"line\": {\"color\": \"white\"}}, \"type\": \"table\"}]}, \"layout\": {\"annotationdefaults\": {\"arrowcolor\": \"#2a3f5f\", \"arrowhead\": 0, \"arrowwidth\": 1}, \"coloraxis\": {\"colorbar\": {\"outlinewidth\": 0, \"ticks\": \"\"}}, \"colorscale\": {\"diverging\": [[0, \"#8e0152\"], [0.1, \"#c51b7d\"], [0.2, \"#de77ae\"], [0.3, \"#f1b6da\"], [0.4, \"#fde0ef\"], [0.5, \"#f7f7f7\"], [0.6, \"#e6f5d0\"], [0.7, \"#b8e186\"], [0.8, \"#7fbc41\"], [0.9, \"#4d9221\"], [1, \"#276419\"]], \"sequential\": [[0.0, \"#0d0887\"], [0.1111111111111111, \"#46039f\"], [0.2222222222222222, \"#7201a8\"], [0.3333333333333333, \"#9c179e\"], [0.4444444444444444, \"#bd3786\"], [0.5555555555555556, \"#d8576b\"], [0.6666666666666666, \"#ed7953\"], [0.7777777777777778, \"#fb9f3a\"], [0.8888888888888888, \"#fdca26\"], [1.0, \"#f0f921\"]], \"sequentialminus\": [[0.0, \"#0d0887\"], [0.1111111111111111, \"#46039f\"], [0.2222222222222222, \"#7201a8\"], [0.3333333333333333, \"#9c179e\"], [0.4444444444444444, \"#bd3786\"], [0.5555555555555556, \"#d8576b\"], [0.6666666666666666, \"#ed7953\"], [0.7777777777777778, \"#fb9f3a\"], [0.8888888888888888, \"#fdca26\"], [1.0, \"#f0f921\"]]}, \"colorway\": [\"#636efa\", \"#EF553B\", \"#00cc96\", \"#ab63fa\", \"#FFA15A\", \"#19d3f3\", \"#FF6692\", \"#B6E880\", \"#FF97FF\", \"#FECB52\"], \"font\": {\"color\": \"#2a3f5f\"}, \"geo\": {\"bgcolor\": \"white\", \"lakecolor\": \"white\", \"landcolor\": \"#E5ECF6\", \"showlakes\": true, \"showland\": true, \"subunitcolor\": \"white\"}, \"hoverlabel\": {\"align\": \"left\"}, \"hovermode\": \"closest\", \"mapbox\": {\"style\": \"light\"}, \"paper_bgcolor\": \"white\", \"plot_bgcolor\": \"#E5ECF6\", \"polar\": {\"angularaxis\": {\"gridcolor\": \"white\", \"linecolor\": \"white\", \"ticks\": \"\"}, \"bgcolor\": \"#E5ECF6\", \"radialaxis\": {\"gridcolor\": \"white\", \"linecolor\": \"white\", \"ticks\": \"\"}}, \"scene\": {\"xaxis\": {\"backgroundcolor\": \"#E5ECF6\", \"gridcolor\": \"white\", \"gridwidth\": 2, \"linecolor\": \"white\", \"showbackground\": true, \"ticks\": \"\", \"zerolinecolor\": \"white\"}, \"yaxis\": {\"backgroundcolor\": \"#E5ECF6\", \"gridcolor\": \"white\", \"gridwidth\": 2, \"linecolor\": \"white\", \"showbackground\": true, \"ticks\": \"\", \"zerolinecolor\": \"white\"}, \"zaxis\": {\"backgroundcolor\": \"#E5ECF6\", \"gridcolor\": \"white\", \"gridwidth\": 2, \"linecolor\": \"white\", \"showbackground\": true, \"ticks\": \"\", \"zerolinecolor\": \"white\"}}, \"shapedefaults\": {\"line\": {\"color\": \"#2a3f5f\"}}, \"ternary\": {\"aaxis\": {\"gridcolor\": \"white\", \"linecolor\": \"white\", \"ticks\": \"\"}, \"baxis\": {\"gridcolor\": \"white\", \"linecolor\": \"white\", \"ticks\": \"\"}, \"bgcolor\": \"#E5ECF6\", \"caxis\": {\"gridcolor\": \"white\", \"linecolor\": \"white\", \"ticks\": \"\"}}, \"title\": {\"x\": 0.05}, \"xaxis\": {\"automargin\": true, \"gridcolor\": \"white\", \"linecolor\": \"white\", \"ticks\": \"\", \"title\": {\"standoff\": 15}, \"zerolinecolor\": \"white\", \"zerolinewidth\": 2}, \"yaxis\": {\"automargin\": true, \"gridcolor\": \"white\", \"linecolor\": \"white\", \"ticks\": \"\", \"title\": {\"standoff\": 15}, \"zerolinecolor\": \"white\", \"zerolinewidth\": 2}}}, \"xaxis\": {\"anchor\": \"y\", \"domain\": [0.0, 1.0], \"title\": {\"text\": \"par1_values\"}}, \"yaxis\": {\"anchor\": \"x\", \"domain\": [0.0, 1.0], \"title\": {\"text\": \"pkc3_values\"}}},\n",
       "                        {\"responsive\": true}\n",
       "                    ).then(function(){\n",
       "                            \n",
       "var gd = document.getElementById('c90c5235-a688-4a6a-9277-4d4bd54aaa41');\n",
       "var x = new MutationObserver(function (mutations, observer) {{\n",
       "        var display = window.getComputedStyle(gd).display;\n",
       "        if (!display || display === 'none') {{\n",
       "            console.log([gd, 'removed!']);\n",
       "            Plotly.purge(gd);\n",
       "            observer.disconnect();\n",
       "        }}\n",
       "}});\n",
       "\n",
       "// Listen for the removal of the full notebook cells\n",
       "var notebookContainer = gd.closest('#notebook-container');\n",
       "if (notebookContainer) {{\n",
       "    x.observe(notebookContainer, {childList: true});\n",
       "}}\n",
       "\n",
       "// Listen for the clearing of the current output cell\n",
       "var outputEl = gd.closest('.output');\n",
       "if (outputEl) {{\n",
       "    x.observe(outputEl, {childList: true});\n",
       "}}\n",
       "\n",
       "                        })\n",
       "                };\n",
       "                });\n",
       "            </script>\n",
       "        </div>"
      ]
     },
     "metadata": {},
     "output_type": "display_data"
    }
   ],
   "source": [
    "fig = px.scatter(xy, x=\"par1_values\", y=\"pkc3_values\", color = 'clusters_R2_max',\n",
    "                 hover_name=\"labels\", hover_data=['par1_values', 'pkc3_values', 'R2'],\n",
    "            \n",
    "#                  trendline=\"ols\", trendline_color_override='darkblue'\n",
    "                 )\n",
    "\n",
    "\n",
    "# fig.add_shape(type=\"line\",\n",
    "#     x0=0, y0=0, x1=2, y1=2,\n",
    "#     line=dict(\n",
    "#         color=\"LightSeaGreen\",\n",
    "#         width=4,\n",
    "#         dash=\"dashdot\",\n",
    "#     )\n",
    "# )\n",
    "# fig.add_traces(px.scatter(xy, x=\"par1_values\", y=\"pkc3_values\", color = 'level_0_par1'))\n",
    "# fig.add_trace(\n",
    "#     go.Scatter(\n",
    "#         mode='markers',\n",
    "#         x=xy[\"par1_values\"],\n",
    "#         y=xy[\"pkc3_values\"],\n",
    "#         marker=dict(\n",
    "#             color='LightSkyBlue',\n",
    "#             opacity=0.0\n",
    "#             ),\n",
    "\n",
    "#         )\n",
    "    \n",
    "#     )\n",
    "\n",
    "print(xy.pivot_table('R2',['level_0'],'clusters_R2_max').fillna(''))\n",
    "fig.show()\n",
    "fig.write_html(\"test_plot.html\")"
   ]
  },
  {
   "cell_type": "code",
   "execution_count": 128,
   "metadata": {},
   "outputs": [],
   "source": [
    "results = px.get_trendline_results(fig)"
   ]
  },
  {
   "cell_type": "code",
   "execution_count": 134,
   "metadata": {},
   "outputs": [
    {
     "data": {
      "text/plain": [
       "array([0.10236349, 0.19212751])"
      ]
     },
     "execution_count": 134,
     "metadata": {},
     "output_type": "execute_result"
    }
   ],
   "source": [
    "results.px_fit_results.iloc[0].params"
   ]
  },
  {
   "cell_type": "code",
   "execution_count": 324,
   "metadata": {},
   "outputs": [
    {
     "data": {
      "text/html": [
       "<div>\n",
       "<style scoped>\n",
       "    .dataframe tbody tr th:only-of-type {\n",
       "        vertical-align: middle;\n",
       "    }\n",
       "\n",
       "    .dataframe tbody tr th {\n",
       "        vertical-align: top;\n",
       "    }\n",
       "\n",
       "    .dataframe thead th {\n",
       "        text-align: right;\n",
       "    }\n",
       "</style>\n",
       "<table border=\"1\" class=\"dataframe\">\n",
       "  <thead>\n",
       "    <tr style=\"text-align: right;\">\n",
       "      <th></th>\n",
       "      <th>a_loa</th>\n",
       "      <th>a_suum</th>\n",
       "      <th>b_malayi</th>\n",
       "      <th>c_brenneri</th>\n",
       "      <th>c_briggsae</th>\n",
       "      <th>c_elegans</th>\n",
       "      <th>c_inopinata</th>\n",
       "      <th>c_japonica</th>\n",
       "      <th>c_panamensis</th>\n",
       "      <th>d_coronatus</th>\n",
       "      <th>...</th>\n",
       "      <th>o_tipulae</th>\n",
       "      <th>o_volvulus</th>\n",
       "      <th>p_arcanus</th>\n",
       "      <th>p_entomophagus</th>\n",
       "      <th>p_japonicus</th>\n",
       "      <th>p_mayer</th>\n",
       "      <th>p_redivivus</th>\n",
       "      <th>p_univalens</th>\n",
       "      <th>s_digitata</th>\n",
       "      <th>s_scapterisci</th>\n",
       "    </tr>\n",
       "  </thead>\n",
       "  <tbody>\n",
       "    <tr>\n",
       "      <th>a_loa</th>\n",
       "      <td>0.000000</td>\n",
       "      <td>0.284312</td>\n",
       "      <td>0.056092</td>\n",
       "      <td>0.370684</td>\n",
       "      <td>0.372342</td>\n",
       "      <td>0.366647</td>\n",
       "      <td>0.362831</td>\n",
       "      <td>0.697813</td>\n",
       "      <td>0.361306</td>\n",
       "      <td>0.346878</td>\n",
       "      <td>...</td>\n",
       "      <td>0.405884</td>\n",
       "      <td>0.065543</td>\n",
       "      <td>0.307724</td>\n",
       "      <td>0.316653</td>\n",
       "      <td>0.325277</td>\n",
       "      <td>0.314252</td>\n",
       "      <td>0.532710</td>\n",
       "      <td>0.349182</td>\n",
       "      <td>0.092866</td>\n",
       "      <td>0.394770</td>\n",
       "    </tr>\n",
       "    <tr>\n",
       "      <th>a_suum</th>\n",
       "      <td>0.284312</td>\n",
       "      <td>0.000000</td>\n",
       "      <td>0.276042</td>\n",
       "      <td>0.456666</td>\n",
       "      <td>0.458324</td>\n",
       "      <td>0.452629</td>\n",
       "      <td>0.448813</td>\n",
       "      <td>0.783795</td>\n",
       "      <td>0.447288</td>\n",
       "      <td>0.432860</td>\n",
       "      <td>...</td>\n",
       "      <td>0.491866</td>\n",
       "      <td>0.269617</td>\n",
       "      <td>0.393706</td>\n",
       "      <td>0.402635</td>\n",
       "      <td>0.411259</td>\n",
       "      <td>0.400234</td>\n",
       "      <td>0.618692</td>\n",
       "      <td>0.435164</td>\n",
       "      <td>0.306372</td>\n",
       "      <td>0.480752</td>\n",
       "    </tr>\n",
       "    <tr>\n",
       "      <th>b_malayi</th>\n",
       "      <td>0.056092</td>\n",
       "      <td>0.276042</td>\n",
       "      <td>0.000000</td>\n",
       "      <td>0.362414</td>\n",
       "      <td>0.364072</td>\n",
       "      <td>0.358377</td>\n",
       "      <td>0.354561</td>\n",
       "      <td>0.689543</td>\n",
       "      <td>0.353036</td>\n",
       "      <td>0.338608</td>\n",
       "      <td>...</td>\n",
       "      <td>0.397614</td>\n",
       "      <td>0.057273</td>\n",
       "      <td>0.299454</td>\n",
       "      <td>0.308383</td>\n",
       "      <td>0.317007</td>\n",
       "      <td>0.305982</td>\n",
       "      <td>0.524440</td>\n",
       "      <td>0.340912</td>\n",
       "      <td>0.084596</td>\n",
       "      <td>0.386500</td>\n",
       "    </tr>\n",
       "    <tr>\n",
       "      <th>c_brenneri</th>\n",
       "      <td>0.370684</td>\n",
       "      <td>0.456666</td>\n",
       "      <td>0.362414</td>\n",
       "      <td>0.000000</td>\n",
       "      <td>0.041512</td>\n",
       "      <td>0.062841</td>\n",
       "      <td>0.076881</td>\n",
       "      <td>0.463741</td>\n",
       "      <td>0.127234</td>\n",
       "      <td>0.292614</td>\n",
       "      <td>...</td>\n",
       "      <td>0.384818</td>\n",
       "      <td>0.355989</td>\n",
       "      <td>0.348860</td>\n",
       "      <td>0.357789</td>\n",
       "      <td>0.366413</td>\n",
       "      <td>0.355388</td>\n",
       "      <td>0.617578</td>\n",
       "      <td>0.375550</td>\n",
       "      <td>0.392744</td>\n",
       "      <td>0.421138</td>\n",
       "    </tr>\n",
       "    <tr>\n",
       "      <th>c_briggsae</th>\n",
       "      <td>0.372342</td>\n",
       "      <td>0.458324</td>\n",
       "      <td>0.364072</td>\n",
       "      <td>0.041512</td>\n",
       "      <td>0.000000</td>\n",
       "      <td>0.064499</td>\n",
       "      <td>0.078539</td>\n",
       "      <td>0.465399</td>\n",
       "      <td>0.128892</td>\n",
       "      <td>0.294272</td>\n",
       "      <td>...</td>\n",
       "      <td>0.386476</td>\n",
       "      <td>0.357647</td>\n",
       "      <td>0.350518</td>\n",
       "      <td>0.359447</td>\n",
       "      <td>0.368071</td>\n",
       "      <td>0.357046</td>\n",
       "      <td>0.619236</td>\n",
       "      <td>0.377208</td>\n",
       "      <td>0.394402</td>\n",
       "      <td>0.422796</td>\n",
       "    </tr>\n",
       "    <tr>\n",
       "      <th>c_elegans</th>\n",
       "      <td>0.366647</td>\n",
       "      <td>0.452629</td>\n",
       "      <td>0.358377</td>\n",
       "      <td>0.062841</td>\n",
       "      <td>0.064499</td>\n",
       "      <td>0.000000</td>\n",
       "      <td>0.072844</td>\n",
       "      <td>0.459704</td>\n",
       "      <td>0.123197</td>\n",
       "      <td>0.288577</td>\n",
       "      <td>...</td>\n",
       "      <td>0.380781</td>\n",
       "      <td>0.351952</td>\n",
       "      <td>0.344823</td>\n",
       "      <td>0.353752</td>\n",
       "      <td>0.362376</td>\n",
       "      <td>0.351351</td>\n",
       "      <td>0.613541</td>\n",
       "      <td>0.371513</td>\n",
       "      <td>0.388707</td>\n",
       "      <td>0.417101</td>\n",
       "    </tr>\n",
       "    <tr>\n",
       "      <th>c_inopinata</th>\n",
       "      <td>0.362831</td>\n",
       "      <td>0.448813</td>\n",
       "      <td>0.354561</td>\n",
       "      <td>0.076881</td>\n",
       "      <td>0.078539</td>\n",
       "      <td>0.072844</td>\n",
       "      <td>0.000000</td>\n",
       "      <td>0.455888</td>\n",
       "      <td>0.119381</td>\n",
       "      <td>0.284761</td>\n",
       "      <td>...</td>\n",
       "      <td>0.376965</td>\n",
       "      <td>0.348136</td>\n",
       "      <td>0.341007</td>\n",
       "      <td>0.349936</td>\n",
       "      <td>0.358560</td>\n",
       "      <td>0.347535</td>\n",
       "      <td>0.609725</td>\n",
       "      <td>0.367697</td>\n",
       "      <td>0.384891</td>\n",
       "      <td>0.413285</td>\n",
       "    </tr>\n",
       "    <tr>\n",
       "      <th>c_japonica</th>\n",
       "      <td>0.697813</td>\n",
       "      <td>0.783795</td>\n",
       "      <td>0.689543</td>\n",
       "      <td>0.463741</td>\n",
       "      <td>0.465399</td>\n",
       "      <td>0.459704</td>\n",
       "      <td>0.455888</td>\n",
       "      <td>0.000000</td>\n",
       "      <td>0.432889</td>\n",
       "      <td>0.619743</td>\n",
       "      <td>...</td>\n",
       "      <td>0.711947</td>\n",
       "      <td>0.683118</td>\n",
       "      <td>0.675989</td>\n",
       "      <td>0.684918</td>\n",
       "      <td>0.693542</td>\n",
       "      <td>0.682517</td>\n",
       "      <td>0.944707</td>\n",
       "      <td>0.702679</td>\n",
       "      <td>0.719873</td>\n",
       "      <td>0.748267</td>\n",
       "    </tr>\n",
       "    <tr>\n",
       "      <th>c_panamensis</th>\n",
       "      <td>0.361306</td>\n",
       "      <td>0.447288</td>\n",
       "      <td>0.353036</td>\n",
       "      <td>0.127234</td>\n",
       "      <td>0.128892</td>\n",
       "      <td>0.123197</td>\n",
       "      <td>0.119381</td>\n",
       "      <td>0.432889</td>\n",
       "      <td>0.000000</td>\n",
       "      <td>0.283236</td>\n",
       "      <td>...</td>\n",
       "      <td>0.375440</td>\n",
       "      <td>0.346611</td>\n",
       "      <td>0.339482</td>\n",
       "      <td>0.348411</td>\n",
       "      <td>0.357035</td>\n",
       "      <td>0.346010</td>\n",
       "      <td>0.608200</td>\n",
       "      <td>0.366172</td>\n",
       "      <td>0.383366</td>\n",
       "      <td>0.411760</td>\n",
       "    </tr>\n",
       "    <tr>\n",
       "      <th>d_coronatus</th>\n",
       "      <td>0.346878</td>\n",
       "      <td>0.432860</td>\n",
       "      <td>0.338608</td>\n",
       "      <td>0.292614</td>\n",
       "      <td>0.294272</td>\n",
       "      <td>0.288577</td>\n",
       "      <td>0.284761</td>\n",
       "      <td>0.619743</td>\n",
       "      <td>0.283236</td>\n",
       "      <td>0.000000</td>\n",
       "      <td>...</td>\n",
       "      <td>0.361012</td>\n",
       "      <td>0.332183</td>\n",
       "      <td>0.325054</td>\n",
       "      <td>0.333983</td>\n",
       "      <td>0.342607</td>\n",
       "      <td>0.331582</td>\n",
       "      <td>0.593772</td>\n",
       "      <td>0.351744</td>\n",
       "      <td>0.368938</td>\n",
       "      <td>0.397332</td>\n",
       "    </tr>\n",
       "    <tr>\n",
       "      <th>d_pachys</th>\n",
       "      <td>0.346878</td>\n",
       "      <td>0.432860</td>\n",
       "      <td>0.338608</td>\n",
       "      <td>0.292614</td>\n",
       "      <td>0.294272</td>\n",
       "      <td>0.288577</td>\n",
       "      <td>0.284761</td>\n",
       "      <td>0.619743</td>\n",
       "      <td>0.283236</td>\n",
       "      <td>0.000064</td>\n",
       "      <td>...</td>\n",
       "      <td>0.361012</td>\n",
       "      <td>0.332183</td>\n",
       "      <td>0.325054</td>\n",
       "      <td>0.333983</td>\n",
       "      <td>0.342607</td>\n",
       "      <td>0.331582</td>\n",
       "      <td>0.593772</td>\n",
       "      <td>0.351744</td>\n",
       "      <td>0.368938</td>\n",
       "      <td>0.397332</td>\n",
       "    </tr>\n",
       "    <tr>\n",
       "      <th>o_tipulae</th>\n",
       "      <td>0.405884</td>\n",
       "      <td>0.491866</td>\n",
       "      <td>0.397614</td>\n",
       "      <td>0.384818</td>\n",
       "      <td>0.386476</td>\n",
       "      <td>0.380781</td>\n",
       "      <td>0.376965</td>\n",
       "      <td>0.711947</td>\n",
       "      <td>0.375440</td>\n",
       "      <td>0.361012</td>\n",
       "      <td>...</td>\n",
       "      <td>0.000000</td>\n",
       "      <td>0.391189</td>\n",
       "      <td>0.384060</td>\n",
       "      <td>0.392989</td>\n",
       "      <td>0.401613</td>\n",
       "      <td>0.390588</td>\n",
       "      <td>0.652778</td>\n",
       "      <td>0.410750</td>\n",
       "      <td>0.427944</td>\n",
       "      <td>0.456338</td>\n",
       "    </tr>\n",
       "    <tr>\n",
       "      <th>o_volvulus</th>\n",
       "      <td>0.065543</td>\n",
       "      <td>0.269617</td>\n",
       "      <td>0.057273</td>\n",
       "      <td>0.355989</td>\n",
       "      <td>0.357647</td>\n",
       "      <td>0.351952</td>\n",
       "      <td>0.348136</td>\n",
       "      <td>0.683118</td>\n",
       "      <td>0.346611</td>\n",
       "      <td>0.332183</td>\n",
       "      <td>...</td>\n",
       "      <td>0.391189</td>\n",
       "      <td>0.000000</td>\n",
       "      <td>0.293029</td>\n",
       "      <td>0.301958</td>\n",
       "      <td>0.310582</td>\n",
       "      <td>0.299557</td>\n",
       "      <td>0.518015</td>\n",
       "      <td>0.334487</td>\n",
       "      <td>0.087603</td>\n",
       "      <td>0.380075</td>\n",
       "    </tr>\n",
       "    <tr>\n",
       "      <th>p_arcanus</th>\n",
       "      <td>0.307724</td>\n",
       "      <td>0.393706</td>\n",
       "      <td>0.299454</td>\n",
       "      <td>0.348860</td>\n",
       "      <td>0.350518</td>\n",
       "      <td>0.344823</td>\n",
       "      <td>0.341007</td>\n",
       "      <td>0.675989</td>\n",
       "      <td>0.339482</td>\n",
       "      <td>0.325054</td>\n",
       "      <td>...</td>\n",
       "      <td>0.384060</td>\n",
       "      <td>0.293029</td>\n",
       "      <td>0.000000</td>\n",
       "      <td>0.065983</td>\n",
       "      <td>0.056465</td>\n",
       "      <td>0.063582</td>\n",
       "      <td>0.554618</td>\n",
       "      <td>0.327358</td>\n",
       "      <td>0.329784</td>\n",
       "      <td>0.372946</td>\n",
       "    </tr>\n",
       "    <tr>\n",
       "      <th>p_entomophagus</th>\n",
       "      <td>0.316653</td>\n",
       "      <td>0.402635</td>\n",
       "      <td>0.308383</td>\n",
       "      <td>0.357789</td>\n",
       "      <td>0.359447</td>\n",
       "      <td>0.353752</td>\n",
       "      <td>0.349936</td>\n",
       "      <td>0.684918</td>\n",
       "      <td>0.348411</td>\n",
       "      <td>0.333983</td>\n",
       "      <td>...</td>\n",
       "      <td>0.392989</td>\n",
       "      <td>0.301958</td>\n",
       "      <td>0.065983</td>\n",
       "      <td>0.000000</td>\n",
       "      <td>0.083536</td>\n",
       "      <td>0.051587</td>\n",
       "      <td>0.563547</td>\n",
       "      <td>0.336287</td>\n",
       "      <td>0.338713</td>\n",
       "      <td>0.381875</td>\n",
       "    </tr>\n",
       "    <tr>\n",
       "      <th>p_japonicus</th>\n",
       "      <td>0.325277</td>\n",
       "      <td>0.411259</td>\n",
       "      <td>0.317007</td>\n",
       "      <td>0.366413</td>\n",
       "      <td>0.368071</td>\n",
       "      <td>0.362376</td>\n",
       "      <td>0.358560</td>\n",
       "      <td>0.693542</td>\n",
       "      <td>0.357035</td>\n",
       "      <td>0.342607</td>\n",
       "      <td>...</td>\n",
       "      <td>0.401613</td>\n",
       "      <td>0.310582</td>\n",
       "      <td>0.056465</td>\n",
       "      <td>0.083536</td>\n",
       "      <td>0.000000</td>\n",
       "      <td>0.081135</td>\n",
       "      <td>0.572171</td>\n",
       "      <td>0.344911</td>\n",
       "      <td>0.347337</td>\n",
       "      <td>0.390499</td>\n",
       "    </tr>\n",
       "    <tr>\n",
       "      <th>p_mayer</th>\n",
       "      <td>0.314252</td>\n",
       "      <td>0.400234</td>\n",
       "      <td>0.305982</td>\n",
       "      <td>0.355388</td>\n",
       "      <td>0.357046</td>\n",
       "      <td>0.351351</td>\n",
       "      <td>0.347535</td>\n",
       "      <td>0.682517</td>\n",
       "      <td>0.346010</td>\n",
       "      <td>0.331582</td>\n",
       "      <td>...</td>\n",
       "      <td>0.390588</td>\n",
       "      <td>0.299557</td>\n",
       "      <td>0.063582</td>\n",
       "      <td>0.051587</td>\n",
       "      <td>0.081135</td>\n",
       "      <td>0.000000</td>\n",
       "      <td>0.561146</td>\n",
       "      <td>0.333886</td>\n",
       "      <td>0.336312</td>\n",
       "      <td>0.379474</td>\n",
       "    </tr>\n",
       "    <tr>\n",
       "      <th>p_redivivus</th>\n",
       "      <td>0.532710</td>\n",
       "      <td>0.618692</td>\n",
       "      <td>0.524440</td>\n",
       "      <td>0.617578</td>\n",
       "      <td>0.619236</td>\n",
       "      <td>0.613541</td>\n",
       "      <td>0.609725</td>\n",
       "      <td>0.944707</td>\n",
       "      <td>0.608200</td>\n",
       "      <td>0.593772</td>\n",
       "      <td>...</td>\n",
       "      <td>0.652778</td>\n",
       "      <td>0.518015</td>\n",
       "      <td>0.554618</td>\n",
       "      <td>0.563547</td>\n",
       "      <td>0.572171</td>\n",
       "      <td>0.561146</td>\n",
       "      <td>0.000000</td>\n",
       "      <td>0.596076</td>\n",
       "      <td>0.554770</td>\n",
       "      <td>0.641664</td>\n",
       "    </tr>\n",
       "    <tr>\n",
       "      <th>p_univalens</th>\n",
       "      <td>0.349182</td>\n",
       "      <td>0.435164</td>\n",
       "      <td>0.340912</td>\n",
       "      <td>0.375550</td>\n",
       "      <td>0.377208</td>\n",
       "      <td>0.371513</td>\n",
       "      <td>0.367697</td>\n",
       "      <td>0.702679</td>\n",
       "      <td>0.366172</td>\n",
       "      <td>0.351744</td>\n",
       "      <td>...</td>\n",
       "      <td>0.410750</td>\n",
       "      <td>0.334487</td>\n",
       "      <td>0.327358</td>\n",
       "      <td>0.336287</td>\n",
       "      <td>0.344911</td>\n",
       "      <td>0.333886</td>\n",
       "      <td>0.596076</td>\n",
       "      <td>0.000000</td>\n",
       "      <td>0.371242</td>\n",
       "      <td>0.290076</td>\n",
       "    </tr>\n",
       "    <tr>\n",
       "      <th>s_digitata</th>\n",
       "      <td>0.092866</td>\n",
       "      <td>0.306372</td>\n",
       "      <td>0.084596</td>\n",
       "      <td>0.392744</td>\n",
       "      <td>0.394402</td>\n",
       "      <td>0.388707</td>\n",
       "      <td>0.384891</td>\n",
       "      <td>0.719873</td>\n",
       "      <td>0.383366</td>\n",
       "      <td>0.368938</td>\n",
       "      <td>...</td>\n",
       "      <td>0.427944</td>\n",
       "      <td>0.087603</td>\n",
       "      <td>0.329784</td>\n",
       "      <td>0.338713</td>\n",
       "      <td>0.347337</td>\n",
       "      <td>0.336312</td>\n",
       "      <td>0.554770</td>\n",
       "      <td>0.371242</td>\n",
       "      <td>0.000000</td>\n",
       "      <td>0.416830</td>\n",
       "    </tr>\n",
       "    <tr>\n",
       "      <th>s_scapterisci</th>\n",
       "      <td>0.394770</td>\n",
       "      <td>0.480752</td>\n",
       "      <td>0.386500</td>\n",
       "      <td>0.421138</td>\n",
       "      <td>0.422796</td>\n",
       "      <td>0.417101</td>\n",
       "      <td>0.413285</td>\n",
       "      <td>0.748267</td>\n",
       "      <td>0.411760</td>\n",
       "      <td>0.397332</td>\n",
       "      <td>...</td>\n",
       "      <td>0.456338</td>\n",
       "      <td>0.380075</td>\n",
       "      <td>0.372946</td>\n",
       "      <td>0.381875</td>\n",
       "      <td>0.390499</td>\n",
       "      <td>0.379474</td>\n",
       "      <td>0.641664</td>\n",
       "      <td>0.290076</td>\n",
       "      <td>0.416830</td>\n",
       "      <td>0.000000</td>\n",
       "    </tr>\n",
       "  </tbody>\n",
       "</table>\n",
       "<p>21 rows × 21 columns</p>\n",
       "</div>"
      ],
      "text/plain": [
       "                   a_loa    a_suum  b_malayi  c_brenneri  c_briggsae  \\\n",
       "a_loa           0.000000  0.284312  0.056092    0.370684    0.372342   \n",
       "a_suum          0.284312  0.000000  0.276042    0.456666    0.458324   \n",
       "b_malayi        0.056092  0.276042  0.000000    0.362414    0.364072   \n",
       "c_brenneri      0.370684  0.456666  0.362414    0.000000    0.041512   \n",
       "c_briggsae      0.372342  0.458324  0.364072    0.041512    0.000000   \n",
       "c_elegans       0.366647  0.452629  0.358377    0.062841    0.064499   \n",
       "c_inopinata     0.362831  0.448813  0.354561    0.076881    0.078539   \n",
       "c_japonica      0.697813  0.783795  0.689543    0.463741    0.465399   \n",
       "c_panamensis    0.361306  0.447288  0.353036    0.127234    0.128892   \n",
       "d_coronatus     0.346878  0.432860  0.338608    0.292614    0.294272   \n",
       "d_pachys        0.346878  0.432860  0.338608    0.292614    0.294272   \n",
       "o_tipulae       0.405884  0.491866  0.397614    0.384818    0.386476   \n",
       "o_volvulus      0.065543  0.269617  0.057273    0.355989    0.357647   \n",
       "p_arcanus       0.307724  0.393706  0.299454    0.348860    0.350518   \n",
       "p_entomophagus  0.316653  0.402635  0.308383    0.357789    0.359447   \n",
       "p_japonicus     0.325277  0.411259  0.317007    0.366413    0.368071   \n",
       "p_mayer         0.314252  0.400234  0.305982    0.355388    0.357046   \n",
       "p_redivivus     0.532710  0.618692  0.524440    0.617578    0.619236   \n",
       "p_univalens     0.349182  0.435164  0.340912    0.375550    0.377208   \n",
       "s_digitata      0.092866  0.306372  0.084596    0.392744    0.394402   \n",
       "s_scapterisci   0.394770  0.480752  0.386500    0.421138    0.422796   \n",
       "\n",
       "                c_elegans  c_inopinata  c_japonica  c_panamensis  d_coronatus  \\\n",
       "a_loa            0.366647     0.362831    0.697813      0.361306     0.346878   \n",
       "a_suum           0.452629     0.448813    0.783795      0.447288     0.432860   \n",
       "b_malayi         0.358377     0.354561    0.689543      0.353036     0.338608   \n",
       "c_brenneri       0.062841     0.076881    0.463741      0.127234     0.292614   \n",
       "c_briggsae       0.064499     0.078539    0.465399      0.128892     0.294272   \n",
       "c_elegans        0.000000     0.072844    0.459704      0.123197     0.288577   \n",
       "c_inopinata      0.072844     0.000000    0.455888      0.119381     0.284761   \n",
       "c_japonica       0.459704     0.455888    0.000000      0.432889     0.619743   \n",
       "c_panamensis     0.123197     0.119381    0.432889      0.000000     0.283236   \n",
       "d_coronatus      0.288577     0.284761    0.619743      0.283236     0.000000   \n",
       "d_pachys         0.288577     0.284761    0.619743      0.283236     0.000064   \n",
       "o_tipulae        0.380781     0.376965    0.711947      0.375440     0.361012   \n",
       "o_volvulus       0.351952     0.348136    0.683118      0.346611     0.332183   \n",
       "p_arcanus        0.344823     0.341007    0.675989      0.339482     0.325054   \n",
       "p_entomophagus   0.353752     0.349936    0.684918      0.348411     0.333983   \n",
       "p_japonicus      0.362376     0.358560    0.693542      0.357035     0.342607   \n",
       "p_mayer          0.351351     0.347535    0.682517      0.346010     0.331582   \n",
       "p_redivivus      0.613541     0.609725    0.944707      0.608200     0.593772   \n",
       "p_univalens      0.371513     0.367697    0.702679      0.366172     0.351744   \n",
       "s_digitata       0.388707     0.384891    0.719873      0.383366     0.368938   \n",
       "s_scapterisci    0.417101     0.413285    0.748267      0.411760     0.397332   \n",
       "\n",
       "                ...  o_tipulae  o_volvulus  p_arcanus  p_entomophagus  \\\n",
       "a_loa           ...   0.405884    0.065543   0.307724        0.316653   \n",
       "a_suum          ...   0.491866    0.269617   0.393706        0.402635   \n",
       "b_malayi        ...   0.397614    0.057273   0.299454        0.308383   \n",
       "c_brenneri      ...   0.384818    0.355989   0.348860        0.357789   \n",
       "c_briggsae      ...   0.386476    0.357647   0.350518        0.359447   \n",
       "c_elegans       ...   0.380781    0.351952   0.344823        0.353752   \n",
       "c_inopinata     ...   0.376965    0.348136   0.341007        0.349936   \n",
       "c_japonica      ...   0.711947    0.683118   0.675989        0.684918   \n",
       "c_panamensis    ...   0.375440    0.346611   0.339482        0.348411   \n",
       "d_coronatus     ...   0.361012    0.332183   0.325054        0.333983   \n",
       "d_pachys        ...   0.361012    0.332183   0.325054        0.333983   \n",
       "o_tipulae       ...   0.000000    0.391189   0.384060        0.392989   \n",
       "o_volvulus      ...   0.391189    0.000000   0.293029        0.301958   \n",
       "p_arcanus       ...   0.384060    0.293029   0.000000        0.065983   \n",
       "p_entomophagus  ...   0.392989    0.301958   0.065983        0.000000   \n",
       "p_japonicus     ...   0.401613    0.310582   0.056465        0.083536   \n",
       "p_mayer         ...   0.390588    0.299557   0.063582        0.051587   \n",
       "p_redivivus     ...   0.652778    0.518015   0.554618        0.563547   \n",
       "p_univalens     ...   0.410750    0.334487   0.327358        0.336287   \n",
       "s_digitata      ...   0.427944    0.087603   0.329784        0.338713   \n",
       "s_scapterisci   ...   0.456338    0.380075   0.372946        0.381875   \n",
       "\n",
       "                p_japonicus   p_mayer  p_redivivus  p_univalens  s_digitata  \\\n",
       "a_loa              0.325277  0.314252     0.532710     0.349182    0.092866   \n",
       "a_suum             0.411259  0.400234     0.618692     0.435164    0.306372   \n",
       "b_malayi           0.317007  0.305982     0.524440     0.340912    0.084596   \n",
       "c_brenneri         0.366413  0.355388     0.617578     0.375550    0.392744   \n",
       "c_briggsae         0.368071  0.357046     0.619236     0.377208    0.394402   \n",
       "c_elegans          0.362376  0.351351     0.613541     0.371513    0.388707   \n",
       "c_inopinata        0.358560  0.347535     0.609725     0.367697    0.384891   \n",
       "c_japonica         0.693542  0.682517     0.944707     0.702679    0.719873   \n",
       "c_panamensis       0.357035  0.346010     0.608200     0.366172    0.383366   \n",
       "d_coronatus        0.342607  0.331582     0.593772     0.351744    0.368938   \n",
       "d_pachys           0.342607  0.331582     0.593772     0.351744    0.368938   \n",
       "o_tipulae          0.401613  0.390588     0.652778     0.410750    0.427944   \n",
       "o_volvulus         0.310582  0.299557     0.518015     0.334487    0.087603   \n",
       "p_arcanus          0.056465  0.063582     0.554618     0.327358    0.329784   \n",
       "p_entomophagus     0.083536  0.051587     0.563547     0.336287    0.338713   \n",
       "p_japonicus        0.000000  0.081135     0.572171     0.344911    0.347337   \n",
       "p_mayer            0.081135  0.000000     0.561146     0.333886    0.336312   \n",
       "p_redivivus        0.572171  0.561146     0.000000     0.596076    0.554770   \n",
       "p_univalens        0.344911  0.333886     0.596076     0.000000    0.371242   \n",
       "s_digitata         0.347337  0.336312     0.554770     0.371242    0.000000   \n",
       "s_scapterisci      0.390499  0.379474     0.641664     0.290076    0.416830   \n",
       "\n",
       "                s_scapterisci  \n",
       "a_loa                0.394770  \n",
       "a_suum               0.480752  \n",
       "b_malayi             0.386500  \n",
       "c_brenneri           0.421138  \n",
       "c_briggsae           0.422796  \n",
       "c_elegans            0.417101  \n",
       "c_inopinata          0.413285  \n",
       "c_japonica           0.748267  \n",
       "c_panamensis         0.411760  \n",
       "d_coronatus          0.397332  \n",
       "d_pachys             0.397332  \n",
       "o_tipulae            0.456338  \n",
       "o_volvulus           0.380075  \n",
       "p_arcanus            0.372946  \n",
       "p_entomophagus       0.381875  \n",
       "p_japonicus          0.390499  \n",
       "p_mayer              0.379474  \n",
       "p_redivivus          0.641664  \n",
       "p_univalens          0.290076  \n",
       "s_digitata           0.416830  \n",
       "s_scapterisci        0.000000  \n",
       "\n",
       "[21 rows x 21 columns]"
      ]
     },
     "execution_count": 324,
     "metadata": {},
     "output_type": "execute_result"
    }
   ],
   "source": [
    " pkc3_df"
   ]
  },
  {
   "cell_type": "code",
   "execution_count": 314,
   "metadata": {},
   "outputs": [
    {
     "ename": "NameError",
     "evalue": "name 'n' is not defined",
     "output_type": "error",
     "traceback": [
      "\u001b[0;31m---------------------------------------------------------------------------\u001b[0m",
      "\u001b[0;31mNameError\u001b[0m                                 Traceback (most recent call last)",
      "\u001b[0;32m<ipython-input-314-9ba1648fb4d9>\u001b[0m in \u001b[0;36m<module>\u001b[0;34m\u001b[0m\n\u001b[1;32m     13\u001b[0m \u001b[0max\u001b[0m\u001b[0;34m.\u001b[0m\u001b[0mscatter\u001b[0m\u001b[0;34m(\u001b[0m\u001b[0mz\u001b[0m\u001b[0;34m,\u001b[0m \u001b[0my\u001b[0m\u001b[0;34m)\u001b[0m\u001b[0;34m\u001b[0m\u001b[0;34m\u001b[0m\u001b[0m\n\u001b[1;32m     14\u001b[0m \u001b[0;34m\u001b[0m\u001b[0m\n\u001b[0;32m---> 15\u001b[0;31m \u001b[0;32mfor\u001b[0m \u001b[0mzz\u001b[0m\u001b[0;34m,\u001b[0m\u001b[0myy\u001b[0m\u001b[0;34m,\u001b[0m\u001b[0mtxt\u001b[0m \u001b[0;32min\u001b[0m \u001b[0mnp\u001b[0m\u001b[0;34m.\u001b[0m\u001b[0mbroadcast\u001b[0m\u001b[0;34m(\u001b[0m\u001b[0mz\u001b[0m\u001b[0;34m,\u001b[0m\u001b[0my\u001b[0m\u001b[0;34m,\u001b[0m\u001b[0mn\u001b[0m\u001b[0;34m)\u001b[0m\u001b[0;34m:\u001b[0m\u001b[0;34m\u001b[0m\u001b[0;34m\u001b[0m\u001b[0m\n\u001b[0m\u001b[1;32m     16\u001b[0m     \u001b[0max\u001b[0m\u001b[0;34m.\u001b[0m\u001b[0mannotate\u001b[0m\u001b[0;34m(\u001b[0m\u001b[0mtxt\u001b[0m\u001b[0;34m,\u001b[0m \u001b[0;34m(\u001b[0m\u001b[0mzz\u001b[0m\u001b[0;34m,\u001b[0m\u001b[0myy\u001b[0m\u001b[0;34m)\u001b[0m\u001b[0;34m)\u001b[0m\u001b[0;34m\u001b[0m\u001b[0;34m\u001b[0m\u001b[0m\n",
      "\u001b[0;31mNameError\u001b[0m: name 'n' is not defined"
     ]
    },
    {
     "data": {
      "image/png": "[encoded data removed]",
      "text/plain": [
       "<Figure size 1332x756 with 1 Axes>"
      ]
     },
     "metadata": {
      "needs_background": "light"
     },
     "output_type": "display_data"
    }
   ],
   "source": [
    "fig, ax = plt.subplots()\n",
    "fig.set_size_inches(18.5, 10.5)\n",
    "\n",
    "ax.grid()\n",
    "\n",
    "# for i, txt in enumerate(par1_df.columns):\n",
    "#     for j, txt1 in enumerate(par1_df.columns):\n",
    "#         ax.scatter(par1_df[par1_df.index.isin([txt])][txt], pkc3_df[pkc3_df.index.isin([txt])][txt])\n",
    "#         ax.annotate(txt+txt1, (par1_df[par1_df.index.isin([txt])][txt], pkc3_df[pkc3_df.index.isin([txt])][txt]))\n",
    "z = par1_df.to_numpy().flatten()\n",
    "y = pkc3_df.to_numpy().flatten()\n",
    "n = \n",
    "ax.scatter(z, y)\n",
    "\n",
    "for zz,yy,txt in np.broadcast(z,y, n):\n",
    "    ax.annotate(txt, (zz,yy))"
   ]
  },
  {
   "cell_type": "code",
   "execution_count": 322,
   "metadata": {},
   "outputs": [
    {
     "ename": "KeyboardInterrupt",
     "evalue": "",
     "output_type": "error",
     "traceback": [
      "\u001b[0;31m---------------------------------------------------------------------------\u001b[0m",
      "\u001b[0;31mKeyboardInterrupt\u001b[0m                         Traceback (most recent call last)",
      "\u001b[0;32m~/anaconda3/lib/python3.6/site-packages/IPython/core/interactiveshell.py\u001b[0m in \u001b[0;36mrun_code\u001b[0;34m(self, code_obj, result, async_)\u001b[0m\n\u001b[1;32m   3295\u001b[0m                 \u001b[0;32melse\u001b[0m\u001b[0;34m:\u001b[0m\u001b[0;34m\u001b[0m\u001b[0;34m\u001b[0m\u001b[0m\n\u001b[0;32m-> 3296\u001b[0;31m                     \u001b[0mexec\u001b[0m\u001b[0;34m(\u001b[0m\u001b[0mcode_obj\u001b[0m\u001b[0;34m,\u001b[0m \u001b[0mself\u001b[0m\u001b[0;34m.\u001b[0m\u001b[0muser_global_ns\u001b[0m\u001b[0;34m,\u001b[0m \u001b[0mself\u001b[0m\u001b[0;34m.\u001b[0m\u001b[0muser_ns\u001b[0m\u001b[0;34m)\u001b[0m\u001b[0;34m\u001b[0m\u001b[0;34m\u001b[0m\u001b[0m\n\u001b[0m\u001b[1;32m   3297\u001b[0m             \u001b[0;32mfinally\u001b[0m\u001b[0;34m:\u001b[0m\u001b[0;34m\u001b[0m\u001b[0;34m\u001b[0m\u001b[0m\n",
      "\u001b[0;32m<ipython-input-322-4a1d0c122580>\u001b[0m in \u001b[0;36m<module>\u001b[0;34m\u001b[0m\n\u001b[1;32m      1\u001b[0m \u001b[0;32mimport\u001b[0m \u001b[0mitertools\u001b[0m\u001b[0;34m\u001b[0m\u001b[0;34m\u001b[0m\u001b[0m\n\u001b[0;32m----> 2\u001b[0;31m \u001b[0;34m[\u001b[0m\u001b[0mi\u001b[0m \u001b[0;32mfor\u001b[0m \u001b[0mi\u001b[0m \u001b[0;32min\u001b[0m \u001b[0mitertools\u001b[0m\u001b[0;34m.\u001b[0m\u001b[0mpermutations\u001b[0m\u001b[0;34m(\u001b[0m\u001b[0mpar1_df\u001b[0m\u001b[0;34m.\u001b[0m\u001b[0mcolumns\u001b[0m\u001b[0;34m,\u001b[0m \u001b[0mlen\u001b[0m\u001b[0;34m(\u001b[0m\u001b[0mpkc3_df\u001b[0m\u001b[0;34m.\u001b[0m\u001b[0mcolumns\u001b[0m\u001b[0;34m)\u001b[0m\u001b[0;34m)\u001b[0m\u001b[0;34m]\u001b[0m\u001b[0;34m\u001b[0m\u001b[0;34m\u001b[0m\u001b[0m\n\u001b[0m",
      "\u001b[0;32m<ipython-input-322-4a1d0c122580>\u001b[0m in \u001b[0;36m<listcomp>\u001b[0;34m(.0)\u001b[0m\n\u001b[1;32m      1\u001b[0m \u001b[0;32mimport\u001b[0m \u001b[0mitertools\u001b[0m\u001b[0;34m\u001b[0m\u001b[0;34m\u001b[0m\u001b[0m\n\u001b[0;32m----> 2\u001b[0;31m \u001b[0;34m[\u001b[0m\u001b[0mi\u001b[0m \u001b[0;32mfor\u001b[0m \u001b[0mi\u001b[0m \u001b[0;32min\u001b[0m \u001b[0mitertools\u001b[0m\u001b[0;34m.\u001b[0m\u001b[0mpermutations\u001b[0m\u001b[0;34m(\u001b[0m\u001b[0mpar1_df\u001b[0m\u001b[0;34m.\u001b[0m\u001b[0mcolumns\u001b[0m\u001b[0;34m,\u001b[0m \u001b[0mlen\u001b[0m\u001b[0;34m(\u001b[0m\u001b[0mpkc3_df\u001b[0m\u001b[0;34m.\u001b[0m\u001b[0mcolumns\u001b[0m\u001b[0;34m)\u001b[0m\u001b[0;34m)\u001b[0m\u001b[0;34m]\u001b[0m\u001b[0;34m\u001b[0m\u001b[0;34m\u001b[0m\u001b[0m\n\u001b[0m",
      "\u001b[0;31mKeyboardInterrupt\u001b[0m: ",
      "\nDuring handling of the above exception, another exception occurred:\n",
      "\u001b[0;31mKeyboardInterrupt\u001b[0m                         Traceback (most recent call last)",
      "\u001b[0;31mKeyboardInterrupt\u001b[0m: "
     ]
    }
   ],
   "source": [
    "import itertools\n",
    "[i for i in itertools.permutations(par1_df.columns, len(pkc3_df.columns))]"
   ]
  },
  {
   "cell_type": "code",
   "execution_count": null,
   "metadata": {},
   "outputs": [],
   "source": []
  }
 ],
 "metadata": {
  "kernelspec": {
   "display_name": "Python 3",
   "language": "python",
   "name": "python3"
  },
  "language_info": {
   "codemirror_mode": {
    "name": "ipython",
    "version": 3
   },
   "file_extension": ".py",
   "mimetype": "text/x-python",
   "name": "python",
   "nbconvert_exporter": "python",
   "pygments_lexer": "ipython3",
   "version": "3.6.8"
  }
 },
 "nbformat": 4,
 "nbformat_minor": 2
}
