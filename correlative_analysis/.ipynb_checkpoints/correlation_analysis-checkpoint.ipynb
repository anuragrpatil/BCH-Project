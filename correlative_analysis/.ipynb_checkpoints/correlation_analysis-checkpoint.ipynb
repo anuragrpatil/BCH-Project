{
 "cells": [
  {
   "cell_type": "code",
   "execution_count": 1,
   "metadata": {},
   "outputs": [],
   "source": [
    "from ete3 import Tree\n",
    "from ete3 import PhyloTree\n",
    "import pandas as pd\n",
    "import numpy as np\n",
    "import matplotlib.pyplot  as plt"
   ]
  },
  {
   "cell_type": "code",
   "execution_count": 44,
   "metadata": {},
   "outputs": [],
   "source": [
    "t1 = Tree(\"required_tree_OG0000002_raw.txt\", format=1)\n",
    "t2 = Tree(\"required_tree_OG0000300_raw.txt\", format=1)"
   ]
  },
  {
   "cell_type": "code",
   "execution_count": 168,
   "metadata": {},
   "outputs": [],
   "source": [
    "t1 = PhyloTree(\"required_tree_OG0000002_species.txt\", format=1)\n",
    "t2 = PhyloTree(\"required_tree_OG0000002_species.txt\", format=1)"
   ]
  },
  {
   "cell_type": "code",
   "execution_count": 171,
   "metadata": {},
   "outputs": [
    {
     "ename": "TypeError",
     "evalue": "get_distance() missing 1 required positional argument: 'target'",
     "output_type": "error",
     "traceback": [
      "\u001b[0;31m---------------------------------------------------------------------------\u001b[0m",
      "\u001b[0;31mTypeError\u001b[0m                                 Traceback (most recent call last)",
      "\u001b[0;32m<ipython-input-171-6d32a0a04a46>\u001b[0m in \u001b[0;36m<module>\u001b[0;34m\u001b[0m\n\u001b[0;32m----> 1\u001b[0;31m \u001b[0mt1\u001b[0m\u001b[0;34m.\u001b[0m\u001b[0mget_distance\u001b[0m\u001b[0;34m(\u001b[0m\u001b[0;34m)\u001b[0m\u001b[0;34m\u001b[0m\u001b[0;34m\u001b[0m\u001b[0m\n\u001b[0m",
      "\u001b[0;31mTypeError\u001b[0m: get_distance() missing 1 required positional argument: 'target'"
     ]
    }
   ],
   "source": [
    "t1.cophenetic_matrix"
   ]
  },
  {
   "cell_type": "code",
   "execution_count": 156,
   "metadata": {},
   "outputs": [],
   "source": [
    "t1.set_species_naming_function(lambda node: node.name.split(\"_\")[2:])"
   ]
  },
  {
   "cell_type": "code",
   "execution_count": 159,
   "metadata": {},
   "outputs": [],
   "source": [
    "for node in t1:\n",
    "    node.name = '_'.join(node.name.split(\"_\")[0:2])"
   ]
  },
  {
   "cell_type": "code",
   "execution_count": 160,
   "metadata": {},
   "outputs": [
    {
     "name": "stdout",
     "output_type": "stream",
     "text": [
      "\n",
      "                                                                     /-c_inopinata, []\n",
      "                                                                    |\n",
      "                                                                    |                        /- /-c_elegans, []\n",
      "                                                                    |                     /-|\n",
      "                                                                    |                  /-|   \\- /-c_elegans, []\n",
      "                                                                    |                 |  |\n",
      "                                                                    |               /-|   \\-c_elegans, []\n",
      "                                                                    |              |  |\n",
      "                                                                    |              |  |      /-c_elegans, []\n",
      "                                                                  /-|            /-|   \\- /-|\n",
      "                                                                 |  |           |  |         \\-c_elegans, []\n",
      "                                                                 |  |         /-|  |\n",
      "                                                                 |  |        |  |   \\- /-c_elegans, []\n",
      "                                                                 |  |        |  |\n",
      "                                                                 |  |      /-|   \\- /-c_elegans, []\n",
      "                                                                 |  |     |  |\n",
      "                                                         /- /- /-|  |     |  |      /-c_briggsae, []\n",
      "                                                        |        |  |     |   \\- /-|\n",
      "                                                        |        |   \\- /-|        |   /-c_briggsae, []\n",
      "                                                        |        |        |         \\-|\n",
      "                                                        |        |        |            \\-c_briggsae, []\n",
      "                                                        |        |        |\n",
      "                                                      /-|        |         \\-c_brenneri, []\n",
      "                                                     |  |        |\n",
      "                                                     |  |         \\-c_panamensis, []\n",
      "                                                     |  |\n",
      "                                                     |  |         /-c_briggsae, []\n",
      "                                                     |  |      /-|\n",
      "                                                     |   \\- /-|   \\-c_briggsae, []\n",
      "                                                /- /-|        |\n",
      "                                               |     |         \\-c_japonica, []\n",
      "                                               |     |\n",
      "                                               |     |         /-c_briggsae, []\n",
      "                                               |     |      /-|\n",
      "                                               |     |   /-|   \\-c_briggsae, []\n",
      "                                               |     |  |  |\n",
      "                                             /-|      \\-|   \\- /-c_elegans, []\n",
      "                                            |  |        |\n",
      "                                            |  |         \\-c_brenneri, []\n",
      "                                            |  |\n",
      "                                            |  |         /-d_pachys, []\n",
      "                                            |  |      /-|\n",
      "                                       /- /-|  |     |   \\-d_pachys, []\n",
      "                                      |     |   \\- /-|\n",
      "                                      |     |        |   /-d_coronatus, []\n",
      "                                      |     |         \\-|\n",
      "                                      |     |            \\-d_coronatus, []\n",
      "                                      |     |\n",
      "                                      |      \\-o_tipulae, []\n",
      "                                      |\n",
      "                                      |   /-p_pacificus, []\n",
      "                                      |  |\n",
      "                                      |  |                        /-s_digitata, []\n",
      "                                      |  |                     /-|\n",
      "                                      |  |                    |  |   /-a_loa, []\n",
      "                                      |  |                    |   \\-|\n",
      "                                      |  |                    |      \\-a_viteae, []\n",
      "                                      |  |                    |\n",
      "                                      |  |                    |            /-o_volvulus, []\n",
      "                                      |  |                  /-|         /-|\n",
      "                                      |  |                 |  |      /-|   \\-o_volvulus, []\n",
      "                                      |  |                 |  |     |  |\n",
      "                                      |  |                 |  |   /-|   \\-o_volvulus, []\n",
      "                                      |  |                 |  |  |  |\n",
      "                                      |  |                 |  |  |   \\-l_sigmodontis, []\n",
      "                                      |  |                 |  |  |\n",
      "                                      |  |                 |   \\-|         /-o_volvulus, []\n",
      "                                      |  |                 |     |      /-|\n",
      "                                      |  |                 |     |   /-|   \\-o_volvulus, []\n",
      "                                      |  |                 |     |  |  |\n",
      "                                      |  |                 |      \\-|   \\-o_volvulus, []\n",
      "                                      |  |                 |        |\n",
      "                                    /-|  |               /-|         \\-d_immitis, []\n",
      "                                   |  |  |              |  |\n",
      "                                   |  |  |              |  |               /-b_malayi, []\n",
      "                                   |  |  |              |  |            /-|\n",
      "                                   |  |  |              |  |         /-|   \\-b_malayi, []\n",
      "                                   |  |  |              |  |        |  |\n",
      "                                   |  |  |              |  |        |   \\-b_malayi, []\n",
      "                                   |  |  |              |  |      /-|\n",
      "                                   |  |  |              |  |     |  |      /-b_malayi, []\n",
      "                                   |  |  |              |  |     |  |   /-|\n",
      "                                   |  |  |            /-|  |     |  |  |  |   /-b_malayi, []\n",
      "                                   |  |  |           |  |  |   /-|   \\-|   \\-|\n",
      "                                   |  |  |           |  |  |  |  |     |      \\-b_malayi, []\n",
      "                                   |  |  |           |  |  |  |  |     |\n",
      "                                   |  |  |           |  |   \\-|  |      \\-b_malayi, []\n",
      "                                   |  |  |           |  |     |  |\n",
      "                                   |  |  |           |  |     |   \\-w_bancrofti, []\n",
      "                                   |  |  |           |  |     |\n",
      "                                   |  |  |           |  |      \\-b_pahangi, []\n",
      "                                   |  |  |           |  |\n",
      "                                   |  |  |           |   \\-t_callipaeda, []\n",
      "                                   |  |  |           |\n",
      "                                   |  |  |           |            /-p_univalens, []\n",
      "                                   |  |  |           |           |\n",
      "                                   |  |  |           |           |      /-a_suum, []\n",
      "                                   |  |  |           |           |     |\n",
      "                                   |  |  |           |           |     |      /-a_suum, []\n",
      "                                   |  |  |           |         /-|   /-|   /-|\n",
      "                                   |  |  |           |        |  |  |  |  |  |   /-a_suum, []\n",
      "                                   |  |  |           |        |  |  |  |  |   \\-|\n",
      "                                   |  |  |           |        |  |  |   \\-|     |   /-a_suum, []\n",
      "                                   |   \\-|           |        |  |  |     |      \\-|\n",
      "                                   |     |           |        |   \\-|     |         \\-a_suum, []\n",
      "                                   |     |           |        |     |     |\n",
      "                                   |     |         /-|        |     |      \\-a_suum, []\n",
      "                                   |     |        |  |        |     |\n",
      "                                   |     |        |  |      /-|     |   /-a_suum, []\n",
      "                                   |     |        |  |     |  |      \\-|\n",
      "                                   |     |        |  |     |  |         \\-a_suum, []\n",
      "                                   |     |        |  |     |  |\n",
      "                                   |     |        |  |     |  |      /-a_suum, []\n",
      "                                   |     |        |  |     |  |     |\n",
      "                                   |     |        |  |     |  |   /-|      /-a_suum, []\n",
      "                                   |     |        |  |     |  |  |  |   /-|\n",
      "                                   |     |        |  |     |  |  |   \\-|   \\-a_suum, []\n",
      "                                   |     |        |  |     |   \\-|     |\n",
      "                                   |     |        |  |     |     |      \\-a_suum, []\n",
      "                                   |     |        |  |   /-|     |\n",
      "                                   |     |        |  |  |  |     |   /-p_univalens, []\n",
      "                                   |     |        |  |  |  |      \\-|\n",
      "                                 /-|     |        |  |  |  |         \\-p_univalens, []\n",
      "                                |  |     |        |  |  |  |\n",
      "                                |  |     |        |  |  |  |         /-p_univalens, []\n",
      "                                |  |     |        |  |  |  |      /-|\n",
      "                                |  |     |        |  |  |  |     |   \\-p_univalens, []\n",
      "                                |  |     |        |  |  |  |   /-|\n",
      "                                |  |     |        |  |  |  |  |  |   /-p_univalens, []\n",
      "                                |  |     |      /-|  |  |  |  |   \\-|\n",
      "                                |  |     |     |  |   \\-|   \\-|      \\-p_univalens, []\n",
      "                                |  |     |     |  |     |     |\n",
      "                                |  |     |     |  |     |     |      /-a_suum, []\n",
      "                                |  |     |     |  |     |     |   /-|\n",
      "                                |  |     |     |  |     |      \\-|   \\-a_suum, []\n",
      "                                |  |     |     |  |     |        |\n",
      "                                |  |     |     |  |     |         \\-a_suum, []\n",
      "                                |  |     |     |  |     |\n",
      "                                |  |     |     |  |     |         /-a_suum, []\n",
      "                                |  |     |     |  |     |      /-|\n",
      "                                |  |     |     |  |     |   /-|   \\-a_suum, []\n",
      "                                |  |     |     |  |     |  |  |\n",
      "                                |  |     |     |  |      \\-|   \\-a_suum, []\n",
      "                                |  |     |     |  |        |\n",
      "                                |  |     |   /-|  |        |   /-p_univalens, []\n",
      "                                |  |     |  |  |  |         \\-|\n",
      "                                |  |     |  |  |  |           |   /-p_univalens, []\n",
      "                                |  |     |  |  |  |            \\-|\n",
      "                                |  |     |  |  |  |               \\-p_univalens, []\n",
      "                                |  |     |  |  |  |\n",
      "-- /- /- /- /- /- /- /- /- /- /-|  |     |  |  |  |      /-a_nanus, []\n",
      "                                |  |     |  |  |  |   /-|\n",
      "                                |  |     |  |  |  |  |  |   /-a_nanus, []\n",
      "                                |  |     |  |  |   \\-|   \\-|\n",
      "                                |  |     |  |  |     |      \\-a_nanus, []\n",
      "                                |  |     |  |  |     |\n",
      "                                |  |      \\-|  |      \\-p_redivivus, []\n",
      "                                |  |        |  |\n",
      "                                |  |        |  |      /-s_scapterisci, []\n",
      "                                |  |        |   \\- /-|\n",
      "                                |  |        |         \\-s_carpocapsae, []\n",
      "                                |  |        |\n",
      "                                |  |        |            /-p_japonicus, []\n",
      "                                |  |        |         /-|\n",
      "                                |  |        |      /-|   \\- /-p_arcanus, []\n",
      "                                |  |        |     |  |\n",
      "                                |  |        |   /-|   \\-p_pacificus, []\n",
      "                                |  |        |  |  |\n",
      "                                |  |         \\-|   \\-p_entomophagus, []\n",
      "                                |  |           |\n",
      "                                |  |            \\-p_mayer, []\n",
      "                                |  |\n",
      "                                |   \\-t_britovi, []\n",
      "                                |\n",
      "                                |   /-p_pacificus, []\n",
      "                                |  |\n",
      "                                |  |            /-d_pachys, []\n",
      "                                |  |         /-|\n",
      "                                 \\-|        |   \\-d_coronatus, []\n",
      "                                   |      /-|\n",
      "                                   |     |  |   /-d_coronatus, []\n",
      "                                   |     |   \\-|\n",
      "                                   |     |      \\-d_pachys, []\n",
      "                                    \\- /-|\n",
      "                                         |            /-a_nanus, []\n",
      "                                         |         /-|\n",
      "                                         |        |  |   /-a_suum, []\n",
      "                                         |        |   \\-|\n",
      "                                          \\- /- /-|     |   /-p_univalens, []\n",
      "                                                  |      \\-|\n",
      "                                                  |         \\-p_univalens, []\n",
      "                                                  |\n",
      "                                                   \\-t_callipaeda, []\n"
     ]
    }
   ],
   "source": [
    "print (t1.get_ascii(attributes=[\"name\", \"species\"],show_internal=False))"
   ]
  },
  {
   "cell_type": "code",
   "execution_count": 137,
   "metadata": {},
   "outputs": [
    {
     "name": "stdout",
     "output_type": "stream",
     "text": [
      "\n",
      "   /-t_britovi\n",
      "  |\n",
      "--|   /-o_tipulae\n",
      "  |  |\n",
      "   \\-|      /-d_pachys\n",
      "     |   /-|\n",
      "     |  |   \\-d_pachys\n",
      "      \\-|\n",
      "        |   /-d_coronatus\n",
      "         \\-|\n",
      "            \\-d_coronatus\n",
      "\n",
      "   /-c_panamensis\n",
      "--|\n",
      "   \\-c_inopinata\n",
      "\n",
      "                  /-c_elegans\n",
      "               /-|\n",
      "            /-|   \\-c_elegans\n",
      "           |  |\n",
      "         /-|   \\-c_elegans\n",
      "        |  |\n",
      "        |  |   /-c_elegans\n",
      "      /-|   \\-|\n",
      "     |  |      \\-c_elegans\n",
      "   /-|  |\n",
      "  |  |   \\-c_elegans\n",
      "  |  |\n",
      "--|   \\-c_elegans\n",
      "  |\n",
      "  |   /-c_briggsae\n",
      "   \\-|\n",
      "     |   /-c_briggsae\n",
      "      \\-|\n",
      "         \\-c_briggsae\n",
      "\n",
      "--c_brenneri\n",
      "\n",
      "      /-c_briggsae\n",
      "   /-|\n",
      "--|   \\-c_briggsae\n",
      "  |\n",
      "   \\-c_japonica\n",
      "\n",
      "      /-c_briggsae\n",
      "   /-|\n",
      "--|   \\-c_briggsae\n",
      "  |\n",
      "   \\-c_elegans\n",
      "\n",
      "--c_brenneri\n",
      "\n",
      "--p_pacificus\n",
      "\n",
      "               /-a_nanus\n",
      "            /-|\n",
      "           |  |   /-a_nanus\n",
      "         /-|   \\-|\n",
      "        |  |      \\-a_nanus\n",
      "        |  |\n",
      "        |   \\-p_redivivus\n",
      "        |\n",
      "        |                     /-b_malayi\n",
      "        |                  /-|\n",
      "        |               /-|   \\-b_malayi\n",
      "        |              |  |\n",
      "        |              |   \\-b_malayi\n",
      "        |            /-|\n",
      "        |           |  |      /-b_malayi\n",
      "      /-|           |  |   /-|\n",
      "     |  |           |  |  |  |   /-b_malayi\n",
      "     |  |         /-|   \\-|   \\-|\n",
      "     |  |        |  |     |      \\-b_malayi\n",
      "     |  |        |  |     |\n",
      "     |  |      /-|  |      \\-b_malayi\n",
      "     |  |     |  |  |\n",
      "     |  |     |  |   \\-w_bancrofti\n",
      "     |  |   /-|  |\n",
      "     |  |  |  |   \\-b_pahangi\n",
      "   /-|  |  |  |\n",
      "  |  |  |  |  |   /-s_digitata\n",
      "  |  |   \\-|   \\-|\n",
      "  |  |     |     |   /-a_loa\n",
      "  |  |     |      \\-|\n",
      "  |  |     |         \\-a_viteae\n",
      "  |  |     |\n",
      "  |  |      \\-t_callipaeda\n",
      "  |  |\n",
      "--|  |   /-s_scapterisci\n",
      "  |   \\-|\n",
      "  |      \\-s_carpocapsae\n",
      "  |\n",
      "  |            /-p_japonicus\n",
      "  |         /-|\n",
      "  |      /-|   \\-p_arcanus\n",
      "  |     |  |\n",
      "  |   /-|   \\-p_pacificus\n",
      "  |  |  |\n",
      "   \\-|   \\-p_entomophagus\n",
      "     |\n",
      "      \\-p_mayer\n",
      "\n",
      "         /-o_volvulus\n",
      "      /-|\n",
      "   /-|   \\-o_volvulus\n",
      "  |  |\n",
      "--|   \\-o_volvulus\n",
      "  |\n",
      "   \\-l_sigmodontis\n",
      "\n",
      "         /-o_volvulus\n",
      "      /-|\n",
      "   /-|   \\-o_volvulus\n",
      "  |  |\n",
      "--|   \\-o_volvulus\n",
      "  |\n",
      "   \\-d_immitis\n",
      "\n",
      "   /-p_univalens\n",
      "  |\n",
      "  |      /-a_suum\n",
      "  |     |\n",
      "  |     |      /-a_suum\n",
      "--|   /-|   /-|\n",
      "  |  |  |  |  |   /-a_suum\n",
      "  |  |  |  |   \\-|\n",
      "  |  |   \\-|     |   /-a_suum\n",
      "  |  |     |      \\-|\n",
      "   \\-|     |         \\-a_suum\n",
      "     |     |\n",
      "     |      \\-a_suum\n",
      "     |\n",
      "     |   /-a_suum\n",
      "      \\-|\n",
      "         \\-a_suum\n",
      "\n",
      "      /-a_suum\n",
      "     |\n",
      "   /-|      /-a_suum\n",
      "  |  |   /-|\n",
      "  |   \\-|   \\-a_suum\n",
      "--|     |\n",
      "  |      \\-a_suum\n",
      "  |\n",
      "  |   /-p_univalens\n",
      "   \\-|\n",
      "      \\-p_univalens\n",
      "\n",
      "         /-p_univalens\n",
      "      /-|\n",
      "     |   \\-p_univalens\n",
      "   /-|\n",
      "  |  |   /-p_univalens\n",
      "  |   \\-|\n",
      "--|      \\-p_univalens\n",
      "  |\n",
      "  |      /-a_suum\n",
      "  |   /-|\n",
      "   \\-|   \\-a_suum\n",
      "     |\n",
      "      \\-a_suum\n",
      "\n",
      "         /-a_suum\n",
      "      /-|\n",
      "   /-|   \\-a_suum\n",
      "  |  |\n",
      "--|   \\-a_suum\n",
      "  |\n",
      "  |   /-p_univalens\n",
      "   \\-|\n",
      "     |   /-p_univalens\n",
      "      \\-|\n",
      "         \\-p_univalens\n",
      "\n",
      "   /-p_pacificus\n",
      "  |\n",
      "  |      /-a_nanus\n",
      "--|   /-|\n",
      "  |  |  |   /-a_suum\n",
      "  |  |   \\-|\n",
      "   \\-|     |   /-p_univalens\n",
      "     |      \\-|\n",
      "     |         \\-p_univalens\n",
      "     |\n",
      "      \\-t_callipaeda\n",
      "\n",
      "   /-d_pachys\n",
      "--|\n",
      "   \\-d_coronatus\n",
      "\n",
      "   /-d_coronatus\n",
      "--|\n",
      "   \\-d_pachys\n"
     ]
    }
   ],
   "source": [
    "for node in t1.split_by_dups(): print (node)"
   ]
  },
  {
   "cell_type": "code",
   "execution_count": 141,
   "metadata": {},
   "outputs": [],
   "source": [
    "t2_wo_dups = t2.collapse_lineage_specific_expansions()\n",
    "t1_wo_dups = t1.collapse_lineage_specific_expansions()"
   ]
  },
  {
   "cell_type": "code",
   "execution_count": 167,
   "metadata": {},
   "outputs": [
    {
     "ename": "TreeError",
     "evalue": "'Duplicated items found in source tree'",
     "output_type": "error",
     "traceback": [
      "\u001b[0;31m---------------------------------------------------------------------------\u001b[0m",
      "\u001b[0;31mTreeError\u001b[0m                                 Traceback (most recent call last)",
      "\u001b[0;32m<ipython-input-167-b273b372a459>\u001b[0m in \u001b[0;36m<module>\u001b[0;34m\u001b[0m\n\u001b[0;32m----> 1\u001b[0;31m \u001b[0mt2\u001b[0m\u001b[0;34m.\u001b[0m\u001b[0mcompare\u001b[0m\u001b[0;34m(\u001b[0m\u001b[0mt1\u001b[0m\u001b[0;34m)\u001b[0m\u001b[0;34m\u001b[0m\u001b[0;34m\u001b[0m\u001b[0m\n\u001b[0m",
      "\u001b[0;32m~/anaconda3/lib/python3.6/site-packages/ete3-3.1.2-py3.7.egg/ete3/coretype/tree.py\u001b[0m in \u001b[0;36mcompare\u001b[0;34m(self, ref_tree, use_collateral, min_support_source, min_support_ref, has_duplications, expand_polytomies, unrooted, max_treeko_splits_to_be_artifact, ref_tree_attr, source_tree_attr)\u001b[0m\n\u001b[1;32m   1940\u001b[0m                     \u001b[0mresult\u001b[0m\u001b[0;34m[\u001b[0m\u001b[0;34m\"ref_edges\"\u001b[0m\u001b[0;34m]\u001b[0m \u001b[0;34m=\u001b[0m \u001b[0mset\u001b[0m\u001b[0;34m(\u001b[0m\u001b[0;34m)\u001b[0m\u001b[0;34m\u001b[0m\u001b[0;34m\u001b[0m\u001b[0m\n\u001b[1;32m   1941\u001b[0m         \u001b[0;32melse\u001b[0m\u001b[0;34m:\u001b[0m\u001b[0;34m\u001b[0m\u001b[0;34m\u001b[0m\u001b[0m\n\u001b[0;32m-> 1942\u001b[0;31m             \u001b[0mtotal_rf\u001b[0m\u001b[0;34m,\u001b[0m \u001b[0mmax_rf\u001b[0m\u001b[0;34m,\u001b[0m \u001b[0mncommon\u001b[0m\u001b[0;34m,\u001b[0m \u001b[0mvalid_ref_edges\u001b[0m\u001b[0;34m,\u001b[0m \u001b[0mvalid_src_edges\u001b[0m\u001b[0;34m,\u001b[0m \u001b[0mcommon_edges\u001b[0m \u001b[0;34m=\u001b[0m \u001b[0m_compare\u001b[0m\u001b[0;34m(\u001b[0m\u001b[0msource_tree\u001b[0m\u001b[0;34m,\u001b[0m \u001b[0mref_tree\u001b[0m\u001b[0;34m)\u001b[0m\u001b[0;34m\u001b[0m\u001b[0;34m\u001b[0m\u001b[0m\n\u001b[0m\u001b[1;32m   1943\u001b[0m \u001b[0;34m\u001b[0m\u001b[0m\n\u001b[1;32m   1944\u001b[0m             \u001b[0mresult\u001b[0m\u001b[0;34m[\u001b[0m\u001b[0;34m\"rf\"\u001b[0m\u001b[0;34m]\u001b[0m \u001b[0;34m=\u001b[0m \u001b[0mfloat\u001b[0m\u001b[0;34m(\u001b[0m\u001b[0mtotal_rf\u001b[0m\u001b[0;34m)\u001b[0m \u001b[0;32mif\u001b[0m \u001b[0mmax_rf\u001b[0m \u001b[0;32melse\u001b[0m \u001b[0;34m\"NA\"\u001b[0m\u001b[0;34m\u001b[0m\u001b[0;34m\u001b[0m\u001b[0m\n",
      "\u001b[0;32m~/anaconda3/lib/python3.6/site-packages/ete3-3.1.2-py3.7.egg/ete3/coretype/tree.py\u001b[0m in \u001b[0;36m_compare\u001b[0;34m(src_tree, ref_tree)\u001b[0m\n\u001b[1;32m   1832\u001b[0m                                                                                             \u001b[0mattr_t2\u001b[0m\u001b[0;34m=\u001b[0m\u001b[0msource_tree_attr\u001b[0m\u001b[0;34m,\u001b[0m\u001b[0;34m\u001b[0m\u001b[0;34m\u001b[0m\u001b[0m\n\u001b[1;32m   1833\u001b[0m                                                                                             \u001b[0mmin_support_t2\u001b[0m\u001b[0;34m=\u001b[0m\u001b[0mmin_support_source\u001b[0m\u001b[0;34m,\u001b[0m\u001b[0;34m\u001b[0m\u001b[0;34m\u001b[0m\u001b[0m\n\u001b[0;32m-> 1834\u001b[0;31m                                                                                             min_support_t1=min_support_ref)\n\u001b[0m\u001b[1;32m   1835\u001b[0m \u001b[0;34m\u001b[0m\u001b[0m\n\u001b[1;32m   1836\u001b[0m             \u001b[0;31m# if trees share leaves, count their distances\u001b[0m\u001b[0;34m\u001b[0m\u001b[0;34m\u001b[0m\u001b[0;34m\u001b[0m\u001b[0m\n",
      "\u001b[0;32m~/anaconda3/lib/python3.6/site-packages/ete3-3.1.2-py3.7.egg/ete3/coretype/tree.py\u001b[0m in \u001b[0;36mrobinson_foulds\u001b[0;34m(self, t2, attr_t1, attr_t2, unrooted_trees, expand_polytomies, polytomy_size_limit, skip_large_polytomies, correct_by_polytomy_size, min_support_t1, min_support_t2)\u001b[0m\n\u001b[1;32m   1692\u001b[0m         \u001b[0msize2\u001b[0m \u001b[0;34m=\u001b[0m \u001b[0mlen\u001b[0m\u001b[0;34m(\u001b[0m\u001b[0;34m[\u001b[0m\u001b[0;32mTrue\u001b[0m \u001b[0;32mfor\u001b[0m \u001b[0mn\u001b[0m \u001b[0;32min\u001b[0m \u001b[0mtarget_t\u001b[0m\u001b[0;34m.\u001b[0m\u001b[0miter_leaves\u001b[0m\u001b[0;34m(\u001b[0m\u001b[0;34m)\u001b[0m \u001b[0;32mif\u001b[0m \u001b[0mgetattr\u001b[0m\u001b[0;34m(\u001b[0m\u001b[0mn\u001b[0m\u001b[0;34m,\u001b[0m \u001b[0mattr_t2\u001b[0m\u001b[0;34m,\u001b[0m \u001b[0;32mNone\u001b[0m\u001b[0;34m)\u001b[0m \u001b[0;32min\u001b[0m \u001b[0mcommon_attrs\u001b[0m\u001b[0;34m]\u001b[0m\u001b[0;34m)\u001b[0m\u001b[0;34m\u001b[0m\u001b[0;34m\u001b[0m\u001b[0m\n\u001b[1;32m   1693\u001b[0m         \u001b[0;32mif\u001b[0m \u001b[0msize1\u001b[0m \u001b[0;34m>\u001b[0m \u001b[0mlen\u001b[0m\u001b[0;34m(\u001b[0m\u001b[0mcommon_attrs\u001b[0m\u001b[0;34m)\u001b[0m\u001b[0;34m:\u001b[0m\u001b[0;34m\u001b[0m\u001b[0;34m\u001b[0m\u001b[0m\n\u001b[0;32m-> 1694\u001b[0;31m             \u001b[0;32mraise\u001b[0m \u001b[0mTreeError\u001b[0m\u001b[0;34m(\u001b[0m\u001b[0;34m'Duplicated items found in source tree'\u001b[0m\u001b[0;34m)\u001b[0m\u001b[0;34m\u001b[0m\u001b[0;34m\u001b[0m\u001b[0m\n\u001b[0m\u001b[1;32m   1695\u001b[0m         \u001b[0;32mif\u001b[0m \u001b[0msize2\u001b[0m \u001b[0;34m>\u001b[0m \u001b[0mlen\u001b[0m\u001b[0;34m(\u001b[0m\u001b[0mcommon_attrs\u001b[0m\u001b[0;34m)\u001b[0m\u001b[0;34m:\u001b[0m\u001b[0;34m\u001b[0m\u001b[0;34m\u001b[0m\u001b[0m\n\u001b[1;32m   1696\u001b[0m             \u001b[0;32mraise\u001b[0m \u001b[0mTreeError\u001b[0m\u001b[0;34m(\u001b[0m\u001b[0;34m'Duplicated items found in reference tree'\u001b[0m\u001b[0;34m)\u001b[0m\u001b[0;34m\u001b[0m\u001b[0;34m\u001b[0m\u001b[0m\n",
      "\u001b[0;31mTreeError\u001b[0m: 'Duplicated items found in source tree'"
     ]
    }
   ],
   "source": [
    "t2.compare(t1)"
   ]
  },
  {
   "cell_type": "code",
   "execution_count": 146,
   "metadata": {},
   "outputs": [
    {
     "data": {
      "text/plain": [
       "PhyloTree node 'n0' (-0x7ffff805fbf7c8f5)"
      ]
     },
     "execution_count": 146,
     "metadata": {},
     "output_type": "execute_result"
    }
   ],
   "source": [
    "t1.collapse_lineage_specific_expansions()"
   ]
  },
  {
   "cell_type": "code",
   "execution_count": 149,
   "metadata": {},
   "outputs": [
    {
     "name": "stdout",
     "output_type": "stream",
     "text": [
      "\n",
      "                                                                     /-c_inopinata\n",
      "                                                                    |\n",
      "                                                                  /-|         /-c_elegans\n",
      "                                                                 |  |      /-|\n",
      "                                                                 |   \\- /-|   \\-c_briggsae\n",
      "                                                         /- /- /-|        |\n",
      "                                                        |        |         \\-c_brenneri\n",
      "                                                        |        |\n",
      "                                                      /-|         \\-c_panamensis\n",
      "                                                     |  |\n",
      "                                                     |  |      /-c_japonica\n",
      "                                                     |   \\- /-|\n",
      "                                                /- /-|         \\-c_briggsae\n",
      "                                               |     |\n",
      "                                               |     |      /- /-c_elegans\n",
      "                                               |     |   /-|\n",
      "                                             /-|      \\-|   \\-c_briggsae\n",
      "                                            |  |        |\n",
      "                                            |  |         \\-c_brenneri\n",
      "                                            |  |\n",
      "                                       /- /-|  |      /-d_pachys\n",
      "                                      |     |   \\- /-|\n",
      "                                      |     |         \\-d_coronatus\n",
      "                                      |     |\n",
      "                                      |      \\-o_tipulae\n",
      "                                      |\n",
      "                                      |   /-p_pacificus\n",
      "                                      |  |\n",
      "                                      |  |                        /-s_digitata\n",
      "                                      |  |                     /-|\n",
      "                                      |  |                    |  |   /-a_loa\n",
      "                                      |  |                    |   \\-|\n",
      "                                      |  |                    |      \\-a_viteae\n",
      "                                      |  |                  /-|\n",
      "                                    /-|  |                 |  |      /-l_sigmodontis\n",
      "                                   |  |  |                 |  |   /-|\n",
      "                                   |  |  |                 |  |  |   \\-o_volvulus\n",
      "                                   |  |  |                 |   \\-|\n",
      "                                   |  |  |               /-|     |   /-d_immitis\n",
      "                                   |  |  |              |  |      \\-|\n",
      "                                   |  |  |              |  |         \\-o_volvulus\n",
      "                                   |  |  |              |  |\n",
      "                                   |  |  |              |  |      /-w_bancrofti\n",
      "                                   |  |  |            /-|  |   /-|\n",
      "                                   |  |  |           |  |   \\-|   \\-b_malayi\n",
      "                                   |  |  |           |  |     |\n",
      "                                   |  |  |           |  |      \\-b_pahangi\n",
      "                                   |  |  |           |  |\n",
      "                                   |  |  |           |   \\-t_callipaeda\n",
      "                                   |   \\-|           |\n",
      "                                   |     |           |            /-p_univalens\n",
      "                                   |     |         /-|         /-|\n",
      "                                   |     |        |  |        |   \\-a_suum\n",
      "                                   |     |        |  |      /-|\n",
      "                                   |     |        |  |     |  |   /-a_suum\n",
      "                                   |     |        |  |     |   \\-|\n",
      "                                   |     |        |  |   /-|      \\-p_univalens\n",
      "                                   |     |        |  |  |  |\n",
      "                                   |     |        |  |  |  |   /-p_univalens\n",
      "                                 /-|     |      /-|   \\-|   \\-|\n",
      "                                |  |     |     |  |     |      \\-a_suum\n",
      "                                |  |     |     |  |     |\n",
      "                                |  |     |     |  |     |   /-a_suum\n",
      "                                |  |     |     |  |      \\-|\n",
      "                                |  |     |     |  |         \\-p_univalens\n",
      "                                |  |     |   /-|  |\n",
      "                                |  |     |  |  |  |   /-p_redivivus\n",
      "                                |  |     |  |  |   \\-|\n",
      "                                |  |     |  |  |      \\-a_nanus\n",
      "                                |  |     |  |  |\n",
      "                                |  |     |  |  |      /-s_scapterisci\n",
      "                                |  |     |  |   \\- /-|\n",
      "                                |  |      \\-|         \\-s_carpocapsae\n",
      "                                |  |        |\n",
      "-- /- /- /- /- /- /- /- /- /- /-|  |        |            /-p_japonicus\n",
      "                                |  |        |         /-|\n",
      "                                |  |        |      /-|   \\- /-p_arcanus\n",
      "                                |  |        |     |  |\n",
      "                                |  |        |   /-|   \\-p_pacificus\n",
      "                                |  |        |  |  |\n",
      "                                |  |         \\-|   \\-p_entomophagus\n",
      "                                |  |           |\n",
      "                                |  |            \\-p_mayer\n",
      "                                |  |\n",
      "                                |   \\-t_britovi\n",
      "                                |\n",
      "                                |   /-p_pacificus\n",
      "                                |  |\n",
      "                                |  |            /-d_pachys\n",
      "                                |  |         /-|\n",
      "                                 \\-|        |   \\-d_coronatus\n",
      "                                   |      /-|\n",
      "                                   |     |  |   /-d_coronatus\n",
      "                                   |     |   \\-|\n",
      "                                   |     |      \\-d_pachys\n",
      "                                    \\- /-|\n",
      "                                         |            /-a_nanus\n",
      "                                         |         /-|\n",
      "                                         |        |  |   /-a_suum\n",
      "                                          \\- /- /-|   \\-|\n",
      "                                                  |      \\-p_univalens\n",
      "                                                  |\n",
      "                                                   \\-t_callipaeda\n"
     ]
    }
   ],
   "source": [
    "print (t1_wo_dups.get_ascii( show_internal=False))"
   ]
  },
  {
   "cell_type": "markdown",
   "metadata": {},
   "source": [
    "# Just Simple Correlation"
   ]
  },
  {
   "cell_type": "code",
   "execution_count": 2,
   "metadata": {},
   "outputs": [],
   "source": [
    "par1_tree = PhyloTree(\"required_tree_OG0000002_species.txt\", format=1)\n",
    "pkc3_tree = PhyloTree(\"required_tree_OG0000300_species.txt\", format=1)"
   ]
  },
  {
   "cell_type": "code",
   "execution_count": 3,
   "metadata": {},
   "outputs": [],
   "source": [
    "par1 = par1_tree.cophenetic_matrix()\n",
    "pkc3 = pkc3_tree.cophenetic_matrix()"
   ]
  },
  {
   "cell_type": "code",
   "execution_count": 4,
   "metadata": {},
   "outputs": [],
   "source": [
    "par1_df = pd.DataFrame(par1[0], columns = par1[1])\n",
    "par1_df.index = par1[1]\n",
    "pkc3_df = pd.DataFrame(pkc3[0], columns = pkc3[1])\n",
    "pkc3_df.index = pkc3[1]\n",
    "common = np.intersect1d(par1_df.columns, pkc3_df.columns)\n",
    "par1_df = par1_df[par1_df.index.isin(common)]\n",
    "par1_df= par1_df[common]\n",
    "pkc3_df = pkc3_df[pkc3_df.index.isin(common)]\n",
    "pkc3_df= pkc3_df[common]"
   ]
  },
  {
   "cell_type": "code",
   "execution_count": 5,
   "metadata": {},
   "outputs": [
    {
     "data": {
      "text/plain": [
       "array(['a_loa', 'a_suum', 'b_malayi', 'c_brenneri', 'c_briggsae',\n",
       "       'c_elegans', 'c_inopinata', 'c_japonica', 'c_panamensis',\n",
       "       'd_coronatus', 'd_pachys', 'o_tipulae', 'o_volvulus', 'p_arcanus',\n",
       "       'p_entomophagus', 'p_japonicus', 'p_mayer', 'p_redivivus',\n",
       "       'p_univalens', 's_digitata', 's_scapterisci'], dtype=object)"
      ]
     },
     "execution_count": 5,
     "metadata": {},
     "output_type": "execute_result"
    }
   ],
   "source": [
    "common"
   ]
  },
  {
   "cell_type": "code",
   "execution_count": 6,
   "metadata": {},
   "outputs": [
    {
     "data": {
      "text/plain": [
       "a_loa    0.0\n",
       "Name: a_loa, dtype: float64"
      ]
     },
     "execution_count": 6,
     "metadata": {},
     "output_type": "execute_result"
    }
   ],
   "source": [
    "pkc3_df[pkc3_df.index.isin(['a_loa'])]['a_loa']"
   ]
  },
  {
   "cell_type": "code",
   "execution_count": 107,
   "metadata": {},
   "outputs": [],
   "source": [
    "x = par1_df.stack().reset_index()\n",
    "x['level_0_par1'] =x[\"level_0\"]\n",
    "x[\"labels\"] = x[\"level_0\"] +' '+ x[\"level_1\"]\n",
    "x['par1_values'] = x[0]\n",
    "\n",
    "y = pkc3_df.stack().reset_index()\n",
    "y[\"y_labels\"] = y[\"level_0\"] +' '+ y[\"level_1\"]\n",
    "y['pkc3_values'] = y[0]"
   ]
  },
  {
   "cell_type": "code",
   "execution_count": 108,
   "metadata": {},
   "outputs": [],
   "source": [
    "xy = pd.concat([x,y], axis=1).round(2)"
   ]
  },
  {
   "cell_type": "code",
   "execution_count": 109,
   "metadata": {
    "scrolled": true
   },
   "outputs": [
    {
     "data": {
      "text/html": [
       "<div>\n",
       "<style scoped>\n",
       "    .dataframe tbody tr th:only-of-type {\n",
       "        vertical-align: middle;\n",
       "    }\n",
       "\n",
       "    .dataframe tbody tr th {\n",
       "        vertical-align: top;\n",
       "    }\n",
       "\n",
       "    .dataframe thead th {\n",
       "        text-align: right;\n",
       "    }\n",
       "</style>\n",
       "<table border=\"1\" class=\"dataframe\">\n",
       "  <thead>\n",
       "    <tr style=\"text-align: right;\">\n",
       "      <th></th>\n",
       "      <th>level_0</th>\n",
       "      <th>level_1</th>\n",
       "      <th>0</th>\n",
       "      <th>level_0_par1</th>\n",
       "      <th>labels</th>\n",
       "      <th>par1_values</th>\n",
       "      <th>level_0</th>\n",
       "      <th>level_1</th>\n",
       "      <th>0</th>\n",
       "      <th>y_labels</th>\n",
       "      <th>pkc3_values</th>\n",
       "    </tr>\n",
       "  </thead>\n",
       "  <tbody>\n",
       "    <tr>\n",
       "      <th>0</th>\n",
       "      <td>a_loa</td>\n",
       "      <td>a_loa</td>\n",
       "      <td>0.00</td>\n",
       "      <td>a_loa</td>\n",
       "      <td>a_loa a_loa</td>\n",
       "      <td>0.00</td>\n",
       "      <td>a_loa</td>\n",
       "      <td>a_loa</td>\n",
       "      <td>0.00</td>\n",
       "      <td>a_loa a_loa</td>\n",
       "      <td>0.00</td>\n",
       "    </tr>\n",
       "    <tr>\n",
       "      <th>1</th>\n",
       "      <td>a_loa</td>\n",
       "      <td>a_suum</td>\n",
       "      <td>1.50</td>\n",
       "      <td>a_loa</td>\n",
       "      <td>a_loa a_suum</td>\n",
       "      <td>1.50</td>\n",
       "      <td>a_loa</td>\n",
       "      <td>a_suum</td>\n",
       "      <td>0.28</td>\n",
       "      <td>a_loa a_suum</td>\n",
       "      <td>0.28</td>\n",
       "    </tr>\n",
       "    <tr>\n",
       "      <th>2</th>\n",
       "      <td>a_loa</td>\n",
       "      <td>b_malayi</td>\n",
       "      <td>0.34</td>\n",
       "      <td>a_loa</td>\n",
       "      <td>a_loa b_malayi</td>\n",
       "      <td>0.34</td>\n",
       "      <td>a_loa</td>\n",
       "      <td>b_malayi</td>\n",
       "      <td>0.06</td>\n",
       "      <td>a_loa b_malayi</td>\n",
       "      <td>0.06</td>\n",
       "    </tr>\n",
       "    <tr>\n",
       "      <th>3</th>\n",
       "      <td>a_loa</td>\n",
       "      <td>c_brenneri</td>\n",
       "      <td>1.41</td>\n",
       "      <td>a_loa</td>\n",
       "      <td>a_loa c_brenneri</td>\n",
       "      <td>1.41</td>\n",
       "      <td>a_loa</td>\n",
       "      <td>c_brenneri</td>\n",
       "      <td>0.37</td>\n",
       "      <td>a_loa c_brenneri</td>\n",
       "      <td>0.37</td>\n",
       "    </tr>\n",
       "    <tr>\n",
       "      <th>4</th>\n",
       "      <td>a_loa</td>\n",
       "      <td>c_briggsae</td>\n",
       "      <td>1.17</td>\n",
       "      <td>a_loa</td>\n",
       "      <td>a_loa c_briggsae</td>\n",
       "      <td>1.17</td>\n",
       "      <td>a_loa</td>\n",
       "      <td>c_briggsae</td>\n",
       "      <td>0.37</td>\n",
       "      <td>a_loa c_briggsae</td>\n",
       "      <td>0.37</td>\n",
       "    </tr>\n",
       "  </tbody>\n",
       "</table>\n",
       "</div>"
      ],
      "text/plain": [
       "  level_0     level_1     0 level_0_par1            labels  par1_values  \\\n",
       "0   a_loa       a_loa  0.00        a_loa       a_loa a_loa         0.00   \n",
       "1   a_loa      a_suum  1.50        a_loa      a_loa a_suum         1.50   \n",
       "2   a_loa    b_malayi  0.34        a_loa    a_loa b_malayi         0.34   \n",
       "3   a_loa  c_brenneri  1.41        a_loa  a_loa c_brenneri         1.41   \n",
       "4   a_loa  c_briggsae  1.17        a_loa  a_loa c_briggsae         1.17   \n",
       "\n",
       "  level_0     level_1     0          y_labels  pkc3_values  \n",
       "0   a_loa       a_loa  0.00       a_loa a_loa         0.00  \n",
       "1   a_loa      a_suum  0.28      a_loa a_suum         0.28  \n",
       "2   a_loa    b_malayi  0.06    a_loa b_malayi         0.06  \n",
       "3   a_loa  c_brenneri  0.37  a_loa c_brenneri         0.37  \n",
       "4   a_loa  c_briggsae  0.37  a_loa c_briggsae         0.37  "
      ]
     },
     "execution_count": 109,
     "metadata": {},
     "output_type": "execute_result"
    }
   ],
   "source": [
    "xy.head()"
   ]
  },
  {
   "cell_type": "code",
   "execution_count": 110,
   "metadata": {},
   "outputs": [],
   "source": []
  },
  {
   "cell_type": "code",
   "execution_count": 111,
   "metadata": {},
   "outputs": [],
   "source": [
    "from sklearn.cluster import KMeans, DBSCAN\n",
    "\n",
    "\n",
    "clustering = KMeans(n_clusters=5, random_state=0).fit(data_cluster.values)\n",
    "# clustering = DBSCAN(eps=3, min_samples=2).fit(data_cluster.values)\n",
    "# >>> kmeans.labels_\n",
    "# array([1, 1, 1, 0, 0, 0], dtype=int32)\n",
    "# >>> kmeans.predict([[0, 0], [12, 3]])\n",
    "# array([1, 0], dtype=int32)\n",
    "# >>> kmeans.cluster_centers_\n",
    "# array([[10.,  2.],\n",
    "#        [ 1.,  2.]])"
   ]
  },
  {
   "cell_type": "code",
   "execution_count": 112,
   "metadata": {},
   "outputs": [],
   "source": [
    "xy['clusters'] = clustering.labels_"
   ]
  },
  {
   "cell_type": "code",
   "execution_count": 85,
   "metadata": {},
   "outputs": [],
   "source": [
    "data_cluster.to_csv('clustering_test.tsv',sep='\\t', index=False, header=False)"
   ]
  },
  {
   "cell_type": "code",
   "execution_count": 123,
   "metadata": {},
   "outputs": [],
   "source": [
    "r = (par1_df.dot(pkc3_df).sum().sum())/(np.sqrt(((par1_df-par1_df.mean().mean())**2).sum().sum())*np.sqrt(((pkc3_df-pkc3_df.mean().mean())**2).sum().sum()))"
   ]
  },
  {
   "cell_type": "code",
   "execution_count": 124,
   "metadata": {},
   "outputs": [
    {
     "data": {
      "text/plain": [
       "106.53135002109849"
      ]
     },
     "execution_count": 124,
     "metadata": {},
     "output_type": "execute_result"
    }
   ],
   "source": [
    "r"
   ]
  },
  {
   "cell_type": "code",
   "execution_count": 164,
   "metadata": {},
   "outputs": [],
   "source": [
    "xy.loc[xy['level_0_par1']=='a_loa', 'R2'] = 0.41"
   ]
  },
  {
   "cell_type": "code",
   "execution_count": 165,
   "metadata": {},
   "outputs": [
    {
     "data": {
      "text/html": [
       "<div>\n",
       "<style scoped>\n",
       "    .dataframe tbody tr th:only-of-type {\n",
       "        vertical-align: middle;\n",
       "    }\n",
       "\n",
       "    .dataframe tbody tr th {\n",
       "        vertical-align: top;\n",
       "    }\n",
       "\n",
       "    .dataframe thead th {\n",
       "        text-align: right;\n",
       "    }\n",
       "</style>\n",
       "<table border=\"1\" class=\"dataframe\">\n",
       "  <thead>\n",
       "    <tr style=\"text-align: right;\">\n",
       "      <th></th>\n",
       "      <th>level_0</th>\n",
       "      <th>level_1</th>\n",
       "      <th>0</th>\n",
       "      <th>level_0_par1</th>\n",
       "      <th>labels</th>\n",
       "      <th>par1_values</th>\n",
       "      <th>level_0</th>\n",
       "      <th>level_1</th>\n",
       "      <th>0</th>\n",
       "      <th>y_labels</th>\n",
       "      <th>pkc3_values</th>\n",
       "      <th>clusters</th>\n",
       "      <th>R2</th>\n",
       "    </tr>\n",
       "  </thead>\n",
       "  <tbody>\n",
       "    <tr>\n",
       "      <th>0</th>\n",
       "      <td>a_loa</td>\n",
       "      <td>a_loa</td>\n",
       "      <td>0.00</td>\n",
       "      <td>a_loa</td>\n",
       "      <td>a_loa a_loa</td>\n",
       "      <td>0.00</td>\n",
       "      <td>a_loa</td>\n",
       "      <td>a_loa</td>\n",
       "      <td>0.00</td>\n",
       "      <td>a_loa a_loa</td>\n",
       "      <td>0.00</td>\n",
       "      <td>3</td>\n",
       "      <td>0.41</td>\n",
       "    </tr>\n",
       "    <tr>\n",
       "      <th>1</th>\n",
       "      <td>a_loa</td>\n",
       "      <td>a_suum</td>\n",
       "      <td>1.50</td>\n",
       "      <td>a_loa</td>\n",
       "      <td>a_loa a_suum</td>\n",
       "      <td>1.50</td>\n",
       "      <td>a_loa</td>\n",
       "      <td>a_suum</td>\n",
       "      <td>0.28</td>\n",
       "      <td>a_loa a_suum</td>\n",
       "      <td>0.28</td>\n",
       "      <td>4</td>\n",
       "      <td>0.41</td>\n",
       "    </tr>\n",
       "    <tr>\n",
       "      <th>2</th>\n",
       "      <td>a_loa</td>\n",
       "      <td>b_malayi</td>\n",
       "      <td>0.34</td>\n",
       "      <td>a_loa</td>\n",
       "      <td>a_loa b_malayi</td>\n",
       "      <td>0.34</td>\n",
       "      <td>a_loa</td>\n",
       "      <td>b_malayi</td>\n",
       "      <td>0.06</td>\n",
       "      <td>a_loa b_malayi</td>\n",
       "      <td>0.06</td>\n",
       "      <td>0</td>\n",
       "      <td>0.41</td>\n",
       "    </tr>\n",
       "    <tr>\n",
       "      <th>3</th>\n",
       "      <td>a_loa</td>\n",
       "      <td>c_brenneri</td>\n",
       "      <td>1.41</td>\n",
       "      <td>a_loa</td>\n",
       "      <td>a_loa c_brenneri</td>\n",
       "      <td>1.41</td>\n",
       "      <td>a_loa</td>\n",
       "      <td>c_brenneri</td>\n",
       "      <td>0.37</td>\n",
       "      <td>a_loa c_brenneri</td>\n",
       "      <td>0.37</td>\n",
       "      <td>4</td>\n",
       "      <td>0.41</td>\n",
       "    </tr>\n",
       "    <tr>\n",
       "      <th>4</th>\n",
       "      <td>a_loa</td>\n",
       "      <td>c_briggsae</td>\n",
       "      <td>1.17</td>\n",
       "      <td>a_loa</td>\n",
       "      <td>a_loa c_briggsae</td>\n",
       "      <td>1.17</td>\n",
       "      <td>a_loa</td>\n",
       "      <td>c_briggsae</td>\n",
       "      <td>0.37</td>\n",
       "      <td>a_loa c_briggsae</td>\n",
       "      <td>0.37</td>\n",
       "      <td>2</td>\n",
       "      <td>0.41</td>\n",
       "    </tr>\n",
       "    <tr>\n",
       "      <th>...</th>\n",
       "      <td>...</td>\n",
       "      <td>...</td>\n",
       "      <td>...</td>\n",
       "      <td>...</td>\n",
       "      <td>...</td>\n",
       "      <td>...</td>\n",
       "      <td>...</td>\n",
       "      <td>...</td>\n",
       "      <td>...</td>\n",
       "      <td>...</td>\n",
       "      <td>...</td>\n",
       "      <td>...</td>\n",
       "      <td>...</td>\n",
       "    </tr>\n",
       "    <tr>\n",
       "      <th>436</th>\n",
       "      <td>s_scapterisci</td>\n",
       "      <td>p_mayer</td>\n",
       "      <td>1.19</td>\n",
       "      <td>s_scapterisci</td>\n",
       "      <td>s_scapterisci p_mayer</td>\n",
       "      <td>1.19</td>\n",
       "      <td>s_scapterisci</td>\n",
       "      <td>p_mayer</td>\n",
       "      <td>0.38</td>\n",
       "      <td>s_scapterisci p_mayer</td>\n",
       "      <td>0.38</td>\n",
       "      <td>2</td>\n",
       "      <td>NaN</td>\n",
       "    </tr>\n",
       "    <tr>\n",
       "      <th>437</th>\n",
       "      <td>s_scapterisci</td>\n",
       "      <td>p_redivivus</td>\n",
       "      <td>1.07</td>\n",
       "      <td>s_scapterisci</td>\n",
       "      <td>s_scapterisci p_redivivus</td>\n",
       "      <td>1.07</td>\n",
       "      <td>s_scapterisci</td>\n",
       "      <td>p_redivivus</td>\n",
       "      <td>0.64</td>\n",
       "      <td>s_scapterisci p_redivivus</td>\n",
       "      <td>0.64</td>\n",
       "      <td>2</td>\n",
       "      <td>NaN</td>\n",
       "    </tr>\n",
       "    <tr>\n",
       "      <th>438</th>\n",
       "      <td>s_scapterisci</td>\n",
       "      <td>p_univalens</td>\n",
       "      <td>1.82</td>\n",
       "      <td>s_scapterisci</td>\n",
       "      <td>s_scapterisci p_univalens</td>\n",
       "      <td>1.82</td>\n",
       "      <td>s_scapterisci</td>\n",
       "      <td>p_univalens</td>\n",
       "      <td>0.29</td>\n",
       "      <td>s_scapterisci p_univalens</td>\n",
       "      <td>0.29</td>\n",
       "      <td>1</td>\n",
       "      <td>NaN</td>\n",
       "    </tr>\n",
       "    <tr>\n",
       "      <th>439</th>\n",
       "      <td>s_scapterisci</td>\n",
       "      <td>s_digitata</td>\n",
       "      <td>1.15</td>\n",
       "      <td>s_scapterisci</td>\n",
       "      <td>s_scapterisci s_digitata</td>\n",
       "      <td>1.15</td>\n",
       "      <td>s_scapterisci</td>\n",
       "      <td>s_digitata</td>\n",
       "      <td>0.42</td>\n",
       "      <td>s_scapterisci s_digitata</td>\n",
       "      <td>0.42</td>\n",
       "      <td>2</td>\n",
       "      <td>NaN</td>\n",
       "    </tr>\n",
       "    <tr>\n",
       "      <th>440</th>\n",
       "      <td>s_scapterisci</td>\n",
       "      <td>s_scapterisci</td>\n",
       "      <td>0.00</td>\n",
       "      <td>s_scapterisci</td>\n",
       "      <td>s_scapterisci s_scapterisci</td>\n",
       "      <td>0.00</td>\n",
       "      <td>s_scapterisci</td>\n",
       "      <td>s_scapterisci</td>\n",
       "      <td>0.00</td>\n",
       "      <td>s_scapterisci s_scapterisci</td>\n",
       "      <td>0.00</td>\n",
       "      <td>3</td>\n",
       "      <td>NaN</td>\n",
       "    </tr>\n",
       "  </tbody>\n",
       "</table>\n",
       "<p>441 rows × 13 columns</p>\n",
       "</div>"
      ],
      "text/plain": [
       "           level_0        level_1     0   level_0_par1  \\\n",
       "0            a_loa          a_loa  0.00          a_loa   \n",
       "1            a_loa         a_suum  1.50          a_loa   \n",
       "2            a_loa       b_malayi  0.34          a_loa   \n",
       "3            a_loa     c_brenneri  1.41          a_loa   \n",
       "4            a_loa     c_briggsae  1.17          a_loa   \n",
       "..             ...            ...   ...            ...   \n",
       "436  s_scapterisci        p_mayer  1.19  s_scapterisci   \n",
       "437  s_scapterisci    p_redivivus  1.07  s_scapterisci   \n",
       "438  s_scapterisci    p_univalens  1.82  s_scapterisci   \n",
       "439  s_scapterisci     s_digitata  1.15  s_scapterisci   \n",
       "440  s_scapterisci  s_scapterisci  0.00  s_scapterisci   \n",
       "\n",
       "                          labels  par1_values        level_0        level_1  \\\n",
       "0                    a_loa a_loa         0.00          a_loa          a_loa   \n",
       "1                   a_loa a_suum         1.50          a_loa         a_suum   \n",
       "2                 a_loa b_malayi         0.34          a_loa       b_malayi   \n",
       "3               a_loa c_brenneri         1.41          a_loa     c_brenneri   \n",
       "4               a_loa c_briggsae         1.17          a_loa     c_briggsae   \n",
       "..                           ...          ...            ...            ...   \n",
       "436        s_scapterisci p_mayer         1.19  s_scapterisci        p_mayer   \n",
       "437    s_scapterisci p_redivivus         1.07  s_scapterisci    p_redivivus   \n",
       "438    s_scapterisci p_univalens         1.82  s_scapterisci    p_univalens   \n",
       "439     s_scapterisci s_digitata         1.15  s_scapterisci     s_digitata   \n",
       "440  s_scapterisci s_scapterisci         0.00  s_scapterisci  s_scapterisci   \n",
       "\n",
       "        0                     y_labels  pkc3_values  clusters    R2  \n",
       "0    0.00                  a_loa a_loa         0.00         3  0.41  \n",
       "1    0.28                 a_loa a_suum         0.28         4  0.41  \n",
       "2    0.06               a_loa b_malayi         0.06         0  0.41  \n",
       "3    0.37             a_loa c_brenneri         0.37         4  0.41  \n",
       "4    0.37             a_loa c_briggsae         0.37         2  0.41  \n",
       "..    ...                          ...          ...       ...   ...  \n",
       "436  0.38        s_scapterisci p_mayer         0.38         2   NaN  \n",
       "437  0.64    s_scapterisci p_redivivus         0.64         2   NaN  \n",
       "438  0.29    s_scapterisci p_univalens         0.29         1   NaN  \n",
       "439  0.42     s_scapterisci s_digitata         0.42         2   NaN  \n",
       "440  0.00  s_scapterisci s_scapterisci         0.00         3   NaN  \n",
       "\n",
       "[441 rows x 13 columns]"
      ]
     },
     "execution_count": 165,
     "metadata": {},
     "output_type": "execute_result"
    }
   ],
   "source": [
    "xy"
   ]
  },
  {
   "cell_type": "code",
   "execution_count": 202,
   "metadata": {},
   "outputs": [],
   "source": [
    "import plotly.express as px\n",
    "import plotly.graph_objects as go\n",
    "from sklearn.linear_model import LinearRegression, Ridge\n",
    "from sklearn.preprocessing import PolynomialFeatures\n",
    "\n",
    "for species in xy['level_0_par1'].unique():\n",
    "    species_df = xy[xy['level_0_par1']==species]\n",
    "    X =  species_df['par1_values'].values.reshape(-1,1)\n",
    "    Y = species_df['pkc3_values'].values.reshape(-1,1)\n",
    "\n",
    "    model = Ridge(fit_intercept=True)\n",
    "    model.fit(X,Y)\n",
    "    xy.loc[xy['level_0_par1']==species, 'R2'] = model.score(X, Y)"
   ]
  },
  {
   "cell_type": "code",
   "execution_count": 203,
   "metadata": {},
   "outputs": [],
   "source": [
    "data_cluster = xy['R2']\n",
    "\n",
    "from sklearn.cluster import KMeans, DBSCAN\n",
    "\n",
    "\n",
    "clustering = KMeans(n_clusters=3, random_state=0).fit(data_cluster.values.reshape(-1,1))\n",
    "\n",
    "xy['clusters'] = clustering.labels_.astype(str)\n",
    "\n",
    "for i in clustering.labels_.astype(str):\n",
    "    xy.loc[xy['clusters']==i,'clusters_R2_max'] = str(xy.loc[xy['clusters']==i,'R2'].round(2).min())+' to ' + str(xy.loc[xy['clusters']==i,'R2'].round(2).max())\n",
    "\n"
   ]
  },
  {
   "cell_type": "code",
   "execution_count": 226,
   "metadata": {},
   "outputs": [
    {
     "data": {
      "text/plain": [
       "Index([        'level_0',         'level_1',                 0,\n",
       "          'level_0_par1',          'labels',     'par1_values',\n",
       "               'level_0',         'level_1',                 0,\n",
       "              'y_labels',     'pkc3_values',        'clusters',\n",
       "                    'R2', 'clusters_R2_max'],\n",
       "      dtype='object')"
      ]
     },
     "execution_count": 226,
     "metadata": {},
     "output_type": "execute_result"
    }
   ],
   "source": [
    "xy.columns"
   ]
  },
  {
   "cell_type": "code",
   "execution_count": 233,
   "metadata": {},
   "outputs": [
    {
     "data": {
      "text/html": [
       "<div>\n",
       "<style scoped>\n",
       "    .dataframe tbody tr th:only-of-type {\n",
       "        vertical-align: middle;\n",
       "    }\n",
       "\n",
       "    .dataframe tbody tr th {\n",
       "        vertical-align: top;\n",
       "    }\n",
       "\n",
       "    .dataframe thead th {\n",
       "        text-align: right;\n",
       "    }\n",
       "</style>\n",
       "<table border=\"1\" class=\"dataframe\">\n",
       "  <thead>\n",
       "    <tr style=\"text-align: right;\">\n",
       "      <th>clusters_R2_max</th>\n",
       "      <th>0.11 to 0.14</th>\n",
       "      <th>0.24 to 0.3</th>\n",
       "      <th>0.35 to 0.54</th>\n",
       "    </tr>\n",
       "    <tr>\n",
       "      <th>level_0_par1</th>\n",
       "      <th></th>\n",
       "      <th></th>\n",
       "      <th></th>\n",
       "    </tr>\n",
       "  </thead>\n",
       "  <tbody>\n",
       "    <tr>\n",
       "      <th>a_loa</th>\n",
       "      <td></td>\n",
       "      <td></td>\n",
       "      <td>0.391649</td>\n",
       "    </tr>\n",
       "    <tr>\n",
       "      <th>a_suum</th>\n",
       "      <td>0.112978</td>\n",
       "      <td></td>\n",
       "      <td></td>\n",
       "    </tr>\n",
       "    <tr>\n",
       "      <th>b_malayi</th>\n",
       "      <td></td>\n",
       "      <td></td>\n",
       "      <td>0.355067</td>\n",
       "    </tr>\n",
       "    <tr>\n",
       "      <th>c_brenneri</th>\n",
       "      <td></td>\n",
       "      <td></td>\n",
       "      <td>0.440065</td>\n",
       "    </tr>\n",
       "    <tr>\n",
       "      <th>c_briggsae</th>\n",
       "      <td></td>\n",
       "      <td></td>\n",
       "      <td>0.385092</td>\n",
       "    </tr>\n",
       "    <tr>\n",
       "      <th>c_elegans</th>\n",
       "      <td></td>\n",
       "      <td></td>\n",
       "      <td>0.376706</td>\n",
       "    </tr>\n",
       "    <tr>\n",
       "      <th>c_inopinata</th>\n",
       "      <td></td>\n",
       "      <td></td>\n",
       "      <td>0.34779</td>\n",
       "    </tr>\n",
       "    <tr>\n",
       "      <th>c_japonica</th>\n",
       "      <td></td>\n",
       "      <td></td>\n",
       "      <td>0.537212</td>\n",
       "    </tr>\n",
       "    <tr>\n",
       "      <th>c_panamensis</th>\n",
       "      <td></td>\n",
       "      <td></td>\n",
       "      <td>0.372377</td>\n",
       "    </tr>\n",
       "    <tr>\n",
       "      <th>d_coronatus</th>\n",
       "      <td></td>\n",
       "      <td></td>\n",
       "      <td>0.442927</td>\n",
       "    </tr>\n",
       "    <tr>\n",
       "      <th>d_pachys</th>\n",
       "      <td></td>\n",
       "      <td></td>\n",
       "      <td>0.450967</td>\n",
       "    </tr>\n",
       "    <tr>\n",
       "      <th>o_tipulae</th>\n",
       "      <td>0.142936</td>\n",
       "      <td></td>\n",
       "      <td></td>\n",
       "    </tr>\n",
       "    <tr>\n",
       "      <th>o_volvulus</th>\n",
       "      <td></td>\n",
       "      <td></td>\n",
       "      <td>0.363208</td>\n",
       "    </tr>\n",
       "    <tr>\n",
       "      <th>p_arcanus</th>\n",
       "      <td></td>\n",
       "      <td></td>\n",
       "      <td>0.429565</td>\n",
       "    </tr>\n",
       "    <tr>\n",
       "      <th>p_entomophagus</th>\n",
       "      <td></td>\n",
       "      <td>0.249042</td>\n",
       "      <td></td>\n",
       "    </tr>\n",
       "    <tr>\n",
       "      <th>p_japonicus</th>\n",
       "      <td></td>\n",
       "      <td></td>\n",
       "      <td>0.392116</td>\n",
       "    </tr>\n",
       "    <tr>\n",
       "      <th>p_mayer</th>\n",
       "      <td></td>\n",
       "      <td>0.243641</td>\n",
       "      <td></td>\n",
       "    </tr>\n",
       "    <tr>\n",
       "      <th>p_redivivus</th>\n",
       "      <td></td>\n",
       "      <td>0.29983</td>\n",
       "      <td></td>\n",
       "    </tr>\n",
       "    <tr>\n",
       "      <th>p_univalens</th>\n",
       "      <td>0.117487</td>\n",
       "      <td></td>\n",
       "      <td></td>\n",
       "    </tr>\n",
       "    <tr>\n",
       "      <th>s_digitata</th>\n",
       "      <td></td>\n",
       "      <td></td>\n",
       "      <td>0.403658</td>\n",
       "    </tr>\n",
       "    <tr>\n",
       "      <th>s_scapterisci</th>\n",
       "      <td>0.108764</td>\n",
       "      <td></td>\n",
       "      <td></td>\n",
       "    </tr>\n",
       "  </tbody>\n",
       "</table>\n",
       "</div>"
      ],
      "text/plain": [
       "clusters_R2_max 0.11 to 0.14 0.24 to 0.3 0.35 to 0.54\n",
       "level_0_par1                                         \n",
       "a_loa                                        0.391649\n",
       "a_suum              0.112978                         \n",
       "b_malayi                                     0.355067\n",
       "c_brenneri                                   0.440065\n",
       "c_briggsae                                   0.385092\n",
       "c_elegans                                    0.376706\n",
       "c_inopinata                                   0.34779\n",
       "c_japonica                                   0.537212\n",
       "c_panamensis                                 0.372377\n",
       "d_coronatus                                  0.442927\n",
       "d_pachys                                     0.450967\n",
       "o_tipulae           0.142936                         \n",
       "o_volvulus                                   0.363208\n",
       "p_arcanus                                    0.429565\n",
       "p_entomophagus                  0.249042             \n",
       "p_japonicus                                  0.392116\n",
       "p_mayer                         0.243641             \n",
       "p_redivivus                      0.29983             \n",
       "p_univalens         0.117487                         \n",
       "s_digitata                                   0.403658\n",
       "s_scapterisci       0.108764                         "
      ]
     },
     "execution_count": 233,
     "metadata": {},
     "output_type": "execute_result"
    }
   ],
   "source": []
  },
  {
   "cell_type": "code",
   "execution_count": 221,
   "metadata": {},
   "outputs": [
    {
     "data": {
      "application/vnd.plotly.v1+json": {
       "config": {
        "plotlyServerURL": "https://plot.ly"
       },
       "data": [
        {
         "customdata": [
          [
           0,
           0,
           0.39164913024397074
          ],
          [
           1.5,
           0.28,
           0.39164913024397074
          ],
          [
           0.34,
           0.06,
           0.39164913024397074
          ],
          [
           1.41,
           0.37,
           0.39164913024397074
          ],
          [
           1.17,
           0.37,
           0.39164913024397074
          ],
          [
           1.1,
           0.37,
           0.39164913024397074
          ],
          [
           1.18,
           0.36,
           0.39164913024397074
          ],
          [
           1.1,
           0.7,
           0.39164913024397074
          ],
          [
           1.26,
           0.36,
           0.39164913024397074
          ],
          [
           1.64,
           0.35,
           0.39164913024397074
          ],
          [
           1.69,
           0.35,
           0.39164913024397074
          ],
          [
           1.2,
           0.41,
           0.39164913024397074
          ],
          [
           0.21,
           0.07,
           0.39164913024397074
          ],
          [
           1.81,
           0.31,
           0.39164913024397074
          ],
          [
           1.16,
           0.32,
           0.39164913024397074
          ],
          [
           1.43,
           0.33,
           0.39164913024397074
          ],
          [
           1.17,
           0.31,
           0.39164913024397074
          ],
          [
           1.05,
           0.53,
           0.39164913024397074
          ],
          [
           1.8,
           0.35,
           0.39164913024397074
          ],
          [
           0.19,
           0.09,
           0.39164913024397074
          ],
          [
           1.17,
           0.39,
           0.39164913024397074
          ],
          [
           0.34,
           0.06,
           0.3550670547626211
          ],
          [
           1.44,
           0.28,
           0.3550670547626211
          ],
          [
           0,
           0,
           0.3550670547626211
          ],
          [
           1.35,
           0.36,
           0.3550670547626211
          ],
          [
           1.11,
           0.36,
           0.3550670547626211
          ],
          [
           1.04,
           0.36,
           0.3550670547626211
          ],
          [
           1.12,
           0.35,
           0.3550670547626211
          ],
          [
           1.04,
           0.69,
           0.3550670547626211
          ],
          [
           1.2,
           0.35,
           0.3550670547626211
          ],
          [
           1.58,
           0.34,
           0.3550670547626211
          ],
          [
           1.64,
           0.34,
           0.3550670547626211
          ],
          [
           1.15,
           0.4,
           0.3550670547626211
          ],
          [
           0.32,
           0.06,
           0.3550670547626211
          ],
          [
           1.76,
           0.3,
           0.3550670547626211
          ],
          [
           1.1,
           0.31,
           0.3550670547626211
          ],
          [
           1.37,
           0.32,
           0.3550670547626211
          ],
          [
           1.11,
           0.31,
           0.3550670547626211
          ],
          [
           0.99,
           0.52,
           0.3550670547626211
          ],
          [
           1.74,
           0.34,
           0.3550670547626211
          ],
          [
           0.32,
           0.08,
           0.3550670547626211
          ],
          [
           1.11,
           0.39,
           0.3550670547626211
          ],
          [
           1.41,
           0.37,
           0.4400650944164227
          ],
          [
           1.54,
           0.46,
           0.4400650944164227
          ],
          [
           1.35,
           0.36,
           0.4400650944164227
          ],
          [
           0,
           0,
           0.4400650944164227
          ],
          [
           0.51,
           0.04,
           0.4400650944164227
          ],
          [
           0.43,
           0.06,
           0.4400650944164227
          ],
          [
           0.7,
           0.08,
           0.4400650944164227
          ],
          [
           0.61,
           0.46,
           0.4400650944164227
          ],
          [
           0.78,
           0.13,
           0.4400650944164227
          ],
          [
           1.67,
           0.29,
           0.4400650944164227
          ],
          [
           1.73,
           0.29,
           0.4400650944164227
          ],
          [
           1.13,
           0.38,
           0.4400650944164227
          ],
          [
           1.39,
           0.36,
           0.4400650944164227
          ],
          [
           1.85,
           0.35,
           0.4400650944164227
          ],
          [
           1.19,
           0.36,
           0.4400650944164227
          ],
          [
           1.47,
           0.37,
           0.4400650944164227
          ],
          [
           1.21,
           0.36,
           0.4400650944164227
          ],
          [
           1.31,
           0.62,
           0.4400650944164227
          ],
          [
           1.83,
           0.38,
           0.4400650944164227
          ],
          [
           1.39,
           0.39,
           0.4400650944164227
          ],
          [
           1.43,
           0.42,
           0.4400650944164227
          ],
          [
           1.17,
           0.37,
           0.3850921762539029
          ],
          [
           1.3,
           0.46,
           0.3850921762539029
          ],
          [
           1.11,
           0.36,
           0.3850921762539029
          ],
          [
           0.51,
           0.04,
           0.3850921762539029
          ],
          [
           0,
           0,
           0.3850921762539029
          ],
          [
           0.17,
           0.06,
           0.3850921762539029
          ],
          [
           0.46,
           0.08,
           0.3850921762539029
          ],
          [
           0.38,
           0.47,
           0.3850921762539029
          ],
          [
           0.54,
           0.13,
           0.3850921762539029
          ],
          [
           1.44,
           0.29,
           0.3850921762539029
          ],
          [
           1.49,
           0.29,
           0.3850921762539029
          ],
          [
           0.89,
           0.39,
           0.3850921762539029
          ],
          [
           1.15,
           0.36,
           0.3850921762539029
          ],
          [
           1.61,
           0.35,
           0.3850921762539029
          ],
          [
           0.96,
           0.36,
           0.3850921762539029
          ],
          [
           1.23,
           0.37,
           0.3850921762539029
          ],
          [
           0.97,
           0.36,
           0.3850921762539029
          ],
          [
           1.07,
           0.62,
           0.3850921762539029
          ],
          [
           1.6,
           0.38,
           0.3850921762539029
          ],
          [
           1.15,
           0.39,
           0.3850921762539029
          ],
          [
           1.19,
           0.42,
           0.3850921762539029
          ],
          [
           1.1,
           0.37,
           0.37670596190403394
          ],
          [
           1.22,
           0.45,
           0.37670596190403394
          ],
          [
           1.04,
           0.36,
           0.37670596190403394
          ],
          [
           0.43,
           0.06,
           0.37670596190403394
          ],
          [
           0.17,
           0.06,
           0.37670596190403394
          ],
          [
           0,
           0,
           0.37670596190403394
          ],
          [
           0.38,
           0.07,
           0.37670596190403394
          ],
          [
           0.3,
           0.46,
           0.37670596190403394
          ],
          [
           0.47,
           0.12,
           0.37670596190403394
          ],
          [
           1.36,
           0.29,
           0.37670596190403394
          ],
          [
           1.42,
           0.29,
           0.37670596190403394
          ],
          [
           0.81,
           0.38,
           0.37670596190403394
          ],
          [
           1.08,
           0.35,
           0.37670596190403394
          ],
          [
           1.54,
           0.34,
           0.37670596190403394
          ],
          [
           0.88,
           0.35,
           0.37670596190403394
          ],
          [
           1.16,
           0.36,
           0.37670596190403394
          ],
          [
           0.89,
           0.35,
           0.37670596190403394
          ],
          [
           1,
           0.61,
           0.37670596190403394
          ],
          [
           1.52,
           0.37,
           0.37670596190403394
          ],
          [
           1.08,
           0.39,
           0.37670596190403394
          ],
          [
           1.12,
           0.42,
           0.37670596190403394
          ],
          [
           1.18,
           0.36,
           0.34778977394623156
          ],
          [
           1.31,
           0.45,
           0.34778977394623156
          ],
          [
           1.12,
           0.35,
           0.34778977394623156
          ],
          [
           0.7,
           0.08,
           0.34778977394623156
          ],
          [
           0.46,
           0.08,
           0.34778977394623156
          ],
          [
           0.38,
           0.07,
           0.34778977394623156
          ],
          [
           0,
           0,
           0.34778977394623156
          ],
          [
           0.38,
           0.46,
           0.34778977394623156
          ],
          [
           0.38,
           0.12,
           0.34778977394623156
          ],
          [
           1.44,
           0.28,
           0.34778977394623156
          ],
          [
           1.5,
           0.28,
           0.34778977394623156
          ],
          [
           0.9,
           0.38,
           0.34778977394623156
          ],
          [
           1.16,
           0.35,
           0.34778977394623156
          ],
          [
           1.62,
           0.34,
           0.34778977394623156
          ],
          [
           0.96,
           0.35,
           0.34778977394623156
          ],
          [
           1.24,
           0.36,
           0.34778977394623156
          ],
          [
           0.98,
           0.35,
           0.34778977394623156
          ],
          [
           1.08,
           0.61,
           0.34778977394623156
          ],
          [
           1.6,
           0.37,
           0.34778977394623156
          ],
          [
           1.16,
           0.38,
           0.34778977394623156
          ],
          [
           1.2,
           0.41,
           0.34778977394623156
          ],
          [
           1.1,
           0.7,
           0.5372121639629632
          ],
          [
           1.22,
           0.78,
           0.5372121639629632
          ],
          [
           1.04,
           0.69,
           0.5372121639629632
          ],
          [
           0.61,
           0.46,
           0.5372121639629632
          ],
          [
           0.38,
           0.47,
           0.5372121639629632
          ],
          [
           0.3,
           0.46,
           0.5372121639629632
          ],
          [
           0.38,
           0.46,
           0.5372121639629632
          ],
          [
           0,
           0,
           0.5372121639629632
          ],
          [
           0.47,
           0.43,
           0.5372121639629632
          ],
          [
           1.36,
           0.62,
           0.5372121639629632
          ],
          [
           1.42,
           0.62,
           0.5372121639629632
          ],
          [
           0.82,
           0.71,
           0.5372121639629632
          ],
          [
           1.08,
           0.68,
           0.5372121639629632
          ],
          [
           1.54,
           0.68,
           0.5372121639629632
          ],
          [
           0.88,
           0.68,
           0.5372121639629632
          ],
          [
           1.16,
           0.69,
           0.5372121639629632
          ],
          [
           0.89,
           0.68,
           0.5372121639629632
          ],
          [
           1,
           0.94,
           0.5372121639629632
          ],
          [
           1.52,
           0.7,
           0.5372121639629632
          ],
          [
           1.08,
           0.72,
           0.5372121639629632
          ],
          [
           1.12,
           0.75,
           0.5372121639629632
          ],
          [
           1.26,
           0.36,
           0.3723769768401567
          ],
          [
           1.39,
           0.45,
           0.3723769768401567
          ],
          [
           1.2,
           0.35,
           0.3723769768401567
          ],
          [
           0.78,
           0.13,
           0.3723769768401567
          ],
          [
           0.54,
           0.13,
           0.3723769768401567
          ],
          [
           0.47,
           0.12,
           0.3723769768401567
          ],
          [
           0.38,
           0.12,
           0.3723769768401567
          ],
          [
           0.47,
           0.43,
           0.3723769768401567
          ],
          [
           0,
           0,
           0.3723769768401567
          ],
          [
           1.53,
           0.28,
           0.3723769768401567
          ],
          [
           1.59,
           0.28,
           0.3723769768401567
          ],
          [
           0.98,
           0.38,
           0.3723769768401567
          ],
          [
           1.25,
           0.35,
           0.3723769768401567
          ],
          [
           1.71,
           0.34,
           0.3723769768401567
          ],
          [
           1.05,
           0.35,
           0.3723769768401567
          ],
          [
           1.32,
           0.36,
           0.3723769768401567
          ],
          [
           1.06,
           0.35,
           0.3723769768401567
          ],
          [
           1.16,
           0.61,
           0.3723769768401567
          ],
          [
           1.69,
           0.37,
           0.3723769768401567
          ],
          [
           1.24,
           0.38,
           0.3723769768401567
          ],
          [
           1.28,
           0.41,
           0.3723769768401567
          ],
          [
           1.64,
           0.35,
           0.44292686684071453
          ],
          [
           1.18,
           0.43,
           0.44292686684071453
          ],
          [
           1.58,
           0.34,
           0.44292686684071453
          ],
          [
           1.67,
           0.29,
           0.44292686684071453
          ],
          [
           1.44,
           0.29,
           0.44292686684071453
          ],
          [
           1.36,
           0.29,
           0.44292686684071453
          ],
          [
           1.44,
           0.28,
           0.44292686684071453
          ],
          [
           1.36,
           0.62,
           0.44292686684071453
          ],
          [
           1.53,
           0.28,
           0.44292686684071453
          ],
          [
           0,
           0,
           0.44292686684071453
          ],
          [
           0.06,
           0,
           0.44292686684071453
          ],
          [
           1.47,
           0.36,
           0.44292686684071453
          ],
          [
           1.62,
           0.33,
           0.44292686684071453
          ],
          [
           2.08,
           0.33,
           0.44292686684071453
          ],
          [
           1.42,
           0.33,
           0.44292686684071453
          ],
          [
           1.7,
           0.34,
           0.44292686684071453
          ],
          [
           1.43,
           0.33,
           0.44292686684071453
          ],
          [
           1.54,
           0.59,
           0.44292686684071453
          ],
          [
           1.47,
           0.35,
           0.44292686684071453
          ],
          [
           1.62,
           0.37,
           0.44292686684071453
          ],
          [
           1.66,
           0.4,
           0.44292686684071453
          ],
          [
           1.69,
           0.35,
           0.45096742145265306
          ],
          [
           1.23,
           0.43,
           0.45096742145265306
          ],
          [
           1.64,
           0.34,
           0.45096742145265306
          ],
          [
           1.73,
           0.29,
           0.45096742145265306
          ],
          [
           1.49,
           0.29,
           0.45096742145265306
          ],
          [
           1.42,
           0.29,
           0.45096742145265306
          ],
          [
           1.5,
           0.28,
           0.45096742145265306
          ],
          [
           1.42,
           0.62,
           0.45096742145265306
          ],
          [
           1.59,
           0.28,
           0.45096742145265306
          ],
          [
           0.06,
           0,
           0.45096742145265306
          ],
          [
           0,
           0,
           0.45096742145265306
          ],
          [
           1.53,
           0.36,
           0.45096742145265306
          ],
          [
           1.68,
           0.33,
           0.45096742145265306
          ],
          [
           2.14,
           0.33,
           0.45096742145265306
          ],
          [
           1.48,
           0.33,
           0.45096742145265306
          ],
          [
           1.75,
           0.34,
           0.45096742145265306
          ],
          [
           1.49,
           0.33,
           0.45096742145265306
          ],
          [
           1.6,
           0.59,
           0.45096742145265306
          ],
          [
           1.53,
           0.35,
           0.45096742145265306
          ],
          [
           1.68,
           0.37,
           0.45096742145265306
          ],
          [
           1.72,
           0.4,
           0.45096742145265306
          ],
          [
           0.21,
           0.07,
           0.3632075366931423
          ],
          [
           1.48,
           0.27,
           0.3632075366931423
          ],
          [
           0.32,
           0.06,
           0.3632075366931423
          ],
          [
           1.39,
           0.36,
           0.3632075366931423
          ],
          [
           1.15,
           0.36,
           0.3632075366931423
          ],
          [
           1.08,
           0.35,
           0.3632075366931423
          ],
          [
           1.16,
           0.35,
           0.3632075366931423
          ],
          [
           1.08,
           0.68,
           0.3632075366931423
          ],
          [
           1.25,
           0.35,
           0.3632075366931423
          ],
          [
           1.62,
           0.33,
           0.3632075366931423
          ],
          [
           1.68,
           0.33,
           0.3632075366931423
          ],
          [
           1.19,
           0.39,
           0.3632075366931423
          ],
          [
           0,
           0,
           0.3632075366931423
          ],
          [
           1.8,
           0.29,
           0.3632075366931423
          ],
          [
           1.14,
           0.3,
           0.3632075366931423
          ],
          [
           1.41,
           0.31,
           0.3632075366931423
          ],
          [
           1.15,
           0.3,
           0.3632075366931423
          ],
          [
           1.03,
           0.52,
           0.3632075366931423
          ],
          [
           1.78,
           0.33,
           0.3632075366931423
          ],
          [
           0.19,
           0.09,
           0.3632075366931423
          ],
          [
           1.15,
           0.38,
           0.3632075366931423
          ],
          [
           1.81,
           0.31,
           0.4295646631284262
          ],
          [
           1.94,
           0.39,
           0.4295646631284262
          ],
          [
           1.76,
           0.3,
           0.4295646631284262
          ],
          [
           1.85,
           0.35,
           0.4295646631284262
          ],
          [
           1.61,
           0.35,
           0.4295646631284262
          ],
          [
           1.54,
           0.34,
           0.4295646631284262
          ],
          [
           1.62,
           0.34,
           0.4295646631284262
          ],
          [
           1.54,
           0.68,
           0.4295646631284262
          ],
          [
           1.71,
           0.34,
           0.4295646631284262
          ],
          [
           2.08,
           0.33,
           0.4295646631284262
          ],
          [
           2.14,
           0.33,
           0.4295646631284262
          ],
          [
           1.65,
           0.38,
           0.4295646631284262
          ],
          [
           1.8,
           0.29,
           0.4295646631284262
          ],
          [
           0,
           0,
           0.4295646631284262
          ],
          [
           1.04,
           0.07,
           0.4295646631284262
          ],
          [
           0.8,
           0.06,
           0.4295646631284262
          ],
          [
           1.05,
           0.06,
           0.4295646631284262
          ],
          [
           1.72,
           0.55,
           0.4295646631284262
          ],
          [
           2.24,
           0.33,
           0.4295646631284262
          ],
          [
           1.8,
           0.33,
           0.4295646631284262
          ],
          [
           1.84,
           0.37,
           0.4295646631284262
          ],
          [
           1.43,
           0.33,
           0.3921156118906852
          ],
          [
           1.56,
           0.41,
           0.3921156118906852
          ],
          [
           1.37,
           0.32,
           0.3921156118906852
          ],
          [
           1.47,
           0.37,
           0.3921156118906852
          ],
          [
           1.23,
           0.37,
           0.3921156118906852
          ],
          [
           1.16,
           0.36,
           0.3921156118906852
          ],
          [
           1.24,
           0.36,
           0.3921156118906852
          ],
          [
           1.16,
           0.69,
           0.3921156118906852
          ],
          [
           1.32,
           0.36,
           0.3921156118906852
          ],
          [
           1.7,
           0.34,
           0.3921156118906852
          ],
          [
           1.75,
           0.34,
           0.3921156118906852
          ],
          [
           1.26,
           0.4,
           0.3921156118906852
          ],
          [
           1.41,
           0.31,
           0.3921156118906852
          ],
          [
           0.8,
           0.06,
           0.3921156118906852
          ],
          [
           0.66,
           0.08,
           0.3921156118906852
          ],
          [
           0,
           0,
           0.3921156118906852
          ],
          [
           0.67,
           0.08,
           0.3921156118906852
          ],
          [
           1.33,
           0.57,
           0.3921156118906852
          ],
          [
           1.86,
           0.34,
           0.3921156118906852
          ],
          [
           1.41,
           0.35,
           0.3921156118906852
          ],
          [
           1.45,
           0.39,
           0.3921156118906852
          ],
          [
           0.19,
           0.09,
           0.40365822066250767
          ],
          [
           1.48,
           0.31,
           0.40365822066250767
          ],
          [
           0.32,
           0.08,
           0.40365822066250767
          ],
          [
           1.39,
           0.39,
           0.40365822066250767
          ],
          [
           1.15,
           0.39,
           0.40365822066250767
          ],
          [
           1.08,
           0.39,
           0.40365822066250767
          ],
          [
           1.16,
           0.38,
           0.40365822066250767
          ],
          [
           1.08,
           0.72,
           0.40365822066250767
          ],
          [
           1.24,
           0.38,
           0.40365822066250767
          ],
          [
           1.62,
           0.37,
           0.40365822066250767
          ],
          [
           1.68,
           0.37,
           0.40365822066250767
          ],
          [
           1.19,
           0.43,
           0.40365822066250767
          ],
          [
           0.19,
           0.09,
           0.40365822066250767
          ],
          [
           1.8,
           0.33,
           0.40365822066250767
          ],
          [
           1.14,
           0.34,
           0.40365822066250767
          ],
          [
           1.41,
           0.35,
           0.40365822066250767
          ],
          [
           1.15,
           0.34,
           0.40365822066250767
          ],
          [
           1.03,
           0.55,
           0.40365822066250767
          ],
          [
           1.78,
           0.37,
           0.40365822066250767
          ],
          [
           0,
           0,
           0.40365822066250767
          ],
          [
           1.15,
           0.42,
           0.40365822066250767
          ]
         ],
         "hovertemplate": "<b>%{hovertext}</b><br><br>clusters_R2_max=0.35 to 0.54<br>par1_values=%{customdata[0]}<br>pkc3_values=%{customdata[1]}<br>R2=%{customdata[2]}<extra></extra>",
         "hovertext": [
          "a_loa a_loa",
          "a_loa a_suum",
          "a_loa b_malayi",
          "a_loa c_brenneri",
          "a_loa c_briggsae",
          "a_loa c_elegans",
          "a_loa c_inopinata",
          "a_loa c_japonica",
          "a_loa c_panamensis",
          "a_loa d_coronatus",
          "a_loa d_pachys",
          "a_loa o_tipulae",
          "a_loa o_volvulus",
          "a_loa p_arcanus",
          "a_loa p_entomophagus",
          "a_loa p_japonicus",
          "a_loa p_mayer",
          "a_loa p_redivivus",
          "a_loa p_univalens",
          "a_loa s_digitata",
          "a_loa s_scapterisci",
          "b_malayi a_loa",
          "b_malayi a_suum",
          "b_malayi b_malayi",
          "b_malayi c_brenneri",
          "b_malayi c_briggsae",
          "b_malayi c_elegans",
          "b_malayi c_inopinata",
          "b_malayi c_japonica",
          "b_malayi c_panamensis",
          "b_malayi d_coronatus",
          "b_malayi d_pachys",
          "b_malayi o_tipulae",
          "b_malayi o_volvulus",
          "b_malayi p_arcanus",
          "b_malayi p_entomophagus",
          "b_malayi p_japonicus",
          "b_malayi p_mayer",
          "b_malayi p_redivivus",
          "b_malayi p_univalens",
          "b_malayi s_digitata",
          "b_malayi s_scapterisci",
          "c_brenneri a_loa",
          "c_brenneri a_suum",
          "c_brenneri b_malayi",
          "c_brenneri c_brenneri",
          "c_brenneri c_briggsae",
          "c_brenneri c_elegans",
          "c_brenneri c_inopinata",
          "c_brenneri c_japonica",
          "c_brenneri c_panamensis",
          "c_brenneri d_coronatus",
          "c_brenneri d_pachys",
          "c_brenneri o_tipulae",
          "c_brenneri o_volvulus",
          "c_brenneri p_arcanus",
          "c_brenneri p_entomophagus",
          "c_brenneri p_japonicus",
          "c_brenneri p_mayer",
          "c_brenneri p_redivivus",
          "c_brenneri p_univalens",
          "c_brenneri s_digitata",
          "c_brenneri s_scapterisci",
          "c_briggsae a_loa",
          "c_briggsae a_suum",
          "c_briggsae b_malayi",
          "c_briggsae c_brenneri",
          "c_briggsae c_briggsae",
          "c_briggsae c_elegans",
          "c_briggsae c_inopinata",
          "c_briggsae c_japonica",
          "c_briggsae c_panamensis",
          "c_briggsae d_coronatus",
          "c_briggsae d_pachys",
          "c_briggsae o_tipulae",
          "c_briggsae o_volvulus",
          "c_briggsae p_arcanus",
          "c_briggsae p_entomophagus",
          "c_briggsae p_japonicus",
          "c_briggsae p_mayer",
          "c_briggsae p_redivivus",
          "c_briggsae p_univalens",
          "c_briggsae s_digitata",
          "c_briggsae s_scapterisci",
          "c_elegans a_loa",
          "c_elegans a_suum",
          "c_elegans b_malayi",
          "c_elegans c_brenneri",
          "c_elegans c_briggsae",
          "c_elegans c_elegans",
          "c_elegans c_inopinata",
          "c_elegans c_japonica",
          "c_elegans c_panamensis",
          "c_elegans d_coronatus",
          "c_elegans d_pachys",
          "c_elegans o_tipulae",
          "c_elegans o_volvulus",
          "c_elegans p_arcanus",
          "c_elegans p_entomophagus",
          "c_elegans p_japonicus",
          "c_elegans p_mayer",
          "c_elegans p_redivivus",
          "c_elegans p_univalens",
          "c_elegans s_digitata",
          "c_elegans s_scapterisci",
          "c_inopinata a_loa",
          "c_inopinata a_suum",
          "c_inopinata b_malayi",
          "c_inopinata c_brenneri",
          "c_inopinata c_briggsae",
          "c_inopinata c_elegans",
          "c_inopinata c_inopinata",
          "c_inopinata c_japonica",
          "c_inopinata c_panamensis",
          "c_inopinata d_coronatus",
          "c_inopinata d_pachys",
          "c_inopinata o_tipulae",
          "c_inopinata o_volvulus",
          "c_inopinata p_arcanus",
          "c_inopinata p_entomophagus",
          "c_inopinata p_japonicus",
          "c_inopinata p_mayer",
          "c_inopinata p_redivivus",
          "c_inopinata p_univalens",
          "c_inopinata s_digitata",
          "c_inopinata s_scapterisci",
          "c_japonica a_loa",
          "c_japonica a_suum",
          "c_japonica b_malayi",
          "c_japonica c_brenneri",
          "c_japonica c_briggsae",
          "c_japonica c_elegans",
          "c_japonica c_inopinata",
          "c_japonica c_japonica",
          "c_japonica c_panamensis",
          "c_japonica d_coronatus",
          "c_japonica d_pachys",
          "c_japonica o_tipulae",
          "c_japonica o_volvulus",
          "c_japonica p_arcanus",
          "c_japonica p_entomophagus",
          "c_japonica p_japonicus",
          "c_japonica p_mayer",
          "c_japonica p_redivivus",
          "c_japonica p_univalens",
          "c_japonica s_digitata",
          "c_japonica s_scapterisci",
          "c_panamensis a_loa",
          "c_panamensis a_suum",
          "c_panamensis b_malayi",
          "c_panamensis c_brenneri",
          "c_panamensis c_briggsae",
          "c_panamensis c_elegans",
          "c_panamensis c_inopinata",
          "c_panamensis c_japonica",
          "c_panamensis c_panamensis",
          "c_panamensis d_coronatus",
          "c_panamensis d_pachys",
          "c_panamensis o_tipulae",
          "c_panamensis o_volvulus",
          "c_panamensis p_arcanus",
          "c_panamensis p_entomophagus",
          "c_panamensis p_japonicus",
          "c_panamensis p_mayer",
          "c_panamensis p_redivivus",
          "c_panamensis p_univalens",
          "c_panamensis s_digitata",
          "c_panamensis s_scapterisci",
          "d_coronatus a_loa",
          "d_coronatus a_suum",
          "d_coronatus b_malayi",
          "d_coronatus c_brenneri",
          "d_coronatus c_briggsae",
          "d_coronatus c_elegans",
          "d_coronatus c_inopinata",
          "d_coronatus c_japonica",
          "d_coronatus c_panamensis",
          "d_coronatus d_coronatus",
          "d_coronatus d_pachys",
          "d_coronatus o_tipulae",
          "d_coronatus o_volvulus",
          "d_coronatus p_arcanus",
          "d_coronatus p_entomophagus",
          "d_coronatus p_japonicus",
          "d_coronatus p_mayer",
          "d_coronatus p_redivivus",
          "d_coronatus p_univalens",
          "d_coronatus s_digitata",
          "d_coronatus s_scapterisci",
          "d_pachys a_loa",
          "d_pachys a_suum",
          "d_pachys b_malayi",
          "d_pachys c_brenneri",
          "d_pachys c_briggsae",
          "d_pachys c_elegans",
          "d_pachys c_inopinata",
          "d_pachys c_japonica",
          "d_pachys c_panamensis",
          "d_pachys d_coronatus",
          "d_pachys d_pachys",
          "d_pachys o_tipulae",
          "d_pachys o_volvulus",
          "d_pachys p_arcanus",
          "d_pachys p_entomophagus",
          "d_pachys p_japonicus",
          "d_pachys p_mayer",
          "d_pachys p_redivivus",
          "d_pachys p_univalens",
          "d_pachys s_digitata",
          "d_pachys s_scapterisci",
          "o_volvulus a_loa",
          "o_volvulus a_suum",
          "o_volvulus b_malayi",
          "o_volvulus c_brenneri",
          "o_volvulus c_briggsae",
          "o_volvulus c_elegans",
          "o_volvulus c_inopinata",
          "o_volvulus c_japonica",
          "o_volvulus c_panamensis",
          "o_volvulus d_coronatus",
          "o_volvulus d_pachys",
          "o_volvulus o_tipulae",
          "o_volvulus o_volvulus",
          "o_volvulus p_arcanus",
          "o_volvulus p_entomophagus",
          "o_volvulus p_japonicus",
          "o_volvulus p_mayer",
          "o_volvulus p_redivivus",
          "o_volvulus p_univalens",
          "o_volvulus s_digitata",
          "o_volvulus s_scapterisci",
          "p_arcanus a_loa",
          "p_arcanus a_suum",
          "p_arcanus b_malayi",
          "p_arcanus c_brenneri",
          "p_arcanus c_briggsae",
          "p_arcanus c_elegans",
          "p_arcanus c_inopinata",
          "p_arcanus c_japonica",
          "p_arcanus c_panamensis",
          "p_arcanus d_coronatus",
          "p_arcanus d_pachys",
          "p_arcanus o_tipulae",
          "p_arcanus o_volvulus",
          "p_arcanus p_arcanus",
          "p_arcanus p_entomophagus",
          "p_arcanus p_japonicus",
          "p_arcanus p_mayer",
          "p_arcanus p_redivivus",
          "p_arcanus p_univalens",
          "p_arcanus s_digitata",
          "p_arcanus s_scapterisci",
          "p_japonicus a_loa",
          "p_japonicus a_suum",
          "p_japonicus b_malayi",
          "p_japonicus c_brenneri",
          "p_japonicus c_briggsae",
          "p_japonicus c_elegans",
          "p_japonicus c_inopinata",
          "p_japonicus c_japonica",
          "p_japonicus c_panamensis",
          "p_japonicus d_coronatus",
          "p_japonicus d_pachys",
          "p_japonicus o_tipulae",
          "p_japonicus o_volvulus",
          "p_japonicus p_arcanus",
          "p_japonicus p_entomophagus",
          "p_japonicus p_japonicus",
          "p_japonicus p_mayer",
          "p_japonicus p_redivivus",
          "p_japonicus p_univalens",
          "p_japonicus s_digitata",
          "p_japonicus s_scapterisci",
          "s_digitata a_loa",
          "s_digitata a_suum",
          "s_digitata b_malayi",
          "s_digitata c_brenneri",
          "s_digitata c_briggsae",
          "s_digitata c_elegans",
          "s_digitata c_inopinata",
          "s_digitata c_japonica",
          "s_digitata c_panamensis",
          "s_digitata d_coronatus",
          "s_digitata d_pachys",
          "s_digitata o_tipulae",
          "s_digitata o_volvulus",
          "s_digitata p_arcanus",
          "s_digitata p_entomophagus",
          "s_digitata p_japonicus",
          "s_digitata p_mayer",
          "s_digitata p_redivivus",
          "s_digitata p_univalens",
          "s_digitata s_digitata",
          "s_digitata s_scapterisci"
         ],
         "legendgroup": "0.35 to 0.54",
         "marker": {
          "color": "#636efa",
          "symbol": "circle"
         },
         "mode": "markers",
         "name": "0.35 to 0.54",
         "showlegend": true,
         "type": "scatter",
         "x": [
          0,
          1.5,
          0.34,
          1.41,
          1.17,
          1.1,
          1.18,
          1.1,
          1.26,
          1.64,
          1.69,
          1.2,
          0.21,
          1.81,
          1.16,
          1.43,
          1.17,
          1.05,
          1.8,
          0.19,
          1.17,
          0.34,
          1.44,
          0,
          1.35,
          1.11,
          1.04,
          1.12,
          1.04,
          1.2,
          1.58,
          1.64,
          1.15,
          0.32,
          1.76,
          1.1,
          1.37,
          1.11,
          0.99,
          1.74,
          0.32,
          1.11,
          1.41,
          1.54,
          1.35,
          0,
          0.51,
          0.43,
          0.7,
          0.61,
          0.78,
          1.67,
          1.73,
          1.13,
          1.39,
          1.85,
          1.19,
          1.47,
          1.21,
          1.31,
          1.83,
          1.39,
          1.43,
          1.17,
          1.3,
          1.11,
          0.51,
          0,
          0.17,
          0.46,
          0.38,
          0.54,
          1.44,
          1.49,
          0.89,
          1.15,
          1.61,
          0.96,
          1.23,
          0.97,
          1.07,
          1.6,
          1.15,
          1.19,
          1.1,
          1.22,
          1.04,
          0.43,
          0.17,
          0,
          0.38,
          0.3,
          0.47,
          1.36,
          1.42,
          0.81,
          1.08,
          1.54,
          0.88,
          1.16,
          0.89,
          1,
          1.52,
          1.08,
          1.12,
          1.18,
          1.31,
          1.12,
          0.7,
          0.46,
          0.38,
          0,
          0.38,
          0.38,
          1.44,
          1.5,
          0.9,
          1.16,
          1.62,
          0.96,
          1.24,
          0.98,
          1.08,
          1.6,
          1.16,
          1.2,
          1.1,
          1.22,
          1.04,
          0.61,
          0.38,
          0.3,
          0.38,
          0,
          0.47,
          1.36,
          1.42,
          0.82,
          1.08,
          1.54,
          0.88,
          1.16,
          0.89,
          1,
          1.52,
          1.08,
          1.12,
          1.26,
          1.39,
          1.2,
          0.78,
          0.54,
          0.47,
          0.38,
          0.47,
          0,
          1.53,
          1.59,
          0.98,
          1.25,
          1.71,
          1.05,
          1.32,
          1.06,
          1.16,
          1.69,
          1.24,
          1.28,
          1.64,
          1.18,
          1.58,
          1.67,
          1.44,
          1.36,
          1.44,
          1.36,
          1.53,
          0,
          0.06,
          1.47,
          1.62,
          2.08,
          1.42,
          1.7,
          1.43,
          1.54,
          1.47,
          1.62,
          1.66,
          1.69,
          1.23,
          1.64,
          1.73,
          1.49,
          1.42,
          1.5,
          1.42,
          1.59,
          0.06,
          0,
          1.53,
          1.68,
          2.14,
          1.48,
          1.75,
          1.49,
          1.6,
          1.53,
          1.68,
          1.72,
          0.21,
          1.48,
          0.32,
          1.39,
          1.15,
          1.08,
          1.16,
          1.08,
          1.25,
          1.62,
          1.68,
          1.19,
          0,
          1.8,
          1.14,
          1.41,
          1.15,
          1.03,
          1.78,
          0.19,
          1.15,
          1.81,
          1.94,
          1.76,
          1.85,
          1.61,
          1.54,
          1.62,
          1.54,
          1.71,
          2.08,
          2.14,
          1.65,
          1.8,
          0,
          1.04,
          0.8,
          1.05,
          1.72,
          2.24,
          1.8,
          1.84,
          1.43,
          1.56,
          1.37,
          1.47,
          1.23,
          1.16,
          1.24,
          1.16,
          1.32,
          1.7,
          1.75,
          1.26,
          1.41,
          0.8,
          0.66,
          0,
          0.67,
          1.33,
          1.86,
          1.41,
          1.45,
          0.19,
          1.48,
          0.32,
          1.39,
          1.15,
          1.08,
          1.16,
          1.08,
          1.24,
          1.62,
          1.68,
          1.19,
          0.19,
          1.8,
          1.14,
          1.41,
          1.15,
          1.03,
          1.78,
          0,
          1.15
         ],
         "xaxis": "x",
         "y": [
          0,
          0.28,
          0.06,
          0.37,
          0.37,
          0.37,
          0.36,
          0.7,
          0.36,
          0.35,
          0.35,
          0.41,
          0.07,
          0.31,
          0.32,
          0.33,
          0.31,
          0.53,
          0.35,
          0.09,
          0.39,
          0.06,
          0.28,
          0,
          0.36,
          0.36,
          0.36,
          0.35,
          0.69,
          0.35,
          0.34,
          0.34,
          0.4,
          0.06,
          0.3,
          0.31,
          0.32,
          0.31,
          0.52,
          0.34,
          0.08,
          0.39,
          0.37,
          0.46,
          0.36,
          0,
          0.04,
          0.06,
          0.08,
          0.46,
          0.13,
          0.29,
          0.29,
          0.38,
          0.36,
          0.35,
          0.36,
          0.37,
          0.36,
          0.62,
          0.38,
          0.39,
          0.42,
          0.37,
          0.46,
          0.36,
          0.04,
          0,
          0.06,
          0.08,
          0.47,
          0.13,
          0.29,
          0.29,
          0.39,
          0.36,
          0.35,
          0.36,
          0.37,
          0.36,
          0.62,
          0.38,
          0.39,
          0.42,
          0.37,
          0.45,
          0.36,
          0.06,
          0.06,
          0,
          0.07,
          0.46,
          0.12,
          0.29,
          0.29,
          0.38,
          0.35,
          0.34,
          0.35,
          0.36,
          0.35,
          0.61,
          0.37,
          0.39,
          0.42,
          0.36,
          0.45,
          0.35,
          0.08,
          0.08,
          0.07,
          0,
          0.46,
          0.12,
          0.28,
          0.28,
          0.38,
          0.35,
          0.34,
          0.35,
          0.36,
          0.35,
          0.61,
          0.37,
          0.38,
          0.41,
          0.7,
          0.78,
          0.69,
          0.46,
          0.47,
          0.46,
          0.46,
          0,
          0.43,
          0.62,
          0.62,
          0.71,
          0.68,
          0.68,
          0.68,
          0.69,
          0.68,
          0.94,
          0.7,
          0.72,
          0.75,
          0.36,
          0.45,
          0.35,
          0.13,
          0.13,
          0.12,
          0.12,
          0.43,
          0,
          0.28,
          0.28,
          0.38,
          0.35,
          0.34,
          0.35,
          0.36,
          0.35,
          0.61,
          0.37,
          0.38,
          0.41,
          0.35,
          0.43,
          0.34,
          0.29,
          0.29,
          0.29,
          0.28,
          0.62,
          0.28,
          0,
          0,
          0.36,
          0.33,
          0.33,
          0.33,
          0.34,
          0.33,
          0.59,
          0.35,
          0.37,
          0.4,
          0.35,
          0.43,
          0.34,
          0.29,
          0.29,
          0.29,
          0.28,
          0.62,
          0.28,
          0,
          0,
          0.36,
          0.33,
          0.33,
          0.33,
          0.34,
          0.33,
          0.59,
          0.35,
          0.37,
          0.4,
          0.07,
          0.27,
          0.06,
          0.36,
          0.36,
          0.35,
          0.35,
          0.68,
          0.35,
          0.33,
          0.33,
          0.39,
          0,
          0.29,
          0.3,
          0.31,
          0.3,
          0.52,
          0.33,
          0.09,
          0.38,
          0.31,
          0.39,
          0.3,
          0.35,
          0.35,
          0.34,
          0.34,
          0.68,
          0.34,
          0.33,
          0.33,
          0.38,
          0.29,
          0,
          0.07,
          0.06,
          0.06,
          0.55,
          0.33,
          0.33,
          0.37,
          0.33,
          0.41,
          0.32,
          0.37,
          0.37,
          0.36,
          0.36,
          0.69,
          0.36,
          0.34,
          0.34,
          0.4,
          0.31,
          0.06,
          0.08,
          0,
          0.08,
          0.57,
          0.34,
          0.35,
          0.39,
          0.09,
          0.31,
          0.08,
          0.39,
          0.39,
          0.39,
          0.38,
          0.72,
          0.38,
          0.37,
          0.37,
          0.43,
          0.09,
          0.33,
          0.34,
          0.35,
          0.34,
          0.55,
          0.37,
          0,
          0.42
         ],
         "yaxis": "y"
        },
        {
         "customdata": [
          [
           1.5,
           0.28,
           0.11297816522090576
          ],
          [
           0,
           0,
           0.11297816522090576
          ],
          [
           1.44,
           0.28,
           0.11297816522090576
          ],
          [
           1.54,
           0.46,
           0.11297816522090576
          ],
          [
           1.3,
           0.46,
           0.11297816522090576
          ],
          [
           1.22,
           0.45,
           0.11297816522090576
          ],
          [
           1.31,
           0.45,
           0.11297816522090576
          ],
          [
           1.22,
           0.78,
           0.11297816522090576
          ],
          [
           1.39,
           0.45,
           0.11297816522090576
          ],
          [
           1.18,
           0.43,
           0.11297816522090576
          ],
          [
           1.23,
           0.43,
           0.11297816522090576
          ],
          [
           1.33,
           0.49,
           0.11297816522090576
          ],
          [
           1.48,
           0.27,
           0.11297816522090576
          ],
          [
           1.94,
           0.39,
           0.11297816522090576
          ],
          [
           1.28,
           0.4,
           0.11297816522090576
          ],
          [
           1.56,
           0.41,
           0.11297816522090576
          ],
          [
           1.3,
           0.4,
           0.11297816522090576
          ],
          [
           1.4,
           0.62,
           0.11297816522090576
          ],
          [
           0.3,
           0.44,
           0.11297816522090576
          ],
          [
           1.48,
           0.31,
           0.11297816522090576
          ],
          [
           1.52,
           0.48,
           0.11297816522090576
          ],
          [
           1.2,
           0.41,
           0.14293564783118795
          ],
          [
           1.33,
           0.49,
           0.14293564783118795
          ],
          [
           1.15,
           0.4,
           0.14293564783118795
          ],
          [
           1.13,
           0.38,
           0.14293564783118795
          ],
          [
           0.89,
           0.39,
           0.14293564783118795
          ],
          [
           0.81,
           0.38,
           0.14293564783118795
          ],
          [
           0.9,
           0.38,
           0.14293564783118795
          ],
          [
           0.82,
           0.71,
           0.14293564783118795
          ],
          [
           0.98,
           0.38,
           0.14293564783118795
          ],
          [
           1.47,
           0.36,
           0.14293564783118795
          ],
          [
           1.53,
           0.36,
           0.14293564783118795
          ],
          [
           0,
           0,
           0.14293564783118795
          ],
          [
           1.19,
           0.39,
           0.14293564783118795
          ],
          [
           1.65,
           0.38,
           0.14293564783118795
          ],
          [
           0.99,
           0.39,
           0.14293564783118795
          ],
          [
           1.26,
           0.4,
           0.14293564783118795
          ],
          [
           1,
           0.39,
           0.14293564783118795
          ],
          [
           1.11,
           0.65,
           0.14293564783118795
          ],
          [
           1.63,
           0.41,
           0.14293564783118795
          ],
          [
           1.19,
           0.43,
           0.14293564783118795
          ],
          [
           1.23,
           0.46,
           0.14293564783118795
          ],
          [
           1.8,
           0.35,
           0.11748662350810944
          ],
          [
           0.3,
           0.44,
           0.11748662350810944
          ],
          [
           1.74,
           0.34,
           0.11748662350810944
          ],
          [
           1.83,
           0.38,
           0.11748662350810944
          ],
          [
           1.6,
           0.38,
           0.11748662350810944
          ],
          [
           1.52,
           0.37,
           0.11748662350810944
          ],
          [
           1.6,
           0.37,
           0.11748662350810944
          ],
          [
           1.52,
           0.7,
           0.11748662350810944
          ],
          [
           1.69,
           0.37,
           0.11748662350810944
          ],
          [
           1.47,
           0.35,
           0.11748662350810944
          ],
          [
           1.53,
           0.35,
           0.11748662350810944
          ],
          [
           1.63,
           0.41,
           0.11748662350810944
          ],
          [
           1.78,
           0.33,
           0.11748662350810944
          ],
          [
           2.24,
           0.33,
           0.11748662350810944
          ],
          [
           1.58,
           0.34,
           0.11748662350810944
          ],
          [
           1.86,
           0.34,
           0.11748662350810944
          ],
          [
           1.59,
           0.33,
           0.11748662350810944
          ],
          [
           1.7,
           0.6,
           0.11748662350810944
          ],
          [
           0,
           0,
           0.11748662350810944
          ],
          [
           1.78,
           0.37,
           0.11748662350810944
          ],
          [
           1.82,
           0.29,
           0.11748662350810944
          ],
          [
           1.17,
           0.39,
           0.10876408968858775
          ],
          [
           1.52,
           0.48,
           0.10876408968858775
          ],
          [
           1.11,
           0.39,
           0.10876408968858775
          ],
          [
           1.43,
           0.42,
           0.10876408968858775
          ],
          [
           1.19,
           0.42,
           0.10876408968858775
          ],
          [
           1.12,
           0.42,
           0.10876408968858775
          ],
          [
           1.2,
           0.41,
           0.10876408968858775
          ],
          [
           1.12,
           0.75,
           0.10876408968858775
          ],
          [
           1.28,
           0.41,
           0.10876408968858775
          ],
          [
           1.66,
           0.4,
           0.10876408968858775
          ],
          [
           1.72,
           0.4,
           0.10876408968858775
          ],
          [
           1.23,
           0.46,
           0.10876408968858775
          ],
          [
           1.15,
           0.38,
           0.10876408968858775
          ],
          [
           1.84,
           0.37,
           0.10876408968858775
          ],
          [
           1.18,
           0.38,
           0.10876408968858775
          ],
          [
           1.45,
           0.39,
           0.10876408968858775
          ],
          [
           1.19,
           0.38,
           0.10876408968858775
          ],
          [
           1.07,
           0.64,
           0.10876408968858775
          ],
          [
           1.82,
           0.29,
           0.10876408968858775
          ],
          [
           1.15,
           0.42,
           0.10876408968858775
          ],
          [
           0,
           0,
           0.10876408968858775
          ]
         ],
         "hovertemplate": "<b>%{hovertext}</b><br><br>clusters_R2_max=0.11 to 0.14<br>par1_values=%{customdata[0]}<br>pkc3_values=%{customdata[1]}<br>R2=%{customdata[2]}<extra></extra>",
         "hovertext": [
          "a_suum a_loa",
          "a_suum a_suum",
          "a_suum b_malayi",
          "a_suum c_brenneri",
          "a_suum c_briggsae",
          "a_suum c_elegans",
          "a_suum c_inopinata",
          "a_suum c_japonica",
          "a_suum c_panamensis",
          "a_suum d_coronatus",
          "a_suum d_pachys",
          "a_suum o_tipulae",
          "a_suum o_volvulus",
          "a_suum p_arcanus",
          "a_suum p_entomophagus",
          "a_suum p_japonicus",
          "a_suum p_mayer",
          "a_suum p_redivivus",
          "a_suum p_univalens",
          "a_suum s_digitata",
          "a_suum s_scapterisci",
          "o_tipulae a_loa",
          "o_tipulae a_suum",
          "o_tipulae b_malayi",
          "o_tipulae c_brenneri",
          "o_tipulae c_briggsae",
          "o_tipulae c_elegans",
          "o_tipulae c_inopinata",
          "o_tipulae c_japonica",
          "o_tipulae c_panamensis",
          "o_tipulae d_coronatus",
          "o_tipulae d_pachys",
          "o_tipulae o_tipulae",
          "o_tipulae o_volvulus",
          "o_tipulae p_arcanus",
          "o_tipulae p_entomophagus",
          "o_tipulae p_japonicus",
          "o_tipulae p_mayer",
          "o_tipulae p_redivivus",
          "o_tipulae p_univalens",
          "o_tipulae s_digitata",
          "o_tipulae s_scapterisci",
          "p_univalens a_loa",
          "p_univalens a_suum",
          "p_univalens b_malayi",
          "p_univalens c_brenneri",
          "p_univalens c_briggsae",
          "p_univalens c_elegans",
          "p_univalens c_inopinata",
          "p_univalens c_japonica",
          "p_univalens c_panamensis",
          "p_univalens d_coronatus",
          "p_univalens d_pachys",
          "p_univalens o_tipulae",
          "p_univalens o_volvulus",
          "p_univalens p_arcanus",
          "p_univalens p_entomophagus",
          "p_univalens p_japonicus",
          "p_univalens p_mayer",
          "p_univalens p_redivivus",
          "p_univalens p_univalens",
          "p_univalens s_digitata",
          "p_univalens s_scapterisci",
          "s_scapterisci a_loa",
          "s_scapterisci a_suum",
          "s_scapterisci b_malayi",
          "s_scapterisci c_brenneri",
          "s_scapterisci c_briggsae",
          "s_scapterisci c_elegans",
          "s_scapterisci c_inopinata",
          "s_scapterisci c_japonica",
          "s_scapterisci c_panamensis",
          "s_scapterisci d_coronatus",
          "s_scapterisci d_pachys",
          "s_scapterisci o_tipulae",
          "s_scapterisci o_volvulus",
          "s_scapterisci p_arcanus",
          "s_scapterisci p_entomophagus",
          "s_scapterisci p_japonicus",
          "s_scapterisci p_mayer",
          "s_scapterisci p_redivivus",
          "s_scapterisci p_univalens",
          "s_scapterisci s_digitata",
          "s_scapterisci s_scapterisci"
         ],
         "legendgroup": "0.11 to 0.14",
         "marker": {
          "color": "#EF553B",
          "symbol": "circle"
         },
         "mode": "markers",
         "name": "0.11 to 0.14",
         "showlegend": true,
         "type": "scatter",
         "x": [
          1.5,
          0,
          1.44,
          1.54,
          1.3,
          1.22,
          1.31,
          1.22,
          1.39,
          1.18,
          1.23,
          1.33,
          1.48,
          1.94,
          1.28,
          1.56,
          1.3,
          1.4,
          0.3,
          1.48,
          1.52,
          1.2,
          1.33,
          1.15,
          1.13,
          0.89,
          0.81,
          0.9,
          0.82,
          0.98,
          1.47,
          1.53,
          0,
          1.19,
          1.65,
          0.99,
          1.26,
          1,
          1.11,
          1.63,
          1.19,
          1.23,
          1.8,
          0.3,
          1.74,
          1.83,
          1.6,
          1.52,
          1.6,
          1.52,
          1.69,
          1.47,
          1.53,
          1.63,
          1.78,
          2.24,
          1.58,
          1.86,
          1.59,
          1.7,
          0,
          1.78,
          1.82,
          1.17,
          1.52,
          1.11,
          1.43,
          1.19,
          1.12,
          1.2,
          1.12,
          1.28,
          1.66,
          1.72,
          1.23,
          1.15,
          1.84,
          1.18,
          1.45,
          1.19,
          1.07,
          1.82,
          1.15,
          0
         ],
         "xaxis": "x",
         "y": [
          0.28,
          0,
          0.28,
          0.46,
          0.46,
          0.45,
          0.45,
          0.78,
          0.45,
          0.43,
          0.43,
          0.49,
          0.27,
          0.39,
          0.4,
          0.41,
          0.4,
          0.62,
          0.44,
          0.31,
          0.48,
          0.41,
          0.49,
          0.4,
          0.38,
          0.39,
          0.38,
          0.38,
          0.71,
          0.38,
          0.36,
          0.36,
          0,
          0.39,
          0.38,
          0.39,
          0.4,
          0.39,
          0.65,
          0.41,
          0.43,
          0.46,
          0.35,
          0.44,
          0.34,
          0.38,
          0.38,
          0.37,
          0.37,
          0.7,
          0.37,
          0.35,
          0.35,
          0.41,
          0.33,
          0.33,
          0.34,
          0.34,
          0.33,
          0.6,
          0,
          0.37,
          0.29,
          0.39,
          0.48,
          0.39,
          0.42,
          0.42,
          0.42,
          0.41,
          0.75,
          0.41,
          0.4,
          0.4,
          0.46,
          0.38,
          0.37,
          0.38,
          0.39,
          0.38,
          0.64,
          0.29,
          0.42,
          0
         ],
         "yaxis": "y"
        },
        {
         "customdata": [
          [
           1.16,
           0.32,
           0.249042174687957
          ],
          [
           1.28,
           0.4,
           0.249042174687957
          ],
          [
           1.1,
           0.31,
           0.249042174687957
          ],
          [
           1.19,
           0.36,
           0.249042174687957
          ],
          [
           0.96,
           0.36,
           0.249042174687957
          ],
          [
           0.88,
           0.35,
           0.249042174687957
          ],
          [
           0.96,
           0.35,
           0.249042174687957
          ],
          [
           0.88,
           0.68,
           0.249042174687957
          ],
          [
           1.05,
           0.35,
           0.249042174687957
          ],
          [
           1.42,
           0.33,
           0.249042174687957
          ],
          [
           1.48,
           0.33,
           0.249042174687957
          ],
          [
           0.99,
           0.39,
           0.249042174687957
          ],
          [
           1.14,
           0.3,
           0.249042174687957
          ],
          [
           1.04,
           0.07,
           0.249042174687957
          ],
          [
           0,
           0,
           0.249042174687957
          ],
          [
           0.66,
           0.08,
           0.249042174687957
          ],
          [
           0.4,
           0.05,
           0.249042174687957
          ],
          [
           1.06,
           0.56,
           0.249042174687957
          ],
          [
           1.58,
           0.34,
           0.249042174687957
          ],
          [
           1.14,
           0.34,
           0.249042174687957
          ],
          [
           1.18,
           0.38,
           0.249042174687957
          ],
          [
           1.17,
           0.31,
           0.2436406288900771
          ],
          [
           1.3,
           0.4,
           0.2436406288900771
          ],
          [
           1.11,
           0.31,
           0.2436406288900771
          ],
          [
           1.21,
           0.36,
           0.2436406288900771
          ],
          [
           0.97,
           0.36,
           0.2436406288900771
          ],
          [
           0.89,
           0.35,
           0.2436406288900771
          ],
          [
           0.98,
           0.35,
           0.2436406288900771
          ],
          [
           0.89,
           0.68,
           0.2436406288900771
          ],
          [
           1.06,
           0.35,
           0.2436406288900771
          ],
          [
           1.43,
           0.33,
           0.2436406288900771
          ],
          [
           1.49,
           0.33,
           0.2436406288900771
          ],
          [
           1,
           0.39,
           0.2436406288900771
          ],
          [
           1.15,
           0.3,
           0.2436406288900771
          ],
          [
           1.05,
           0.06,
           0.2436406288900771
          ],
          [
           0.4,
           0.05,
           0.2436406288900771
          ],
          [
           0.67,
           0.08,
           0.2436406288900771
          ],
          [
           0,
           0,
           0.2436406288900771
          ],
          [
           1.07,
           0.56,
           0.2436406288900771
          ],
          [
           1.59,
           0.33,
           0.2436406288900771
          ],
          [
           1.15,
           0.34,
           0.2436406288900771
          ],
          [
           1.19,
           0.38,
           0.2436406288900771
          ],
          [
           1.05,
           0.53,
           0.2998304669369537
          ],
          [
           1.4,
           0.62,
           0.2998304669369537
          ],
          [
           0.99,
           0.52,
           0.2998304669369537
          ],
          [
           1.31,
           0.62,
           0.2998304669369537
          ],
          [
           1.07,
           0.62,
           0.2998304669369537
          ],
          [
           1,
           0.61,
           0.2998304669369537
          ],
          [
           1.08,
           0.61,
           0.2998304669369537
          ],
          [
           1,
           0.94,
           0.2998304669369537
          ],
          [
           1.16,
           0.61,
           0.2998304669369537
          ],
          [
           1.54,
           0.59,
           0.2998304669369537
          ],
          [
           1.6,
           0.59,
           0.2998304669369537
          ],
          [
           1.11,
           0.65,
           0.2998304669369537
          ],
          [
           1.03,
           0.52,
           0.2998304669369537
          ],
          [
           1.72,
           0.55,
           0.2998304669369537
          ],
          [
           1.06,
           0.56,
           0.2998304669369537
          ],
          [
           1.33,
           0.57,
           0.2998304669369537
          ],
          [
           1.07,
           0.56,
           0.2998304669369537
          ],
          [
           0,
           0,
           0.2998304669369537
          ],
          [
           1.7,
           0.6,
           0.2998304669369537
          ],
          [
           1.03,
           0.55,
           0.2998304669369537
          ],
          [
           1.07,
           0.64,
           0.2998304669369537
          ]
         ],
         "hovertemplate": "<b>%{hovertext}</b><br><br>clusters_R2_max=0.24 to 0.3<br>par1_values=%{customdata[0]}<br>pkc3_values=%{customdata[1]}<br>R2=%{customdata[2]}<extra></extra>",
         "hovertext": [
          "p_entomophagus a_loa",
          "p_entomophagus a_suum",
          "p_entomophagus b_malayi",
          "p_entomophagus c_brenneri",
          "p_entomophagus c_briggsae",
          "p_entomophagus c_elegans",
          "p_entomophagus c_inopinata",
          "p_entomophagus c_japonica",
          "p_entomophagus c_panamensis",
          "p_entomophagus d_coronatus",
          "p_entomophagus d_pachys",
          "p_entomophagus o_tipulae",
          "p_entomophagus o_volvulus",
          "p_entomophagus p_arcanus",
          "p_entomophagus p_entomophagus",
          "p_entomophagus p_japonicus",
          "p_entomophagus p_mayer",
          "p_entomophagus p_redivivus",
          "p_entomophagus p_univalens",
          "p_entomophagus s_digitata",
          "p_entomophagus s_scapterisci",
          "p_mayer a_loa",
          "p_mayer a_suum",
          "p_mayer b_malayi",
          "p_mayer c_brenneri",
          "p_mayer c_briggsae",
          "p_mayer c_elegans",
          "p_mayer c_inopinata",
          "p_mayer c_japonica",
          "p_mayer c_panamensis",
          "p_mayer d_coronatus",
          "p_mayer d_pachys",
          "p_mayer o_tipulae",
          "p_mayer o_volvulus",
          "p_mayer p_arcanus",
          "p_mayer p_entomophagus",
          "p_mayer p_japonicus",
          "p_mayer p_mayer",
          "p_mayer p_redivivus",
          "p_mayer p_univalens",
          "p_mayer s_digitata",
          "p_mayer s_scapterisci",
          "p_redivivus a_loa",
          "p_redivivus a_suum",
          "p_redivivus b_malayi",
          "p_redivivus c_brenneri",
          "p_redivivus c_briggsae",
          "p_redivivus c_elegans",
          "p_redivivus c_inopinata",
          "p_redivivus c_japonica",
          "p_redivivus c_panamensis",
          "p_redivivus d_coronatus",
          "p_redivivus d_pachys",
          "p_redivivus o_tipulae",
          "p_redivivus o_volvulus",
          "p_redivivus p_arcanus",
          "p_redivivus p_entomophagus",
          "p_redivivus p_japonicus",
          "p_redivivus p_mayer",
          "p_redivivus p_redivivus",
          "p_redivivus p_univalens",
          "p_redivivus s_digitata",
          "p_redivivus s_scapterisci"
         ],
         "legendgroup": "0.24 to 0.3",
         "marker": {
          "color": "#00cc96",
          "symbol": "circle"
         },
         "mode": "markers",
         "name": "0.24 to 0.3",
         "showlegend": true,
         "type": "scatter",
         "x": [
          1.16,
          1.28,
          1.1,
          1.19,
          0.96,
          0.88,
          0.96,
          0.88,
          1.05,
          1.42,
          1.48,
          0.99,
          1.14,
          1.04,
          0,
          0.66,
          0.4,
          1.06,
          1.58,
          1.14,
          1.18,
          1.17,
          1.3,
          1.11,
          1.21,
          0.97,
          0.89,
          0.98,
          0.89,
          1.06,
          1.43,
          1.49,
          1,
          1.15,
          1.05,
          0.4,
          0.67,
          0,
          1.07,
          1.59,
          1.15,
          1.19,
          1.05,
          1.4,
          0.99,
          1.31,
          1.07,
          1,
          1.08,
          1,
          1.16,
          1.54,
          1.6,
          1.11,
          1.03,
          1.72,
          1.06,
          1.33,
          1.07,
          0,
          1.7,
          1.03,
          1.07
         ],
         "xaxis": "x",
         "y": [
          0.32,
          0.4,
          0.31,
          0.36,
          0.36,
          0.35,
          0.35,
          0.68,
          0.35,
          0.33,
          0.33,
          0.39,
          0.3,
          0.07,
          0,
          0.08,
          0.05,
          0.56,
          0.34,
          0.34,
          0.38,
          0.31,
          0.4,
          0.31,
          0.36,
          0.36,
          0.35,
          0.35,
          0.68,
          0.35,
          0.33,
          0.33,
          0.39,
          0.3,
          0.06,
          0.05,
          0.08,
          0,
          0.56,
          0.33,
          0.34,
          0.38,
          0.53,
          0.62,
          0.52,
          0.62,
          0.62,
          0.61,
          0.61,
          0.94,
          0.61,
          0.59,
          0.59,
          0.65,
          0.52,
          0.55,
          0.56,
          0.57,
          0.56,
          0,
          0.6,
          0.55,
          0.64
         ],
         "yaxis": "y"
        }
       ],
       "layout": {
        "legend": {
         "title": {
          "text": "clusters_R2_max"
         },
         "tracegroupgap": 0
        },
        "margin": {
         "t": 60
        },
        "template": {
         "data": {
          "bar": [
           {
            "error_x": {
             "color": "#2a3f5f"
            },
            "error_y": {
             "color": "#2a3f5f"
            },
            "marker": {
             "line": {
              "color": "#E5ECF6",
              "width": 0.5
             }
            },
            "type": "bar"
           }
          ],
          "barpolar": [
           {
            "marker": {
             "line": {
              "color": "#E5ECF6",
              "width": 0.5
             }
            },
            "type": "barpolar"
           }
          ],
          "carpet": [
           {
            "aaxis": {
             "endlinecolor": "#2a3f5f",
             "gridcolor": "white",
             "linecolor": "white",
             "minorgridcolor": "white",
             "startlinecolor": "#2a3f5f"
            },
            "baxis": {
             "endlinecolor": "#2a3f5f",
             "gridcolor": "white",
             "linecolor": "white",
             "minorgridcolor": "white",
             "startlinecolor": "#2a3f5f"
            },
            "type": "carpet"
           }
          ],
          "choropleth": [
           {
            "colorbar": {
             "outlinewidth": 0,
             "ticks": ""
            },
            "type": "choropleth"
           }
          ],
          "contour": [
           {
            "colorbar": {
             "outlinewidth": 0,
             "ticks": ""
            },
            "colorscale": [
             [
              0,
              "#0d0887"
             ],
             [
              0.1111111111111111,
              "#46039f"
             ],
             [
              0.2222222222222222,
              "#7201a8"
             ],
             [
              0.3333333333333333,
              "#9c179e"
             ],
             [
              0.4444444444444444,
              "#bd3786"
             ],
             [
              0.5555555555555556,
              "#d8576b"
             ],
             [
              0.6666666666666666,
              "#ed7953"
             ],
             [
              0.7777777777777778,
              "#fb9f3a"
             ],
             [
              0.8888888888888888,
              "#fdca26"
             ],
             [
              1,
              "#f0f921"
             ]
            ],
            "type": "contour"
           }
          ],
          "contourcarpet": [
           {
            "colorbar": {
             "outlinewidth": 0,
             "ticks": ""
            },
            "type": "contourcarpet"
           }
          ],
          "heatmap": [
           {
            "colorbar": {
             "outlinewidth": 0,
             "ticks": ""
            },
            "colorscale": [
             [
              0,
              "#0d0887"
             ],
             [
              0.1111111111111111,
              "#46039f"
             ],
             [
              0.2222222222222222,
              "#7201a8"
             ],
             [
              0.3333333333333333,
              "#9c179e"
             ],
             [
              0.4444444444444444,
              "#bd3786"
             ],
             [
              0.5555555555555556,
              "#d8576b"
             ],
             [
              0.6666666666666666,
              "#ed7953"
             ],
             [
              0.7777777777777778,
              "#fb9f3a"
             ],
             [
              0.8888888888888888,
              "#fdca26"
             ],
             [
              1,
              "#f0f921"
             ]
            ],
            "type": "heatmap"
           }
          ],
          "heatmapgl": [
           {
            "colorbar": {
             "outlinewidth": 0,
             "ticks": ""
            },
            "colorscale": [
             [
              0,
              "#0d0887"
             ],
             [
              0.1111111111111111,
              "#46039f"
             ],
             [
              0.2222222222222222,
              "#7201a8"
             ],
             [
              0.3333333333333333,
              "#9c179e"
             ],
             [
              0.4444444444444444,
              "#bd3786"
             ],
             [
              0.5555555555555556,
              "#d8576b"
             ],
             [
              0.6666666666666666,
              "#ed7953"
             ],
             [
              0.7777777777777778,
              "#fb9f3a"
             ],
             [
              0.8888888888888888,
              "#fdca26"
             ],
             [
              1,
              "#f0f921"
             ]
            ],
            "type": "heatmapgl"
           }
          ],
          "histogram": [
           {
            "marker": {
             "colorbar": {
              "outlinewidth": 0,
              "ticks": ""
             }
            },
            "type": "histogram"
           }
          ],
          "histogram2d": [
           {
            "colorbar": {
             "outlinewidth": 0,
             "ticks": ""
            },
            "colorscale": [
             [
              0,
              "#0d0887"
             ],
             [
              0.1111111111111111,
              "#46039f"
             ],
             [
              0.2222222222222222,
              "#7201a8"
             ],
             [
              0.3333333333333333,
              "#9c179e"
             ],
             [
              0.4444444444444444,
              "#bd3786"
             ],
             [
              0.5555555555555556,
              "#d8576b"
             ],
             [
              0.6666666666666666,
              "#ed7953"
             ],
             [
              0.7777777777777778,
              "#fb9f3a"
             ],
             [
              0.8888888888888888,
              "#fdca26"
             ],
             [
              1,
              "#f0f921"
             ]
            ],
            "type": "histogram2d"
           }
          ],
          "histogram2dcontour": [
           {
            "colorbar": {
             "outlinewidth": 0,
             "ticks": ""
            },
            "colorscale": [
             [
              0,
              "#0d0887"
             ],
             [
              0.1111111111111111,
              "#46039f"
             ],
             [
              0.2222222222222222,
              "#7201a8"
             ],
             [
              0.3333333333333333,
              "#9c179e"
             ],
             [
              0.4444444444444444,
              "#bd3786"
             ],
             [
              0.5555555555555556,
              "#d8576b"
             ],
             [
              0.6666666666666666,
              "#ed7953"
             ],
             [
              0.7777777777777778,
              "#fb9f3a"
             ],
             [
              0.8888888888888888,
              "#fdca26"
             ],
             [
              1,
              "#f0f921"
             ]
            ],
            "type": "histogram2dcontour"
           }
          ],
          "mesh3d": [
           {
            "colorbar": {
             "outlinewidth": 0,
             "ticks": ""
            },
            "type": "mesh3d"
           }
          ],
          "parcoords": [
           {
            "line": {
             "colorbar": {
              "outlinewidth": 0,
              "ticks": ""
             }
            },
            "type": "parcoords"
           }
          ],
          "pie": [
           {
            "automargin": true,
            "type": "pie"
           }
          ],
          "scatter": [
           {
            "marker": {
             "colorbar": {
              "outlinewidth": 0,
              "ticks": ""
             }
            },
            "type": "scatter"
           }
          ],
          "scatter3d": [
           {
            "line": {
             "colorbar": {
              "outlinewidth": 0,
              "ticks": ""
             }
            },
            "marker": {
             "colorbar": {
              "outlinewidth": 0,
              "ticks": ""
             }
            },
            "type": "scatter3d"
           }
          ],
          "scattercarpet": [
           {
            "marker": {
             "colorbar": {
              "outlinewidth": 0,
              "ticks": ""
             }
            },
            "type": "scattercarpet"
           }
          ],
          "scattergeo": [
           {
            "marker": {
             "colorbar": {
              "outlinewidth": 0,
              "ticks": ""
             }
            },
            "type": "scattergeo"
           }
          ],
          "scattergl": [
           {
            "marker": {
             "colorbar": {
              "outlinewidth": 0,
              "ticks": ""
             }
            },
            "type": "scattergl"
           }
          ],
          "scattermapbox": [
           {
            "marker": {
             "colorbar": {
              "outlinewidth": 0,
              "ticks": ""
             }
            },
            "type": "scattermapbox"
           }
          ],
          "scatterpolar": [
           {
            "marker": {
             "colorbar": {
              "outlinewidth": 0,
              "ticks": ""
             }
            },
            "type": "scatterpolar"
           }
          ],
          "scatterpolargl": [
           {
            "marker": {
             "colorbar": {
              "outlinewidth": 0,
              "ticks": ""
             }
            },
            "type": "scatterpolargl"
           }
          ],
          "scatterternary": [
           {
            "marker": {
             "colorbar": {
              "outlinewidth": 0,
              "ticks": ""
             }
            },
            "type": "scatterternary"
           }
          ],
          "surface": [
           {
            "colorbar": {
             "outlinewidth": 0,
             "ticks": ""
            },
            "colorscale": [
             [
              0,
              "#0d0887"
             ],
             [
              0.1111111111111111,
              "#46039f"
             ],
             [
              0.2222222222222222,
              "#7201a8"
             ],
             [
              0.3333333333333333,
              "#9c179e"
             ],
             [
              0.4444444444444444,
              "#bd3786"
             ],
             [
              0.5555555555555556,
              "#d8576b"
             ],
             [
              0.6666666666666666,
              "#ed7953"
             ],
             [
              0.7777777777777778,
              "#fb9f3a"
             ],
             [
              0.8888888888888888,
              "#fdca26"
             ],
             [
              1,
              "#f0f921"
             ]
            ],
            "type": "surface"
           }
          ],
          "table": [
           {
            "cells": {
             "fill": {
              "color": "#EBF0F8"
             },
             "line": {
              "color": "white"
             }
            },
            "header": {
             "fill": {
              "color": "#C8D4E3"
             },
             "line": {
              "color": "white"
             }
            },
            "type": "table"
           }
          ]
         },
         "layout": {
          "annotationdefaults": {
           "arrowcolor": "#2a3f5f",
           "arrowhead": 0,
           "arrowwidth": 1
          },
          "coloraxis": {
           "colorbar": {
            "outlinewidth": 0,
            "ticks": ""
           }
          },
          "colorscale": {
           "diverging": [
            [
             0,
             "#8e0152"
            ],
            [
             0.1,
             "#c51b7d"
            ],
            [
             0.2,
             "#de77ae"
            ],
            [
             0.3,
             "#f1b6da"
            ],
            [
             0.4,
             "#fde0ef"
            ],
            [
             0.5,
             "#f7f7f7"
            ],
            [
             0.6,
             "#e6f5d0"
            ],
            [
             0.7,
             "#b8e186"
            ],
            [
             0.8,
             "#7fbc41"
            ],
            [
             0.9,
             "#4d9221"
            ],
            [
             1,
             "#276419"
            ]
           ],
           "sequential": [
            [
             0,
             "#0d0887"
            ],
            [
             0.1111111111111111,
             "#46039f"
            ],
            [
             0.2222222222222222,
             "#7201a8"
            ],
            [
             0.3333333333333333,
             "#9c179e"
            ],
            [
             0.4444444444444444,
             "#bd3786"
            ],
            [
             0.5555555555555556,
             "#d8576b"
            ],
            [
             0.6666666666666666,
             "#ed7953"
            ],
            [
             0.7777777777777778,
             "#fb9f3a"
            ],
            [
             0.8888888888888888,
             "#fdca26"
            ],
            [
             1,
             "#f0f921"
            ]
           ],
           "sequentialminus": [
            [
             0,
             "#0d0887"
            ],
            [
             0.1111111111111111,
             "#46039f"
            ],
            [
             0.2222222222222222,
             "#7201a8"
            ],
            [
             0.3333333333333333,
             "#9c179e"
            ],
            [
             0.4444444444444444,
             "#bd3786"
            ],
            [
             0.5555555555555556,
             "#d8576b"
            ],
            [
             0.6666666666666666,
             "#ed7953"
            ],
            [
             0.7777777777777778,
             "#fb9f3a"
            ],
            [
             0.8888888888888888,
             "#fdca26"
            ],
            [
             1,
             "#f0f921"
            ]
           ]
          },
          "colorway": [
           "#636efa",
           "#EF553B",
           "#00cc96",
           "#ab63fa",
           "#FFA15A",
           "#19d3f3",
           "#FF6692",
           "#B6E880",
           "#FF97FF",
           "#FECB52"
          ],
          "font": {
           "color": "#2a3f5f"
          },
          "geo": {
           "bgcolor": "white",
           "lakecolor": "white",
           "landcolor": "#E5ECF6",
           "showlakes": true,
           "showland": true,
           "subunitcolor": "white"
          },
          "hoverlabel": {
           "align": "left"
          },
          "hovermode": "closest",
          "mapbox": {
           "style": "light"
          },
          "paper_bgcolor": "white",
          "plot_bgcolor": "#E5ECF6",
          "polar": {
           "angularaxis": {
            "gridcolor": "white",
            "linecolor": "white",
            "ticks": ""
           },
           "bgcolor": "#E5ECF6",
           "radialaxis": {
            "gridcolor": "white",
            "linecolor": "white",
            "ticks": ""
           }
          },
          "scene": {
           "xaxis": {
            "backgroundcolor": "#E5ECF6",
            "gridcolor": "white",
            "gridwidth": 2,
            "linecolor": "white",
            "showbackground": true,
            "ticks": "",
            "zerolinecolor": "white"
           },
           "yaxis": {
            "backgroundcolor": "#E5ECF6",
            "gridcolor": "white",
            "gridwidth": 2,
            "linecolor": "white",
            "showbackground": true,
            "ticks": "",
            "zerolinecolor": "white"
           },
           "zaxis": {
            "backgroundcolor": "#E5ECF6",
            "gridcolor": "white",
            "gridwidth": 2,
            "linecolor": "white",
            "showbackground": true,
            "ticks": "",
            "zerolinecolor": "white"
           }
          },
          "shapedefaults": {
           "line": {
            "color": "#2a3f5f"
           }
          },
          "ternary": {
           "aaxis": {
            "gridcolor": "white",
            "linecolor": "white",
            "ticks": ""
           },
           "baxis": {
            "gridcolor": "white",
            "linecolor": "white",
            "ticks": ""
           },
           "bgcolor": "#E5ECF6",
           "caxis": {
            "gridcolor": "white",
            "linecolor": "white",
            "ticks": ""
           }
          },
          "title": {
           "x": 0.05
          },
          "xaxis": {
           "automargin": true,
           "gridcolor": "white",
           "linecolor": "white",
           "ticks": "",
           "title": {
            "standoff": 15
           },
           "zerolinecolor": "white",
           "zerolinewidth": 2
          },
          "yaxis": {
           "automargin": true,
           "gridcolor": "white",
           "linecolor": "white",
           "ticks": "",
           "title": {
            "standoff": 15
           },
           "zerolinecolor": "white",
           "zerolinewidth": 2
          }
         }
        },
        "xaxis": {
         "anchor": "y",
         "domain": [
          0,
          1
         ],
         "title": {
          "text": "par1_values"
         }
        },
        "yaxis": {
         "anchor": "x",
         "domain": [
          0,
          1
         ],
         "title": {
          "text": "pkc3_values"
         }
        }
       }
      },
      "text/html": [
       "<div>\n",
       "        \n",
       "        \n",
       "            <div id=\"b875e246-3275-4b47-836a-9df702dd0552\" class=\"plotly-graph-div\" style=\"height:525px; width:100%;\"></div>\n",
       "            <script type=\"text/javascript\">\n",
       "                require([\"plotly\"], function(Plotly) {\n",
       "                    window.PLOTLYENV=window.PLOTLYENV || {};\n",
       "                    \n",
       "                if (document.getElementById(\"b875e246-3275-4b47-836a-9df702dd0552\")) {\n",
       "                    Plotly.newPlot(\n",
       "                        'b875e246-3275-4b47-836a-9df702dd0552',\n",
       "                        [{\"customdata\": [[0.0, 0.0, 0.39164913024397074], [1.5, 0.28, 0.39164913024397074], [0.34, 0.06, 0.39164913024397074], [1.41, 0.37, 0.39164913024397074], [1.17, 0.37, 0.39164913024397074], [1.1, 0.37, 0.39164913024397074], [1.18, 0.36, 0.39164913024397074], [1.1, 0.7, 0.39164913024397074], [1.26, 0.36, 0.39164913024397074], [1.64, 0.35, 0.39164913024397074], [1.69, 0.35, 0.39164913024397074], [1.2, 0.41, 0.39164913024397074], [0.21, 0.07, 0.39164913024397074], [1.81, 0.31, 0.39164913024397074], [1.16, 0.32, 0.39164913024397074], [1.43, 0.33, 0.39164913024397074], [1.17, 0.31, 0.39164913024397074], [1.05, 0.53, 0.39164913024397074], [1.8, 0.35, 0.39164913024397074], [0.19, 0.09, 0.39164913024397074], [1.17, 0.39, 0.39164913024397074], [0.34, 0.06, 0.3550670547626211], [1.44, 0.28, 0.3550670547626211], [0.0, 0.0, 0.3550670547626211], [1.35, 0.36, 0.3550670547626211], [1.11, 0.36, 0.3550670547626211], [1.04, 0.36, 0.3550670547626211], [1.12, 0.35, 0.3550670547626211], [1.04, 0.69, 0.3550670547626211], [1.2, 0.35, 0.3550670547626211], [1.58, 0.34, 0.3550670547626211], [1.64, 0.34, 0.3550670547626211], [1.15, 0.4, 0.3550670547626211], [0.32, 0.06, 0.3550670547626211], [1.76, 0.3, 0.3550670547626211], [1.1, 0.31, 0.3550670547626211], [1.37, 0.32, 0.3550670547626211], [1.11, 0.31, 0.3550670547626211], [0.99, 0.52, 0.3550670547626211], [1.74, 0.34, 0.3550670547626211], [0.32, 0.08, 0.3550670547626211], [1.11, 0.39, 0.3550670547626211], [1.41, 0.37, 0.4400650944164227], [1.54, 0.46, 0.4400650944164227], [1.35, 0.36, 0.4400650944164227], [0.0, 0.0, 0.4400650944164227], [0.51, 0.04, 0.4400650944164227], [0.43, 0.06, 0.4400650944164227], [0.7, 0.08, 0.4400650944164227], [0.61, 0.46, 0.4400650944164227], [0.78, 0.13, 0.4400650944164227], [1.67, 0.29, 0.4400650944164227], [1.73, 0.29, 0.4400650944164227], [1.13, 0.38, 0.4400650944164227], [1.39, 0.36, 0.4400650944164227], [1.85, 0.35, 0.4400650944164227], [1.19, 0.36, 0.4400650944164227], [1.47, 0.37, 0.4400650944164227], [1.21, 0.36, 0.4400650944164227], [1.31, 0.62, 0.4400650944164227], [1.83, 0.38, 0.4400650944164227], [1.39, 0.39, 0.4400650944164227], [1.43, 0.42, 0.4400650944164227], [1.17, 0.37, 0.3850921762539029], [1.3, 0.46, 0.3850921762539029], [1.11, 0.36, 0.3850921762539029], [0.51, 0.04, 0.3850921762539029], [0.0, 0.0, 0.3850921762539029], [0.17, 0.06, 0.3850921762539029], [0.46, 0.08, 0.3850921762539029], [0.38, 0.47, 0.3850921762539029], [0.54, 0.13, 0.3850921762539029], [1.44, 0.29, 0.3850921762539029], [1.49, 0.29, 0.3850921762539029], [0.89, 0.39, 0.3850921762539029], [1.15, 0.36, 0.3850921762539029], [1.61, 0.35, 0.3850921762539029], [0.96, 0.36, 0.3850921762539029], [1.23, 0.37, 0.3850921762539029], [0.97, 0.36, 0.3850921762539029], [1.07, 0.62, 0.3850921762539029], [1.6, 0.38, 0.3850921762539029], [1.15, 0.39, 0.3850921762539029], [1.19, 0.42, 0.3850921762539029], [1.1, 0.37, 0.37670596190403394], [1.22, 0.45, 0.37670596190403394], [1.04, 0.36, 0.37670596190403394], [0.43, 0.06, 0.37670596190403394], [0.17, 0.06, 0.37670596190403394], [0.0, 0.0, 0.37670596190403394], [0.38, 0.07, 0.37670596190403394], [0.3, 0.46, 0.37670596190403394], [0.47, 0.12, 0.37670596190403394], [1.36, 0.29, 0.37670596190403394], [1.42, 0.29, 0.37670596190403394], [0.81, 0.38, 0.37670596190403394], [1.08, 0.35, 0.37670596190403394], [1.54, 0.34, 0.37670596190403394], [0.88, 0.35, 0.37670596190403394], [1.16, 0.36, 0.37670596190403394], [0.89, 0.35, 0.37670596190403394], [1.0, 0.61, 0.37670596190403394], [1.52, 0.37, 0.37670596190403394], [1.08, 0.39, 0.37670596190403394], [1.12, 0.42, 0.37670596190403394], [1.18, 0.36, 0.34778977394623156], [1.31, 0.45, 0.34778977394623156], [1.12, 0.35, 0.34778977394623156], [0.7, 0.08, 0.34778977394623156], [0.46, 0.08, 0.34778977394623156], [0.38, 0.07, 0.34778977394623156], [0.0, 0.0, 0.34778977394623156], [0.38, 0.46, 0.34778977394623156], [0.38, 0.12, 0.34778977394623156], [1.44, 0.28, 0.34778977394623156], [1.5, 0.28, 0.34778977394623156], [0.9, 0.38, 0.34778977394623156], [1.16, 0.35, 0.34778977394623156], [1.62, 0.34, 0.34778977394623156], [0.96, 0.35, 0.34778977394623156], [1.24, 0.36, 0.34778977394623156], [0.98, 0.35, 0.34778977394623156], [1.08, 0.61, 0.34778977394623156], [1.6, 0.37, 0.34778977394623156], [1.16, 0.38, 0.34778977394623156], [1.2, 0.41, 0.34778977394623156], [1.1, 0.7, 0.5372121639629632], [1.22, 0.78, 0.5372121639629632], [1.04, 0.69, 0.5372121639629632], [0.61, 0.46, 0.5372121639629632], [0.38, 0.47, 0.5372121639629632], [0.3, 0.46, 0.5372121639629632], [0.38, 0.46, 0.5372121639629632], [0.0, 0.0, 0.5372121639629632], [0.47, 0.43, 0.5372121639629632], [1.36, 0.62, 0.5372121639629632], [1.42, 0.62, 0.5372121639629632], [0.82, 0.71, 0.5372121639629632], [1.08, 0.68, 0.5372121639629632], [1.54, 0.68, 0.5372121639629632], [0.88, 0.68, 0.5372121639629632], [1.16, 0.69, 0.5372121639629632], [0.89, 0.68, 0.5372121639629632], [1.0, 0.94, 0.5372121639629632], [1.52, 0.7, 0.5372121639629632], [1.08, 0.72, 0.5372121639629632], [1.12, 0.75, 0.5372121639629632], [1.26, 0.36, 0.3723769768401567], [1.39, 0.45, 0.3723769768401567], [1.2, 0.35, 0.3723769768401567], [0.78, 0.13, 0.3723769768401567], [0.54, 0.13, 0.3723769768401567], [0.47, 0.12, 0.3723769768401567], [0.38, 0.12, 0.3723769768401567], [0.47, 0.43, 0.3723769768401567], [0.0, 0.0, 0.3723769768401567], [1.53, 0.28, 0.3723769768401567], [1.59, 0.28, 0.3723769768401567], [0.98, 0.38, 0.3723769768401567], [1.25, 0.35, 0.3723769768401567], [1.71, 0.34, 0.3723769768401567], [1.05, 0.35, 0.3723769768401567], [1.32, 0.36, 0.3723769768401567], [1.06, 0.35, 0.3723769768401567], [1.16, 0.61, 0.3723769768401567], [1.69, 0.37, 0.3723769768401567], [1.24, 0.38, 0.3723769768401567], [1.28, 0.41, 0.3723769768401567], [1.64, 0.35, 0.44292686684071453], [1.18, 0.43, 0.44292686684071453], [1.58, 0.34, 0.44292686684071453], [1.67, 0.29, 0.44292686684071453], [1.44, 0.29, 0.44292686684071453], [1.36, 0.29, 0.44292686684071453], [1.44, 0.28, 0.44292686684071453], [1.36, 0.62, 0.44292686684071453], [1.53, 0.28, 0.44292686684071453], [0.0, 0.0, 0.44292686684071453], [0.06, 0.0, 0.44292686684071453], [1.47, 0.36, 0.44292686684071453], [1.62, 0.33, 0.44292686684071453], [2.08, 0.33, 0.44292686684071453], [1.42, 0.33, 0.44292686684071453], [1.7, 0.34, 0.44292686684071453], [1.43, 0.33, 0.44292686684071453], [1.54, 0.59, 0.44292686684071453], [1.47, 0.35, 0.44292686684071453], [1.62, 0.37, 0.44292686684071453], [1.66, 0.4, 0.44292686684071453], [1.69, 0.35, 0.45096742145265306], [1.23, 0.43, 0.45096742145265306], [1.64, 0.34, 0.45096742145265306], [1.73, 0.29, 0.45096742145265306], [1.49, 0.29, 0.45096742145265306], [1.42, 0.29, 0.45096742145265306], [1.5, 0.28, 0.45096742145265306], [1.42, 0.62, 0.45096742145265306], [1.59, 0.28, 0.45096742145265306], [0.06, 0.0, 0.45096742145265306], [0.0, 0.0, 0.45096742145265306], [1.53, 0.36, 0.45096742145265306], [1.68, 0.33, 0.45096742145265306], [2.14, 0.33, 0.45096742145265306], [1.48, 0.33, 0.45096742145265306], [1.75, 0.34, 0.45096742145265306], [1.49, 0.33, 0.45096742145265306], [1.6, 0.59, 0.45096742145265306], [1.53, 0.35, 0.45096742145265306], [1.68, 0.37, 0.45096742145265306], [1.72, 0.4, 0.45096742145265306], [0.21, 0.07, 0.3632075366931423], [1.48, 0.27, 0.3632075366931423], [0.32, 0.06, 0.3632075366931423], [1.39, 0.36, 0.3632075366931423], [1.15, 0.36, 0.3632075366931423], [1.08, 0.35, 0.3632075366931423], [1.16, 0.35, 0.3632075366931423], [1.08, 0.68, 0.3632075366931423], [1.25, 0.35, 0.3632075366931423], [1.62, 0.33, 0.3632075366931423], [1.68, 0.33, 0.3632075366931423], [1.19, 0.39, 0.3632075366931423], [0.0, 0.0, 0.3632075366931423], [1.8, 0.29, 0.3632075366931423], [1.14, 0.3, 0.3632075366931423], [1.41, 0.31, 0.3632075366931423], [1.15, 0.3, 0.3632075366931423], [1.03, 0.52, 0.3632075366931423], [1.78, 0.33, 0.3632075366931423], [0.19, 0.09, 0.3632075366931423], [1.15, 0.38, 0.3632075366931423], [1.81, 0.31, 0.4295646631284262], [1.94, 0.39, 0.4295646631284262], [1.76, 0.3, 0.4295646631284262], [1.85, 0.35, 0.4295646631284262], [1.61, 0.35, 0.4295646631284262], [1.54, 0.34, 0.4295646631284262], [1.62, 0.34, 0.4295646631284262], [1.54, 0.68, 0.4295646631284262], [1.71, 0.34, 0.4295646631284262], [2.08, 0.33, 0.4295646631284262], [2.14, 0.33, 0.4295646631284262], [1.65, 0.38, 0.4295646631284262], [1.8, 0.29, 0.4295646631284262], [0.0, 0.0, 0.4295646631284262], [1.04, 0.07, 0.4295646631284262], [0.8, 0.06, 0.4295646631284262], [1.05, 0.06, 0.4295646631284262], [1.72, 0.55, 0.4295646631284262], [2.24, 0.33, 0.4295646631284262], [1.8, 0.33, 0.4295646631284262], [1.84, 0.37, 0.4295646631284262], [1.43, 0.33, 0.3921156118906852], [1.56, 0.41, 0.3921156118906852], [1.37, 0.32, 0.3921156118906852], [1.47, 0.37, 0.3921156118906852], [1.23, 0.37, 0.3921156118906852], [1.16, 0.36, 0.3921156118906852], [1.24, 0.36, 0.3921156118906852], [1.16, 0.69, 0.3921156118906852], [1.32, 0.36, 0.3921156118906852], [1.7, 0.34, 0.3921156118906852], [1.75, 0.34, 0.3921156118906852], [1.26, 0.4, 0.3921156118906852], [1.41, 0.31, 0.3921156118906852], [0.8, 0.06, 0.3921156118906852], [0.66, 0.08, 0.3921156118906852], [0.0, 0.0, 0.3921156118906852], [0.67, 0.08, 0.3921156118906852], [1.33, 0.57, 0.3921156118906852], [1.86, 0.34, 0.3921156118906852], [1.41, 0.35, 0.3921156118906852], [1.45, 0.39, 0.3921156118906852], [0.19, 0.09, 0.40365822066250767], [1.48, 0.31, 0.40365822066250767], [0.32, 0.08, 0.40365822066250767], [1.39, 0.39, 0.40365822066250767], [1.15, 0.39, 0.40365822066250767], [1.08, 0.39, 0.40365822066250767], [1.16, 0.38, 0.40365822066250767], [1.08, 0.72, 0.40365822066250767], [1.24, 0.38, 0.40365822066250767], [1.62, 0.37, 0.40365822066250767], [1.68, 0.37, 0.40365822066250767], [1.19, 0.43, 0.40365822066250767], [0.19, 0.09, 0.40365822066250767], [1.8, 0.33, 0.40365822066250767], [1.14, 0.34, 0.40365822066250767], [1.41, 0.35, 0.40365822066250767], [1.15, 0.34, 0.40365822066250767], [1.03, 0.55, 0.40365822066250767], [1.78, 0.37, 0.40365822066250767], [0.0, 0.0, 0.40365822066250767], [1.15, 0.42, 0.40365822066250767]], \"hovertemplate\": \"<b>%{hovertext}</b><br><br>clusters_R2_max=0.35 to 0.54<br>par1_values=%{customdata[0]}<br>pkc3_values=%{customdata[1]}<br>R2=%{customdata[2]}<extra></extra>\", \"hovertext\": [\"a_loa a_loa\", \"a_loa a_suum\", \"a_loa b_malayi\", \"a_loa c_brenneri\", \"a_loa c_briggsae\", \"a_loa c_elegans\", \"a_loa c_inopinata\", \"a_loa c_japonica\", \"a_loa c_panamensis\", \"a_loa d_coronatus\", \"a_loa d_pachys\", \"a_loa o_tipulae\", \"a_loa o_volvulus\", \"a_loa p_arcanus\", \"a_loa p_entomophagus\", \"a_loa p_japonicus\", \"a_loa p_mayer\", \"a_loa p_redivivus\", \"a_loa p_univalens\", \"a_loa s_digitata\", \"a_loa s_scapterisci\", \"b_malayi a_loa\", \"b_malayi a_suum\", \"b_malayi b_malayi\", \"b_malayi c_brenneri\", \"b_malayi c_briggsae\", \"b_malayi c_elegans\", \"b_malayi c_inopinata\", \"b_malayi c_japonica\", \"b_malayi c_panamensis\", \"b_malayi d_coronatus\", \"b_malayi d_pachys\", \"b_malayi o_tipulae\", \"b_malayi o_volvulus\", \"b_malayi p_arcanus\", \"b_malayi p_entomophagus\", \"b_malayi p_japonicus\", \"b_malayi p_mayer\", \"b_malayi p_redivivus\", \"b_malayi p_univalens\", \"b_malayi s_digitata\", \"b_malayi s_scapterisci\", \"c_brenneri a_loa\", \"c_brenneri a_suum\", \"c_brenneri b_malayi\", \"c_brenneri c_brenneri\", \"c_brenneri c_briggsae\", \"c_brenneri c_elegans\", \"c_brenneri c_inopinata\", \"c_brenneri c_japonica\", \"c_brenneri c_panamensis\", \"c_brenneri d_coronatus\", \"c_brenneri d_pachys\", \"c_brenneri o_tipulae\", \"c_brenneri o_volvulus\", \"c_brenneri p_arcanus\", \"c_brenneri p_entomophagus\", \"c_brenneri p_japonicus\", \"c_brenneri p_mayer\", \"c_brenneri p_redivivus\", \"c_brenneri p_univalens\", \"c_brenneri s_digitata\", \"c_brenneri s_scapterisci\", \"c_briggsae a_loa\", \"c_briggsae a_suum\", \"c_briggsae b_malayi\", \"c_briggsae c_brenneri\", \"c_briggsae c_briggsae\", \"c_briggsae c_elegans\", \"c_briggsae c_inopinata\", \"c_briggsae c_japonica\", \"c_briggsae c_panamensis\", \"c_briggsae d_coronatus\", \"c_briggsae d_pachys\", \"c_briggsae o_tipulae\", \"c_briggsae o_volvulus\", \"c_briggsae p_arcanus\", \"c_briggsae p_entomophagus\", \"c_briggsae p_japonicus\", \"c_briggsae p_mayer\", \"c_briggsae p_redivivus\", \"c_briggsae p_univalens\", \"c_briggsae s_digitata\", \"c_briggsae s_scapterisci\", \"c_elegans a_loa\", \"c_elegans a_suum\", \"c_elegans b_malayi\", \"c_elegans c_brenneri\", \"c_elegans c_briggsae\", \"c_elegans c_elegans\", \"c_elegans c_inopinata\", \"c_elegans c_japonica\", \"c_elegans c_panamensis\", \"c_elegans d_coronatus\", \"c_elegans d_pachys\", \"c_elegans o_tipulae\", \"c_elegans o_volvulus\", \"c_elegans p_arcanus\", \"c_elegans p_entomophagus\", \"c_elegans p_japonicus\", \"c_elegans p_mayer\", \"c_elegans p_redivivus\", \"c_elegans p_univalens\", \"c_elegans s_digitata\", \"c_elegans s_scapterisci\", \"c_inopinata a_loa\", \"c_inopinata a_suum\", \"c_inopinata b_malayi\", \"c_inopinata c_brenneri\", \"c_inopinata c_briggsae\", \"c_inopinata c_elegans\", \"c_inopinata c_inopinata\", \"c_inopinata c_japonica\", \"c_inopinata c_panamensis\", \"c_inopinata d_coronatus\", \"c_inopinata d_pachys\", \"c_inopinata o_tipulae\", \"c_inopinata o_volvulus\", \"c_inopinata p_arcanus\", \"c_inopinata p_entomophagus\", \"c_inopinata p_japonicus\", \"c_inopinata p_mayer\", \"c_inopinata p_redivivus\", \"c_inopinata p_univalens\", \"c_inopinata s_digitata\", \"c_inopinata s_scapterisci\", \"c_japonica a_loa\", \"c_japonica a_suum\", \"c_japonica b_malayi\", \"c_japonica c_brenneri\", \"c_japonica c_briggsae\", \"c_japonica c_elegans\", \"c_japonica c_inopinata\", \"c_japonica c_japonica\", \"c_japonica c_panamensis\", \"c_japonica d_coronatus\", \"c_japonica d_pachys\", \"c_japonica o_tipulae\", \"c_japonica o_volvulus\", \"c_japonica p_arcanus\", \"c_japonica p_entomophagus\", \"c_japonica p_japonicus\", \"c_japonica p_mayer\", \"c_japonica p_redivivus\", \"c_japonica p_univalens\", \"c_japonica s_digitata\", \"c_japonica s_scapterisci\", \"c_panamensis a_loa\", \"c_panamensis a_suum\", \"c_panamensis b_malayi\", \"c_panamensis c_brenneri\", \"c_panamensis c_briggsae\", \"c_panamensis c_elegans\", \"c_panamensis c_inopinata\", \"c_panamensis c_japonica\", \"c_panamensis c_panamensis\", \"c_panamensis d_coronatus\", \"c_panamensis d_pachys\", \"c_panamensis o_tipulae\", \"c_panamensis o_volvulus\", \"c_panamensis p_arcanus\", \"c_panamensis p_entomophagus\", \"c_panamensis p_japonicus\", \"c_panamensis p_mayer\", \"c_panamensis p_redivivus\", \"c_panamensis p_univalens\", \"c_panamensis s_digitata\", \"c_panamensis s_scapterisci\", \"d_coronatus a_loa\", \"d_coronatus a_suum\", \"d_coronatus b_malayi\", \"d_coronatus c_brenneri\", \"d_coronatus c_briggsae\", \"d_coronatus c_elegans\", \"d_coronatus c_inopinata\", \"d_coronatus c_japonica\", \"d_coronatus c_panamensis\", \"d_coronatus d_coronatus\", \"d_coronatus d_pachys\", \"d_coronatus o_tipulae\", \"d_coronatus o_volvulus\", \"d_coronatus p_arcanus\", \"d_coronatus p_entomophagus\", \"d_coronatus p_japonicus\", \"d_coronatus p_mayer\", \"d_coronatus p_redivivus\", \"d_coronatus p_univalens\", \"d_coronatus s_digitata\", \"d_coronatus s_scapterisci\", \"d_pachys a_loa\", \"d_pachys a_suum\", \"d_pachys b_malayi\", \"d_pachys c_brenneri\", \"d_pachys c_briggsae\", \"d_pachys c_elegans\", \"d_pachys c_inopinata\", \"d_pachys c_japonica\", \"d_pachys c_panamensis\", \"d_pachys d_coronatus\", \"d_pachys d_pachys\", \"d_pachys o_tipulae\", \"d_pachys o_volvulus\", \"d_pachys p_arcanus\", \"d_pachys p_entomophagus\", \"d_pachys p_japonicus\", \"d_pachys p_mayer\", \"d_pachys p_redivivus\", \"d_pachys p_univalens\", \"d_pachys s_digitata\", \"d_pachys s_scapterisci\", \"o_volvulus a_loa\", \"o_volvulus a_suum\", \"o_volvulus b_malayi\", \"o_volvulus c_brenneri\", \"o_volvulus c_briggsae\", \"o_volvulus c_elegans\", \"o_volvulus c_inopinata\", \"o_volvulus c_japonica\", \"o_volvulus c_panamensis\", \"o_volvulus d_coronatus\", \"o_volvulus d_pachys\", \"o_volvulus o_tipulae\", \"o_volvulus o_volvulus\", \"o_volvulus p_arcanus\", \"o_volvulus p_entomophagus\", \"o_volvulus p_japonicus\", \"o_volvulus p_mayer\", \"o_volvulus p_redivivus\", \"o_volvulus p_univalens\", \"o_volvulus s_digitata\", \"o_volvulus s_scapterisci\", \"p_arcanus a_loa\", \"p_arcanus a_suum\", \"p_arcanus b_malayi\", \"p_arcanus c_brenneri\", \"p_arcanus c_briggsae\", \"p_arcanus c_elegans\", \"p_arcanus c_inopinata\", \"p_arcanus c_japonica\", \"p_arcanus c_panamensis\", \"p_arcanus d_coronatus\", \"p_arcanus d_pachys\", \"p_arcanus o_tipulae\", \"p_arcanus o_volvulus\", \"p_arcanus p_arcanus\", \"p_arcanus p_entomophagus\", \"p_arcanus p_japonicus\", \"p_arcanus p_mayer\", \"p_arcanus p_redivivus\", \"p_arcanus p_univalens\", \"p_arcanus s_digitata\", \"p_arcanus s_scapterisci\", \"p_japonicus a_loa\", \"p_japonicus a_suum\", \"p_japonicus b_malayi\", \"p_japonicus c_brenneri\", \"p_japonicus c_briggsae\", \"p_japonicus c_elegans\", \"p_japonicus c_inopinata\", \"p_japonicus c_japonica\", \"p_japonicus c_panamensis\", \"p_japonicus d_coronatus\", \"p_japonicus d_pachys\", \"p_japonicus o_tipulae\", \"p_japonicus o_volvulus\", \"p_japonicus p_arcanus\", \"p_japonicus p_entomophagus\", \"p_japonicus p_japonicus\", \"p_japonicus p_mayer\", \"p_japonicus p_redivivus\", \"p_japonicus p_univalens\", \"p_japonicus s_digitata\", \"p_japonicus s_scapterisci\", \"s_digitata a_loa\", \"s_digitata a_suum\", \"s_digitata b_malayi\", \"s_digitata c_brenneri\", \"s_digitata c_briggsae\", \"s_digitata c_elegans\", \"s_digitata c_inopinata\", \"s_digitata c_japonica\", \"s_digitata c_panamensis\", \"s_digitata d_coronatus\", \"s_digitata d_pachys\", \"s_digitata o_tipulae\", \"s_digitata o_volvulus\", \"s_digitata p_arcanus\", \"s_digitata p_entomophagus\", \"s_digitata p_japonicus\", \"s_digitata p_mayer\", \"s_digitata p_redivivus\", \"s_digitata p_univalens\", \"s_digitata s_digitata\", \"s_digitata s_scapterisci\"], \"legendgroup\": \"0.35 to 0.54\", \"marker\": {\"color\": \"#636efa\", \"symbol\": \"circle\"}, \"mode\": \"markers\", \"name\": \"0.35 to 0.54\", \"showlegend\": true, \"type\": \"scatter\", \"x\": [0.0, 1.5, 0.34, 1.41, 1.17, 1.1, 1.18, 1.1, 1.26, 1.64, 1.69, 1.2, 0.21, 1.81, 1.16, 1.43, 1.17, 1.05, 1.8, 0.19, 1.17, 0.34, 1.44, 0.0, 1.35, 1.11, 1.04, 1.12, 1.04, 1.2, 1.58, 1.64, 1.15, 0.32, 1.76, 1.1, 1.37, 1.11, 0.99, 1.74, 0.32, 1.11, 1.41, 1.54, 1.35, 0.0, 0.51, 0.43, 0.7, 0.61, 0.78, 1.67, 1.73, 1.13, 1.39, 1.85, 1.19, 1.47, 1.21, 1.31, 1.83, 1.39, 1.43, 1.17, 1.3, 1.11, 0.51, 0.0, 0.17, 0.46, 0.38, 0.54, 1.44, 1.49, 0.89, 1.15, 1.61, 0.96, 1.23, 0.97, 1.07, 1.6, 1.15, 1.19, 1.1, 1.22, 1.04, 0.43, 0.17, 0.0, 0.38, 0.3, 0.47, 1.36, 1.42, 0.81, 1.08, 1.54, 0.88, 1.16, 0.89, 1.0, 1.52, 1.08, 1.12, 1.18, 1.31, 1.12, 0.7, 0.46, 0.38, 0.0, 0.38, 0.38, 1.44, 1.5, 0.9, 1.16, 1.62, 0.96, 1.24, 0.98, 1.08, 1.6, 1.16, 1.2, 1.1, 1.22, 1.04, 0.61, 0.38, 0.3, 0.38, 0.0, 0.47, 1.36, 1.42, 0.82, 1.08, 1.54, 0.88, 1.16, 0.89, 1.0, 1.52, 1.08, 1.12, 1.26, 1.39, 1.2, 0.78, 0.54, 0.47, 0.38, 0.47, 0.0, 1.53, 1.59, 0.98, 1.25, 1.71, 1.05, 1.32, 1.06, 1.16, 1.69, 1.24, 1.28, 1.64, 1.18, 1.58, 1.67, 1.44, 1.36, 1.44, 1.36, 1.53, 0.0, 0.06, 1.47, 1.62, 2.08, 1.42, 1.7, 1.43, 1.54, 1.47, 1.62, 1.66, 1.69, 1.23, 1.64, 1.73, 1.49, 1.42, 1.5, 1.42, 1.59, 0.06, 0.0, 1.53, 1.68, 2.14, 1.48, 1.75, 1.49, 1.6, 1.53, 1.68, 1.72, 0.21, 1.48, 0.32, 1.39, 1.15, 1.08, 1.16, 1.08, 1.25, 1.62, 1.68, 1.19, 0.0, 1.8, 1.14, 1.41, 1.15, 1.03, 1.78, 0.19, 1.15, 1.81, 1.94, 1.76, 1.85, 1.61, 1.54, 1.62, 1.54, 1.71, 2.08, 2.14, 1.65, 1.8, 0.0, 1.04, 0.8, 1.05, 1.72, 2.24, 1.8, 1.84, 1.43, 1.56, 1.37, 1.47, 1.23, 1.16, 1.24, 1.16, 1.32, 1.7, 1.75, 1.26, 1.41, 0.8, 0.66, 0.0, 0.67, 1.33, 1.86, 1.41, 1.45, 0.19, 1.48, 0.32, 1.39, 1.15, 1.08, 1.16, 1.08, 1.24, 1.62, 1.68, 1.19, 0.19, 1.8, 1.14, 1.41, 1.15, 1.03, 1.78, 0.0, 1.15], \"xaxis\": \"x\", \"y\": [0.0, 0.28, 0.06, 0.37, 0.37, 0.37, 0.36, 0.7, 0.36, 0.35, 0.35, 0.41, 0.07, 0.31, 0.32, 0.33, 0.31, 0.53, 0.35, 0.09, 0.39, 0.06, 0.28, 0.0, 0.36, 0.36, 0.36, 0.35, 0.69, 0.35, 0.34, 0.34, 0.4, 0.06, 0.3, 0.31, 0.32, 0.31, 0.52, 0.34, 0.08, 0.39, 0.37, 0.46, 0.36, 0.0, 0.04, 0.06, 0.08, 0.46, 0.13, 0.29, 0.29, 0.38, 0.36, 0.35, 0.36, 0.37, 0.36, 0.62, 0.38, 0.39, 0.42, 0.37, 0.46, 0.36, 0.04, 0.0, 0.06, 0.08, 0.47, 0.13, 0.29, 0.29, 0.39, 0.36, 0.35, 0.36, 0.37, 0.36, 0.62, 0.38, 0.39, 0.42, 0.37, 0.45, 0.36, 0.06, 0.06, 0.0, 0.07, 0.46, 0.12, 0.29, 0.29, 0.38, 0.35, 0.34, 0.35, 0.36, 0.35, 0.61, 0.37, 0.39, 0.42, 0.36, 0.45, 0.35, 0.08, 0.08, 0.07, 0.0, 0.46, 0.12, 0.28, 0.28, 0.38, 0.35, 0.34, 0.35, 0.36, 0.35, 0.61, 0.37, 0.38, 0.41, 0.7, 0.78, 0.69, 0.46, 0.47, 0.46, 0.46, 0.0, 0.43, 0.62, 0.62, 0.71, 0.68, 0.68, 0.68, 0.69, 0.68, 0.94, 0.7, 0.72, 0.75, 0.36, 0.45, 0.35, 0.13, 0.13, 0.12, 0.12, 0.43, 0.0, 0.28, 0.28, 0.38, 0.35, 0.34, 0.35, 0.36, 0.35, 0.61, 0.37, 0.38, 0.41, 0.35, 0.43, 0.34, 0.29, 0.29, 0.29, 0.28, 0.62, 0.28, 0.0, 0.0, 0.36, 0.33, 0.33, 0.33, 0.34, 0.33, 0.59, 0.35, 0.37, 0.4, 0.35, 0.43, 0.34, 0.29, 0.29, 0.29, 0.28, 0.62, 0.28, 0.0, 0.0, 0.36, 0.33, 0.33, 0.33, 0.34, 0.33, 0.59, 0.35, 0.37, 0.4, 0.07, 0.27, 0.06, 0.36, 0.36, 0.35, 0.35, 0.68, 0.35, 0.33, 0.33, 0.39, 0.0, 0.29, 0.3, 0.31, 0.3, 0.52, 0.33, 0.09, 0.38, 0.31, 0.39, 0.3, 0.35, 0.35, 0.34, 0.34, 0.68, 0.34, 0.33, 0.33, 0.38, 0.29, 0.0, 0.07, 0.06, 0.06, 0.55, 0.33, 0.33, 0.37, 0.33, 0.41, 0.32, 0.37, 0.37, 0.36, 0.36, 0.69, 0.36, 0.34, 0.34, 0.4, 0.31, 0.06, 0.08, 0.0, 0.08, 0.57, 0.34, 0.35, 0.39, 0.09, 0.31, 0.08, 0.39, 0.39, 0.39, 0.38, 0.72, 0.38, 0.37, 0.37, 0.43, 0.09, 0.33, 0.34, 0.35, 0.34, 0.55, 0.37, 0.0, 0.42], \"yaxis\": \"y\"}, {\"customdata\": [[1.5, 0.28, 0.11297816522090576], [0.0, 0.0, 0.11297816522090576], [1.44, 0.28, 0.11297816522090576], [1.54, 0.46, 0.11297816522090576], [1.3, 0.46, 0.11297816522090576], [1.22, 0.45, 0.11297816522090576], [1.31, 0.45, 0.11297816522090576], [1.22, 0.78, 0.11297816522090576], [1.39, 0.45, 0.11297816522090576], [1.18, 0.43, 0.11297816522090576], [1.23, 0.43, 0.11297816522090576], [1.33, 0.49, 0.11297816522090576], [1.48, 0.27, 0.11297816522090576], [1.94, 0.39, 0.11297816522090576], [1.28, 0.4, 0.11297816522090576], [1.56, 0.41, 0.11297816522090576], [1.3, 0.4, 0.11297816522090576], [1.4, 0.62, 0.11297816522090576], [0.3, 0.44, 0.11297816522090576], [1.48, 0.31, 0.11297816522090576], [1.52, 0.48, 0.11297816522090576], [1.2, 0.41, 0.14293564783118795], [1.33, 0.49, 0.14293564783118795], [1.15, 0.4, 0.14293564783118795], [1.13, 0.38, 0.14293564783118795], [0.89, 0.39, 0.14293564783118795], [0.81, 0.38, 0.14293564783118795], [0.9, 0.38, 0.14293564783118795], [0.82, 0.71, 0.14293564783118795], [0.98, 0.38, 0.14293564783118795], [1.47, 0.36, 0.14293564783118795], [1.53, 0.36, 0.14293564783118795], [0.0, 0.0, 0.14293564783118795], [1.19, 0.39, 0.14293564783118795], [1.65, 0.38, 0.14293564783118795], [0.99, 0.39, 0.14293564783118795], [1.26, 0.4, 0.14293564783118795], [1.0, 0.39, 0.14293564783118795], [1.11, 0.65, 0.14293564783118795], [1.63, 0.41, 0.14293564783118795], [1.19, 0.43, 0.14293564783118795], [1.23, 0.46, 0.14293564783118795], [1.8, 0.35, 0.11748662350810944], [0.3, 0.44, 0.11748662350810944], [1.74, 0.34, 0.11748662350810944], [1.83, 0.38, 0.11748662350810944], [1.6, 0.38, 0.11748662350810944], [1.52, 0.37, 0.11748662350810944], [1.6, 0.37, 0.11748662350810944], [1.52, 0.7, 0.11748662350810944], [1.69, 0.37, 0.11748662350810944], [1.47, 0.35, 0.11748662350810944], [1.53, 0.35, 0.11748662350810944], [1.63, 0.41, 0.11748662350810944], [1.78, 0.33, 0.11748662350810944], [2.24, 0.33, 0.11748662350810944], [1.58, 0.34, 0.11748662350810944], [1.86, 0.34, 0.11748662350810944], [1.59, 0.33, 0.11748662350810944], [1.7, 0.6, 0.11748662350810944], [0.0, 0.0, 0.11748662350810944], [1.78, 0.37, 0.11748662350810944], [1.82, 0.29, 0.11748662350810944], [1.17, 0.39, 0.10876408968858775], [1.52, 0.48, 0.10876408968858775], [1.11, 0.39, 0.10876408968858775], [1.43, 0.42, 0.10876408968858775], [1.19, 0.42, 0.10876408968858775], [1.12, 0.42, 0.10876408968858775], [1.2, 0.41, 0.10876408968858775], [1.12, 0.75, 0.10876408968858775], [1.28, 0.41, 0.10876408968858775], [1.66, 0.4, 0.10876408968858775], [1.72, 0.4, 0.10876408968858775], [1.23, 0.46, 0.10876408968858775], [1.15, 0.38, 0.10876408968858775], [1.84, 0.37, 0.10876408968858775], [1.18, 0.38, 0.10876408968858775], [1.45, 0.39, 0.10876408968858775], [1.19, 0.38, 0.10876408968858775], [1.07, 0.64, 0.10876408968858775], [1.82, 0.29, 0.10876408968858775], [1.15, 0.42, 0.10876408968858775], [0.0, 0.0, 0.10876408968858775]], \"hovertemplate\": \"<b>%{hovertext}</b><br><br>clusters_R2_max=0.11 to 0.14<br>par1_values=%{customdata[0]}<br>pkc3_values=%{customdata[1]}<br>R2=%{customdata[2]}<extra></extra>\", \"hovertext\": [\"a_suum a_loa\", \"a_suum a_suum\", \"a_suum b_malayi\", \"a_suum c_brenneri\", \"a_suum c_briggsae\", \"a_suum c_elegans\", \"a_suum c_inopinata\", \"a_suum c_japonica\", \"a_suum c_panamensis\", \"a_suum d_coronatus\", \"a_suum d_pachys\", \"a_suum o_tipulae\", \"a_suum o_volvulus\", \"a_suum p_arcanus\", \"a_suum p_entomophagus\", \"a_suum p_japonicus\", \"a_suum p_mayer\", \"a_suum p_redivivus\", \"a_suum p_univalens\", \"a_suum s_digitata\", \"a_suum s_scapterisci\", \"o_tipulae a_loa\", \"o_tipulae a_suum\", \"o_tipulae b_malayi\", \"o_tipulae c_brenneri\", \"o_tipulae c_briggsae\", \"o_tipulae c_elegans\", \"o_tipulae c_inopinata\", \"o_tipulae c_japonica\", \"o_tipulae c_panamensis\", \"o_tipulae d_coronatus\", \"o_tipulae d_pachys\", \"o_tipulae o_tipulae\", \"o_tipulae o_volvulus\", \"o_tipulae p_arcanus\", \"o_tipulae p_entomophagus\", \"o_tipulae p_japonicus\", \"o_tipulae p_mayer\", \"o_tipulae p_redivivus\", \"o_tipulae p_univalens\", \"o_tipulae s_digitata\", \"o_tipulae s_scapterisci\", \"p_univalens a_loa\", \"p_univalens a_suum\", \"p_univalens b_malayi\", \"p_univalens c_brenneri\", \"p_univalens c_briggsae\", \"p_univalens c_elegans\", \"p_univalens c_inopinata\", \"p_univalens c_japonica\", \"p_univalens c_panamensis\", \"p_univalens d_coronatus\", \"p_univalens d_pachys\", \"p_univalens o_tipulae\", \"p_univalens o_volvulus\", \"p_univalens p_arcanus\", \"p_univalens p_entomophagus\", \"p_univalens p_japonicus\", \"p_univalens p_mayer\", \"p_univalens p_redivivus\", \"p_univalens p_univalens\", \"p_univalens s_digitata\", \"p_univalens s_scapterisci\", \"s_scapterisci a_loa\", \"s_scapterisci a_suum\", \"s_scapterisci b_malayi\", \"s_scapterisci c_brenneri\", \"s_scapterisci c_briggsae\", \"s_scapterisci c_elegans\", \"s_scapterisci c_inopinata\", \"s_scapterisci c_japonica\", \"s_scapterisci c_panamensis\", \"s_scapterisci d_coronatus\", \"s_scapterisci d_pachys\", \"s_scapterisci o_tipulae\", \"s_scapterisci o_volvulus\", \"s_scapterisci p_arcanus\", \"s_scapterisci p_entomophagus\", \"s_scapterisci p_japonicus\", \"s_scapterisci p_mayer\", \"s_scapterisci p_redivivus\", \"s_scapterisci p_univalens\", \"s_scapterisci s_digitata\", \"s_scapterisci s_scapterisci\"], \"legendgroup\": \"0.11 to 0.14\", \"marker\": {\"color\": \"#EF553B\", \"symbol\": \"circle\"}, \"mode\": \"markers\", \"name\": \"0.11 to 0.14\", \"showlegend\": true, \"type\": \"scatter\", \"x\": [1.5, 0.0, 1.44, 1.54, 1.3, 1.22, 1.31, 1.22, 1.39, 1.18, 1.23, 1.33, 1.48, 1.94, 1.28, 1.56, 1.3, 1.4, 0.3, 1.48, 1.52, 1.2, 1.33, 1.15, 1.13, 0.89, 0.81, 0.9, 0.82, 0.98, 1.47, 1.53, 0.0, 1.19, 1.65, 0.99, 1.26, 1.0, 1.11, 1.63, 1.19, 1.23, 1.8, 0.3, 1.74, 1.83, 1.6, 1.52, 1.6, 1.52, 1.69, 1.47, 1.53, 1.63, 1.78, 2.24, 1.58, 1.86, 1.59, 1.7, 0.0, 1.78, 1.82, 1.17, 1.52, 1.11, 1.43, 1.19, 1.12, 1.2, 1.12, 1.28, 1.66, 1.72, 1.23, 1.15, 1.84, 1.18, 1.45, 1.19, 1.07, 1.82, 1.15, 0.0], \"xaxis\": \"x\", \"y\": [0.28, 0.0, 0.28, 0.46, 0.46, 0.45, 0.45, 0.78, 0.45, 0.43, 0.43, 0.49, 0.27, 0.39, 0.4, 0.41, 0.4, 0.62, 0.44, 0.31, 0.48, 0.41, 0.49, 0.4, 0.38, 0.39, 0.38, 0.38, 0.71, 0.38, 0.36, 0.36, 0.0, 0.39, 0.38, 0.39, 0.4, 0.39, 0.65, 0.41, 0.43, 0.46, 0.35, 0.44, 0.34, 0.38, 0.38, 0.37, 0.37, 0.7, 0.37, 0.35, 0.35, 0.41, 0.33, 0.33, 0.34, 0.34, 0.33, 0.6, 0.0, 0.37, 0.29, 0.39, 0.48, 0.39, 0.42, 0.42, 0.42, 0.41, 0.75, 0.41, 0.4, 0.4, 0.46, 0.38, 0.37, 0.38, 0.39, 0.38, 0.64, 0.29, 0.42, 0.0], \"yaxis\": \"y\"}, {\"customdata\": [[1.16, 0.32, 0.249042174687957], [1.28, 0.4, 0.249042174687957], [1.1, 0.31, 0.249042174687957], [1.19, 0.36, 0.249042174687957], [0.96, 0.36, 0.249042174687957], [0.88, 0.35, 0.249042174687957], [0.96, 0.35, 0.249042174687957], [0.88, 0.68, 0.249042174687957], [1.05, 0.35, 0.249042174687957], [1.42, 0.33, 0.249042174687957], [1.48, 0.33, 0.249042174687957], [0.99, 0.39, 0.249042174687957], [1.14, 0.3, 0.249042174687957], [1.04, 0.07, 0.249042174687957], [0.0, 0.0, 0.249042174687957], [0.66, 0.08, 0.249042174687957], [0.4, 0.05, 0.249042174687957], [1.06, 0.56, 0.249042174687957], [1.58, 0.34, 0.249042174687957], [1.14, 0.34, 0.249042174687957], [1.18, 0.38, 0.249042174687957], [1.17, 0.31, 0.2436406288900771], [1.3, 0.4, 0.2436406288900771], [1.11, 0.31, 0.2436406288900771], [1.21, 0.36, 0.2436406288900771], [0.97, 0.36, 0.2436406288900771], [0.89, 0.35, 0.2436406288900771], [0.98, 0.35, 0.2436406288900771], [0.89, 0.68, 0.2436406288900771], [1.06, 0.35, 0.2436406288900771], [1.43, 0.33, 0.2436406288900771], [1.49, 0.33, 0.2436406288900771], [1.0, 0.39, 0.2436406288900771], [1.15, 0.3, 0.2436406288900771], [1.05, 0.06, 0.2436406288900771], [0.4, 0.05, 0.2436406288900771], [0.67, 0.08, 0.2436406288900771], [0.0, 0.0, 0.2436406288900771], [1.07, 0.56, 0.2436406288900771], [1.59, 0.33, 0.2436406288900771], [1.15, 0.34, 0.2436406288900771], [1.19, 0.38, 0.2436406288900771], [1.05, 0.53, 0.2998304669369537], [1.4, 0.62, 0.2998304669369537], [0.99, 0.52, 0.2998304669369537], [1.31, 0.62, 0.2998304669369537], [1.07, 0.62, 0.2998304669369537], [1.0, 0.61, 0.2998304669369537], [1.08, 0.61, 0.2998304669369537], [1.0, 0.94, 0.2998304669369537], [1.16, 0.61, 0.2998304669369537], [1.54, 0.59, 0.2998304669369537], [1.6, 0.59, 0.2998304669369537], [1.11, 0.65, 0.2998304669369537], [1.03, 0.52, 0.2998304669369537], [1.72, 0.55, 0.2998304669369537], [1.06, 0.56, 0.2998304669369537], [1.33, 0.57, 0.2998304669369537], [1.07, 0.56, 0.2998304669369537], [0.0, 0.0, 0.2998304669369537], [1.7, 0.6, 0.2998304669369537], [1.03, 0.55, 0.2998304669369537], [1.07, 0.64, 0.2998304669369537]], \"hovertemplate\": \"<b>%{hovertext}</b><br><br>clusters_R2_max=0.24 to 0.3<br>par1_values=%{customdata[0]}<br>pkc3_values=%{customdata[1]}<br>R2=%{customdata[2]}<extra></extra>\", \"hovertext\": [\"p_entomophagus a_loa\", \"p_entomophagus a_suum\", \"p_entomophagus b_malayi\", \"p_entomophagus c_brenneri\", \"p_entomophagus c_briggsae\", \"p_entomophagus c_elegans\", \"p_entomophagus c_inopinata\", \"p_entomophagus c_japonica\", \"p_entomophagus c_panamensis\", \"p_entomophagus d_coronatus\", \"p_entomophagus d_pachys\", \"p_entomophagus o_tipulae\", \"p_entomophagus o_volvulus\", \"p_entomophagus p_arcanus\", \"p_entomophagus p_entomophagus\", \"p_entomophagus p_japonicus\", \"p_entomophagus p_mayer\", \"p_entomophagus p_redivivus\", \"p_entomophagus p_univalens\", \"p_entomophagus s_digitata\", \"p_entomophagus s_scapterisci\", \"p_mayer a_loa\", \"p_mayer a_suum\", \"p_mayer b_malayi\", \"p_mayer c_brenneri\", \"p_mayer c_briggsae\", \"p_mayer c_elegans\", \"p_mayer c_inopinata\", \"p_mayer c_japonica\", \"p_mayer c_panamensis\", \"p_mayer d_coronatus\", \"p_mayer d_pachys\", \"p_mayer o_tipulae\", \"p_mayer o_volvulus\", \"p_mayer p_arcanus\", \"p_mayer p_entomophagus\", \"p_mayer p_japonicus\", \"p_mayer p_mayer\", \"p_mayer p_redivivus\", \"p_mayer p_univalens\", \"p_mayer s_digitata\", \"p_mayer s_scapterisci\", \"p_redivivus a_loa\", \"p_redivivus a_suum\", \"p_redivivus b_malayi\", \"p_redivivus c_brenneri\", \"p_redivivus c_briggsae\", \"p_redivivus c_elegans\", \"p_redivivus c_inopinata\", \"p_redivivus c_japonica\", \"p_redivivus c_panamensis\", \"p_redivivus d_coronatus\", \"p_redivivus d_pachys\", \"p_redivivus o_tipulae\", \"p_redivivus o_volvulus\", \"p_redivivus p_arcanus\", \"p_redivivus p_entomophagus\", \"p_redivivus p_japonicus\", \"p_redivivus p_mayer\", \"p_redivivus p_redivivus\", \"p_redivivus p_univalens\", \"p_redivivus s_digitata\", \"p_redivivus s_scapterisci\"], \"legendgroup\": \"0.24 to 0.3\", \"marker\": {\"color\": \"#00cc96\", \"symbol\": \"circle\"}, \"mode\": \"markers\", \"name\": \"0.24 to 0.3\", \"showlegend\": true, \"type\": \"scatter\", \"x\": [1.16, 1.28, 1.1, 1.19, 0.96, 0.88, 0.96, 0.88, 1.05, 1.42, 1.48, 0.99, 1.14, 1.04, 0.0, 0.66, 0.4, 1.06, 1.58, 1.14, 1.18, 1.17, 1.3, 1.11, 1.21, 0.97, 0.89, 0.98, 0.89, 1.06, 1.43, 1.49, 1.0, 1.15, 1.05, 0.4, 0.67, 0.0, 1.07, 1.59, 1.15, 1.19, 1.05, 1.4, 0.99, 1.31, 1.07, 1.0, 1.08, 1.0, 1.16, 1.54, 1.6, 1.11, 1.03, 1.72, 1.06, 1.33, 1.07, 0.0, 1.7, 1.03, 1.07], \"xaxis\": \"x\", \"y\": [0.32, 0.4, 0.31, 0.36, 0.36, 0.35, 0.35, 0.68, 0.35, 0.33, 0.33, 0.39, 0.3, 0.07, 0.0, 0.08, 0.05, 0.56, 0.34, 0.34, 0.38, 0.31, 0.4, 0.31, 0.36, 0.36, 0.35, 0.35, 0.68, 0.35, 0.33, 0.33, 0.39, 0.3, 0.06, 0.05, 0.08, 0.0, 0.56, 0.33, 0.34, 0.38, 0.53, 0.62, 0.52, 0.62, 0.62, 0.61, 0.61, 0.94, 0.61, 0.59, 0.59, 0.65, 0.52, 0.55, 0.56, 0.57, 0.56, 0.0, 0.6, 0.55, 0.64], \"yaxis\": \"y\"}],\n",
       "                        {\"legend\": {\"title\": {\"text\": \"clusters_R2_max\"}, \"tracegroupgap\": 0}, \"margin\": {\"t\": 60}, \"template\": {\"data\": {\"bar\": [{\"error_x\": {\"color\": \"#2a3f5f\"}, \"error_y\": {\"color\": \"#2a3f5f\"}, \"marker\": {\"line\": {\"color\": \"#E5ECF6\", \"width\": 0.5}}, \"type\": \"bar\"}], \"barpolar\": [{\"marker\": {\"line\": {\"color\": \"#E5ECF6\", \"width\": 0.5}}, \"type\": \"barpolar\"}], \"carpet\": [{\"aaxis\": {\"endlinecolor\": \"#2a3f5f\", \"gridcolor\": \"white\", \"linecolor\": \"white\", \"minorgridcolor\": \"white\", \"startlinecolor\": \"#2a3f5f\"}, \"baxis\": {\"endlinecolor\": \"#2a3f5f\", \"gridcolor\": \"white\", \"linecolor\": \"white\", \"minorgridcolor\": \"white\", \"startlinecolor\": \"#2a3f5f\"}, \"type\": \"carpet\"}], \"choropleth\": [{\"colorbar\": {\"outlinewidth\": 0, \"ticks\": \"\"}, \"type\": \"choropleth\"}], \"contour\": [{\"colorbar\": {\"outlinewidth\": 0, \"ticks\": \"\"}, \"colorscale\": [[0.0, \"#0d0887\"], [0.1111111111111111, \"#46039f\"], [0.2222222222222222, \"#7201a8\"], [0.3333333333333333, \"#9c179e\"], [0.4444444444444444, \"#bd3786\"], [0.5555555555555556, \"#d8576b\"], [0.6666666666666666, \"#ed7953\"], [0.7777777777777778, \"#fb9f3a\"], [0.8888888888888888, \"#fdca26\"], [1.0, \"#f0f921\"]], \"type\": \"contour\"}], \"contourcarpet\": [{\"colorbar\": {\"outlinewidth\": 0, \"ticks\": \"\"}, \"type\": \"contourcarpet\"}], \"heatmap\": [{\"colorbar\": {\"outlinewidth\": 0, \"ticks\": \"\"}, \"colorscale\": [[0.0, \"#0d0887\"], [0.1111111111111111, \"#46039f\"], [0.2222222222222222, \"#7201a8\"], [0.3333333333333333, \"#9c179e\"], [0.4444444444444444, \"#bd3786\"], [0.5555555555555556, \"#d8576b\"], [0.6666666666666666, \"#ed7953\"], [0.7777777777777778, \"#fb9f3a\"], [0.8888888888888888, \"#fdca26\"], [1.0, \"#f0f921\"]], \"type\": \"heatmap\"}], \"heatmapgl\": [{\"colorbar\": {\"outlinewidth\": 0, \"ticks\": \"\"}, \"colorscale\": [[0.0, \"#0d0887\"], [0.1111111111111111, \"#46039f\"], [0.2222222222222222, \"#7201a8\"], [0.3333333333333333, \"#9c179e\"], [0.4444444444444444, \"#bd3786\"], [0.5555555555555556, \"#d8576b\"], [0.6666666666666666, \"#ed7953\"], [0.7777777777777778, \"#fb9f3a\"], [0.8888888888888888, \"#fdca26\"], [1.0, \"#f0f921\"]], \"type\": \"heatmapgl\"}], \"histogram\": [{\"marker\": {\"colorbar\": {\"outlinewidth\": 0, \"ticks\": \"\"}}, \"type\": \"histogram\"}], \"histogram2d\": [{\"colorbar\": {\"outlinewidth\": 0, \"ticks\": \"\"}, \"colorscale\": [[0.0, \"#0d0887\"], [0.1111111111111111, \"#46039f\"], [0.2222222222222222, \"#7201a8\"], [0.3333333333333333, \"#9c179e\"], [0.4444444444444444, \"#bd3786\"], [0.5555555555555556, \"#d8576b\"], [0.6666666666666666, \"#ed7953\"], [0.7777777777777778, \"#fb9f3a\"], [0.8888888888888888, \"#fdca26\"], [1.0, \"#f0f921\"]], \"type\": \"histogram2d\"}], \"histogram2dcontour\": [{\"colorbar\": {\"outlinewidth\": 0, \"ticks\": \"\"}, \"colorscale\": [[0.0, \"#0d0887\"], [0.1111111111111111, \"#46039f\"], [0.2222222222222222, \"#7201a8\"], [0.3333333333333333, \"#9c179e\"], [0.4444444444444444, \"#bd3786\"], [0.5555555555555556, \"#d8576b\"], [0.6666666666666666, \"#ed7953\"], [0.7777777777777778, \"#fb9f3a\"], [0.8888888888888888, \"#fdca26\"], [1.0, \"#f0f921\"]], \"type\": \"histogram2dcontour\"}], \"mesh3d\": [{\"colorbar\": {\"outlinewidth\": 0, \"ticks\": \"\"}, \"type\": \"mesh3d\"}], \"parcoords\": [{\"line\": {\"colorbar\": {\"outlinewidth\": 0, \"ticks\": \"\"}}, \"type\": \"parcoords\"}], \"pie\": [{\"automargin\": true, \"type\": \"pie\"}], \"scatter\": [{\"marker\": {\"colorbar\": {\"outlinewidth\": 0, \"ticks\": \"\"}}, \"type\": \"scatter\"}], \"scatter3d\": [{\"line\": {\"colorbar\": {\"outlinewidth\": 0, \"ticks\": \"\"}}, \"marker\": {\"colorbar\": {\"outlinewidth\": 0, \"ticks\": \"\"}}, \"type\": \"scatter3d\"}], \"scattercarpet\": [{\"marker\": {\"colorbar\": {\"outlinewidth\": 0, \"ticks\": \"\"}}, \"type\": \"scattercarpet\"}], \"scattergeo\": [{\"marker\": {\"colorbar\": {\"outlinewidth\": 0, \"ticks\": \"\"}}, \"type\": \"scattergeo\"}], \"scattergl\": [{\"marker\": {\"colorbar\": {\"outlinewidth\": 0, \"ticks\": \"\"}}, \"type\": \"scattergl\"}], \"scattermapbox\": [{\"marker\": {\"colorbar\": {\"outlinewidth\": 0, \"ticks\": \"\"}}, \"type\": \"scattermapbox\"}], \"scatterpolar\": [{\"marker\": {\"colorbar\": {\"outlinewidth\": 0, \"ticks\": \"\"}}, \"type\": \"scatterpolar\"}], \"scatterpolargl\": [{\"marker\": {\"colorbar\": {\"outlinewidth\": 0, \"ticks\": \"\"}}, \"type\": \"scatterpolargl\"}], \"scatterternary\": [{\"marker\": {\"colorbar\": {\"outlinewidth\": 0, \"ticks\": \"\"}}, \"type\": \"scatterternary\"}], \"surface\": [{\"colorbar\": {\"outlinewidth\": 0, \"ticks\": \"\"}, \"colorscale\": [[0.0, \"#0d0887\"], [0.1111111111111111, \"#46039f\"], [0.2222222222222222, \"#7201a8\"], [0.3333333333333333, \"#9c179e\"], [0.4444444444444444, \"#bd3786\"], [0.5555555555555556, \"#d8576b\"], [0.6666666666666666, \"#ed7953\"], [0.7777777777777778, \"#fb9f3a\"], [0.8888888888888888, \"#fdca26\"], [1.0, \"#f0f921\"]], \"type\": \"surface\"}], \"table\": [{\"cells\": {\"fill\": {\"color\": \"#EBF0F8\"}, \"line\": {\"color\": \"white\"}}, \"header\": {\"fill\": {\"color\": \"#C8D4E3\"}, \"line\": {\"color\": \"white\"}}, \"type\": \"table\"}]}, \"layout\": {\"annotationdefaults\": {\"arrowcolor\": \"#2a3f5f\", \"arrowhead\": 0, \"arrowwidth\": 1}, \"coloraxis\": {\"colorbar\": {\"outlinewidth\": 0, \"ticks\": \"\"}}, \"colorscale\": {\"diverging\": [[0, \"#8e0152\"], [0.1, \"#c51b7d\"], [0.2, \"#de77ae\"], [0.3, \"#f1b6da\"], [0.4, \"#fde0ef\"], [0.5, \"#f7f7f7\"], [0.6, \"#e6f5d0\"], [0.7, \"#b8e186\"], [0.8, \"#7fbc41\"], [0.9, \"#4d9221\"], [1, \"#276419\"]], \"sequential\": [[0.0, \"#0d0887\"], [0.1111111111111111, \"#46039f\"], [0.2222222222222222, \"#7201a8\"], [0.3333333333333333, \"#9c179e\"], [0.4444444444444444, \"#bd3786\"], [0.5555555555555556, \"#d8576b\"], [0.6666666666666666, \"#ed7953\"], [0.7777777777777778, \"#fb9f3a\"], [0.8888888888888888, \"#fdca26\"], [1.0, \"#f0f921\"]], \"sequentialminus\": [[0.0, \"#0d0887\"], [0.1111111111111111, \"#46039f\"], [0.2222222222222222, \"#7201a8\"], [0.3333333333333333, \"#9c179e\"], [0.4444444444444444, \"#bd3786\"], [0.5555555555555556, \"#d8576b\"], [0.6666666666666666, \"#ed7953\"], [0.7777777777777778, \"#fb9f3a\"], [0.8888888888888888, \"#fdca26\"], [1.0, \"#f0f921\"]]}, \"colorway\": [\"#636efa\", \"#EF553B\", \"#00cc96\", \"#ab63fa\", \"#FFA15A\", \"#19d3f3\", \"#FF6692\", \"#B6E880\", \"#FF97FF\", \"#FECB52\"], \"font\": {\"color\": \"#2a3f5f\"}, \"geo\": {\"bgcolor\": \"white\", \"lakecolor\": \"white\", \"landcolor\": \"#E5ECF6\", \"showlakes\": true, \"showland\": true, \"subunitcolor\": \"white\"}, \"hoverlabel\": {\"align\": \"left\"}, \"hovermode\": \"closest\", \"mapbox\": {\"style\": \"light\"}, \"paper_bgcolor\": \"white\", \"plot_bgcolor\": \"#E5ECF6\", \"polar\": {\"angularaxis\": {\"gridcolor\": \"white\", \"linecolor\": \"white\", \"ticks\": \"\"}, \"bgcolor\": \"#E5ECF6\", \"radialaxis\": {\"gridcolor\": \"white\", \"linecolor\": \"white\", \"ticks\": \"\"}}, \"scene\": {\"xaxis\": {\"backgroundcolor\": \"#E5ECF6\", \"gridcolor\": \"white\", \"gridwidth\": 2, \"linecolor\": \"white\", \"showbackground\": true, \"ticks\": \"\", \"zerolinecolor\": \"white\"}, \"yaxis\": {\"backgroundcolor\": \"#E5ECF6\", \"gridcolor\": \"white\", \"gridwidth\": 2, \"linecolor\": \"white\", \"showbackground\": true, \"ticks\": \"\", \"zerolinecolor\": \"white\"}, \"zaxis\": {\"backgroundcolor\": \"#E5ECF6\", \"gridcolor\": \"white\", \"gridwidth\": 2, \"linecolor\": \"white\", \"showbackground\": true, \"ticks\": \"\", \"zerolinecolor\": \"white\"}}, \"shapedefaults\": {\"line\": {\"color\": \"#2a3f5f\"}}, \"ternary\": {\"aaxis\": {\"gridcolor\": \"white\", \"linecolor\": \"white\", \"ticks\": \"\"}, \"baxis\": {\"gridcolor\": \"white\", \"linecolor\": \"white\", \"ticks\": \"\"}, \"bgcolor\": \"#E5ECF6\", \"caxis\": {\"gridcolor\": \"white\", \"linecolor\": \"white\", \"ticks\": \"\"}}, \"title\": {\"x\": 0.05}, \"xaxis\": {\"automargin\": true, \"gridcolor\": \"white\", \"linecolor\": \"white\", \"ticks\": \"\", \"title\": {\"standoff\": 15}, \"zerolinecolor\": \"white\", \"zerolinewidth\": 2}, \"yaxis\": {\"automargin\": true, \"gridcolor\": \"white\", \"linecolor\": \"white\", \"ticks\": \"\", \"title\": {\"standoff\": 15}, \"zerolinecolor\": \"white\", \"zerolinewidth\": 2}}}, \"xaxis\": {\"anchor\": \"y\", \"domain\": [0.0, 1.0], \"title\": {\"text\": \"par1_values\"}}, \"yaxis\": {\"anchor\": \"x\", \"domain\": [0.0, 1.0], \"title\": {\"text\": \"pkc3_values\"}}},\n",
       "                        {\"responsive\": true}\n",
       "                    ).then(function(){\n",
       "                            \n",
       "var gd = document.getElementById('b875e246-3275-4b47-836a-9df702dd0552');\n",
       "var x = new MutationObserver(function (mutations, observer) {{\n",
       "        var display = window.getComputedStyle(gd).display;\n",
       "        if (!display || display === 'none') {{\n",
       "            console.log([gd, 'removed!']);\n",
       "            Plotly.purge(gd);\n",
       "            observer.disconnect();\n",
       "        }}\n",
       "}});\n",
       "\n",
       "// Listen for the removal of the full notebook cells\n",
       "var notebookContainer = gd.closest('#notebook-container');\n",
       "if (notebookContainer) {{\n",
       "    x.observe(notebookContainer, {childList: true});\n",
       "}}\n",
       "\n",
       "// Listen for the clearing of the current output cell\n",
       "var outputEl = gd.closest('.output');\n",
       "if (outputEl) {{\n",
       "    x.observe(outputEl, {childList: true});\n",
       "}}\n",
       "\n",
       "                        })\n",
       "                };\n",
       "                });\n",
       "            </script>\n",
       "        </div>"
      ]
     },
     "metadata": {},
     "output_type": "display_data"
    }
   ],
   "source": [
    "fig = px.scatter(xy, x=\"par1_values\", y=\"pkc3_values\", color = 'clusters_R2_max',\n",
    "                 hover_name=\"labels\", hover_data=['par1_values', 'pkc3_values', 'R2'],\n",
    "            \n",
    "#                  trendline=\"ols\", trendline_color_override='darkblue'\n",
    "                 )\n",
    "\n",
    "\n",
    "# fig.add_shape(type=\"line\",\n",
    "#     x0=0, y0=0, x1=2, y1=2,\n",
    "#     line=dict(\n",
    "#         color=\"LightSeaGreen\",\n",
    "#         width=4,\n",
    "#         dash=\"dashdot\",\n",
    "#     )\n",
    "# )\n",
    "# fig.add_traces(px.scatter(xy, x=\"par1_values\", y=\"pkc3_values\", color = 'level_0_par1'))\n",
    "# fig.add_trace(\n",
    "#     go.Scatter(\n",
    "#         mode='markers',\n",
    "#         x=xy[\"par1_values\"],\n",
    "#         y=xy[\"pkc3_values\"],\n",
    "#         marker=dict(\n",
    "#             color='LightSkyBlue',\n",
    "#             opacity=0.0\n",
    "#             ),\n",
    "\n",
    "#         )\n",
    "    \n",
    "#     )\n",
    "\n",
    "\n",
    "fig.show()\n",
    "fig.write_html(\"test_plot.html\")"
   ]
  },
  {
   "cell_type": "code",
   "execution_count": 128,
   "metadata": {},
   "outputs": [],
   "source": [
    "results = px.get_trendline_results(fig)"
   ]
  },
  {
   "cell_type": "code",
   "execution_count": 134,
   "metadata": {},
   "outputs": [
    {
     "data": {
      "text/plain": [
       "array([0.10236349, 0.19212751])"
      ]
     },
     "execution_count": 134,
     "metadata": {},
     "output_type": "execute_result"
    }
   ],
   "source": [
    "results.px_fit_results.iloc[0].params"
   ]
  },
  {
   "cell_type": "code",
   "execution_count": 324,
   "metadata": {},
   "outputs": [
    {
     "data": {
      "text/html": [
       "<div>\n",
       "<style scoped>\n",
       "    .dataframe tbody tr th:only-of-type {\n",
       "        vertical-align: middle;\n",
       "    }\n",
       "\n",
       "    .dataframe tbody tr th {\n",
       "        vertical-align: top;\n",
       "    }\n",
       "\n",
       "    .dataframe thead th {\n",
       "        text-align: right;\n",
       "    }\n",
       "</style>\n",
       "<table border=\"1\" class=\"dataframe\">\n",
       "  <thead>\n",
       "    <tr style=\"text-align: right;\">\n",
       "      <th></th>\n",
       "      <th>a_loa</th>\n",
       "      <th>a_suum</th>\n",
       "      <th>b_malayi</th>\n",
       "      <th>c_brenneri</th>\n",
       "      <th>c_briggsae</th>\n",
       "      <th>c_elegans</th>\n",
       "      <th>c_inopinata</th>\n",
       "      <th>c_japonica</th>\n",
       "      <th>c_panamensis</th>\n",
       "      <th>d_coronatus</th>\n",
       "      <th>...</th>\n",
       "      <th>o_tipulae</th>\n",
       "      <th>o_volvulus</th>\n",
       "      <th>p_arcanus</th>\n",
       "      <th>p_entomophagus</th>\n",
       "      <th>p_japonicus</th>\n",
       "      <th>p_mayer</th>\n",
       "      <th>p_redivivus</th>\n",
       "      <th>p_univalens</th>\n",
       "      <th>s_digitata</th>\n",
       "      <th>s_scapterisci</th>\n",
       "    </tr>\n",
       "  </thead>\n",
       "  <tbody>\n",
       "    <tr>\n",
       "      <th>a_loa</th>\n",
       "      <td>0.000000</td>\n",
       "      <td>0.284312</td>\n",
       "      <td>0.056092</td>\n",
       "      <td>0.370684</td>\n",
       "      <td>0.372342</td>\n",
       "      <td>0.366647</td>\n",
       "      <td>0.362831</td>\n",
       "      <td>0.697813</td>\n",
       "      <td>0.361306</td>\n",
       "      <td>0.346878</td>\n",
       "      <td>...</td>\n",
       "      <td>0.405884</td>\n",
       "      <td>0.065543</td>\n",
       "      <td>0.307724</td>\n",
       "      <td>0.316653</td>\n",
       "      <td>0.325277</td>\n",
       "      <td>0.314252</td>\n",
       "      <td>0.532710</td>\n",
       "      <td>0.349182</td>\n",
       "      <td>0.092866</td>\n",
       "      <td>0.394770</td>\n",
       "    </tr>\n",
       "    <tr>\n",
       "      <th>a_suum</th>\n",
       "      <td>0.284312</td>\n",
       "      <td>0.000000</td>\n",
       "      <td>0.276042</td>\n",
       "      <td>0.456666</td>\n",
       "      <td>0.458324</td>\n",
       "      <td>0.452629</td>\n",
       "      <td>0.448813</td>\n",
       "      <td>0.783795</td>\n",
       "      <td>0.447288</td>\n",
       "      <td>0.432860</td>\n",
       "      <td>...</td>\n",
       "      <td>0.491866</td>\n",
       "      <td>0.269617</td>\n",
       "      <td>0.393706</td>\n",
       "      <td>0.402635</td>\n",
       "      <td>0.411259</td>\n",
       "      <td>0.400234</td>\n",
       "      <td>0.618692</td>\n",
       "      <td>0.435164</td>\n",
       "      <td>0.306372</td>\n",
       "      <td>0.480752</td>\n",
       "    </tr>\n",
       "    <tr>\n",
       "      <th>b_malayi</th>\n",
       "      <td>0.056092</td>\n",
       "      <td>0.276042</td>\n",
       "      <td>0.000000</td>\n",
       "      <td>0.362414</td>\n",
       "      <td>0.364072</td>\n",
       "      <td>0.358377</td>\n",
       "      <td>0.354561</td>\n",
       "      <td>0.689543</td>\n",
       "      <td>0.353036</td>\n",
       "      <td>0.338608</td>\n",
       "      <td>...</td>\n",
       "      <td>0.397614</td>\n",
       "      <td>0.057273</td>\n",
       "      <td>0.299454</td>\n",
       "      <td>0.308383</td>\n",
       "      <td>0.317007</td>\n",
       "      <td>0.305982</td>\n",
       "      <td>0.524440</td>\n",
       "      <td>0.340912</td>\n",
       "      <td>0.084596</td>\n",
       "      <td>0.386500</td>\n",
       "    </tr>\n",
       "    <tr>\n",
       "      <th>c_brenneri</th>\n",
       "      <td>0.370684</td>\n",
       "      <td>0.456666</td>\n",
       "      <td>0.362414</td>\n",
       "      <td>0.000000</td>\n",
       "      <td>0.041512</td>\n",
       "      <td>0.062841</td>\n",
       "      <td>0.076881</td>\n",
       "      <td>0.463741</td>\n",
       "      <td>0.127234</td>\n",
       "      <td>0.292614</td>\n",
       "      <td>...</td>\n",
       "      <td>0.384818</td>\n",
       "      <td>0.355989</td>\n",
       "      <td>0.348860</td>\n",
       "      <td>0.357789</td>\n",
       "      <td>0.366413</td>\n",
       "      <td>0.355388</td>\n",
       "      <td>0.617578</td>\n",
       "      <td>0.375550</td>\n",
       "      <td>0.392744</td>\n",
       "      <td>0.421138</td>\n",
       "    </tr>\n",
       "    <tr>\n",
       "      <th>c_briggsae</th>\n",
       "      <td>0.372342</td>\n",
       "      <td>0.458324</td>\n",
       "      <td>0.364072</td>\n",
       "      <td>0.041512</td>\n",
       "      <td>0.000000</td>\n",
       "      <td>0.064499</td>\n",
       "      <td>0.078539</td>\n",
       "      <td>0.465399</td>\n",
       "      <td>0.128892</td>\n",
       "      <td>0.294272</td>\n",
       "      <td>...</td>\n",
       "      <td>0.386476</td>\n",
       "      <td>0.357647</td>\n",
       "      <td>0.350518</td>\n",
       "      <td>0.359447</td>\n",
       "      <td>0.368071</td>\n",
       "      <td>0.357046</td>\n",
       "      <td>0.619236</td>\n",
       "      <td>0.377208</td>\n",
       "      <td>0.394402</td>\n",
       "      <td>0.422796</td>\n",
       "    </tr>\n",
       "    <tr>\n",
       "      <th>c_elegans</th>\n",
       "      <td>0.366647</td>\n",
       "      <td>0.452629</td>\n",
       "      <td>0.358377</td>\n",
       "      <td>0.062841</td>\n",
       "      <td>0.064499</td>\n",
       "      <td>0.000000</td>\n",
       "      <td>0.072844</td>\n",
       "      <td>0.459704</td>\n",
       "      <td>0.123197</td>\n",
       "      <td>0.288577</td>\n",
       "      <td>...</td>\n",
       "      <td>0.380781</td>\n",
       "      <td>0.351952</td>\n",
       "      <td>0.344823</td>\n",
       "      <td>0.353752</td>\n",
       "      <td>0.362376</td>\n",
       "      <td>0.351351</td>\n",
       "      <td>0.613541</td>\n",
       "      <td>0.371513</td>\n",
       "      <td>0.388707</td>\n",
       "      <td>0.417101</td>\n",
       "    </tr>\n",
       "    <tr>\n",
       "      <th>c_inopinata</th>\n",
       "      <td>0.362831</td>\n",
       "      <td>0.448813</td>\n",
       "      <td>0.354561</td>\n",
       "      <td>0.076881</td>\n",
       "      <td>0.078539</td>\n",
       "      <td>0.072844</td>\n",
       "      <td>0.000000</td>\n",
       "      <td>0.455888</td>\n",
       "      <td>0.119381</td>\n",
       "      <td>0.284761</td>\n",
       "      <td>...</td>\n",
       "      <td>0.376965</td>\n",
       "      <td>0.348136</td>\n",
       "      <td>0.341007</td>\n",
       "      <td>0.349936</td>\n",
       "      <td>0.358560</td>\n",
       "      <td>0.347535</td>\n",
       "      <td>0.609725</td>\n",
       "      <td>0.367697</td>\n",
       "      <td>0.384891</td>\n",
       "      <td>0.413285</td>\n",
       "    </tr>\n",
       "    <tr>\n",
       "      <th>c_japonica</th>\n",
       "      <td>0.697813</td>\n",
       "      <td>0.783795</td>\n",
       "      <td>0.689543</td>\n",
       "      <td>0.463741</td>\n",
       "      <td>0.465399</td>\n",
       "      <td>0.459704</td>\n",
       "      <td>0.455888</td>\n",
       "      <td>0.000000</td>\n",
       "      <td>0.432889</td>\n",
       "      <td>0.619743</td>\n",
       "      <td>...</td>\n",
       "      <td>0.711947</td>\n",
       "      <td>0.683118</td>\n",
       "      <td>0.675989</td>\n",
       "      <td>0.684918</td>\n",
       "      <td>0.693542</td>\n",
       "      <td>0.682517</td>\n",
       "      <td>0.944707</td>\n",
       "      <td>0.702679</td>\n",
       "      <td>0.719873</td>\n",
       "      <td>0.748267</td>\n",
       "    </tr>\n",
       "    <tr>\n",
       "      <th>c_panamensis</th>\n",
       "      <td>0.361306</td>\n",
       "      <td>0.447288</td>\n",
       "      <td>0.353036</td>\n",
       "      <td>0.127234</td>\n",
       "      <td>0.128892</td>\n",
       "      <td>0.123197</td>\n",
       "      <td>0.119381</td>\n",
       "      <td>0.432889</td>\n",
       "      <td>0.000000</td>\n",
       "      <td>0.283236</td>\n",
       "      <td>...</td>\n",
       "      <td>0.375440</td>\n",
       "      <td>0.346611</td>\n",
       "      <td>0.339482</td>\n",
       "      <td>0.348411</td>\n",
       "      <td>0.357035</td>\n",
       "      <td>0.346010</td>\n",
       "      <td>0.608200</td>\n",
       "      <td>0.366172</td>\n",
       "      <td>0.383366</td>\n",
       "      <td>0.411760</td>\n",
       "    </tr>\n",
       "    <tr>\n",
       "      <th>d_coronatus</th>\n",
       "      <td>0.346878</td>\n",
       "      <td>0.432860</td>\n",
       "      <td>0.338608</td>\n",
       "      <td>0.292614</td>\n",
       "      <td>0.294272</td>\n",
       "      <td>0.288577</td>\n",
       "      <td>0.284761</td>\n",
       "      <td>0.619743</td>\n",
       "      <td>0.283236</td>\n",
       "      <td>0.000000</td>\n",
       "      <td>...</td>\n",
       "      <td>0.361012</td>\n",
       "      <td>0.332183</td>\n",
       "      <td>0.325054</td>\n",
       "      <td>0.333983</td>\n",
       "      <td>0.342607</td>\n",
       "      <td>0.331582</td>\n",
       "      <td>0.593772</td>\n",
       "      <td>0.351744</td>\n",
       "      <td>0.368938</td>\n",
       "      <td>0.397332</td>\n",
       "    </tr>\n",
       "    <tr>\n",
       "      <th>d_pachys</th>\n",
       "      <td>0.346878</td>\n",
       "      <td>0.432860</td>\n",
       "      <td>0.338608</td>\n",
       "      <td>0.292614</td>\n",
       "      <td>0.294272</td>\n",
       "      <td>0.288577</td>\n",
       "      <td>0.284761</td>\n",
       "      <td>0.619743</td>\n",
       "      <td>0.283236</td>\n",
       "      <td>0.000064</td>\n",
       "      <td>...</td>\n",
       "      <td>0.361012</td>\n",
       "      <td>0.332183</td>\n",
       "      <td>0.325054</td>\n",
       "      <td>0.333983</td>\n",
       "      <td>0.342607</td>\n",
       "      <td>0.331582</td>\n",
       "      <td>0.593772</td>\n",
       "      <td>0.351744</td>\n",
       "      <td>0.368938</td>\n",
       "      <td>0.397332</td>\n",
       "    </tr>\n",
       "    <tr>\n",
       "      <th>o_tipulae</th>\n",
       "      <td>0.405884</td>\n",
       "      <td>0.491866</td>\n",
       "      <td>0.397614</td>\n",
       "      <td>0.384818</td>\n",
       "      <td>0.386476</td>\n",
       "      <td>0.380781</td>\n",
       "      <td>0.376965</td>\n",
       "      <td>0.711947</td>\n",
       "      <td>0.375440</td>\n",
       "      <td>0.361012</td>\n",
       "      <td>...</td>\n",
       "      <td>0.000000</td>\n",
       "      <td>0.391189</td>\n",
       "      <td>0.384060</td>\n",
       "      <td>0.392989</td>\n",
       "      <td>0.401613</td>\n",
       "      <td>0.390588</td>\n",
       "      <td>0.652778</td>\n",
       "      <td>0.410750</td>\n",
       "      <td>0.427944</td>\n",
       "      <td>0.456338</td>\n",
       "    </tr>\n",
       "    <tr>\n",
       "      <th>o_volvulus</th>\n",
       "      <td>0.065543</td>\n",
       "      <td>0.269617</td>\n",
       "      <td>0.057273</td>\n",
       "      <td>0.355989</td>\n",
       "      <td>0.357647</td>\n",
       "      <td>0.351952</td>\n",
       "      <td>0.348136</td>\n",
       "      <td>0.683118</td>\n",
       "      <td>0.346611</td>\n",
       "      <td>0.332183</td>\n",
       "      <td>...</td>\n",
       "      <td>0.391189</td>\n",
       "      <td>0.000000</td>\n",
       "      <td>0.293029</td>\n",
       "      <td>0.301958</td>\n",
       "      <td>0.310582</td>\n",
       "      <td>0.299557</td>\n",
       "      <td>0.518015</td>\n",
       "      <td>0.334487</td>\n",
       "      <td>0.087603</td>\n",
       "      <td>0.380075</td>\n",
       "    </tr>\n",
       "    <tr>\n",
       "      <th>p_arcanus</th>\n",
       "      <td>0.307724</td>\n",
       "      <td>0.393706</td>\n",
       "      <td>0.299454</td>\n",
       "      <td>0.348860</td>\n",
       "      <td>0.350518</td>\n",
       "      <td>0.344823</td>\n",
       "      <td>0.341007</td>\n",
       "      <td>0.675989</td>\n",
       "      <td>0.339482</td>\n",
       "      <td>0.325054</td>\n",
       "      <td>...</td>\n",
       "      <td>0.384060</td>\n",
       "      <td>0.293029</td>\n",
       "      <td>0.000000</td>\n",
       "      <td>0.065983</td>\n",
       "      <td>0.056465</td>\n",
       "      <td>0.063582</td>\n",
       "      <td>0.554618</td>\n",
       "      <td>0.327358</td>\n",
       "      <td>0.329784</td>\n",
       "      <td>0.372946</td>\n",
       "    </tr>\n",
       "    <tr>\n",
       "      <th>p_entomophagus</th>\n",
       "      <td>0.316653</td>\n",
       "      <td>0.402635</td>\n",
       "      <td>0.308383</td>\n",
       "      <td>0.357789</td>\n",
       "      <td>0.359447</td>\n",
       "      <td>0.353752</td>\n",
       "      <td>0.349936</td>\n",
       "      <td>0.684918</td>\n",
       "      <td>0.348411</td>\n",
       "      <td>0.333983</td>\n",
       "      <td>...</td>\n",
       "      <td>0.392989</td>\n",
       "      <td>0.301958</td>\n",
       "      <td>0.065983</td>\n",
       "      <td>0.000000</td>\n",
       "      <td>0.083536</td>\n",
       "      <td>0.051587</td>\n",
       "      <td>0.563547</td>\n",
       "      <td>0.336287</td>\n",
       "      <td>0.338713</td>\n",
       "      <td>0.381875</td>\n",
       "    </tr>\n",
       "    <tr>\n",
       "      <th>p_japonicus</th>\n",
       "      <td>0.325277</td>\n",
       "      <td>0.411259</td>\n",
       "      <td>0.317007</td>\n",
       "      <td>0.366413</td>\n",
       "      <td>0.368071</td>\n",
       "      <td>0.362376</td>\n",
       "      <td>0.358560</td>\n",
       "      <td>0.693542</td>\n",
       "      <td>0.357035</td>\n",
       "      <td>0.342607</td>\n",
       "      <td>...</td>\n",
       "      <td>0.401613</td>\n",
       "      <td>0.310582</td>\n",
       "      <td>0.056465</td>\n",
       "      <td>0.083536</td>\n",
       "      <td>0.000000</td>\n",
       "      <td>0.081135</td>\n",
       "      <td>0.572171</td>\n",
       "      <td>0.344911</td>\n",
       "      <td>0.347337</td>\n",
       "      <td>0.390499</td>\n",
       "    </tr>\n",
       "    <tr>\n",
       "      <th>p_mayer</th>\n",
       "      <td>0.314252</td>\n",
       "      <td>0.400234</td>\n",
       "      <td>0.305982</td>\n",
       "      <td>0.355388</td>\n",
       "      <td>0.357046</td>\n",
       "      <td>0.351351</td>\n",
       "      <td>0.347535</td>\n",
       "      <td>0.682517</td>\n",
       "      <td>0.346010</td>\n",
       "      <td>0.331582</td>\n",
       "      <td>...</td>\n",
       "      <td>0.390588</td>\n",
       "      <td>0.299557</td>\n",
       "      <td>0.063582</td>\n",
       "      <td>0.051587</td>\n",
       "      <td>0.081135</td>\n",
       "      <td>0.000000</td>\n",
       "      <td>0.561146</td>\n",
       "      <td>0.333886</td>\n",
       "      <td>0.336312</td>\n",
       "      <td>0.379474</td>\n",
       "    </tr>\n",
       "    <tr>\n",
       "      <th>p_redivivus</th>\n",
       "      <td>0.532710</td>\n",
       "      <td>0.618692</td>\n",
       "      <td>0.524440</td>\n",
       "      <td>0.617578</td>\n",
       "      <td>0.619236</td>\n",
       "      <td>0.613541</td>\n",
       "      <td>0.609725</td>\n",
       "      <td>0.944707</td>\n",
       "      <td>0.608200</td>\n",
       "      <td>0.593772</td>\n",
       "      <td>...</td>\n",
       "      <td>0.652778</td>\n",
       "      <td>0.518015</td>\n",
       "      <td>0.554618</td>\n",
       "      <td>0.563547</td>\n",
       "      <td>0.572171</td>\n",
       "      <td>0.561146</td>\n",
       "      <td>0.000000</td>\n",
       "      <td>0.596076</td>\n",
       "      <td>0.554770</td>\n",
       "      <td>0.641664</td>\n",
       "    </tr>\n",
       "    <tr>\n",
       "      <th>p_univalens</th>\n",
       "      <td>0.349182</td>\n",
       "      <td>0.435164</td>\n",
       "      <td>0.340912</td>\n",
       "      <td>0.375550</td>\n",
       "      <td>0.377208</td>\n",
       "      <td>0.371513</td>\n",
       "      <td>0.367697</td>\n",
       "      <td>0.702679</td>\n",
       "      <td>0.366172</td>\n",
       "      <td>0.351744</td>\n",
       "      <td>...</td>\n",
       "      <td>0.410750</td>\n",
       "      <td>0.334487</td>\n",
       "      <td>0.327358</td>\n",
       "      <td>0.336287</td>\n",
       "      <td>0.344911</td>\n",
       "      <td>0.333886</td>\n",
       "      <td>0.596076</td>\n",
       "      <td>0.000000</td>\n",
       "      <td>0.371242</td>\n",
       "      <td>0.290076</td>\n",
       "    </tr>\n",
       "    <tr>\n",
       "      <th>s_digitata</th>\n",
       "      <td>0.092866</td>\n",
       "      <td>0.306372</td>\n",
       "      <td>0.084596</td>\n",
       "      <td>0.392744</td>\n",
       "      <td>0.394402</td>\n",
       "      <td>0.388707</td>\n",
       "      <td>0.384891</td>\n",
       "      <td>0.719873</td>\n",
       "      <td>0.383366</td>\n",
       "      <td>0.368938</td>\n",
       "      <td>...</td>\n",
       "      <td>0.427944</td>\n",
       "      <td>0.087603</td>\n",
       "      <td>0.329784</td>\n",
       "      <td>0.338713</td>\n",
       "      <td>0.347337</td>\n",
       "      <td>0.336312</td>\n",
       "      <td>0.554770</td>\n",
       "      <td>0.371242</td>\n",
       "      <td>0.000000</td>\n",
       "      <td>0.416830</td>\n",
       "    </tr>\n",
       "    <tr>\n",
       "      <th>s_scapterisci</th>\n",
       "      <td>0.394770</td>\n",
       "      <td>0.480752</td>\n",
       "      <td>0.386500</td>\n",
       "      <td>0.421138</td>\n",
       "      <td>0.422796</td>\n",
       "      <td>0.417101</td>\n",
       "      <td>0.413285</td>\n",
       "      <td>0.748267</td>\n",
       "      <td>0.411760</td>\n",
       "      <td>0.397332</td>\n",
       "      <td>...</td>\n",
       "      <td>0.456338</td>\n",
       "      <td>0.380075</td>\n",
       "      <td>0.372946</td>\n",
       "      <td>0.381875</td>\n",
       "      <td>0.390499</td>\n",
       "      <td>0.379474</td>\n",
       "      <td>0.641664</td>\n",
       "      <td>0.290076</td>\n",
       "      <td>0.416830</td>\n",
       "      <td>0.000000</td>\n",
       "    </tr>\n",
       "  </tbody>\n",
       "</table>\n",
       "<p>21 rows × 21 columns</p>\n",
       "</div>"
      ],
      "text/plain": [
       "                   a_loa    a_suum  b_malayi  c_brenneri  c_briggsae  \\\n",
       "a_loa           0.000000  0.284312  0.056092    0.370684    0.372342   \n",
       "a_suum          0.284312  0.000000  0.276042    0.456666    0.458324   \n",
       "b_malayi        0.056092  0.276042  0.000000    0.362414    0.364072   \n",
       "c_brenneri      0.370684  0.456666  0.362414    0.000000    0.041512   \n",
       "c_briggsae      0.372342  0.458324  0.364072    0.041512    0.000000   \n",
       "c_elegans       0.366647  0.452629  0.358377    0.062841    0.064499   \n",
       "c_inopinata     0.362831  0.448813  0.354561    0.076881    0.078539   \n",
       "c_japonica      0.697813  0.783795  0.689543    0.463741    0.465399   \n",
       "c_panamensis    0.361306  0.447288  0.353036    0.127234    0.128892   \n",
       "d_coronatus     0.346878  0.432860  0.338608    0.292614    0.294272   \n",
       "d_pachys        0.346878  0.432860  0.338608    0.292614    0.294272   \n",
       "o_tipulae       0.405884  0.491866  0.397614    0.384818    0.386476   \n",
       "o_volvulus      0.065543  0.269617  0.057273    0.355989    0.357647   \n",
       "p_arcanus       0.307724  0.393706  0.299454    0.348860    0.350518   \n",
       "p_entomophagus  0.316653  0.402635  0.308383    0.357789    0.359447   \n",
       "p_japonicus     0.325277  0.411259  0.317007    0.366413    0.368071   \n",
       "p_mayer         0.314252  0.400234  0.305982    0.355388    0.357046   \n",
       "p_redivivus     0.532710  0.618692  0.524440    0.617578    0.619236   \n",
       "p_univalens     0.349182  0.435164  0.340912    0.375550    0.377208   \n",
       "s_digitata      0.092866  0.306372  0.084596    0.392744    0.394402   \n",
       "s_scapterisci   0.394770  0.480752  0.386500    0.421138    0.422796   \n",
       "\n",
       "                c_elegans  c_inopinata  c_japonica  c_panamensis  d_coronatus  \\\n",
       "a_loa            0.366647     0.362831    0.697813      0.361306     0.346878   \n",
       "a_suum           0.452629     0.448813    0.783795      0.447288     0.432860   \n",
       "b_malayi         0.358377     0.354561    0.689543      0.353036     0.338608   \n",
       "c_brenneri       0.062841     0.076881    0.463741      0.127234     0.292614   \n",
       "c_briggsae       0.064499     0.078539    0.465399      0.128892     0.294272   \n",
       "c_elegans        0.000000     0.072844    0.459704      0.123197     0.288577   \n",
       "c_inopinata      0.072844     0.000000    0.455888      0.119381     0.284761   \n",
       "c_japonica       0.459704     0.455888    0.000000      0.432889     0.619743   \n",
       "c_panamensis     0.123197     0.119381    0.432889      0.000000     0.283236   \n",
       "d_coronatus      0.288577     0.284761    0.619743      0.283236     0.000000   \n",
       "d_pachys         0.288577     0.284761    0.619743      0.283236     0.000064   \n",
       "o_tipulae        0.380781     0.376965    0.711947      0.375440     0.361012   \n",
       "o_volvulus       0.351952     0.348136    0.683118      0.346611     0.332183   \n",
       "p_arcanus        0.344823     0.341007    0.675989      0.339482     0.325054   \n",
       "p_entomophagus   0.353752     0.349936    0.684918      0.348411     0.333983   \n",
       "p_japonicus      0.362376     0.358560    0.693542      0.357035     0.342607   \n",
       "p_mayer          0.351351     0.347535    0.682517      0.346010     0.331582   \n",
       "p_redivivus      0.613541     0.609725    0.944707      0.608200     0.593772   \n",
       "p_univalens      0.371513     0.367697    0.702679      0.366172     0.351744   \n",
       "s_digitata       0.388707     0.384891    0.719873      0.383366     0.368938   \n",
       "s_scapterisci    0.417101     0.413285    0.748267      0.411760     0.397332   \n",
       "\n",
       "                ...  o_tipulae  o_volvulus  p_arcanus  p_entomophagus  \\\n",
       "a_loa           ...   0.405884    0.065543   0.307724        0.316653   \n",
       "a_suum          ...   0.491866    0.269617   0.393706        0.402635   \n",
       "b_malayi        ...   0.397614    0.057273   0.299454        0.308383   \n",
       "c_brenneri      ...   0.384818    0.355989   0.348860        0.357789   \n",
       "c_briggsae      ...   0.386476    0.357647   0.350518        0.359447   \n",
       "c_elegans       ...   0.380781    0.351952   0.344823        0.353752   \n",
       "c_inopinata     ...   0.376965    0.348136   0.341007        0.349936   \n",
       "c_japonica      ...   0.711947    0.683118   0.675989        0.684918   \n",
       "c_panamensis    ...   0.375440    0.346611   0.339482        0.348411   \n",
       "d_coronatus     ...   0.361012    0.332183   0.325054        0.333983   \n",
       "d_pachys        ...   0.361012    0.332183   0.325054        0.333983   \n",
       "o_tipulae       ...   0.000000    0.391189   0.384060        0.392989   \n",
       "o_volvulus      ...   0.391189    0.000000   0.293029        0.301958   \n",
       "p_arcanus       ...   0.384060    0.293029   0.000000        0.065983   \n",
       "p_entomophagus  ...   0.392989    0.301958   0.065983        0.000000   \n",
       "p_japonicus     ...   0.401613    0.310582   0.056465        0.083536   \n",
       "p_mayer         ...   0.390588    0.299557   0.063582        0.051587   \n",
       "p_redivivus     ...   0.652778    0.518015   0.554618        0.563547   \n",
       "p_univalens     ...   0.410750    0.334487   0.327358        0.336287   \n",
       "s_digitata      ...   0.427944    0.087603   0.329784        0.338713   \n",
       "s_scapterisci   ...   0.456338    0.380075   0.372946        0.381875   \n",
       "\n",
       "                p_japonicus   p_mayer  p_redivivus  p_univalens  s_digitata  \\\n",
       "a_loa              0.325277  0.314252     0.532710     0.349182    0.092866   \n",
       "a_suum             0.411259  0.400234     0.618692     0.435164    0.306372   \n",
       "b_malayi           0.317007  0.305982     0.524440     0.340912    0.084596   \n",
       "c_brenneri         0.366413  0.355388     0.617578     0.375550    0.392744   \n",
       "c_briggsae         0.368071  0.357046     0.619236     0.377208    0.394402   \n",
       "c_elegans          0.362376  0.351351     0.613541     0.371513    0.388707   \n",
       "c_inopinata        0.358560  0.347535     0.609725     0.367697    0.384891   \n",
       "c_japonica         0.693542  0.682517     0.944707     0.702679    0.719873   \n",
       "c_panamensis       0.357035  0.346010     0.608200     0.366172    0.383366   \n",
       "d_coronatus        0.342607  0.331582     0.593772     0.351744    0.368938   \n",
       "d_pachys           0.342607  0.331582     0.593772     0.351744    0.368938   \n",
       "o_tipulae          0.401613  0.390588     0.652778     0.410750    0.427944   \n",
       "o_volvulus         0.310582  0.299557     0.518015     0.334487    0.087603   \n",
       "p_arcanus          0.056465  0.063582     0.554618     0.327358    0.329784   \n",
       "p_entomophagus     0.083536  0.051587     0.563547     0.336287    0.338713   \n",
       "p_japonicus        0.000000  0.081135     0.572171     0.344911    0.347337   \n",
       "p_mayer            0.081135  0.000000     0.561146     0.333886    0.336312   \n",
       "p_redivivus        0.572171  0.561146     0.000000     0.596076    0.554770   \n",
       "p_univalens        0.344911  0.333886     0.596076     0.000000    0.371242   \n",
       "s_digitata         0.347337  0.336312     0.554770     0.371242    0.000000   \n",
       "s_scapterisci      0.390499  0.379474     0.641664     0.290076    0.416830   \n",
       "\n",
       "                s_scapterisci  \n",
       "a_loa                0.394770  \n",
       "a_suum               0.480752  \n",
       "b_malayi             0.386500  \n",
       "c_brenneri           0.421138  \n",
       "c_briggsae           0.422796  \n",
       "c_elegans            0.417101  \n",
       "c_inopinata          0.413285  \n",
       "c_japonica           0.748267  \n",
       "c_panamensis         0.411760  \n",
       "d_coronatus          0.397332  \n",
       "d_pachys             0.397332  \n",
       "o_tipulae            0.456338  \n",
       "o_volvulus           0.380075  \n",
       "p_arcanus            0.372946  \n",
       "p_entomophagus       0.381875  \n",
       "p_japonicus          0.390499  \n",
       "p_mayer              0.379474  \n",
       "p_redivivus          0.641664  \n",
       "p_univalens          0.290076  \n",
       "s_digitata           0.416830  \n",
       "s_scapterisci        0.000000  \n",
       "\n",
       "[21 rows x 21 columns]"
      ]
     },
     "execution_count": 324,
     "metadata": {},
     "output_type": "execute_result"
    }
   ],
   "source": [
    " pkc3_df"
   ]
  },
  {
   "cell_type": "code",
   "execution_count": 314,
   "metadata": {},
   "outputs": [
    {
     "ename": "NameError",
     "evalue": "name 'n' is not defined",
     "output_type": "error",
     "traceback": [
      "\u001b[0;31m---------------------------------------------------------------------------\u001b[0m",
      "\u001b[0;31mNameError\u001b[0m                                 Traceback (most recent call last)",
      "\u001b[0;32m<ipython-input-314-9ba1648fb4d9>\u001b[0m in \u001b[0;36m<module>\u001b[0;34m\u001b[0m\n\u001b[1;32m     13\u001b[0m \u001b[0max\u001b[0m\u001b[0;34m.\u001b[0m\u001b[0mscatter\u001b[0m\u001b[0;34m(\u001b[0m\u001b[0mz\u001b[0m\u001b[0;34m,\u001b[0m \u001b[0my\u001b[0m\u001b[0;34m)\u001b[0m\u001b[0;34m\u001b[0m\u001b[0;34m\u001b[0m\u001b[0m\n\u001b[1;32m     14\u001b[0m \u001b[0;34m\u001b[0m\u001b[0m\n\u001b[0;32m---> 15\u001b[0;31m \u001b[0;32mfor\u001b[0m \u001b[0mzz\u001b[0m\u001b[0;34m,\u001b[0m\u001b[0myy\u001b[0m\u001b[0;34m,\u001b[0m\u001b[0mtxt\u001b[0m \u001b[0;32min\u001b[0m \u001b[0mnp\u001b[0m\u001b[0;34m.\u001b[0m\u001b[0mbroadcast\u001b[0m\u001b[0;34m(\u001b[0m\u001b[0mz\u001b[0m\u001b[0;34m,\u001b[0m\u001b[0my\u001b[0m\u001b[0;34m,\u001b[0m\u001b[0mn\u001b[0m\u001b[0;34m)\u001b[0m\u001b[0;34m:\u001b[0m\u001b[0;34m\u001b[0m\u001b[0;34m\u001b[0m\u001b[0m\n\u001b[0m\u001b[1;32m     16\u001b[0m     \u001b[0max\u001b[0m\u001b[0;34m.\u001b[0m\u001b[0mannotate\u001b[0m\u001b[0;34m(\u001b[0m\u001b[0mtxt\u001b[0m\u001b[0;34m,\u001b[0m \u001b[0;34m(\u001b[0m\u001b[0mzz\u001b[0m\u001b[0;34m,\u001b[0m\u001b[0myy\u001b[0m\u001b[0;34m)\u001b[0m\u001b[0;34m)\u001b[0m\u001b[0;34m\u001b[0m\u001b[0;34m\u001b[0m\u001b[0m\n",
      "\u001b[0;31mNameError\u001b[0m: name 'n' is not defined"
     ]
    },
    {
     "data": {
      "image/png": "[encoded data removed]",
      "text/plain": [
       "<Figure size 1332x756 with 1 Axes>"
      ]
     },
     "metadata": {
      "needs_background": "light"
     },
     "output_type": "display_data"
    }
   ],
   "source": [
    "fig, ax = plt.subplots()\n",
    "fig.set_size_inches(18.5, 10.5)\n",
    "\n",
    "ax.grid()\n",
    "\n",
    "# for i, txt in enumerate(par1_df.columns):\n",
    "#     for j, txt1 in enumerate(par1_df.columns):\n",
    "#         ax.scatter(par1_df[par1_df.index.isin([txt])][txt], pkc3_df[pkc3_df.index.isin([txt])][txt])\n",
    "#         ax.annotate(txt+txt1, (par1_df[par1_df.index.isin([txt])][txt], pkc3_df[pkc3_df.index.isin([txt])][txt]))\n",
    "z = par1_df.to_numpy().flatten()\n",
    "y = pkc3_df.to_numpy().flatten()\n",
    "n = \n",
    "ax.scatter(z, y)\n",
    "\n",
    "for zz,yy,txt in np.broadcast(z,y, n):\n",
    "    ax.annotate(txt, (zz,yy))"
   ]
  },
  {
   "cell_type": "code",
   "execution_count": 322,
   "metadata": {},
   "outputs": [
    {
     "ename": "KeyboardInterrupt",
     "evalue": "",
     "output_type": "error",
     "traceback": [
      "\u001b[0;31m---------------------------------------------------------------------------\u001b[0m",
      "\u001b[0;31mKeyboardInterrupt\u001b[0m                         Traceback (most recent call last)",
      "\u001b[0;32m~/anaconda3/lib/python3.6/site-packages/IPython/core/interactiveshell.py\u001b[0m in \u001b[0;36mrun_code\u001b[0;34m(self, code_obj, result, async_)\u001b[0m\n\u001b[1;32m   3295\u001b[0m                 \u001b[0;32melse\u001b[0m\u001b[0;34m:\u001b[0m\u001b[0;34m\u001b[0m\u001b[0;34m\u001b[0m\u001b[0m\n\u001b[0;32m-> 3296\u001b[0;31m                     \u001b[0mexec\u001b[0m\u001b[0;34m(\u001b[0m\u001b[0mcode_obj\u001b[0m\u001b[0;34m,\u001b[0m \u001b[0mself\u001b[0m\u001b[0;34m.\u001b[0m\u001b[0muser_global_ns\u001b[0m\u001b[0;34m,\u001b[0m \u001b[0mself\u001b[0m\u001b[0;34m.\u001b[0m\u001b[0muser_ns\u001b[0m\u001b[0;34m)\u001b[0m\u001b[0;34m\u001b[0m\u001b[0;34m\u001b[0m\u001b[0m\n\u001b[0m\u001b[1;32m   3297\u001b[0m             \u001b[0;32mfinally\u001b[0m\u001b[0;34m:\u001b[0m\u001b[0;34m\u001b[0m\u001b[0;34m\u001b[0m\u001b[0m\n",
      "\u001b[0;32m<ipython-input-322-4a1d0c122580>\u001b[0m in \u001b[0;36m<module>\u001b[0;34m\u001b[0m\n\u001b[1;32m      1\u001b[0m \u001b[0;32mimport\u001b[0m \u001b[0mitertools\u001b[0m\u001b[0;34m\u001b[0m\u001b[0;34m\u001b[0m\u001b[0m\n\u001b[0;32m----> 2\u001b[0;31m \u001b[0;34m[\u001b[0m\u001b[0mi\u001b[0m \u001b[0;32mfor\u001b[0m \u001b[0mi\u001b[0m \u001b[0;32min\u001b[0m \u001b[0mitertools\u001b[0m\u001b[0;34m.\u001b[0m\u001b[0mpermutations\u001b[0m\u001b[0;34m(\u001b[0m\u001b[0mpar1_df\u001b[0m\u001b[0;34m.\u001b[0m\u001b[0mcolumns\u001b[0m\u001b[0;34m,\u001b[0m \u001b[0mlen\u001b[0m\u001b[0;34m(\u001b[0m\u001b[0mpkc3_df\u001b[0m\u001b[0;34m.\u001b[0m\u001b[0mcolumns\u001b[0m\u001b[0;34m)\u001b[0m\u001b[0;34m)\u001b[0m\u001b[0;34m]\u001b[0m\u001b[0;34m\u001b[0m\u001b[0;34m\u001b[0m\u001b[0m\n\u001b[0m",
      "\u001b[0;32m<ipython-input-322-4a1d0c122580>\u001b[0m in \u001b[0;36m<listcomp>\u001b[0;34m(.0)\u001b[0m\n\u001b[1;32m      1\u001b[0m \u001b[0;32mimport\u001b[0m \u001b[0mitertools\u001b[0m\u001b[0;34m\u001b[0m\u001b[0;34m\u001b[0m\u001b[0m\n\u001b[0;32m----> 2\u001b[0;31m \u001b[0;34m[\u001b[0m\u001b[0mi\u001b[0m \u001b[0;32mfor\u001b[0m \u001b[0mi\u001b[0m \u001b[0;32min\u001b[0m \u001b[0mitertools\u001b[0m\u001b[0;34m.\u001b[0m\u001b[0mpermutations\u001b[0m\u001b[0;34m(\u001b[0m\u001b[0mpar1_df\u001b[0m\u001b[0;34m.\u001b[0m\u001b[0mcolumns\u001b[0m\u001b[0;34m,\u001b[0m \u001b[0mlen\u001b[0m\u001b[0;34m(\u001b[0m\u001b[0mpkc3_df\u001b[0m\u001b[0;34m.\u001b[0m\u001b[0mcolumns\u001b[0m\u001b[0;34m)\u001b[0m\u001b[0;34m)\u001b[0m\u001b[0;34m]\u001b[0m\u001b[0;34m\u001b[0m\u001b[0;34m\u001b[0m\u001b[0m\n\u001b[0m",
      "\u001b[0;31mKeyboardInterrupt\u001b[0m: ",
      "\nDuring handling of the above exception, another exception occurred:\n",
      "\u001b[0;31mKeyboardInterrupt\u001b[0m                         Traceback (most recent call last)",
      "\u001b[0;31mKeyboardInterrupt\u001b[0m: "
     ]
    }
   ],
   "source": [
    "import itertools\n",
    "[i for i in itertools.permutations(par1_df.columns, len(pkc3_df.columns))]"
   ]
  },
  {
   "cell_type": "code",
   "execution_count": null,
   "metadata": {},
   "outputs": [],
   "source": []
  }
 ],
 "metadata": {
  "kernelspec": {
   "display_name": "Python 3",
   "language": "python",
   "name": "python3"
  },
  "language_info": {
   "codemirror_mode": {
    "name": "ipython",
    "version": 3
   },
   "file_extension": ".py",
   "mimetype": "text/x-python",
   "name": "python",
   "nbconvert_exporter": "python",
   "pygments_lexer": "ipython3",
   "version": "3.6.8"
  }
 },
 "nbformat": 4,
 "nbformat_minor": 2
}
