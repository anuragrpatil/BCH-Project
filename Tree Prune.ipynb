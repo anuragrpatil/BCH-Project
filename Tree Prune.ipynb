{
 "cells": [
  {
   "cell_type": "code",
   "execution_count": 86,
   "metadata": {},
   "outputs": [],
   "source": [
    "import os\n",
    "import gzip\n",
    "from Bio import SeqIO\n",
    "import re\n",
    "from newick import read, dump"
   ]
  },
  {
   "cell_type": "code",
   "execution_count": 87,
   "metadata": {},
   "outputs": [],
   "source": [
    "trees = read('./dataset/OG0000002_tree.txt')\n",
    "node_needed = trees[0].get_node('n441').get_leaves()\n",
    "all_node = trees[0].get_leaves()"
   ]
  },
  {
   "cell_type": "code",
   "execution_count": 88,
   "metadata": {},
   "outputs": [],
   "source": [
    "trees[0].prune(node_needed, inverse=True)"
   ]
  },
  {
   "cell_type": "code",
   "execution_count": 74,
   "metadata": {},
   "outputs": [],
   "source": [
    "c_elegans_remove = ['c_elegans_ref_protein_PAR-1_ isoform c', \n",
    "                   'c_elegans_H39E23.1l wormpep_CE48381 gene_WBGene00003916 locus_par-1 status_Partially_confirmed uniprot_Q9TW45 insdc_CCW45975.1 product_\"Serine\\/threonine-protein kinase par-1\"',\n",
    "                   'c_elegans_H39E23.1c wormpep_CE40085 gene_WBGene00003916 locus_par-1 status_Confirmed uniprot_Q9TW45 insdc_CAJ85756.1 product_\"Serine\\/threonine-protein kinase par-1\"',\n",
    "                   'c_elegans_H39E23.1g wormpep_CE45263 gene_WBGene00003916 locus_par-1 status_Confirmed uniprot_Q9TW45 insdc_CBW44387.1 product_\"Serine\\/threonine-protein kinase par-1\"',\n",
    "                   'c_elegans_H39E23.1f wormpep_CE45159 gene_WBGene00003916 locus_par-1 status_Confirmed uniprot_Q9TW45 insdc_CBO24859.1 product_\"Serine\\/threonine-protein kinase par-1\"',\n",
    "                   'c_elegans_ref_protein_PAR-1_ isoform g',\n",
    "                   'c_elegans_ref_protein_PAR-1_ isoform f',\n",
    "                   'c_elegans_ref_protein_PAR-1_ isoform j',\n",
    "                   'c_elegans_ref_protein_PAR-1_ isoform b',\n",
    "                   'c_elegans_H39E23.1b wormpep_CE27768 gene_WBGene00003916 locus_par-1 status_Partially_confirmed uniprot_Q9TW45 insdc_CAB54262.2 product_\"Serine\\/threonine-protein kinase par-1\"',\n",
    "                   'c_elegans_ref_protein_PAR-1_ isoform d',\n",
    "                   'c_elegans_H39E23.1d wormpep_CE44808 gene_WBGene00003916 locus_par-1 status_Partially_confirmed uniprot_Q9TW45 insdc_CAQ16148.2 product_\"Serine\\/threonine-protein kinase par-1\"',\n",
    "                   'c_elegans_ref_protein_PAR-1_ isoform e',\n",
    "                   'c_elegans_H39E23.1m wormpep_CE52350 gene_WBGene00003916 locus_par-1 status_Partially_confirmed uniprot_A0A2C9C376 insdc_SOF58805.1 product_\"Serine\\/threonine-protein kinase par-1\"',\n",
    "                   'c_elegans_H39E23.1e wormpep_CE44733 gene_WBGene00003916 locus_par-1 status_Partially_confirmed uniprot_Q9TW45 insdc_CBL43447.1 product_\"Serine\\/threonine-protein kinase par-1\"',\n",
    "                   'c_elegans_H39E23.1j wormpep_CE46555 gene_WBGene00003916 locus_par-1 status_Partially_confirmed uniprot_Q9TW45 insdc_CCE71394.1 product_\"Serine\\/threonine-protein kinase par-1\"',\n",
    "                   'c_elegans_H39E23.1a wormpep_CE23838 gene_WBGene00003916 locus_par-1 status_Confirmed uniprot_Q9TW45 insdc_CAB54263.1 product_\"Serine\\/threonine-protein kinase par-1\"']\n",
    "trees[0].prune_by_names(c_elegans_remove)"
   ]
  },
  {
   "cell_type": "code",
   "execution_count": 90,
   "metadata": {},
   "outputs": [],
   "source": [
    "def clean_node(node_name):\n",
    "    regex = r\"[a-z]_[a-zA-Z]+_[a-zA-Z1-9]+.[a-zA-Z1-9]+.[a-zA-Z1-9]+.[a-zA-Z1-9]+\"\n",
    "    if re.search(regex, str(node_name)):\n",
    "        node_name.name = re.search(regex, str(node_name)).group(0)\n",
    "        \n",
    "trees[0].visit(clean_node)"
   ]
  },
  {
   "cell_type": "code",
   "execution_count": 91,
   "metadata": {},
   "outputs": [],
   "source": [
    "leaves = trees[0].get_leaves()"
   ]
  },
  {
   "cell_type": "code",
   "execution_count": 92,
   "metadata": {},
   "outputs": [],
   "source": [
    "unique = {}\n",
    "\n",
    "for node in leaves:\n",
    "    regex = r\"[a-z]_[a-zA-Z]+_[a-zA-Z1-9]\"\n",
    "    if re.search(regex, node.name):\n",
    "        node_new_name = re.search(regex, str(node.name)).group(0)\n",
    "    if node_new_name in unique:\n",
    "        unique[node_new_name] = max(unique[node_new_name], node.length)\n",
    "    else:\n",
    "        unique[node_new_name] = node.length      "
   ]
  },
  {
   "cell_type": "code",
   "execution_count": 93,
   "metadata": {},
   "outputs": [],
   "source": [
    "for node in leaves:\n",
    "    regex = r\"[a-z]_[a-zA-Z]+_[a-zA-Z1-9]\"\n",
    "    if re.search(regex, node.name):\n",
    "        node_new_name = re.search(regex, str(node.name)).group(0)\n",
    "    if node.length != unique[node_new_name]:\n",
    "        trees[0].prune_by_names(node.name)"
   ]
  },
  {
   "cell_type": "code",
   "execution_count": 95,
   "metadata": {},
   "outputs": [],
   "source": [
    "c_elegans_remove = ['c_elegans_ref_protein_PAR-1']\n",
    "trees[0].prune_by_names(c_elegans_remove)"
   ]
  },
  {
   "cell_type": "code",
   "execution_count": 96,
   "metadata": {},
   "outputs": [],
   "source": [
    "while trees[0].walk(mode='postorder'):\n",
    "    atleast_once = True\n",
    "    for n in trees[0].walk(mode='postorder'):\n",
    "        regex = r\"^n[1-9]+\"\n",
    "        if n.ancestor and len(n.descendants) == 0 and re.search(regex, n.name):\n",
    "            trees[0].prune_by_names(n.name)\n",
    "            atleast_once = False\n",
    "    if atleast_once == True:\n",
    "        break"
   ]
  },
  {
   "cell_type": "code",
   "execution_count": 97,
   "metadata": {},
   "outputs": [
    {
     "data": {
      "text/plain": [
       "[Node(\"c_quiockensis_CSP38.g3072.t2\"),\n",
       " Node(\"c_inopinata_Sp34_503655\"),\n",
       " Node(\"c_nigoni_Cni-par-1.1\"),\n",
       " Node(\"c_panamensis_CSP28.g22133.t1 transcript\"),\n",
       " Node(\"c_zanzibari_CSP26.g6511.t3 transcript\"),\n",
       " Node(\"c_briggsae_CBG04756o wormpep_CBP46111\"),\n",
       " Node(\"c_japonica_CJA32335 wormpep_JA61847 gene\"),\n",
       " Node(\"c_elegans_H39E23.1m wormpep_CE5235\"),\n",
       " Node(\"c_brenneri_CBN20317 wormpep_CN373\"),\n",
       " Node(\"d_pachys_WR25_19141.1 transcript\"),\n",
       " Node(\"d_coronatus_DCO_002853 transcript_DCO_002853 gene_DCO_002853\"),\n",
       " Node(\"h_polygyrus_HPOL_0000412901-mRNA-1 transcript_HPOL_0000412901-mRNA-1 gene_HPOL_0000412901\"),\n",
       " Node(\"o_tipulae_OTIPU.nOt.2\"),\n",
       " Node(\"c_parvicauda_CSP21.g10579.t2\"),\n",
       " Node(\"s_digitata_sdigi.contig38.g2562.t1\"),\n",
       " Node(\"loa_loa_EN70_862 transcript_EN70_862 gene_EN70_862\"),\n",
       " Node(\"a_viteae_nAv.1.0.1.t09244-RA transcript_nAv.1.0.1.t09244-RA gene_nAv.1.0.1.g09244\"),\n",
       " Node(\"l_sigmodontis_nLs.2.1.2\"),\n",
       " Node(\"o_volvulus_OVOC6199f wormpep_OVP14656 gene\"),\n",
       " Node(\"d_immitis_nDi.2.2.2\"),\n",
       " Node(\"b_malayi_Bm4697g wormpep_BM46657 gene\"),\n",
       " Node(\"w_bancrofti_maker-PairedContig_5547-snap\"),\n",
       " Node(\"b_pahangi_BPAG_0000084801-mRNA-1 transcript_BPAG_0000084801-mRNA-1 gene_BPAG_0000084801\"),\n",
       " Node(\"t_callipaeda_TCLT_0000602301-mRNA-1 transcript_TCLT_0000602301-mRNA-1 gene_TCLT_0000602301\"),\n",
       " Node(\"a_suum_AgR010_g124_t05 transcript_AgR010_g124_t05 gene_AgR010_g124\"),\n",
       " Node(\"p_univalens_PgR006_g177_t01 transcript_PgR006_g177_t01 gene_PgR006_g177\"),\n",
       " Node(\"a_nanus_ACRNAN_scaffold4601.g23\"),\n",
       " Node(\"p_redivivus_Pan_g2012\"),\n",
       " Node(\"s_scapterisci_L892_g2488\"),\n",
       " Node(\"s_carpocapsae_protein_L596_g16023\"),\n",
       " Node(\"s_feltiae_L889_g9972.t1 transcript\"),\n",
       " Node(\"p_japonicus_japonicus-mkr-S47-12\"),\n",
       " Node(\"p_arcanus_arcanus-mkr-S_243\"),\n",
       " Node(\"p_maxplancki_maxplancki-mkr-S584\"),\n",
       " Node(\"p_pacificus_PPA12902 wormpep_PP6412\"),\n",
       " Node(\"p_entomophagus_entomophagus-ag_msk-S4\"),\n",
       " Node(\"p_mayer_mayeri-mkr-S224-2\"),\n",
       " Node(\"t_britovi_T03_3221.1\")]"
      ]
     },
     "execution_count": 97,
     "metadata": {},
     "output_type": "execute_result"
    }
   ],
   "source": [
    "trees[0].get_leaves()"
   ]
  },
  {
   "cell_type": "code",
   "execution_count": null,
   "metadata": {},
   "outputs": [],
   "source": []
  },
  {
   "cell_type": "code",
   "execution_count": 98,
   "metadata": {},
   "outputs": [],
   "source": [
    "with open('required_tree.txt', 'w') as fobj:\n",
    "    dump(trees, fobj)"
   ]
  },
  {
   "cell_type": "code",
   "execution_count": null,
   "metadata": {},
   "outputs": [],
   "source": []
  }
 ],
 "metadata": {
  "kernelspec": {
   "display_name": "Python 3",
   "language": "python",
   "name": "python3"
  },
  "language_info": {
   "codemirror_mode": {
    "name": "ipython",
    "version": 3
   },
   "file_extension": ".py",
   "mimetype": "text/x-python",
   "name": "python",
   "nbconvert_exporter": "python",
   "pygments_lexer": "ipython3",
   "version": "3.6.8"
  }
 },
 "nbformat": 4,
 "nbformat_minor": 2
}
